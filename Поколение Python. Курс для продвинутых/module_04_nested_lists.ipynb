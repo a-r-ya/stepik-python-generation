{
 "cells": [
  {
   "cell_type": "markdown",
   "id": "5c2dcaea",
   "metadata": {
    "toc": true
   },
   "source": [
    "<h1>Table of Contents<span class=\"tocSkip\"></span></h1>\n",
    "<div class=\"toc\"><ul class=\"toc-item\"><li><span><a href=\"#Вложенные-списки.-Часть-1\" data-toc-modified-id=\"Вложенные-списки.-Часть-1-1\"><span class=\"toc-item-num\">1&nbsp;&nbsp;</span>Вложенные списки. Часть 1</a></span><ul class=\"toc-item\"><li><span><a href=\"#1\" data-toc-modified-id=\"1-1.1\"><span class=\"toc-item-num\">1.1&nbsp;&nbsp;</span>1</a></span></li><li><span><a href=\"#2\" data-toc-modified-id=\"2-1.2\"><span class=\"toc-item-num\">1.2&nbsp;&nbsp;</span>2</a></span></li><li><span><a href=\"#3\" data-toc-modified-id=\"3-1.3\"><span class=\"toc-item-num\">1.3&nbsp;&nbsp;</span>3</a></span></li><li><span><a href=\"#4\" data-toc-modified-id=\"4-1.4\"><span class=\"toc-item-num\">1.4&nbsp;&nbsp;</span>4</a></span></li><li><span><a href=\"#5\" data-toc-modified-id=\"5-1.5\"><span class=\"toc-item-num\">1.5&nbsp;&nbsp;</span>5</a></span></li></ul></li><li><span><a href=\"#Вложенные-списки.-Часть-2\" data-toc-modified-id=\"Вложенные-списки.-Часть-2-2\"><span class=\"toc-item-num\">2&nbsp;&nbsp;</span>Вложенные списки. Часть 2</a></span><ul class=\"toc-item\"><li><span><a href=\"#1\" data-toc-modified-id=\"1-2.1\"><span class=\"toc-item-num\">2.1&nbsp;&nbsp;</span>1</a></span></li><li><span><a href=\"#2\" data-toc-modified-id=\"2-2.2\"><span class=\"toc-item-num\">2.2&nbsp;&nbsp;</span>2</a></span></li><li><span><a href=\"#3\" data-toc-modified-id=\"3-2.3\"><span class=\"toc-item-num\">2.3&nbsp;&nbsp;</span>3</a></span></li><li><span><a href=\"#4\" data-toc-modified-id=\"4-2.4\"><span class=\"toc-item-num\">2.4&nbsp;&nbsp;</span>4</a></span></li><li><span><a href=\"#5\" data-toc-modified-id=\"5-2.5\"><span class=\"toc-item-num\">2.5&nbsp;&nbsp;</span>5</a></span></li><li><span><a href=\"#6\" data-toc-modified-id=\"6-2.6\"><span class=\"toc-item-num\">2.6&nbsp;&nbsp;</span>6</a></span></li><li><span><a href=\"#7\" data-toc-modified-id=\"7-2.7\"><span class=\"toc-item-num\">2.7&nbsp;&nbsp;</span>7</a></span></li></ul></li><li><span><a href=\"#Матрицы.-Часть-1\" data-toc-modified-id=\"Матрицы.-Часть-1-3\"><span class=\"toc-item-num\">3&nbsp;&nbsp;</span>Матрицы. Часть 1</a></span><ul class=\"toc-item\"><li><span><a href=\"#1\" data-toc-modified-id=\"1-3.1\"><span class=\"toc-item-num\">3.1&nbsp;&nbsp;</span>1</a></span></li><li><span><a href=\"#2\" data-toc-modified-id=\"2-3.2\"><span class=\"toc-item-num\">3.2&nbsp;&nbsp;</span>2</a></span></li><li><span><a href=\"#3\" data-toc-modified-id=\"3-3.3\"><span class=\"toc-item-num\">3.3&nbsp;&nbsp;</span>3</a></span></li><li><span><a href=\"#4\" data-toc-modified-id=\"4-3.4\"><span class=\"toc-item-num\">3.4&nbsp;&nbsp;</span>4</a></span></li><li><span><a href=\"#5\" data-toc-modified-id=\"5-3.5\"><span class=\"toc-item-num\">3.5&nbsp;&nbsp;</span>5</a></span></li><li><span><a href=\"#6\" data-toc-modified-id=\"6-3.6\"><span class=\"toc-item-num\">3.6&nbsp;&nbsp;</span>6</a></span></li><li><span><a href=\"#7\" data-toc-modified-id=\"7-3.7\"><span class=\"toc-item-num\">3.7&nbsp;&nbsp;</span>7</a></span></li></ul></li><li><span><a href=\"#Матрицы.-Часть-2\" data-toc-modified-id=\"Матрицы.-Часть-2-4\"><span class=\"toc-item-num\">4&nbsp;&nbsp;</span>Матрицы. Часть 2</a></span><ul class=\"toc-item\"><li><span><a href=\"#1\" data-toc-modified-id=\"1-4.1\"><span class=\"toc-item-num\">4.1&nbsp;&nbsp;</span>1</a></span></li><li><span><a href=\"#2\" data-toc-modified-id=\"2-4.2\"><span class=\"toc-item-num\">4.2&nbsp;&nbsp;</span>2</a></span></li><li><span><a href=\"#3\" data-toc-modified-id=\"3-4.3\"><span class=\"toc-item-num\">4.3&nbsp;&nbsp;</span>3</a></span></li><li><span><a href=\"#4\" data-toc-modified-id=\"4-4.4\"><span class=\"toc-item-num\">4.4&nbsp;&nbsp;</span>4</a></span></li><li><span><a href=\"#5\" data-toc-modified-id=\"5-4.5\"><span class=\"toc-item-num\">4.5&nbsp;&nbsp;</span>5</a></span></li><li><span><a href=\"#6\" data-toc-modified-id=\"6-4.6\"><span class=\"toc-item-num\">4.6&nbsp;&nbsp;</span>6</a></span></li><li><span><a href=\"#7\" data-toc-modified-id=\"7-4.7\"><span class=\"toc-item-num\">4.7&nbsp;&nbsp;</span>7</a></span></li><li><span><a href=\"#8\" data-toc-modified-id=\"8-4.8\"><span class=\"toc-item-num\">4.8&nbsp;&nbsp;</span>8</a></span></li><li><span><a href=\"#9\" data-toc-modified-id=\"9-4.9\"><span class=\"toc-item-num\">4.9&nbsp;&nbsp;</span>9</a></span></li></ul></li><li><span><a href=\"#Матрицы.-Часть-3\" data-toc-modified-id=\"Матрицы.-Часть-3-5\"><span class=\"toc-item-num\">5&nbsp;&nbsp;</span>Матрицы. Часть 3</a></span><ul class=\"toc-item\"><li><span><a href=\"#1\" data-toc-modified-id=\"1-5.1\"><span class=\"toc-item-num\">5.1&nbsp;&nbsp;</span>1</a></span></li><li><span><a href=\"#2\" data-toc-modified-id=\"2-5.2\"><span class=\"toc-item-num\">5.2&nbsp;&nbsp;</span>2</a></span></li><li><span><a href=\"#3\" data-toc-modified-id=\"3-5.3\"><span class=\"toc-item-num\">5.3&nbsp;&nbsp;</span>3</a></span></li><li><span><a href=\"#4\" data-toc-modified-id=\"4-5.4\"><span class=\"toc-item-num\">5.4&nbsp;&nbsp;</span>4</a></span></li><li><span><a href=\"#5\" data-toc-modified-id=\"5-5.5\"><span class=\"toc-item-num\">5.5&nbsp;&nbsp;</span>5</a></span></li><li><span><a href=\"#6\" data-toc-modified-id=\"6-5.6\"><span class=\"toc-item-num\">5.6&nbsp;&nbsp;</span>6</a></span></li><li><span><a href=\"#7\" data-toc-modified-id=\"7-5.7\"><span class=\"toc-item-num\">5.7&nbsp;&nbsp;</span>7</a></span></li><li><span><a href=\"#8\" data-toc-modified-id=\"8-5.8\"><span class=\"toc-item-num\">5.8&nbsp;&nbsp;</span>8</a></span></li><li><span><a href=\"#9\" data-toc-modified-id=\"9-5.9\"><span class=\"toc-item-num\">5.9&nbsp;&nbsp;</span>9</a></span></li><li><span><a href=\"#10\" data-toc-modified-id=\"10-5.10\"><span class=\"toc-item-num\">5.10&nbsp;&nbsp;</span>10</a></span></li></ul></li><li><span><a href=\"#Операции-над-матрицами-в-математике\" data-toc-modified-id=\"Операции-над-матрицами-в-математике-6\"><span class=\"toc-item-num\">6&nbsp;&nbsp;</span>Операции над матрицами в математике</a></span><ul class=\"toc-item\"><li><span><a href=\"#1\" data-toc-modified-id=\"1-6.1\"><span class=\"toc-item-num\">6.1&nbsp;&nbsp;</span>1</a></span></li><li><span><a href=\"#2\" data-toc-modified-id=\"2-6.2\"><span class=\"toc-item-num\">6.2&nbsp;&nbsp;</span>2</a></span></li><li><span><a href=\"#3\" data-toc-modified-id=\"3-6.3\"><span class=\"toc-item-num\">6.3&nbsp;&nbsp;</span>3</a></span></li></ul></li><li><span><a href=\"#Итоговая-работа-на-вложенные-списки-и-матрицы\" data-toc-modified-id=\"Итоговая-работа-на-вложенные-списки-и-матрицы-7\"><span class=\"toc-item-num\">7&nbsp;&nbsp;</span>Итоговая работа на вложенные списки и матрицы</a></span><ul class=\"toc-item\"><li><span><a href=\"#1\" data-toc-modified-id=\"1-7.1\"><span class=\"toc-item-num\">7.1&nbsp;&nbsp;</span>1</a></span></li><li><span><a href=\"#2\" data-toc-modified-id=\"2-7.2\"><span class=\"toc-item-num\">7.2&nbsp;&nbsp;</span>2</a></span></li><li><span><a href=\"#3\" data-toc-modified-id=\"3-7.3\"><span class=\"toc-item-num\">7.3&nbsp;&nbsp;</span>3</a></span></li><li><span><a href=\"#4\" data-toc-modified-id=\"4-7.4\"><span class=\"toc-item-num\">7.4&nbsp;&nbsp;</span>4</a></span></li><li><span><a href=\"#5\" data-toc-modified-id=\"5-7.5\"><span class=\"toc-item-num\">7.5&nbsp;&nbsp;</span>5</a></span></li><li><span><a href=\"#6\" data-toc-modified-id=\"6-7.6\"><span class=\"toc-item-num\">7.6&nbsp;&nbsp;</span>6</a></span></li><li><span><a href=\"#7\" data-toc-modified-id=\"7-7.7\"><span class=\"toc-item-num\">7.7&nbsp;&nbsp;</span>7</a></span></li><li><span><a href=\"#8\" data-toc-modified-id=\"8-7.8\"><span class=\"toc-item-num\">7.8&nbsp;&nbsp;</span>8</a></span></li></ul></li></ul></div>"
   ]
  },
  {
   "cell_type": "markdown",
   "id": "0efdf346",
   "metadata": {},
   "source": [
    "# Вложенные списки"
   ]
  },
  {
   "cell_type": "markdown",
   "id": "e18d548e",
   "metadata": {},
   "source": [
    "## Вложенные списки. Часть 1"
   ]
  },
  {
   "cell_type": "markdown",
   "id": "bbcba668",
   "metadata": {},
   "source": [
    "### 1"
   ]
  },
  {
   "cell_type": "markdown",
   "id": "92efea54",
   "metadata": {},
   "source": [
    "Дополните приведенный код, используя списочный метод `append()`, чтобы список `list1` имел вид:\n",
    "\n",
    "`list1 = [10, 20, [300, 400, [5000, 6000, 7000], 500], 30, 40]`"
   ]
  },
  {
   "cell_type": "code",
   "execution_count": 32,
   "id": "b2289f8d",
   "metadata": {},
   "outputs": [
    {
     "name": "stdout",
     "output_type": "stream",
     "text": [
      "[10, 20, [300, 400, [5000, 6000, 7000], 500], 30, 40]\n"
     ]
    }
   ],
   "source": [
    "list1 = [10, 20, [300, 400, [5000, 6000], 500], 30, 40]\n",
    "list1[2][2].append(7000)\n",
    "\n",
    "print(list1)"
   ]
  },
  {
   "cell_type": "markdown",
   "id": "51437bd3",
   "metadata": {},
   "source": [
    "### 2"
   ]
  },
  {
   "cell_type": "markdown",
   "id": "1660b461",
   "metadata": {},
   "source": [
    "Дополните приведенный код, используя списочный метод `extend()`, чтобы список `list1` имел вид:\n",
    "\n",
    "`list1 = ['a', 'b', ['c', ['d', 'e', ['f', 'g', 'h', 'i', 'j'], 'k'], 'l'], 'm', 'n']`"
   ]
  },
  {
   "cell_type": "code",
   "execution_count": 35,
   "id": "d76221fc",
   "metadata": {},
   "outputs": [
    {
     "name": "stdout",
     "output_type": "stream",
     "text": [
      "['a', 'b', ['c', ['d', 'e', ['f', 'g', 'h', 'i', 'j'], 'k'], 'l'], 'm', 'n']\n"
     ]
    }
   ],
   "source": [
    "list1 = ['a', 'b', ['c', ['d', 'e', ['f', 'g'], 'k'], 'l'], 'm', 'n']\n",
    "sub_list = ['h', 'i', 'j']\n",
    "list1[2][1][2].extend(sub_list)\n",
    "\n",
    "print(list1)"
   ]
  },
  {
   "cell_type": "markdown",
   "id": "f18f55be",
   "metadata": {},
   "source": [
    "### 3"
   ]
  },
  {
   "cell_type": "markdown",
   "id": "26a9b2a3",
   "metadata": {},
   "source": [
    "Дополните приведенный код, используя цикл `for` и встроенную функцию `max()`, чтобы он выводил один общий максимальный элемент среди всех элементов вложенных списков `list1`."
   ]
  },
  {
   "cell_type": "code",
   "execution_count": 37,
   "id": "b0f326e3",
   "metadata": {},
   "outputs": [
    {
     "name": "stdout",
     "output_type": "stream",
     "text": [
      "106\n"
     ]
    }
   ],
   "source": [
    "list1 = [[1, 7, 8], [9, 7, 102], [6, 106, 105], [100, 99, 98, 103], [1, 2, 3]]\n",
    "maximum = -1\n",
    "\n",
    "for i in list1:\n",
    "    for j in i:\n",
    "        if j > maximum:\n",
    "            maximum = j\n",
    "\n",
    "print(maximum)"
   ]
  },
  {
   "cell_type": "markdown",
   "id": "87b1deaa",
   "metadata": {},
   "source": [
    "### 4"
   ]
  },
  {
   "cell_type": "markdown",
   "id": "06491088",
   "metadata": {},
   "source": [
    "Дополните приведенный код так, чтобы список `list1` имел вид:\n",
    "\n",
    "`list1 = [[8, 7, 1], [102, 7, 9], [105, 106, 102], [103, 98, 99, 100], [3, 2, 1]]`"
   ]
  },
  {
   "cell_type": "code",
   "execution_count": 38,
   "id": "a7122e08",
   "metadata": {},
   "outputs": [
    {
     "name": "stdout",
     "output_type": "stream",
     "text": [
      "[[8, 7, 1], [102, 7, 9], [105, 106, 102], [103, 98, 99, 100], [3, 2, 1]]\n"
     ]
    }
   ],
   "source": [
    "list1 = [[1, 7, 8], [9, 7, 102], [102, 106, 105], [100, 99, 98, 103], [1, 2, 3]]\n",
    "\n",
    "for i in list1:\n",
    "    i = i.reverse()\n",
    "\n",
    "print(list1)"
   ]
  },
  {
   "cell_type": "markdown",
   "id": "0a4b2d75",
   "metadata": {},
   "source": [
    "### 5"
   ]
  },
  {
   "cell_type": "markdown",
   "id": "57cccf5a",
   "metadata": {},
   "source": [
    "Дополните приведенный код так, чтобы он выводил единственное число: сумму всех чисел списка `list1` разделённую на общее количество всех чисел."
   ]
  },
  {
   "cell_type": "code",
   "execution_count": 39,
   "id": "5d90ced8",
   "metadata": {},
   "outputs": [
    {
     "name": "stdout",
     "output_type": "stream",
     "text": [
      "53.3125\n"
     ]
    }
   ],
   "source": [
    "list1 = [[1, 7, 8], [9, 7, 102], [102, 106, 105], [100, 99, 98, 103], [1, 2, 3]]\n",
    "total = 0\n",
    "counter = 0\n",
    "\n",
    "for i in list1:\n",
    "    for j in i:\n",
    "        counter += 1\n",
    "        total += j\n",
    "print(total / counter)"
   ]
  },
  {
   "cell_type": "markdown",
   "id": "fb99bccc",
   "metadata": {},
   "source": [
    "## Вложенные списки. Часть 2"
   ]
  },
  {
   "cell_type": "markdown",
   "id": "55165769",
   "metadata": {},
   "source": [
    "**Примеры**"
   ]
  },
  {
   "cell_type": "code",
   "execution_count": 40,
   "id": "885d1a5d",
   "metadata": {},
   "outputs": [
    {
     "name": "stdout",
     "output_type": "stream",
     "text": [
      "3\n",
      "2\n",
      "[[0, 0], [0, 0], [0, 0]]\n"
     ]
    }
   ],
   "source": [
    "n, m = int(input()), int(input())    # считываем значения n и m\n",
    "my_list = []\n",
    "\n",
    "for _ in range(n):\n",
    "    my_list.append([0] * m)\n",
    "\n",
    "print(my_list)"
   ]
  },
  {
   "cell_type": "code",
   "execution_count": 41,
   "id": "0ecdf0cf",
   "metadata": {},
   "outputs": [
    {
     "name": "stdout",
     "output_type": "stream",
     "text": [
      "3\n",
      "2\n",
      "[[0, 0], [0, 0], [0, 0]]\n"
     ]
    }
   ],
   "source": [
    "n, m = int(input()), int(input())    # считываем значения n и m\n",
    "my_list = [0] * n\n",
    "\n",
    "for i in range(n):\n",
    "    my_list[i] = [0] * m\n",
    "\n",
    "print(my_list)"
   ]
  },
  {
   "cell_type": "code",
   "execution_count": 42,
   "id": "24a8cb42",
   "metadata": {},
   "outputs": [
    {
     "name": "stdout",
     "output_type": "stream",
     "text": [
      "3\n",
      "2\n",
      "[[0, 0], [0, 0], [0, 0]]\n"
     ]
    }
   ],
   "source": [
    "n, m = int(input()), int(input())    # считываем значения n и m\n",
    "\n",
    "my_list = [[0] * m for _ in range(n)]\n",
    "\n",
    "print(my_list)"
   ]
  },
  {
   "cell_type": "code",
   "execution_count": 43,
   "id": "0c430d89",
   "metadata": {},
   "outputs": [
    {
     "name": "stdout",
     "output_type": "stream",
     "text": [
      "2 7\n",
      "14 3 2 56\n",
      "34 5 6\n",
      "2 5 7 89 4\n"
     ]
    }
   ],
   "source": [
    "n = 4                                          # количество строк (элементов)\n",
    "my_list = []\n",
    "\n",
    "for _ in range(n):\n",
    "    elem = [int(i) for i in input().split()]   # создаем список из элементов строки\n",
    "    my_list.append(elem)"
   ]
  },
  {
   "cell_type": "code",
   "execution_count": 44,
   "id": "84c0b61b",
   "metadata": {},
   "outputs": [
    {
     "name": "stdout",
     "output_type": "stream",
     "text": [
      "[[2, 7], [14, 3, 2, 56], [34, 5, 6], [2, 5, 7, 89, 4]]\n"
     ]
    }
   ],
   "source": [
    "print(my_list)"
   ]
  },
  {
   "cell_type": "code",
   "execution_count": 45,
   "id": "7cb85b00",
   "metadata": {},
   "outputs": [
    {
     "name": "stdout",
     "output_type": "stream",
     "text": [
      "2 7\n",
      "14 3 2 56\n",
      "34 5 6\n",
      "2 5 7 89 4\n",
      "[2, 7, 14, 3, 2, 56, 34, 5, 6, 2, 5, 7, 89, 4]\n"
     ]
    }
   ],
   "source": [
    "n = 4\n",
    "my_list = []\n",
    "\n",
    "for _ in range(n):\n",
    "    elem = [int(i) for i in input().split()]\n",
    "    my_list.extend(elem)\n",
    "    \n",
    "print(my_list)"
   ]
  },
  {
   "cell_type": "code",
   "execution_count": 46,
   "id": "6454a896",
   "metadata": {},
   "outputs": [
    {
     "name": "stdout",
     "output_type": "stream",
     "text": [
      "1 2 3 \n",
      "4 5 6 \n",
      "7 8 9 \n"
     ]
    }
   ],
   "source": [
    "my_list = [[1, 2, 3], [4, 5, 6], [7, 8, 9]]\n",
    "\n",
    "for i in range(len(my_list)):\n",
    "    for j in range(len(my_list[i])):\n",
    "        print(my_list[i][j], end=' ')   # используем необязательный параметр end\n",
    "    print()  "
   ]
  },
  {
   "cell_type": "code",
   "execution_count": 47,
   "id": "8812ebb3",
   "metadata": {},
   "outputs": [
    {
     "name": "stdout",
     "output_type": "stream",
     "text": [
      "1 2 3 \n",
      "4 5 6 \n",
      "7 8 9 \n"
     ]
    }
   ],
   "source": [
    "my_list = [[1, 2, 3], [4, 5, 6], [7, 8, 9]]\n",
    "\n",
    "for row in my_list:\n",
    "    for elem in row:\n",
    "        print(elem, end=' ')\n",
    "    print()"
   ]
  },
  {
   "cell_type": "code",
   "execution_count": 48,
   "id": "eb084561",
   "metadata": {},
   "outputs": [
    {
     "name": "stdout",
     "output_type": "stream",
     "text": [
      "1 4 7 \n",
      "2 5 8 \n",
      "3 6 9 \n"
     ]
    }
   ],
   "source": [
    "my_list = [[1, 2, 3], [4, 5, 6], [7, 8, 9]]\n",
    "\n",
    "for i in range(len(my_list)):\n",
    "    for j in range(len(my_list[i])):\n",
    "        print(my_list[j][i], end=' ')    # выводим my_list[j][i] вместо my_list[i][j]\n",
    "    print()"
   ]
  },
  {
   "cell_type": "markdown",
   "id": "516b108e",
   "metadata": {},
   "source": [
    "### 1"
   ]
  },
  {
   "cell_type": "markdown",
   "id": "ab48f86e",
   "metadata": {},
   "source": [
    "На вход программе подается число $n$. Напишите программу, которая создает и выводит построчно список, состоящий из $n$ списков `[[1, 2, ..., n], [1, 2, ..., n], ..., [1, 2, ..., n]]`."
   ]
  },
  {
   "cell_type": "code",
   "execution_count": 61,
   "id": "79e80805",
   "metadata": {},
   "outputs": [
    {
     "name": "stdout",
     "output_type": "stream",
     "text": [
      "5\n",
      "[1, 2, 3, 4, 5]\n",
      "[1, 2, 3, 4, 5]\n",
      "[1, 2, 3, 4, 5]\n",
      "[1, 2, 3, 4, 5]\n",
      "[1, 2, 3, 4, 5]\n"
     ]
    }
   ],
   "source": [
    "list, n = [], int(input())\n",
    "for i in range(n):\n",
    "    list.append([int(j) for j in range(1, n + 1)])\n",
    "print(*list, sep='\\n')"
   ]
  },
  {
   "cell_type": "markdown",
   "id": "af69e7e4",
   "metadata": {},
   "source": [
    "### 2"
   ]
  },
  {
   "cell_type": "markdown",
   "id": "2cf07704",
   "metadata": {},
   "source": [
    "На вход программе подается число $n$. Напишите программу, которая создает и выводит построчно вложенный список, состоящий из $n$ списков `[[1], [1, 2], [1, 2, 3], ..., [1, 2, ..., n]]`."
   ]
  },
  {
   "cell_type": "code",
   "execution_count": 16,
   "id": "f88372b1",
   "metadata": {},
   "outputs": [
    {
     "name": "stdout",
     "output_type": "stream",
     "text": [
      "5\n",
      "[1]\n",
      "[1, 2]\n",
      "[1, 2, 3]\n",
      "[1, 2, 3, 4]\n",
      "[1, 2, 3, 4, 5]\n"
     ]
    }
   ],
   "source": [
    "list, n = [], int(input())\n",
    "for i in range(1, n + 1):\n",
    "    list.append([int(j) for j in range(1, i + 1)])\n",
    "print(*list, sep='\\n')"
   ]
  },
  {
   "cell_type": "markdown",
   "id": "c7cc10cd",
   "metadata": {},
   "source": [
    "### 3"
   ]
  },
  {
   "cell_type": "markdown",
   "id": "166c18e4",
   "metadata": {},
   "source": [
    "Треугольник Паскаля — бесконечная таблица биномиальных коэффициентов, имеющая треугольную форму. В этом треугольнике на вершине и по бокам стоят единицы. Каждое число равно сумме двух расположенных над ним чисел.\n",
    "\n",
    "`0:      1\n",
    "1:     1 1\n",
    "2:    1 2 1\n",
    "3:   1 3 3 1\n",
    "4:  1 4 6 4 1\n",
    "      .....`\n",
    "      \n",
    "На вход программе подается число $n$. Напишите программу, которая возвращает указанную строку треугольника Паскаля в виде списка (нумерация строк начинается с нуля)."
   ]
  },
  {
   "cell_type": "code",
   "execution_count": 69,
   "id": "86530caf",
   "metadata": {},
   "outputs": [
    {
     "name": "stdout",
     "output_type": "stream",
     "text": [
      "15\n",
      "[1, 15, 105, 455, 1365, 3003, 5005, 6435, 6435, 5005, 3003, 1365, 455, 105, 15, 1]\n"
     ]
    }
   ],
   "source": [
    "def pascal(n):\n",
    "    triangle = [[1]]\n",
    "    \n",
    "    for i in range(n):\n",
    "        row = [1]\n",
    "        for j in range(1, len(triangle[i])):\n",
    "            row += [sum(triangle[i][j - 1: j + 1])]\n",
    "        row += [1]\n",
    "        triangle.append(row.copy())\n",
    "        \n",
    "    return triangle[n]\n",
    "\n",
    "print(pascal(int(input())))"
   ]
  },
  {
   "cell_type": "markdown",
   "id": "bb87005b",
   "metadata": {},
   "source": [
    "### 4"
   ]
  },
  {
   "cell_type": "markdown",
   "id": "ee41e381",
   "metadata": {},
   "source": [
    "На вход программе подается натуральное число $n$. Напишите программу, которая выводит первые $n$ строк треугольника Паскаля."
   ]
  },
  {
   "cell_type": "code",
   "execution_count": 71,
   "id": "9f8a2249",
   "metadata": {},
   "outputs": [
    {
     "name": "stdout",
     "output_type": "stream",
     "text": [
      "5\n",
      "1\n",
      "1 1\n",
      "1 2 1\n",
      "1 3 3 1\n",
      "1 4 6 4 1\n"
     ]
    }
   ],
   "source": [
    "for i in range(int(input())):\n",
    "    print(*pascal(i))"
   ]
  },
  {
   "cell_type": "markdown",
   "id": "b82643c3",
   "metadata": {},
   "source": [
    "### 5"
   ]
  },
  {
   "cell_type": "markdown",
   "id": "acc6254e",
   "metadata": {},
   "source": [
    "На вход программе подается строка текста, содержащая символы. Напишите программу, которая упаковывает последовательности одинаковых символов заданной строки в подсписки."
   ]
  },
  {
   "cell_type": "code",
   "execution_count": 81,
   "id": "589bdbce",
   "metadata": {},
   "outputs": [
    {
     "name": "stdout",
     "output_type": "stream",
     "text": [
      "w w w o r l d g g g g r e a t t e c c h e m g g p w w\n",
      "[['w', 'w', 'w'], ['o'], ['r'], ['l'], ['d'], ['g', 'g', 'g', 'g'], ['r'], ['e'], ['a'], ['t', 't'], ['e'], ['c', 'c'], ['h'], ['e'], ['m'], ['g', 'g'], ['p'], ['w', 'w']]\n"
     ]
    }
   ],
   "source": [
    "list, innerlist = [], []\n",
    "for i in input().split():\n",
    "    if innerlist == []:\n",
    "        innerlist.extend(i)\n",
    "    else:\n",
    "        if innerlist[-1] == i:\n",
    "            innerlist.extend(i)\n",
    "        else:\n",
    "            list.append(innerlist)\n",
    "            innerlist = []\n",
    "            innerlist.extend(i)\n",
    "if innerlist:\n",
    "    list.append(innerlist)\n",
    "print(list)"
   ]
  },
  {
   "cell_type": "markdown",
   "id": "e5606dca",
   "metadata": {},
   "source": [
    "### 6"
   ]
  },
  {
   "cell_type": "markdown",
   "id": "adf933e1",
   "metadata": {},
   "source": [
    "На вход программе подаются две строки, на одной символы, на другой число $n$. Из первой строки формируется список.\n",
    "\n",
    "Реализуйте функцию `chunked()`, которая принимает на вход список и число, задающее размер чанка (куска), а возвращает список из чанков указанной длины."
   ]
  },
  {
   "cell_type": "code",
   "execution_count": 9,
   "id": "a2d61d2d",
   "metadata": {},
   "outputs": [
    {
     "name": "stdout",
     "output_type": "stream",
     "text": [
      "a b c d e f\n",
      "2\n",
      "[['a', 'b'], ['c', 'd'], ['e', 'f']]\n"
     ]
    }
   ],
   "source": [
    "def chunked(li, num):\n",
    "    innerli, total = [], []\n",
    "    for char in li:\n",
    "        if len(innerli) < num:\n",
    "            innerli.extend(str(char))\n",
    "        else:\n",
    "            total.append(innerli)\n",
    "            innerli = []\n",
    "            innerli.extend(str(char))\n",
    "    total.append(innerli)\n",
    "    return total\n",
    "\n",
    "li, num = input().split(), int(input())\n",
    "print(chunked(li, num))"
   ]
  },
  {
   "cell_type": "markdown",
   "id": "0f7a4f38",
   "metadata": {},
   "source": [
    "### 7"
   ]
  },
  {
   "cell_type": "markdown",
   "id": "1eafc21f",
   "metadata": {},
   "source": [
    "Подсписок — часть другого списка. Подсписок может содержать один элемент, несколько, и даже ни одного. Например, `[1]`, `[2]`, `[3]` и `[4]` — подсписки списка `[1, 2, 3, 4]`. Список `[2, 3]` — подсписок списка `[1, 2, 3, 4]`, но список `[2, 4]` не подсписок списка `[1, 2, 3, 4]`, так как элементы $2$ и $4$ во втором списке не смежные. Пустой список — подсписок любого списка. Сам список — подсписок самого себя, то есть список `[1, 2, 3, 4]` подсписок списка `[1, 2, 3, 4]`.\n",
    "\n",
    "На вход программе подается строка текста, содержащая символы. Из данной строки формируется список. Напишите программу, которая выводит список, содержащий все возможные подсписки списка, включая пустой список."
   ]
  },
  {
   "cell_type": "markdown",
   "id": "1579b89e",
   "metadata": {},
   "source": [
    "<img src=\"https://ucarecdn.com/d99d91fc-1d19-4312-b03f-dafccd68c289/\" width=\"700\" height=\"700\">"
   ]
  },
  {
   "cell_type": "code",
   "execution_count": 40,
   "id": "02339e35",
   "metadata": {},
   "outputs": [
    {
     "name": "stdout",
     "output_type": "stream",
     "text": [
      "a d g h\n",
      "[[], ['a'], ['d'], ['g'], ['h'], ['a', 'd'], ['d', 'g'], ['g', 'h'], ['a', 'd', 'g'], ['d', 'g', 'h'], ['a', 'd', 'g', 'h']]\n"
     ]
    }
   ],
   "source": [
    "s = input().split()\n",
    "a = [[]]\n",
    "for i in range(1, len(s)+1):\n",
    "    for j in range(len(s)):\n",
    "        if i == len(s[j:j+i]):\n",
    "            a.append(s[j:j+i])\n",
    "print(a)"
   ]
  },
  {
   "cell_type": "markdown",
   "id": "4652f775",
   "metadata": {},
   "source": [
    "## Матрицы. Часть 1"
   ]
  },
  {
   "cell_type": "markdown",
   "id": "6bc57d2f",
   "metadata": {},
   "source": [
    "**Примеры**"
   ]
  },
  {
   "cell_type": "code",
   "execution_count": 41,
   "id": "6da29d67",
   "metadata": {},
   "outputs": [
    {
     "name": "stdout",
     "output_type": "stream",
     "text": [
      "2 3 1 0 \n",
      "9 4 6 8 \n",
      "4 7 2 7 \n"
     ]
    }
   ],
   "source": [
    "rows, cols = 3, 4           # rows - количество строк, cols - количество столбцов\n",
    "\n",
    "matrix  = [[2, 3, 1, 0],\n",
    "           [9, 4, 6, 8],\n",
    "           [4, 7, 2, 7]]\n",
    "\n",
    "for r in range(rows):\n",
    "    for c in range(cols):\n",
    "        print(matrix[r][c], end=' ')\n",
    "    print()"
   ]
  },
  {
   "cell_type": "code",
   "execution_count": 42,
   "id": "ba84546d",
   "metadata": {},
   "outputs": [
    {
     "name": "stdout",
     "output_type": "stream",
     "text": [
      "2 9 4 \n",
      "3 4 7 \n",
      "1 6 2 \n",
      "0 8 7 \n"
     ]
    }
   ],
   "source": [
    "rows, cols = 3, 4           # rows - количество строк, cols - количество столбцов\n",
    "\n",
    "matrix  = [[2, 3, 1, 0],\n",
    "           [9, 4, 6, 8],\n",
    "           [4, 7, 2, 7]]\n",
    "\n",
    "for c in range(cols):\n",
    "    for r in range(rows):\n",
    "        print(matrix[r][c], end=' ')\n",
    "    print()"
   ]
  },
  {
   "cell_type": "code",
   "execution_count": 43,
   "id": "973d292f",
   "metadata": {},
   "outputs": [
    {
     "name": "stdout",
     "output_type": "stream",
     "text": [
      "a  \n",
      "ab \n",
      "abc\n"
     ]
    }
   ],
   "source": [
    "print('a'.ljust(3))\n",
    "print('ab'.ljust(3))\n",
    "print('abc'.ljust(3))"
   ]
  },
  {
   "cell_type": "code",
   "execution_count": 44,
   "id": "bd762ad5",
   "metadata": {},
   "outputs": [
    {
     "name": "stdout",
     "output_type": "stream",
     "text": [
      "a****\n",
      "ab$$$\n",
      "abc##\n"
     ]
    }
   ],
   "source": [
    "print('a'.ljust(5, '*'))\n",
    "print('ab'.ljust(5, '$'))\n",
    "print('abc'.ljust(5, '#'))"
   ]
  },
  {
   "cell_type": "code",
   "execution_count": 45,
   "id": "fc8a509c",
   "metadata": {},
   "outputs": [
    {
     "name": "stdout",
     "output_type": "stream",
     "text": [
      "  a\n",
      " ab\n",
      "abc\n"
     ]
    }
   ],
   "source": [
    "print('a'.rjust(3))\n",
    "print('ab'.rjust(3))\n",
    "print('abc'.rjust(3))"
   ]
  },
  {
   "cell_type": "code",
   "execution_count": 46,
   "id": "b7ff1c21",
   "metadata": {},
   "outputs": [
    {
     "name": "stdout",
     "output_type": "stream",
     "text": [
      "****a\n",
      "$$$ab\n",
      "##abc\n"
     ]
    }
   ],
   "source": [
    "print('a'.rjust(5, '*'))\n",
    "print('ab'.rjust(5, '$'))\n",
    "print('abc'.rjust(5, '#'))"
   ]
  },
  {
   "cell_type": "code",
   "execution_count": 47,
   "id": "b3b99447",
   "metadata": {},
   "outputs": [
    {
     "name": "stdout",
     "output_type": "stream",
     "text": [
      "1 0 0 0 0 0 0 2 \n",
      "0 1 0 0 0 0 2 0 \n",
      "0 0 1 0 0 2 0 0 \n",
      "0 0 0 1 2 0 0 0 \n",
      "0 0 0 2 1 0 0 0 \n",
      "0 0 2 0 0 1 0 0 \n",
      "0 2 0 0 0 0 1 0 \n",
      "2 0 0 0 0 0 0 1 \n"
     ]
    }
   ],
   "source": [
    "n = 8\n",
    "matrix = [[0]*n for _ in range(n)]    # создаем квадратную матрицу размером 8×8\n",
    "\n",
    "for i in range(n):                     # заполняем главную диагональ единицами, а побочную двойками\n",
    "    matrix[i][i] = 1\n",
    "    matrix[i][n-i-1] = 2\n",
    "\n",
    "for r in range(n):                     # выводим матрицу\n",
    "    for c in range(n):\n",
    "        print(matrix[r][c], end=' ')\n",
    "    print()"
   ]
  },
  {
   "cell_type": "markdown",
   "id": "e66731c8",
   "metadata": {},
   "source": [
    "<img src=\"https://ucarecdn.com/a5ce11f2-dcde-4dda-9427-395841e3a4ef/\" width=\"700\" height=\"700\">"
   ]
  },
  {
   "cell_type": "markdown",
   "id": "1c3cb2c1",
   "metadata": {},
   "source": [
    "### 1"
   ]
  },
  {
   "cell_type": "markdown",
   "id": "f6eb227a",
   "metadata": {},
   "source": [
    "На вход программе подаются два натуральных числа $n$ и $m$, каждое на отдельной строке — количество строк и столбцов в матрице. Далее вводятся сами элементы матрицы — слова, каждое на отдельной строке; подряд идут элементы сначала первой строки, затем второй, и т.д.\n",
    "\n",
    "Напишите программу, которая сначала считывает элементы матрицы один за другим, затем выводит их в виде матрицы."
   ]
  },
  {
   "cell_type": "code",
   "execution_count": 5,
   "id": "92078f9e",
   "metadata": {},
   "outputs": [
    {
     "name": "stdout",
     "output_type": "stream",
     "text": [
      "4\n",
      "2\n",
      "и\n",
      "швец\n",
      "и\n",
      "жнец\n",
      "и\n",
      "на\n",
      "дуде\n",
      "игрец\n",
      "и швец \n",
      "и жнец \n",
      "и на \n",
      "дуде игрец \n"
     ]
    }
   ],
   "source": [
    "rows, cols = int(input()), int(input())\n",
    "\n",
    "matrix, row = [], []\n",
    "                 \n",
    "for r in range(rows):\n",
    "    for c in range(cols):\n",
    "        row.append(input())\n",
    "    matrix.append(row)\n",
    "    row = []    \n",
    "\n",
    "for r in range(rows):\n",
    "    for c in range(cols):\n",
    "        print(matrix[r][c], end=' ')\n",
    "    print()"
   ]
  },
  {
   "cell_type": "markdown",
   "id": "17bf2c72",
   "metadata": {},
   "source": [
    "### 2"
   ]
  },
  {
   "cell_type": "markdown",
   "id": "eef42df2",
   "metadata": {},
   "source": [
    "На вход программе подаются два натуральных числа $n$ и $m$, каждое на отдельной строке — количество строк и столбцов в матрице. Далее вводятся сами элементы матрицы — слова, каждое на отдельной строке; подряд идут элементы сначала первой строки, затем второй, и т.д.\n",
    "\n",
    "Напишите программу, которая считывает элементы матрицы один за другим, выводит их в виде матрицы, выводит пустую строку, и снова ту же матрицу, но уже поменяв местами строки со столбцами: первая строка выводится как первый столбец, и так далее."
   ]
  },
  {
   "cell_type": "code",
   "execution_count": 7,
   "id": "140af4ba",
   "metadata": {},
   "outputs": [
    {
     "name": "stdout",
     "output_type": "stream",
     "text": [
      "4\n",
      "2\n",
      "и\n",
      "швец\n",
      "и\n",
      "жнец\n",
      "и\n",
      "на\n",
      "дуде\n",
      "игрец\n",
      "и швец \n",
      "и жнец \n",
      "и на \n",
      "дуде игрец \n",
      "\n",
      "и и и дуде \n",
      "швец жнец на игрец \n"
     ]
    }
   ],
   "source": [
    "rows, cols = int(input()), int(input())\n",
    "\n",
    "matrix, row = [], []\n",
    "                 \n",
    "for r in range(rows):\n",
    "    for c in range(cols):\n",
    "        row.append(input())\n",
    "    matrix.append(row)\n",
    "    row = []    \n",
    "\n",
    "for r in range(rows):\n",
    "    for c in range(cols):\n",
    "        print(matrix[r][c], end=' ')\n",
    "    print()\n",
    "    \n",
    "print()\n",
    "    \n",
    "for c in range(cols):\n",
    "    for r in range(rows):\n",
    "        print(matrix[r][c], end=' ')\n",
    "    print()"
   ]
  },
  {
   "cell_type": "markdown",
   "id": "eb7d79f7",
   "metadata": {},
   "source": [
    "### 3"
   ]
  },
  {
   "cell_type": "markdown",
   "id": "741747fc",
   "metadata": {},
   "source": [
    "Следом квадратной матрицы называется сумма элементов главной диагонали. Напишите программу, которая выводит след заданной квадратной матрицы."
   ]
  },
  {
   "cell_type": "code",
   "execution_count": 4,
   "id": "4a288579",
   "metadata": {},
   "outputs": [
    {
     "name": "stdout",
     "output_type": "stream",
     "text": [
      "3\n",
      "1 2 3\n",
      "4 5 6\n",
      "7 8 9\n",
      "15\n"
     ]
    }
   ],
   "source": [
    "rows, counter = int(input()), 0\n",
    "\n",
    "matrix, row = [], []\n",
    "\n",
    "for r in range(rows):\n",
    "    row.extend(input().split())\n",
    "    matrix.append(row)\n",
    "    row = []  \n",
    "\n",
    "for i in range(rows):\n",
    "    counter += int(matrix[i][i])\n",
    "\n",
    "print(counter)"
   ]
  },
  {
   "cell_type": "markdown",
   "id": "890d1536",
   "metadata": {},
   "source": [
    "### 4"
   ]
  },
  {
   "cell_type": "markdown",
   "id": "0b463778",
   "metadata": {},
   "source": [
    "Напишите программу, которая выводит количество элементов квадратной матрицы в каждой строке, больших среднего арифметического элементов данной строки."
   ]
  },
  {
   "cell_type": "code",
   "execution_count": 11,
   "id": "4e14ee95",
   "metadata": {},
   "outputs": [
    {
     "name": "stdout",
     "output_type": "stream",
     "text": [
      "4\n",
      "1 2 3 4\n",
      "5 6 3 15\n",
      "0 2 3 1\n",
      "5 2 8 5\n",
      "2\n",
      "1\n",
      "2\n",
      "1\n"
     ]
    }
   ],
   "source": [
    "rows = int(input())\n",
    "\n",
    "matrix, row, s, total = [], [], [], []\n",
    "\n",
    "for r in range(rows):\n",
    "    row.extend(map(int, input().split()))\n",
    "    matrix.append(row)\n",
    "    s.append(sum(row) / rows)\n",
    "    row = [] \n",
    "\n",
    "for j in range(len(matrix)):\n",
    "    counter = 0\n",
    "    for k in range(len(matrix)):\n",
    "        if matrix[j][k] > s[j]:\n",
    "            counter += 1\n",
    "    total.append(counter)\n",
    "    \n",
    "print(*total, sep='\\n')"
   ]
  },
  {
   "cell_type": "code",
   "execution_count": 12,
   "id": "19f3dd77",
   "metadata": {},
   "outputs": [
    {
     "name": "stdout",
     "output_type": "stream",
     "text": [
      "2\n",
      "4 55\n",
      "1 1\n",
      "1\n",
      "0\n"
     ]
    }
   ],
   "source": [
    "n = int(input())\n",
    "matrix = []\n",
    "\n",
    "for _ in range(n):\n",
    "    row = [int(i) for i in input().split()]\n",
    "    matrix.append(row)\n",
    "    \n",
    "for i in range(n):\n",
    "    counter = 0\n",
    "    average = sum(matrix[i]) / n\n",
    "    for j in range(n):\n",
    "        if matrix[i][j] > average:\n",
    "            counter += 1\n",
    "    print(counter)"
   ]
  },
  {
   "cell_type": "markdown",
   "id": "75db03a9",
   "metadata": {},
   "source": [
    "### 5"
   ]
  },
  {
   "cell_type": "markdown",
   "id": "76c1bc00",
   "metadata": {},
   "source": [
    "Напишите программу, которая выводит максимальный элемент в заштрихованной области квадратной матрицы.\n",
    "\n",
    "<img src=\"https://ucarecdn.com/9d16ede6-6d28-4ccc-954c-07ab88309497/\" width=\"300\" height=\"300\">"
   ]
  },
  {
   "cell_type": "code",
   "execution_count": 15,
   "id": "40dd6218",
   "metadata": {},
   "outputs": [
    {
     "name": "stdout",
     "output_type": "stream",
     "text": [
      "3\n",
      "-60 -50 -11\n",
      "2 14 8\n",
      "13 0 56\n",
      "56\n"
     ]
    }
   ],
   "source": [
    "matrix, l, n = [], [], int(input())\n",
    "for _ in range(n):\n",
    "    row = [int(i) for i in input().split()]\n",
    "    matrix.append(row)\n",
    "for i in range(n):\n",
    "    for j in range(n):\n",
    "        if i >= j:\n",
    "            l.append(matrix[i][j])\n",
    "print(max(l))"
   ]
  },
  {
   "cell_type": "markdown",
   "id": "60add091",
   "metadata": {},
   "source": [
    "### 6"
   ]
  },
  {
   "cell_type": "markdown",
   "id": "7630f8e0",
   "metadata": {},
   "source": [
    "Напишите программу, которая выводит максимальный элемент в заштрихованной области квадратной матрицы.\n",
    "\n",
    "<img src=\"https://ucarecdn.com/9d46c688-d33f-44a3-a2c4-9f5e0e865958/\" width=\"300\" height=\"300\">"
   ]
  },
  {
   "cell_type": "code",
   "execution_count": 16,
   "id": "f057a3ba",
   "metadata": {},
   "outputs": [
    {
     "name": "stdout",
     "output_type": "stream",
     "text": [
      "3\n",
      "1 4 5\n",
      "6 7 8\n",
      "1 1 6\n",
      "8\n"
     ]
    }
   ],
   "source": [
    "matrix, l, n = [], [], int(input())\n",
    "for _ in range(n):\n",
    "    row = [int(i) for i in input().split()]\n",
    "    matrix.append(row)\n",
    "for i in range(n):\n",
    "    for j in range(n):\n",
    "        if i >= j and i <= n - 1 - j or i <= j and i >= n - 1 - j:\n",
    "            l.append(matrix[i][j])\n",
    "print(max(l))"
   ]
  },
  {
   "cell_type": "markdown",
   "id": "f2651582",
   "metadata": {},
   "source": [
    "### 7"
   ]
  },
  {
   "cell_type": "markdown",
   "id": "f9b133ae",
   "metadata": {},
   "source": [
    "Квадратная матрица разбивается на четыре четверти, ограниченные главной и побочной диагоналями: верхнюю, нижнюю, левую и правую. Напишите программу, которая вычисляет сумму элементов: верхней четверти; правой четверти; нижней четверти; левой четверти."
   ]
  },
  {
   "cell_type": "markdown",
   "id": "3f7d9e37",
   "metadata": {},
   "source": [
    "<img src=\"https://ucarecdn.com/734b102d-e18a-495c-a3cf-37cec3bc508f/\" width=\"300\" height=\"300\">"
   ]
  },
  {
   "cell_type": "code",
   "execution_count": 18,
   "id": "18da0a30",
   "metadata": {},
   "outputs": [
    {
     "name": "stdout",
     "output_type": "stream",
     "text": [
      "5\n",
      "1 4 3 4 7\n",
      "5 6 7 8 4\n",
      "3 8 5 6 1\n",
      "1 2 9 4 8\n",
      "5 6 1 5 8\n",
      "Верхняя четверть: 18\n",
      "Правая четверть: 19\n",
      "Нижняя четверть: 21\n",
      "Левая четверть: 17\n"
     ]
    }
   ],
   "source": [
    "n = int(input())\n",
    "matrix, sums = [], [0, 0, 0, 0]\n",
    "\n",
    "for _ in range(n):\n",
    "    row = [int(i) for i in input().split()]\n",
    "    matrix.append(row)\n",
    "    \n",
    "for i in range(n):\n",
    "    for j in range(n):\n",
    "        if i < j:\n",
    "            if i < n - 1 - j:\n",
    "                sums[0] += matrix[i][j]\n",
    "            elif i > n - 1 - j:\n",
    "                sums[1] += matrix[i][j]\n",
    "        elif i > j:\n",
    "            if i > n - 1 - j:\n",
    "                sums[2] += matrix[i][j]\n",
    "            elif i < n - 1 - j:\n",
    "                sums[3] += matrix[i][j]\n",
    "                \n",
    "print(f'Верхняя четверть: {sums[0]}')\n",
    "print(f'Правая четверть: {sums[1]}')\n",
    "print(f'Нижняя четверть: {sums[2]}')\n",
    "print(f'Левая четверть: {sums[3]}')"
   ]
  },
  {
   "cell_type": "markdown",
   "id": "ce6476aa",
   "metadata": {},
   "source": [
    "## Матрицы. Часть 2"
   ]
  },
  {
   "cell_type": "markdown",
   "id": "8c302f64",
   "metadata": {},
   "source": [
    "### 1"
   ]
  },
  {
   "cell_type": "markdown",
   "id": "eb02352f",
   "metadata": {},
   "source": [
    "На вход программе подаются два натуральных числа $n$ и $m$ — количество строк и столбцов в матрице. Создайте матрицу `mult` размером n $n×m$ и заполните её таблицей умножения по формуле `mult[i][j] = i * j`.\n",
    "\n",
    "Программа должна вывести таблицу умножения отводя на вывод каждого числа ровно $3$ символа (для этого используйте строковый метод `ljust()`)."
   ]
  },
  {
   "cell_type": "code",
   "execution_count": 26,
   "id": "0bfd3db9",
   "metadata": {},
   "outputs": [
    {
     "name": "stdout",
     "output_type": "stream",
     "text": [
      "4\n",
      "6\n",
      "0   0   0   0   0   0   \n",
      "0   1   2   3   4   5   \n",
      "0   2   4   6   8   10  \n",
      "0   3   6   9   12  15  \n"
     ]
    }
   ],
   "source": [
    "n, m, mult = int(input()), int(input()), []\n",
    "\n",
    "for _ in range(n):\n",
    "    row = [0 * m for i in range(m)]\n",
    "    mult.append(row)\n",
    "\n",
    "for i in range(n):\n",
    "    for j in range(m):\n",
    "        mult[i][j] = str(i * j).ljust(3)\n",
    "        print(mult[i][j], end=' ')\n",
    "    print()"
   ]
  },
  {
   "cell_type": "markdown",
   "id": "cfa47d67",
   "metadata": {},
   "source": [
    "### 2"
   ]
  },
  {
   "cell_type": "markdown",
   "id": "a0167574",
   "metadata": {},
   "source": [
    "На вход программе подаются два натуральных числа $n$ и $m$ — количество строк и столбцов в матрице, затем $n$ строк по $m$ целых чисел в каждой, отделенных символом пробела.\n",
    "\n",
    "Напишите программу, которая находит индексы (строку и столбец) первого вхождения максимального элемента.\n",
    "\n",
    "На вход программе на разных строках подаются два числа $n$ и $m$ — количество строк и столбцов в матрице, затем сами элементы матрицы построчно через пробел.\n",
    "\n",
    "Программа должна вывести два числа: номер строки и номер столбца, в которых стоит наибольший элемент таблицы. Если таких элементов несколько, то выводится тот, у которого меньше номер строки, а если номера строк равны то тот, у которого меньше номер столбца."
   ]
  },
  {
   "cell_type": "code",
   "execution_count": 12,
   "id": "7cf83069",
   "metadata": {},
   "outputs": [
    {
     "name": "stdout",
     "output_type": "stream",
     "text": [
      "3\n",
      "4\n",
      "0 3 2 4\n",
      "2 3 5 5\n",
      "5 1 2 3\n",
      "1 2\n"
     ]
    }
   ],
   "source": [
    "n, m = int(input()), int(input())\n",
    "mat, maxi = [], []\n",
    "\n",
    "for r in range(n):\n",
    "    row = [int(i) for i in input().split()]\n",
    "    mat.append(row)\n",
    "    \n",
    "for r in mat:\n",
    "    maxi.append(max(r))\n",
    "    \n",
    "max_element = max(maxi)    \n",
    "max_row = maxi.index(max_element)\n",
    "max_col = mat[max_row].index(max_element)\n",
    "    \n",
    "print(max_row, max_col)"
   ]
  },
  {
   "cell_type": "code",
   "execution_count": 13,
   "id": "e9d26474",
   "metadata": {},
   "outputs": [
    {
     "name": "stdout",
     "output_type": "stream",
     "text": [
      "3\n",
      "4\n",
      "0 3 2 4\n",
      "2 3 5 5\n",
      "5 1 2 3\n",
      "1 2\n"
     ]
    }
   ],
   "source": [
    "n, m = int(input()), int(input())\n",
    "matrix = [[int(i) for i in input().split()] for _ in range(n)]\n",
    "row, col = 0, 0\n",
    "    \n",
    "for i in range(n):\n",
    "    for j in range(m):\n",
    "        if matrix[i][j] > matrix[row][col]:\n",
    "            row, col = i, j\n",
    "            \n",
    "print(row, col)"
   ]
  },
  {
   "cell_type": "markdown",
   "id": "7af28d24",
   "metadata": {},
   "source": [
    "### 3"
   ]
  },
  {
   "cell_type": "markdown",
   "id": "eacd51f6",
   "metadata": {},
   "source": [
    "Напишите программу, которая меняет местами столбцы в матрице. \n",
    "\n",
    "На вход программе на разных строках подаются два натуральных числа $n$ и $m$ — количество строк и столбцов в матрице, затем элементы матрицы построчно через пробел, затем числа $i$ и $j$ — номера столбцов, подлежащих обмену."
   ]
  },
  {
   "cell_type": "code",
   "execution_count": 21,
   "id": "1ee37af9",
   "metadata": {},
   "outputs": [
    {
     "name": "stdout",
     "output_type": "stream",
     "text": [
      "3\n",
      "3\n",
      "1 2 3\n",
      "4 5 6\n",
      "7 8 9\n",
      "1 0\n",
      "2 1 3 \n",
      "5 4 6 \n",
      "8 7 9 \n"
     ]
    }
   ],
   "source": [
    "n, m = int(input()), int(input())\n",
    "matrix = [[int(i) for i in input().split()] for r in range(n)]\n",
    "i, j = [int(k) for k in input().split()]\n",
    "\n",
    "for r in range(n):\n",
    "    matrix[r][i], matrix[r][j] = matrix[r][j], matrix[r][i]\n",
    "    for c in range(m):\n",
    "        print(matrix[r][c], end=' ')\n",
    "    print()"
   ]
  },
  {
   "cell_type": "markdown",
   "id": "18f2ade7",
   "metadata": {},
   "source": [
    "### 4"
   ]
  },
  {
   "cell_type": "markdown",
   "id": "f674e33a",
   "metadata": {},
   "source": [
    "Напишите программу, которая проверяет симметричность квадратной матрицы относительно главной диагонали."
   ]
  },
  {
   "cell_type": "code",
   "execution_count": 25,
   "id": "fb5da0f5",
   "metadata": {},
   "outputs": [
    {
     "name": "stdout",
     "output_type": "stream",
     "text": [
      "3\n",
      "0 1 2\n",
      "1 2 3\n",
      "2 3 4\n",
      "YES\n"
     ]
    }
   ],
   "source": [
    "n = int(input())\n",
    "matrix = [[int(i) for i in input().split()] for r in range(n)]\n",
    "\n",
    "flag = True\n",
    "for i in range(n):\n",
    "    for j in range(n):\n",
    "        if matrix[i][j] != matrix[j][i]:\n",
    "            flag = False\n",
    "            break\n",
    "            \n",
    "print('YES' if flag else 'NO')"
   ]
  },
  {
   "cell_type": "markdown",
   "id": "88ffe7b0",
   "metadata": {},
   "source": [
    "### 5"
   ]
  },
  {
   "cell_type": "markdown",
   "id": "2b94a142",
   "metadata": {},
   "source": [
    "Дана квадратная матрица чисел. Напишите программу, которая меняет местами элементы, стоящие на главной и побочной диагонали, при этом каждый элемент должен остаться в том же столбце (то есть в каждом столбце нужно поменять местами элемент на главной диагонали и на побочной диагонали)."
   ]
  },
  {
   "cell_type": "markdown",
   "id": "f3c97f9b",
   "metadata": {},
   "source": [
    "<img src=\"https://ucarecdn.com/3b838e3b-d5b8-4394-b787-6c27b81b04de/\" width=\"300\" height=\"300\">"
   ]
  },
  {
   "cell_type": "code",
   "execution_count": 28,
   "id": "ae0a5861",
   "metadata": {},
   "outputs": [
    {
     "name": "stdout",
     "output_type": "stream",
     "text": [
      "3\n",
      "1 2 3\n",
      "4 5 6\n",
      "7 8 9\n",
      "7 2 9\n",
      "4 5 6\n",
      "1 8 3\n"
     ]
    }
   ],
   "source": [
    "n = int(input())\n",
    "matrix = [[int(i) for i in input().split()] for r in range(n)]\n",
    "\n",
    "for i in range(n):\n",
    "    matrix[i][i], matrix[n-i-1][i] = matrix[n-i-1][i], matrix[i][i]\n",
    "        \n",
    "for row in matrix:\n",
    "    print(*row)"
   ]
  },
  {
   "cell_type": "markdown",
   "id": "2c71bb9d",
   "metadata": {},
   "source": [
    "### 6"
   ]
  },
  {
   "cell_type": "markdown",
   "id": "18dda06b",
   "metadata": {},
   "source": [
    "Дана квадратная матрица чисел. Напишите программу, которая зеркально отображает её элементы относительно горизонтальной оси симметрии."
   ]
  },
  {
   "cell_type": "code",
   "execution_count": 30,
   "id": "de1ffe43",
   "metadata": {},
   "outputs": [
    {
     "name": "stdout",
     "output_type": "stream",
     "text": [
      "3\n",
      "1 2 3\n",
      "4 5 6\n",
      "7 8 9\n",
      "7 8 9\n",
      "4 5 6\n",
      "1 2 3\n"
     ]
    }
   ],
   "source": [
    "n = int(input())\n",
    "matrix = [[int(i) for i in input().split()] for r in range(n)]\n",
    "\n",
    "matrix = matrix[::-1]\n",
    "\n",
    "for row in matrix:\n",
    "    print(*row)"
   ]
  },
  {
   "cell_type": "code",
   "execution_count": 31,
   "id": "28184a9f",
   "metadata": {},
   "outputs": [
    {
     "name": "stdout",
     "output_type": "stream",
     "text": [
      "3\n",
      "1 2 3\n",
      "4 5 6\n",
      "7 8 9\n",
      "7 8 9\n",
      "4 5 6\n",
      "1 2 3\n"
     ]
    }
   ],
   "source": [
    "n = int(input())\n",
    "matrix = [[int(i) for i in input().split()] for r in range(n)]\n",
    "\n",
    "matrix.reverse()\n",
    "\n",
    "for row in matrix:\n",
    "    print(*row)"
   ]
  },
  {
   "cell_type": "markdown",
   "id": "c84da620",
   "metadata": {},
   "source": [
    "### 7"
   ]
  },
  {
   "cell_type": "markdown",
   "id": "b06ec874",
   "metadata": {},
   "source": [
    "Напишите программу, которая поворачивает квадратную матрицу чисел на $90∘$ по часовой стрелке."
   ]
  },
  {
   "cell_type": "code",
   "execution_count": 50,
   "id": "f41e226f",
   "metadata": {},
   "outputs": [
    {
     "name": "stdout",
     "output_type": "stream",
     "text": [
      "3\n",
      "1 2 3\n",
      "4 5 6\n",
      "7 8 9\n",
      "7 4 1\n",
      "8 5 2\n",
      "9 6 3\n"
     ]
    }
   ],
   "source": [
    "n = int(input())\n",
    "matrix = [[int(i) for i in input().split()] for r in range(n)]\n",
    "\n",
    "for r in range(n):\n",
    "    for c in range(r):\n",
    "        matrix[r][c], matrix[c][r] = matrix[c][r], matrix[r][c]\n",
    "\n",
    "for row in matrix:\n",
    "    print(*row[::-1])"
   ]
  },
  {
   "cell_type": "code",
   "execution_count": 51,
   "id": "4b9446e0",
   "metadata": {},
   "outputs": [
    {
     "name": "stdout",
     "output_type": "stream",
     "text": [
      "3\n",
      "1 2 3\n",
      "4 5 6\n",
      "7 8 9\n",
      "7 4 1\n",
      "8 5 2\n",
      "9 6 3\n"
     ]
    }
   ],
   "source": [
    "n = int(input())\n",
    "matrix = [input().split() for _ in range(n)]\n",
    "result = [[0] * n for _ in range(n)]\n",
    "\n",
    "for i in range(n):\n",
    "    for j in range(n):\n",
    "        result[i][j] = matrix[n - j - 1][i]\n",
    "\n",
    "for row in result:\n",
    "    print(*row)"
   ]
  },
  {
   "cell_type": "markdown",
   "id": "83c79fe7",
   "metadata": {},
   "source": [
    "### 8"
   ]
  },
  {
   "cell_type": "markdown",
   "id": "0ae5af47",
   "metadata": {},
   "source": [
    "На шахматной доске $8×8$ стоит конь. Напишите программу, которая отмечает положение коня на доске и все клетки, которые бьет конь. Клетку, где стоит конь, отметьте английской буквой `N`, клетки, которые бьет конь, отметьте символами `*`, остальные клетки заполните точками.\n",
    "\n",
    "На вход программе подаются координаты коня на шахматной доске в шахматной нотации (то есть в виде `e4`, где сначала записывается номер столбца (буква от `a` до `h`, слева направо), затем номеру строки (цифра от $1$ до $8$, снизу вверх)).\n",
    "\n",
    "Программа должна вывести на экран изображение доски, разделяя элементы пробелами.\n",
    "\n",
    "Шахматная доска имеет вид:"
   ]
  },
  {
   "cell_type": "markdown",
   "id": "8380cfc3",
   "metadata": {},
   "source": [
    "<img src=\"https://ucarecdn.com/f5006ddf-2ffd-464d-b49c-9e7fabeadd55/\" width=\"300\" height=\"300\">"
   ]
  },
  {
   "cell_type": "markdown",
   "id": "a5370864",
   "metadata": {},
   "source": [
    "<img src=\"https://ucarecdn.com/759f2d80-1c73-49b0-8bb9-97226f3b2c84/\" width=\"400\" height=\"400\">"
   ]
  },
  {
   "cell_type": "markdown",
   "id": "b164dc6b",
   "metadata": {},
   "source": [
    "<img src=\"http://cs50x.ru/assets/asciitable2.png\" width=\"700\" height=\"700\">"
   ]
  },
  {
   "cell_type": "code",
   "execution_count": 112,
   "id": "52500a17",
   "metadata": {},
   "outputs": [
    {
     "name": "stdout",
     "output_type": "stream",
     "text": [
      "b6\n",
      "* . * . . . . .\n",
      ". . . * . . . .\n",
      ". N . . . . . .\n",
      ". . . * . . . .\n",
      "* . * . . . . .\n",
      ". . . . . . . .\n",
      ". . . . . . . .\n",
      ". . . . . . . .\n"
     ]
    }
   ],
   "source": [
    "board = [['.'] * 8 for row in range(8)]\n",
    "coord = [i for i in input()]\n",
    "coord[0], coord[1] = 8 - int(coord[1]), ord(coord[0]) - 97\n",
    "board[coord[0]][coord[1]] = 'N'\n",
    "\n",
    "for row in range(8):\n",
    "    for col in range(8):\n",
    "        if abs(row - coord[0]) == 1 and abs(col - coord[1]) == 2:\n",
    "            board[row][col] = '*'\n",
    "        elif abs(row - coord[0]) == 2 and abs(col - coord[1]) == 1:\n",
    "            board[row][col] = '*'           \n",
    "            \n",
    "for row in board:\n",
    "    print(*row)"
   ]
  },
  {
   "cell_type": "markdown",
   "id": "61b32104",
   "metadata": {},
   "source": [
    "### 9"
   ]
  },
  {
   "cell_type": "markdown",
   "id": "f97b605e",
   "metadata": {},
   "source": [
    "Магическим квадратом порядка $n$ называется квадратная таблица размера $n×n$, составленная из **всех** чисел $1,2,3,…,n^2$ так, что суммы по каждому столбцу, каждой строке и каждой из двух диагоналей равны между собой. Напишите программу, которая проверяет, является ли заданная квадратная матрица магическим квадратом."
   ]
  },
  {
   "cell_type": "code",
   "execution_count": 3,
   "id": "aae5dc5e",
   "metadata": {},
   "outputs": [
    {
     "name": "stdout",
     "output_type": "stream",
     "text": [
      "3\n",
      "8 1 6\n",
      "3 5 7\n",
      "4 9 2\n",
      "YES\n"
     ]
    }
   ],
   "source": [
    "n = int(input())\n",
    "matrix = [[int(i) for i in input().split()] for _ in range(n)]\n",
    "\n",
    "check, rows, cols, left, right, sums = [], [], [], [], [], []\n",
    "\n",
    "for i in range(1, n ** 2 + 1):\n",
    "    for row in range(n):\n",
    "        for col in range(n):\n",
    "            if i == matrix[row][col]:\n",
    "                check.append(i)\n",
    "                \n",
    "for row in matrix:\n",
    "    rows.append(row)  \n",
    "    \n",
    "for i in range(n):\n",
    "    c = [matrix[j][i] for j in range(n)]\n",
    "    cols.append(c)\n",
    "        \n",
    "for i in range(n):\n",
    "    left.append(matrix[i][i])\n",
    "    right.append(matrix[i][n-i-1])\n",
    "\n",
    "for row in rows:\n",
    "    sums.append(sum(row))\n",
    "for col in cols:\n",
    "    sums.append(sum(col))\n",
    "sums.append(sum(left))\n",
    "sums.append(sum(right))\n",
    "            \n",
    "print('YES' if len(set(check)) == n ** 2 and len(set(sums)) == 1 else 'NO')"
   ]
  },
  {
   "cell_type": "markdown",
   "id": "515f6c91",
   "metadata": {},
   "source": [
    "## Матрицы. Часть 3"
   ]
  },
  {
   "cell_type": "markdown",
   "id": "25df03d3",
   "metadata": {},
   "source": [
    "### 1"
   ]
  },
  {
   "cell_type": "markdown",
   "id": "4fa12fc1",
   "metadata": {},
   "source": [
    "На вход программе подаются два натуральных числа $n$ и $m$. Напишите программу для создания матрицы размером $n×m$, заполнив её символами `.` и `*` в шахматном порядке. В левом верхнем углу должна стоять точка. Выведите полученную матрицу на экран, разделяя элементы пробелами."
   ]
  },
  {
   "cell_type": "code",
   "execution_count": 18,
   "id": "ca59265b",
   "metadata": {},
   "outputs": [
    {
     "name": "stdout",
     "output_type": "stream",
     "text": [
      "2 3\n",
      ". * .\n",
      "* . *\n"
     ]
    }
   ],
   "source": [
    "n, m = [int(i) for i in input().split()]\n",
    "matrix = [['.'] * m for i in range(n)]\n",
    "\n",
    "for i in range(n):\n",
    "    for j in range(m):\n",
    "        if (i + j) % 2 != 0:\n",
    "            matrix[i][j] = '*'\n",
    "\n",
    "for row in matrix:\n",
    "    print(*row)"
   ]
  },
  {
   "cell_type": "markdown",
   "id": "824118c0",
   "metadata": {},
   "source": [
    "### 2"
   ]
  },
  {
   "cell_type": "markdown",
   "id": "5b374e81",
   "metadata": {},
   "source": [
    "На вход программе подается натуральное число $n$. Напишите программу, которая создает матрицу размером $n×n$ и заполняет её по следующему правилу:\n",
    "\n",
    "* числа на побочной диагонали равны $1$;\n",
    "* числа, стоящие выше этой диагонали, равны $0$;\n",
    "* числа, стоящие ниже этой диагонали, равны $2$.\n",
    "\n",
    "Полученную матрицу выведите на экран. Числа в строке разделяйте одним пробелом."
   ]
  },
  {
   "cell_type": "code",
   "execution_count": 37,
   "id": "f7002d16",
   "metadata": {},
   "outputs": [
    {
     "name": "stdout",
     "output_type": "stream",
     "text": [
      "3\n",
      "0 0 1\n",
      "0 1 2\n",
      "1 2 2\n"
     ]
    }
   ],
   "source": [
    "n = int(input())\n",
    "matrix = [['0'] * n for i in range(n)]\n",
    "\n",
    "for i in range(n):\n",
    "    for j in range(n):\n",
    "        matrix[i][n-i-1] = '1'\n",
    "        if i > n-1-j:\n",
    "            matrix[i][j] = '2'\n",
    "\n",
    "for row in matrix:\n",
    "    print(*row)"
   ]
  },
  {
   "cell_type": "code",
   "execution_count": 38,
   "id": "cd42d8ab",
   "metadata": {},
   "outputs": [
    {
     "name": "stdout",
     "output_type": "stream",
     "text": [
      "3\n",
      "0 0 1\n",
      "0 1 2\n",
      "1 2 2\n"
     ]
    }
   ],
   "source": [
    "def f(i, j, n):\n",
    "    if i == n - j - 1:\n",
    "        return 1\n",
    "    elif i < n - j - 1:\n",
    "        return 0\n",
    "    else:\n",
    "        return 2\n",
    "\n",
    "n = int(input())\n",
    "\n",
    "res = [[f(i, j, n) for j in range(n)] for i in range(n)]\n",
    "\n",
    "for x in res:\n",
    "    print(*x)"
   ]
  },
  {
   "cell_type": "markdown",
   "id": "9bb6cd27",
   "metadata": {},
   "source": [
    "### 3"
   ]
  },
  {
   "cell_type": "markdown",
   "id": "d376d959",
   "metadata": {},
   "source": [
    "На вход программе подаются два натуральных числа $n$ и $m$. Напишите программу, которая создает матрицу размером $n×m$ и заполняет её числами от $1$ до $n⋅m$ в соответствии с образцом. Для вывода элементов матрицы как в примерах, отводите ровно $3$ символа на каждый элемент. Для этого используйте строковый метод `ljust()`."
   ]
  },
  {
   "cell_type": "code",
   "execution_count": 45,
   "id": "30d8a241",
   "metadata": {},
   "outputs": [
    {
     "name": "stdout",
     "output_type": "stream",
     "text": [
      "4 5\n",
      "1   2   3   4   5   \n",
      "6   7   8   9   10  \n",
      "11  12  13  14  15  \n",
      "16  17  18  19  20  \n"
     ]
    }
   ],
   "source": [
    "n, m = [int(i) for i in input().split()]\n",
    "\n",
    "matrix = [[0] * m for row in range(n)]\n",
    "\n",
    "counter = 0\n",
    "\n",
    "for i in range(n):\n",
    "    for j in range(m):\n",
    "        counter += 1\n",
    "        matrix[i][j] = str(counter).ljust(3)\n",
    "        print(matrix[i][j], end=' ')\n",
    "    print()"
   ]
  },
  {
   "cell_type": "code",
   "execution_count": 55,
   "id": "4bc451a7",
   "metadata": {},
   "outputs": [
    {
     "name": "stdout",
     "output_type": "stream",
     "text": [
      "4 5\n",
      "1   2   3   4   5   \n",
      "6   7   8   9   10  \n",
      "11  12  13  14  15  \n",
      "16  17  18  19  20  \n"
     ]
    }
   ],
   "source": [
    "n, m = [int(i) for i in input().split()]\n",
    "matrix = [[0] * m for _ in range(n)]\n",
    "\n",
    "for i in range(n):\n",
    "    for j in range(m):\n",
    "        matrix[i][j] = i * m + j + 1\n",
    "\n",
    "for i in range(n):\n",
    "    for j in range(m):\n",
    "        print(str(matrix[i][j]).ljust(3), end=' ')\n",
    "    print()"
   ]
  },
  {
   "cell_type": "markdown",
   "id": "f301b3fa",
   "metadata": {},
   "source": [
    "### 4"
   ]
  },
  {
   "cell_type": "markdown",
   "id": "52f44c92",
   "metadata": {},
   "source": [
    "На вход программе подаются два натуральных числа $n$ и $m$. Напишите программу, которая создает матрицу размером $n×m$ заполнив её в соответствии с образцом."
   ]
  },
  {
   "cell_type": "code",
   "execution_count": 112,
   "id": "8214e45c",
   "metadata": {},
   "outputs": [
    {
     "name": "stdout",
     "output_type": "stream",
     "text": [
      "4 5\n",
      "1   5   9   13  17  \n",
      "2   6   10  14  18  \n",
      "3   7   11  15  19  \n",
      "4   8   12  16  20  \n"
     ]
    }
   ],
   "source": [
    "n, m = [int(i) for i in input().split()]\n",
    "matrix = [[0] * m for _ in range(n)]\n",
    "\n",
    "for i in range(n):\n",
    "    for j in range(m):\n",
    "        matrix[i][j] = j * n + i + 1\n",
    "\n",
    "for i in range(n):\n",
    "    for j in range(m):\n",
    "        print(str(matrix[i][j]).ljust(3), end=' ')\n",
    "    print()"
   ]
  },
  {
   "cell_type": "markdown",
   "id": "ee534d76",
   "metadata": {},
   "source": [
    "### 5"
   ]
  },
  {
   "cell_type": "markdown",
   "id": "3f718c5f",
   "metadata": {},
   "source": [
    "На вход программе подается натуральное число $n$. Напишите программу, которая создает матрицу размером $n×n$ заполнив её в соответствии с образцом."
   ]
  },
  {
   "cell_type": "code",
   "execution_count": 111,
   "id": "6a0e5855",
   "metadata": {},
   "outputs": [
    {
     "name": "stdout",
     "output_type": "stream",
     "text": [
      "4\n",
      "1 0 0 1\n",
      "0 1 1 0\n",
      "0 1 1 0\n",
      "1 0 0 1\n"
     ]
    }
   ],
   "source": [
    "n = int(input())\n",
    "matrix = [[0] * n for _ in range(n)]\n",
    "\n",
    "for i in range(n):\n",
    "    matrix[i][n-i-1] = '1'\n",
    "    matrix[i][i] = '1'\n",
    "\n",
    "for row in matrix:\n",
    "    print(*row)"
   ]
  },
  {
   "cell_type": "markdown",
   "id": "34129c2f",
   "metadata": {},
   "source": [
    "### 6"
   ]
  },
  {
   "cell_type": "markdown",
   "id": "537c139d",
   "metadata": {},
   "source": [
    "На вход программе подается натуральное число $n$. Напишите программу, которая создает матрицу размером $n×n$ заполнив её в соответствии с образцом."
   ]
  },
  {
   "cell_type": "code",
   "execution_count": 115,
   "id": "f996f7e5",
   "metadata": {},
   "outputs": [
    {
     "name": "stdout",
     "output_type": "stream",
     "text": [
      "5\n",
      "1 1 1 1 1\n",
      "0 1 1 1 0\n",
      "0 0 1 0 0\n",
      "0 1 1 1 0\n",
      "1 1 1 1 1\n"
     ]
    }
   ],
   "source": [
    "n = int(input())\n",
    "matrix = [[0] * n for _ in range(n)]\n",
    "\n",
    "for i in range(n):\n",
    "    for j in range(n):\n",
    "        if (i <= j and i <= n - j - 1) or (i >= j and i >= n - j - 1):\n",
    "            matrix[i][j] = '1'\n",
    "\n",
    "for row in matrix:\n",
    "    print(*row)"
   ]
  },
  {
   "cell_type": "markdown",
   "id": "7d52f8a3",
   "metadata": {},
   "source": [
    "### 7"
   ]
  },
  {
   "cell_type": "markdown",
   "id": "4805f179",
   "metadata": {},
   "source": [
    "На вход программе подаются два натуральных числа $n$ и $m$. Напишите программу, которая создает матрицу размером $n×m$ заполнив её в соответствии с образцом."
   ]
  },
  {
   "cell_type": "code",
   "execution_count": 122,
   "id": "c0219496",
   "metadata": {},
   "outputs": [
    {
     "name": "stdout",
     "output_type": "stream",
     "text": [
      "4 5\n",
      "1   2   3   4   5   \n",
      "2   3   4   5   1   \n",
      "3   4   5   1   2   \n",
      "4   5   1   2   3   \n"
     ]
    }
   ],
   "source": [
    "n, m = [int(i) for i in input().split()]\n",
    "matrix = [[0] * m for _ in range(n)]\n",
    "\n",
    "for i in range(n):\n",
    "    for j in range(m):\n",
    "        matrix[i][j] = (i + j) % m + 1\n",
    "        \n",
    "for i in range(n):\n",
    "    for j in range(m):\n",
    "        print(str(matrix[i][j]).ljust(3), end=' ')\n",
    "    print()"
   ]
  },
  {
   "cell_type": "markdown",
   "id": "f32569cf",
   "metadata": {},
   "source": [
    "### 8"
   ]
  },
  {
   "cell_type": "markdown",
   "id": "47a83148",
   "metadata": {},
   "source": [
    "На вход программе подаются два натуральных числа $n$ и $m$. Напишите программу, которая создает матрицу размером $n×m$ заполнив её \"змейкой\" в соответствии с образцом."
   ]
  },
  {
   "cell_type": "code",
   "execution_count": 128,
   "id": "d835242b",
   "metadata": {},
   "outputs": [
    {
     "name": "stdout",
     "output_type": "stream",
     "text": [
      "5 5\n",
      "1 2 3 4 5\n",
      "10 9 8 7 6\n",
      "11 12 13 14 15\n",
      "20 19 18 17 16\n",
      "21 22 23 24 25\n"
     ]
    }
   ],
   "source": [
    "n, m = [int(i) for i in input().split()]\n",
    "matrix = [[0] * m for _ in range(n)]\n",
    "\n",
    "for i in range(n):\n",
    "    for j in range(m):\n",
    "        matrix[i][j] = i * m + j + 1\n",
    "\n",
    "for row in range(n):\n",
    "    if row % 2 == 0:\n",
    "        print(*matrix[row])\n",
    "    else:\n",
    "        print(*matrix[row][::-1])"
   ]
  },
  {
   "cell_type": "code",
   "execution_count": 129,
   "id": "3977211b",
   "metadata": {},
   "outputs": [
    {
     "name": "stdout",
     "output_type": "stream",
     "text": [
      "5 5\n",
      "1   2   3   4   5   \n",
      "10  9   8   7   6   \n",
      "11  12  13  14  15  \n",
      "20  19  18  17  16  \n",
      "21  22  23  24  25  \n"
     ]
    }
   ],
   "source": [
    "n, m = [int(i) for i in input().split()]\n",
    "matrix = [[0] * m for _ in range(n)]\n",
    "\n",
    "for i in range(n):\n",
    "    for j in range(m):\n",
    "        matrix[i][j] = i * m + j + 1\n",
    "    if i % 2:\n",
    "        matrix[i].reverse()\n",
    "\n",
    "for i in range(n):\n",
    "    for j in range(m):\n",
    "        print(str(matrix[i][j]).ljust(3), end=' ')\n",
    "    print()"
   ]
  },
  {
   "cell_type": "markdown",
   "id": "a68d71f5",
   "metadata": {},
   "source": [
    "### 9"
   ]
  },
  {
   "cell_type": "markdown",
   "id": "f9842680",
   "metadata": {},
   "source": [
    "На вход программе подаются два натуральных числа $n$ и $m$. Напишите программу, которая создает матрицу размером $n×m$ заполнив её \"диагоналями\" в соответствии с образцом."
   ]
  },
  {
   "cell_type": "markdown",
   "id": "be6b7c09",
   "metadata": {},
   "source": [
    "<img src=\"https://ucarecdn.com/ac9f0a56-3d4f-40d0-b8bb-33c546516905/-/crop/625x577/500,133/-/preview/\" width=\"200\" height=\"200\">"
   ]
  },
  {
   "cell_type": "code",
   "execution_count": 146,
   "id": "894bbe8e",
   "metadata": {},
   "outputs": [
    {
     "name": "stdout",
     "output_type": "stream",
     "text": [
      "5 4\n",
      "1   2   4   7   \n",
      "3   5   8   11  \n",
      "6   9   12  15  \n",
      "10  13  16  18  \n",
      "14  17  19  20  \n"
     ]
    }
   ],
   "source": [
    "# Принимаем параметры матрицы\n",
    "n, m = map(int, input().split())\n",
    "# Создаем скелет матрицы\n",
    "matrix = [[0] * m for i in range(n)]\n",
    "# Задаем отсчет с единицы\n",
    "d = 1\n",
    "\n",
    "for k in range(1, n + m):               # Цикл перебирающий сумму индексов в диагонали\n",
    "    for i in range(n):                  # Перебираем строки\n",
    "        for j in range(m):              # Перебираем столбцы\n",
    "            if i + j + 1 == k:          # Выявляем ячейки, относящиеся к искомой диагонали\n",
    "                matrix[i][j] = d        # Присваиваем обнаруженной ячейке порядковый номер\n",
    "                d += 1                  # Обновляем счетчик\n",
    "\n",
    "# Распечатываем полученную матрицу\n",
    "for row in range(n):\n",
    "    for col in range(m):\n",
    "        print(str(matrix[row][col]).ljust(3), end=' ')\n",
    "    print()"
   ]
  },
  {
   "cell_type": "markdown",
   "id": "0cdc3e17",
   "metadata": {},
   "source": [
    "### 10"
   ]
  },
  {
   "cell_type": "markdown",
   "id": "f5110906",
   "metadata": {},
   "source": [
    "На вход программе подаются два натуральных числа $n$ и $m$. Напишите программу, которая создает матрицу размером $n×m$ заполнив её \"спиралью\" в соответствии с образцом."
   ]
  },
  {
   "cell_type": "code",
   "execution_count": 150,
   "id": "8876e261",
   "metadata": {},
   "outputs": [
    {
     "name": "stdout",
     "output_type": "stream",
     "text": [
      "7 8\n",
      "1   2   3   4   5   6   7   8   \n",
      "26  27  28  29  30  31  32  9   \n",
      "25  44  45  46  47  48  33  10  \n",
      "24  43  54  55  56  49  34  11  \n",
      "23  42  53  52  51  50  35  12  \n",
      "22  41  40  39  38  37  36  13  \n",
      "21  20  19  18  17  16  15  14  \n"
     ]
    }
   ],
   "source": [
    "n, m = [int(i) for i in input().split()]\n",
    "\n",
    "matrix = [[0] * m for _ in range(n)]\n",
    "counter = 1\n",
    "rows_passed, columns_passed = 0, 0\n",
    "current_row, current_column = 0, 0\n",
    "\n",
    "for k in range(n * m):\n",
    "    if counter == n * m + 1:\n",
    "        break\n",
    "    direction = k % 4\n",
    "    if direction == 0:\n",
    "        for j in range(columns_passed, m - columns_passed):\n",
    "            matrix[current_row][j] = counter\n",
    "            counter += 1\n",
    "        current_column = j\n",
    "        rows_passed += 1\n",
    "    elif direction == 1:\n",
    "        for i in range(rows_passed, n - rows_passed + 1):\n",
    "            matrix[i][current_column] = counter\n",
    "            counter += 1\n",
    "        current_row = i\n",
    "        columns_passed += 1\n",
    "    elif direction == 2:\n",
    "        for j in range(current_column - 1, columns_passed - 2, -1):\n",
    "            matrix[current_row][j] = counter \n",
    "            counter += 1\n",
    "        current_column = j\n",
    "    elif direction == 3:\n",
    "        for i in range(current_row - 1, rows_passed - 1, -1):\n",
    "            matrix[i][current_column] = counter\n",
    "            counter += 1\n",
    "        current_row = i \n",
    "        \n",
    "for row in range(n):\n",
    "    for col in range(m):\n",
    "        print(str(matrix[row][col]).ljust(3), end=' ')\n",
    "    print()"
   ]
  },
  {
   "cell_type": "markdown",
   "id": "63212dc7",
   "metadata": {},
   "source": [
    "## Операции над матрицами в математике"
   ]
  },
  {
   "cell_type": "markdown",
   "id": "4486d294",
   "metadata": {},
   "source": [
    "**Сложение матриц**"
   ]
  },
  {
   "cell_type": "markdown",
   "id": "601922f9",
   "metadata": {},
   "source": [
    "При сложении матриц $A$ и $B$ получается такая матрица $C$, каждый элемент которой представляет собой сумму пары соответствующих элементов исходных матриц $A$ и $B$. Складывать можно только матрицы одинаковой размерности $(n×m)$, с равным количеством строк и столбцов. Таким образом, математически сумма матриц выглядит так:\n",
    "\n",
    "$C_{n \\times m} = A_{n \\times m} + B_{n \\times m}$\n",
    "\n",
    "Каждый элемент искомой матрицы равен сумме соответствующих элементов заданных матриц:\n",
    "\n",
    "$c_{ij} = a_{ij} + b_{ij}$\n",
    " \n",
    "**Пример.** Даны две матрицы:\n",
    "\n",
    "$A=\\begin{bmatrix} 2& -3&1\\\\ 5 & 4 &-2 \\end{bmatrix}, \\, \\, \\, B=\\begin{bmatrix} 4& 2&-5\\\\ -4 & 1 &3 \\end{bmatrix}$\n",
    "\n",
    "Найти сумму матриц $A+B$.\n",
    "\n",
    "**Решение.** Имеем\n",
    "\n",
    "$A + B = \\begin{bmatrix} 2& -3&1\\\\ 5 & 4 &-2 \\end{bmatrix} + \\begin{bmatrix} 4& 2&-5\\\\ -4 & 1 &3 \\end{bmatrix} = \\begin{bmatrix} 6& -1&-4\\\\ 1 & 5 & 1 \\end{bmatrix}$"
   ]
  },
  {
   "cell_type": "markdown",
   "id": "5a826712",
   "metadata": {},
   "source": [
    "**Свойства сложения матриц**\n",
    "\n",
    "*Коммутативность* – результат сложения матриц не зависит от их перестановки: \n",
    "\n",
    "$A+B = B+A$;\n",
    "\n",
    "*Ассоциативность* – результат сложения матриц не зависит от расстановки скобок: \n",
    "\n",
    "$A + (B + C) = (A + B) + C$;\n",
    "\n",
    "*Сложение с нулевой матрицей* – для любой матрицы существует нейтральный элемент, которым является нулевая матрица, сложение с которым не изменяет исходную матрицу. Нулевая матрица – матрица, все элементы которой имеют нулевое значение: \n",
    "\n",
    "$A+0 = 0 + A = A$;\n",
    "\n",
    "*Существование противоположной матрицы* – для ненулевой матрицы $A$ всегда есть матрица $−A$, сложение с  которой даст в результате нулевую матрицу:\n",
    "\n",
    "$A+(-A) = 0$."
   ]
  },
  {
   "cell_type": "markdown",
   "id": "0ebe8482",
   "metadata": {},
   "source": [
    "**Умножение матрицы на число**"
   ]
  },
  {
   "cell_type": "markdown",
   "id": "fcdb5806",
   "metadata": {},
   "source": [
    "Операция умножения матрицы $A$ на число $k$ заключается в построении матрицы $kA = [k \\cdot a_{ij}]$. Умножать на число можно матрицы любого размера. В результате умножения получается матрица того же размера, что исходная.\n",
    "\n",
    "Произведение матрицы $A$ на число $k$ – результирующая матрица $B = kA$ того же размера, полученная умножением каждого из элементов $a_{ij}$ исходной матрицы на заданное число.\n",
    "\n",
    "**Пример.** Даны матрица $A$ и число $k$:\n",
    "\n",
    "$A=\\begin{bmatrix} 5& -2& 4\\\\ 3 & 1 &-3 \\end{bmatrix}, \\, \\, \\, k=7$\n",
    "\n",
    "Найти произведение матрицы и числа.\n",
    "\n",
    "**Решение.** Имеем\n",
    "\n",
    "$k\\cdot A = 7\\cdot\\begin{bmatrix} 5& -2& 4\\\\ 3 & 1 &-3 \\end{bmatrix} = \\begin{bmatrix} 35& -14&28\\\\ 21 & 7 & -21 \\end{bmatrix}$\n",
    "\n",
    "**Свойства умножения матрицы на число**\n",
    "\n",
    "*Единица – нейтральное число умножения любой матрицы*, результат умножения на нейтральное число – исходная матрица:\n",
    "\n",
    "$1 \\times A = A$;\n",
    "\n",
    "*Результат умножения любой матрицы на ноль – нулевая матрица*, все элементы которой равны нулю:\n",
    "\n",
    "$0 \\times A = 0$;\n",
    "\n",
    "*Для матриц одного размера и действительного числа выполняется свойство дистрибутивности* умножения относительно сложения:\n",
    "\n",
    "$k \\times (A + B) = k \\times A + k \\times B$;\n",
    "\n",
    "*Для любой матрицы и суммы действительных чисел выполняется свойство дистрибутивности*:\n",
    "\n",
    "$(k + n) \\times A = k \\times A + n \\times A$;\n",
    "\n",
    "*Для любой матрицы и произведения любых действительных чисел выполняется свойство ассоциативности умножения*:\n",
    "\n",
    "$(k \\times n) \\times A = k \\times (n \\times A)$."
   ]
  },
  {
   "cell_type": "markdown",
   "id": "f9cd3298",
   "metadata": {},
   "source": [
    "**Умножение матрицы на матрицу**"
   ]
  },
  {
   "cell_type": "markdown",
   "id": "636f8d62",
   "metadata": {},
   "source": [
    "Умножение двух матриц $A$ и $B$ – вычисление результирующей матрицы $C$, каждый элемент $c_{ij}$c которой равен сумме произведений элементов соответствующих строки первой матрицы $a_{ir}$a и столбца второй матрицы $b_{rj}$.\n",
    "\n",
    "Одну матрицу можно умножать на другую только тогда, когда **количество столбцов в первой матрице совпадает с количеством строк во второй матрице**. То есть, матрицы должны быть согласованы по размерности. Результат умножения матрицы размера $n\\times m$ на матрицу размером $m\\times k$ – матрица размером $n\\times k$.\n",
    "\n",
    "Итак, произведение матрицы $A_{n\\times m}$ на матрицу $B_{m\\times k}$ – матрица $C_{n\\times k}$, элемент $c_{ij}$ которой, находящийся в $i$-ой строке и $j$-ом столбце, равен сумме произведений элементов $i$-ой строки матрицы $A$ на соответствующие элементы $j$-ого столбца матрицы $B$.\n",
    "\n",
    "Каждый элемент матрицы $C_{n\\times k}$ равен:\n",
    "\n",
    "$c_{ij} = \\sum_{r=1} ^{m} a_{ir} \\cdot b_{rj} = a_{i1}\\cdot b_{1j} + a_{i2}\\cdot b_{2j}+\\ldots +a_{im}\\cdot b_{mj}$\n",
    " \n",
    "где $r$ принимает значение от $1$ до $m$.\n",
    "\n",
    "**Пример.** Даны две матрицы $A$ и $B$:\n",
    "\n",
    "$A=\\begin{bmatrix} 2& -3&1\\\\ 5 & 4 &-2 \\end{bmatrix}, \\, \\, \\, B=\\begin{bmatrix} -7& 5 \\\\ 2 &-1 \\\\ 4 &3 \\end{bmatrix}$\n",
    " \n",
    "Найти произведение матриц $A\\times B$.\n",
    "\n",
    "**Решение.** При перемножении матрицы $A_{2\\times 3}$ на матрицу $B_{3\\times 2}$ мы получаем матрицу $C_{2\\times 2}$. \n",
    "\n",
    "Имеем:\n",
    "\n",
    "$c_{11} = 2\\cdot(-7) + (-3)\\cdot 2 + 1 \\cdot 4 = -16, \\quad c_{12} = 2\\cdot 5 + (-3)\\cdot(-1) + 1\\cdot 3 = 16\\\\ c_{21} = 5\\cdot(-7) + 4\\cdot 2 + (-2) \\cdot 4 = -35, \\quad c_{22} = 5\\cdot 5 + 4\\cdot(-1) + (-2)\\cdot 3 = 15$\n",
    "\n",
    "Таким образом\n",
    "\n",
    "$A \\cdot B=\\begin{bmatrix} 2& -3&1\\\\ 5 & 4 &-2 \\end{bmatrix} \\cdot\\begin{bmatrix} -7& 5 \\\\ 2 &-1 \\\\ 4 &3 \\end{bmatrix} =\\begin{bmatrix} -16& 16\\\\ -35 & 15 \\end{bmatrix}$\n",
    "\n",
    "**Свойства умножения матриц**\n",
    "\n",
    "*Ассоциативность* – \n",
    "\n",
    "$(A\\times B)\\times C = A\\times (B\\times C)$;\n",
    "\n",
    "*Дистрибутивность* – \n",
    "\n",
    "$A\\times (B + C) = A\\times B + A\\times C, \\, (A+B)\\times C = A\\times C + B \\times C$;\n",
    "\n",
    "*Ассоциативность и коммутативность относительно умножения на число* – \n",
    "\n",
    "$(k\\times A)\\times B = k\\times (A\\times B) = A\\times (k\\times B)$;\n",
    "\n",
    "*В общем случае умножение матриц не коммутативно* –\n",
    "\n",
    "$A\\times B \\neq B\\times A$."
   ]
  },
  {
   "cell_type": "markdown",
   "id": "60b0b1ba",
   "metadata": {},
   "source": [
    "### 1"
   ]
  },
  {
   "cell_type": "markdown",
   "id": "631d4e60",
   "metadata": {},
   "source": [
    "Напишите программу для вычисления суммы двух матриц.\n",
    "\n",
    "На вход программе подаются два натуральных числа $n$ и $m$ — количество строк и столбцов в матрицах, затем элементы первой матрицы, затем пустая строка, далее следуют элементы второй матрицы. Программа должна вывести результирующую матрицу, разделяя элементы символом пробела."
   ]
  },
  {
   "cell_type": "code",
   "execution_count": 4,
   "id": "bf6c8a93",
   "metadata": {},
   "outputs": [
    {
     "name": "stdout",
     "output_type": "stream",
     "text": [
      "2 4\n",
      "1 2 3 4\n",
      "5 6 7 1\n",
      "\n",
      "3 2 1 2\n",
      "1 3 1 3\n",
      "4 4 4 6\n",
      "6 9 8 4\n"
     ]
    }
   ],
   "source": [
    "n, m = [int(i) for i in input().split()]\n",
    "matrix_sum = [[0] * m for _ in range(n)]\n",
    "\n",
    "matrix_1 = [[int(i) for i in input().split()] for row in range(n)]\n",
    "input()\n",
    "matrix_2 = [[int(i) for i in input().split()] for row in range(n)]\n",
    "\n",
    "for row in range(n):\n",
    "    for col in range(m):\n",
    "        matrix_sum[row][col] = matrix_1[row][col] + matrix_2[row][col]\n",
    "        \n",
    "for row in matrix_sum:\n",
    "    print(*row)"
   ]
  },
  {
   "cell_type": "markdown",
   "id": "0f56eec6",
   "metadata": {},
   "source": [
    "### 2"
   ]
  },
  {
   "cell_type": "markdown",
   "id": "afd55faf",
   "metadata": {},
   "source": [
    "Напишите программу, которая перемножает две матрицы.\n",
    "\n",
    "На вход программе подаются два натуральных числа $n$ и $m$ — количество строк и столбцов в первой матрице, затем элементы первой матрицы, затем пустая строка. Далее следуют числа $m$ и $k$ — количество строк и столбцов второй матрицы затем элементы второй матрицы. Программа должна вывести результирующую матрицу, разделяя элементы символом пробела."
   ]
  },
  {
   "cell_type": "code",
   "execution_count": 28,
   "id": "77d7a621",
   "metadata": {},
   "outputs": [
    {
     "name": "stdout",
     "output_type": "stream",
     "text": [
      "3 2\n",
      "2 5\n",
      "6 7\n",
      "1 8\n",
      "\n",
      "2 3\n",
      "1 2 1\n",
      "0 1 0\n",
      "2 9 2\n",
      "6 19 6\n",
      "1 10 1\n"
     ]
    }
   ],
   "source": [
    "n, m = [int(i) for i in input().split()]\n",
    "matrix_1 = [[int(i) for i in input().split()] for row in range(n)]\n",
    "input()\n",
    "m, k = [int(i) for i in input().split()]\n",
    "matrix_2 = [[int(i) for i in input().split()] for row in range(m)]\n",
    "\n",
    "matrix_mult = [[0] * k for _ in range(n)] # total rows = matrix_1 num of rows OR matrix_2 num of cols\n",
    "\n",
    "for i in range(n):          # n это высота 1 матрицы и длина 3 матрицы\n",
    "    for j in range(k):      # k это высота 2 матрицы и высота 3 матрицы\n",
    "        for p in range(m):  # m это длина 2 матрицы и длина 1 матрицы\n",
    "            sums = matrix_1[i][p] * matrix_2[p][j]\n",
    "            matrix_mult[i][j] += sums \n",
    "            \n",
    "for row in matrix_mult:\n",
    "    print(*row)"
   ]
  },
  {
   "cell_type": "markdown",
   "id": "2c0ac95f",
   "metadata": {},
   "source": [
    "### 3"
   ]
  },
  {
   "cell_type": "markdown",
   "id": "7f0fe45b",
   "metadata": {},
   "source": [
    "Напишите программу, которая возводит квадратную матрицу в $m$-ую степень.\n",
    "\n",
    "На вход программе подаётся натуральное число $n$ — количество строк и столбцов в матрице, затем элементы матрицы, затем натуральное число $m$. Программа должна вывести результирующую матрицу, разделяя элементы символом пробела."
   ]
  },
  {
   "cell_type": "code",
   "execution_count": 29,
   "id": "60b7bac1",
   "metadata": {},
   "outputs": [
    {
     "name": "stdout",
     "output_type": "stream",
     "text": [
      "3\n",
      "1 2 1\n",
      "3 3 3\n",
      "1 2 1\n",
      "5\n",
      "1666 2222 1666\n",
      "3333 4443 3333\n",
      "1666 2222 1666\n"
     ]
    }
   ],
   "source": [
    "def square_matrix_mult(matrixA, matrixB, size):\n",
    "    matrixC = [[0] * size for _ in range(size)]\n",
    "    for i in range(size):\n",
    "        for j in range(size):\n",
    "            for q in range(size):\n",
    "                matrixC[i][j] += matrixA[i][q] * matrixB[q][j]\n",
    "    return matrixC\n",
    "    \n",
    "n = int(input())\n",
    "matrix = [[int(i) for i in input().split()] for _ in range(n)]\n",
    "m = int(input())\n",
    "powered_matrix = matrix.copy()\n",
    "\n",
    "for _ in range(m - 1):\n",
    "    powered_matrix = square_matrix_mult(matrix, powered_matrix, n)\n",
    "\n",
    "for row in powered_matrix:\n",
    "    print(*row)"
   ]
  },
  {
   "cell_type": "markdown",
   "id": "118f62b9",
   "metadata": {},
   "source": [
    "## Итоговая работа на вложенные списки и матрицы"
   ]
  },
  {
   "cell_type": "markdown",
   "id": "7599ff1f",
   "metadata": {},
   "source": [
    "### 1"
   ]
  },
  {
   "cell_type": "markdown",
   "id": "602eb0f1",
   "metadata": {},
   "source": [
    "На вход программе подается строка текста, содержащая символы и число $n$. Из данной строки формируется список. Напишите программу, которая разделяет список на вложенные подсписки так, что $n$ последовательных элементов принадлежат разным подспискам."
   ]
  },
  {
   "cell_type": "code",
   "execution_count": 36,
   "id": "21d330e2",
   "metadata": {},
   "outputs": [
    {
     "name": "stdout",
     "output_type": "stream",
     "text": [
      "a b c d e f g h i j k l m n\n",
      "3\n",
      "[['a', 'd', 'g', 'j', 'm'], ['b', 'e', 'h', 'k', 'n'], ['c', 'f', 'i', 'l']]\n"
     ]
    }
   ],
   "source": [
    "list1 = [i for i in input().split()]\n",
    "n = int(input())\n",
    "\n",
    "list2 = []\n",
    "\n",
    "for i in range(n):\n",
    "    list2.append(list1[i::n])\n",
    "    \n",
    "print(list2)"
   ]
  },
  {
   "cell_type": "markdown",
   "id": "7077d536",
   "metadata": {},
   "source": [
    "### 2"
   ]
  },
  {
   "cell_type": "markdown",
   "id": "68400a54",
   "metadata": {},
   "source": [
    "Напишите программу, которая выводит максимальный элемент в заштрихованной области квадратной матрицы.\n",
    "\n",
    "<img src=\"https://ucarecdn.com/a47324ef-cb97-41e8-a2de-db8c35c9203e/\" width=\"300\" height=\"300\">"
   ]
  },
  {
   "cell_type": "code",
   "execution_count": 38,
   "id": "b65cac39",
   "metadata": {},
   "outputs": [
    {
     "name": "stdout",
     "output_type": "stream",
     "text": [
      "3\n",
      "1 4 5\n",
      "6 7 8\n",
      "1 1 6\n",
      "8\n"
     ]
    }
   ],
   "source": [
    "n = int(input())\n",
    "\n",
    "matrix = []\n",
    "\n",
    "for _ in range(n):\n",
    "    row = [int(i) for i in input().split()]\n",
    "    matrix.append(row)\n",
    "    \n",
    "l = []    \n",
    "    \n",
    "for i in range(n):\n",
    "    for j in range(n):\n",
    "        if i >= n - 1 - j:\n",
    "            l.append(matrix[i][j])\n",
    "print(max(l))"
   ]
  },
  {
   "cell_type": "markdown",
   "id": "88eac0aa",
   "metadata": {},
   "source": [
    "### 3"
   ]
  },
  {
   "cell_type": "markdown",
   "id": "39ea28e7",
   "metadata": {},
   "source": [
    "Напишите программу, которая транспонирует квадратную матрицу. На вход программе подаётся натуральное число $n$ — количество строк и столбцов в матрице, затем элементы матрицы.\n",
    "\n",
    "Транспонированная матрица — матрица, полученная из исходной матрицы заменой строк на столбцы."
   ]
  },
  {
   "cell_type": "code",
   "execution_count": 41,
   "id": "75936333",
   "metadata": {},
   "outputs": [
    {
     "name": "stdout",
     "output_type": "stream",
     "text": [
      "3\n",
      "1 2 3\n",
      "4 5 6\n",
      "7 8 9\n",
      "1 4 7 \n",
      "2 5 8 \n",
      "3 6 9 \n"
     ]
    }
   ],
   "source": [
    "n = int(input())\n",
    "matrix = [[int(i) for i in input().split()] for row in range(n)]\n",
    "\n",
    "for i in range(n):\n",
    "    for j in range(n):\n",
    "        print(matrix[j][i], end=' ')\n",
    "    print()"
   ]
  },
  {
   "cell_type": "markdown",
   "id": "a1f09c0e",
   "metadata": {},
   "source": [
    "### 4"
   ]
  },
  {
   "cell_type": "markdown",
   "id": "71e61da0",
   "metadata": {},
   "source": [
    "На вход программе подается нечетное натуральное число $n$. Напишите программу, которая создает матрицу размером $n×n$ заполнив её символами `.` . Затем заполните символами `*` среднюю строку и столбец матрицы, главную и побочную диагональ матрицы. Выведите полученную матрицу на экран, разделяя элементы пробелами.\n",
    "\n",
    "На вход программе подается нечетное натуральное число $n,(n≥3)$ — количество строк и столбцов в матрице."
   ]
  },
  {
   "cell_type": "code",
   "execution_count": 50,
   "id": "7365eb2b",
   "metadata": {},
   "outputs": [
    {
     "name": "stdout",
     "output_type": "stream",
     "text": [
      "11\n",
      "* . . . . * . . . . *\n",
      ". * . . . * . . . * .\n",
      ". . * . . * . . * . .\n",
      ". . . * . * . * . . .\n",
      ". . . . * * * . . . .\n",
      "* * * * * * * * * * *\n",
      ". . . . * * * . . . .\n",
      ". . . * . * . * . . .\n",
      ". . * . . * . . * . .\n",
      ". * . . . * . . . * .\n",
      "* . . . . * . . . . *\n"
     ]
    }
   ],
   "source": [
    "n = int(input())\n",
    "matrix = [['.'] * n for row in range(n)]\n",
    "\n",
    "for i in range(n):\n",
    "    for j in range(n):\n",
    "        if i == n // 2 or j == n // 2 or i == j or i == n - 1 - j:\n",
    "            matrix[i][j] = '*'\n",
    "            \n",
    "for row in matrix:\n",
    "    print(*row)"
   ]
  },
  {
   "cell_type": "markdown",
   "id": "682f8edf",
   "metadata": {},
   "source": [
    "### 5"
   ]
  },
  {
   "cell_type": "markdown",
   "id": "8db43032",
   "metadata": {},
   "source": [
    "Напишите программу проверки симметричности квадратной матрицы относительно побочной диагонали.\n",
    "\n",
    "На вход программе подаётся натуральное число $n$ — количество строк и столбцов в матрице, затем элементы матрицы. Программа должна вывести `YES`, если матрица симметрична, и слово `NO` в противном случае."
   ]
  },
  {
   "cell_type": "code",
   "execution_count": 56,
   "id": "d9465383",
   "metadata": {},
   "outputs": [
    {
     "name": "stdout",
     "output_type": "stream",
     "text": [
      "2\n",
      "4 2\n",
      "3 4\n",
      "YES\n"
     ]
    }
   ],
   "source": [
    "n = int(input())\n",
    "matrix = [[int(i) for i in input().split()] for row in range(n)]\n",
    "\n",
    "flag = True\n",
    "for i in range(n):\n",
    "    for j in range(n):\n",
    "        if matrix[i][j] != matrix[n-1-j][n-1-i]:\n",
    "            flag = False\n",
    "            break\n",
    "            \n",
    "print('YES' if flag else 'NO')"
   ]
  },
  {
   "cell_type": "markdown",
   "id": "964469c5",
   "metadata": {},
   "source": [
    "### 6"
   ]
  },
  {
   "cell_type": "markdown",
   "id": "8681686a",
   "metadata": {},
   "source": [
    "Латинским квадратом порядка $n$ называется квадратная матрица размером $n×n$, каждая строка и каждый столбец которой содержат все числа от $1$ до $n$. Напишите программу, которая проверяет, является ли заданная квадратная матрица латинским квадратом.\n",
    "\n",
    "На вход программе подаётся натуральное число $n$ — количество строк и столбцов в матрице, затем элементы матрицы: $n$ строк, по $n$ чисел в каждой, разделённые пробелами. Программа должна вывести слово `YES`, если матрица является латинским квадратом, и слово `NO`, если не является."
   ]
  },
  {
   "cell_type": "code",
   "execution_count": 70,
   "id": "df93f648",
   "metadata": {},
   "outputs": [
    {
     "name": "stdout",
     "output_type": "stream",
     "text": [
      "3\n",
      "1 2 3\n",
      "2 3 1\n",
      "2 3 1\n",
      "NO\n"
     ]
    }
   ],
   "source": [
    "n = int(input())\n",
    "matrix = [[int(i) for i in input().split()] for row in range(n)]\n",
    "\n",
    "flag = True\n",
    "\n",
    "for i in range(n):\n",
    "    l = [int(i) for i in range(1, n+1)]\n",
    "    for j in range(n):\n",
    "        if matrix[i][j] in l:          # проверка строк\n",
    "            l.remove(matrix[i][j])\n",
    "    if l != []:\n",
    "        flag = False\n",
    "        break\n",
    "        \n",
    "for i in range(n):\n",
    "    l = [int(i) for i in range(1, n+1)]\n",
    "    for j in range(n):\n",
    "        if matrix[j][i] in l:         # проверка столбцов\n",
    "            l.remove(matrix[j][i])\n",
    "    if l != []:\n",
    "        flag = False\n",
    "        break\n",
    "            \n",
    "print('YES' if flag else 'NO')"
   ]
  },
  {
   "cell_type": "markdown",
   "id": "0249f6ee",
   "metadata": {},
   "source": [
    "### 7"
   ]
  },
  {
   "cell_type": "markdown",
   "id": "1a0345f7",
   "metadata": {},
   "source": [
    "На шахматной доске $8×8$ стоит ферзь. Отметьте положение ферзя на доске и все клетки, которые бьет ферзь. Клетку, где стоит ферзь, отметьте буквой `Q`, клетки, которые бьет ферзь, отметьте символами `*`, остальные клетки заполните точками.\n",
    "\n",
    "На вход программе подаются координаты ферзя на шахматной доске в шахматной нотации (то есть в виде e4, где сначала записывается номер столбца (буква от a до h, слева направо), затем номер строки (цифра от 1 до 8, снизу вверх)). Программа должна вывести на экран изображение доски, разделяя элементы пробелами."
   ]
  },
  {
   "cell_type": "code",
   "execution_count": 90,
   "id": "f4221a57",
   "metadata": {},
   "outputs": [
    {
     "name": "stdout",
     "output_type": "stream",
     "text": [
      "d6\n",
      ". * . * . * . .\n",
      ". . * * * . . .\n",
      "* * * Q * * * *\n",
      ". . * * * . . .\n",
      ". * . * . * . .\n",
      "* . . * . . * .\n",
      ". . . * . . . *\n",
      ". . . * . . . .\n"
     ]
    }
   ],
   "source": [
    "board = [['.'] * 8 for row in range(8)]                    # создаем доску-матрицу из точек\n",
    "coord = [i for i in input()]                               # вводим координаты типа e4\n",
    "coord[0], coord[1] = 8 - int(coord[1]), ord(coord[0]) - 97 # координаты передать в лист формата [i, j]\n",
    "\n",
    "for row in range(8):\n",
    "    for col in range(8):\n",
    "        if (coord[0] == row and coord[1] != col) or (coord[0] != row and coord[1] == col):\n",
    "            board[row][col] = '*'                          # отмечаем * вертикаль и горизонталь - возможные ходы ферзя\n",
    "        elif abs(row - coord[0]) == abs(col - coord[1]):\n",
    "            board[row][col] = '*'                          # отмечаем * диагонали - возможные ходы ферзя \n",
    "\n",
    "board[coord[0]][coord[1]] = 'Q'                            # отмечаем самого ферзя\n",
    "\n",
    "for row in board:\n",
    "    print(*row)"
   ]
  },
  {
   "cell_type": "markdown",
   "id": "6627d405",
   "metadata": {},
   "source": [
    "### 8"
   ]
  },
  {
   "cell_type": "markdown",
   "id": "1694ae74",
   "metadata": {},
   "source": [
    "На вход программе подается натуральное число $n$. Напишите программу, которая создает матрицу размером $n×n$ и заполняет её по следующему правилу:\n",
    "\n",
    "- на главной диагонали на месте каждого элемента должно стоять число $0$;\n",
    "- на двух диагоналях, прилегающих к главной, число $1$;\n",
    "- на следующих двух диагоналях число $2$, и т.д."
   ]
  },
  {
   "cell_type": "code",
   "execution_count": 96,
   "id": "9c16dcc4",
   "metadata": {},
   "outputs": [
    {
     "name": "stdout",
     "output_type": "stream",
     "text": [
      "5\n",
      "0 1 2 3 4\n",
      "1 0 1 2 3\n",
      "2 1 0 1 2\n",
      "3 2 1 0 1\n",
      "4 3 2 1 0\n"
     ]
    }
   ],
   "source": [
    "n = int(input())\n",
    "matrix = [[int(i) for i in range(n)] for row in range(n)]\n",
    "\n",
    "for i in range(n):\n",
    "    for j in range(n):\n",
    "        matrix[i][j] = abs(i - j)\n",
    "        \n",
    "for row in matrix:\n",
    "    print(*row)"
   ]
  }
 ],
 "metadata": {
  "kernelspec": {
   "display_name": "Python 3 (ipykernel)",
   "language": "python",
   "name": "python3"
  },
  "language_info": {
   "codemirror_mode": {
    "name": "ipython",
    "version": 3
   },
   "file_extension": ".py",
   "mimetype": "text/x-python",
   "name": "python",
   "nbconvert_exporter": "python",
   "pygments_lexer": "ipython3",
   "version": "3.9.13"
  },
  "toc": {
   "base_numbering": 1,
   "nav_menu": {},
   "number_sections": true,
   "sideBar": true,
   "skip_h1_title": true,
   "title_cell": "Table of Contents",
   "title_sidebar": "Contents",
   "toc_cell": true,
   "toc_position": {},
   "toc_section_display": true,
   "toc_window_display": false
  }
 },
 "nbformat": 4,
 "nbformat_minor": 5
}
