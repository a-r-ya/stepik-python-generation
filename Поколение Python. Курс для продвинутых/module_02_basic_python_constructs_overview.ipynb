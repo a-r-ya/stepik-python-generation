{
 "cells": [
  {
   "cell_type": "markdown",
   "id": "be530ad5",
   "metadata": {
    "toc": true
   },
   "source": [
    "<h1>Table of Contents<span class=\"tocSkip\"></span></h1>\n",
    "<div class=\"toc\"><ul class=\"toc-item\"><li><span><a href=\"#Часть-1\" data-toc-modified-id=\"Часть-1-1\"><span class=\"toc-item-num\">1&nbsp;&nbsp;</span>Часть 1</a></span><ul class=\"toc-item\"><li><span><a href=\"#1\" data-toc-modified-id=\"1-1.1\"><span class=\"toc-item-num\">1.1&nbsp;&nbsp;</span>1</a></span></li><li><span><a href=\"#2\" data-toc-modified-id=\"2-1.2\"><span class=\"toc-item-num\">1.2&nbsp;&nbsp;</span>2</a></span></li><li><span><a href=\"#3\" data-toc-modified-id=\"3-1.3\"><span class=\"toc-item-num\">1.3&nbsp;&nbsp;</span>3</a></span></li><li><span><a href=\"#4\" data-toc-modified-id=\"4-1.4\"><span class=\"toc-item-num\">1.4&nbsp;&nbsp;</span>4</a></span></li><li><span><a href=\"#5\" data-toc-modified-id=\"5-1.5\"><span class=\"toc-item-num\">1.5&nbsp;&nbsp;</span>5</a></span></li><li><span><a href=\"#6\" data-toc-modified-id=\"6-1.6\"><span class=\"toc-item-num\">1.6&nbsp;&nbsp;</span>6</a></span></li><li><span><a href=\"#7\" data-toc-modified-id=\"7-1.7\"><span class=\"toc-item-num\">1.7&nbsp;&nbsp;</span>7</a></span></li><li><span><a href=\"#8\" data-toc-modified-id=\"8-1.8\"><span class=\"toc-item-num\">1.8&nbsp;&nbsp;</span>8</a></span></li></ul></li><li><span><a href=\"#Часть-2\" data-toc-modified-id=\"Часть-2-2\"><span class=\"toc-item-num\">2&nbsp;&nbsp;</span>Часть 2</a></span><ul class=\"toc-item\"><li><span><a href=\"#1\" data-toc-modified-id=\"1-2.1\"><span class=\"toc-item-num\">2.1&nbsp;&nbsp;</span>1</a></span></li><li><span><a href=\"#2\" data-toc-modified-id=\"2-2.2\"><span class=\"toc-item-num\">2.2&nbsp;&nbsp;</span>2</a></span></li><li><span><a href=\"#3\" data-toc-modified-id=\"3-2.3\"><span class=\"toc-item-num\">2.3&nbsp;&nbsp;</span>3</a></span></li><li><span><a href=\"#4\" data-toc-modified-id=\"4-2.4\"><span class=\"toc-item-num\">2.4&nbsp;&nbsp;</span>4</a></span></li><li><span><a href=\"#5\" data-toc-modified-id=\"5-2.5\"><span class=\"toc-item-num\">2.5&nbsp;&nbsp;</span>5</a></span></li><li><span><a href=\"#6\" data-toc-modified-id=\"6-2.6\"><span class=\"toc-item-num\">2.6&nbsp;&nbsp;</span>6</a></span></li><li><span><a href=\"#7\" data-toc-modified-id=\"7-2.7\"><span class=\"toc-item-num\">2.7&nbsp;&nbsp;</span>7</a></span></li><li><span><a href=\"#8\" data-toc-modified-id=\"8-2.8\"><span class=\"toc-item-num\">2.8&nbsp;&nbsp;</span>8</a></span></li><li><span><a href=\"#9\" data-toc-modified-id=\"9-2.9\"><span class=\"toc-item-num\">2.9&nbsp;&nbsp;</span>9</a></span></li><li><span><a href=\"#10\" data-toc-modified-id=\"10-2.10\"><span class=\"toc-item-num\">2.10&nbsp;&nbsp;</span>10</a></span></li><li><span><a href=\"#11\" data-toc-modified-id=\"11-2.11\"><span class=\"toc-item-num\">2.11&nbsp;&nbsp;</span>11</a></span></li></ul></li></ul></div>"
   ]
  },
  {
   "cell_type": "markdown",
   "id": "4afb50c5",
   "metadata": {},
   "source": [
    "# Повторяем основные конструкции языка Python"
   ]
  },
  {
   "cell_type": "markdown",
   "id": "d584777a",
   "metadata": {},
   "source": [
    "## Часть 1"
   ]
  },
  {
   "cell_type": "markdown",
   "id": "748754fd",
   "metadata": {},
   "source": [
    "### 1"
   ]
  },
  {
   "cell_type": "markdown",
   "id": "6ee69b44",
   "metadata": {},
   "source": [
    "На вход программе подаются два целых числа $a$ и $b$. Напишите программу, которая выводит:\n",
    "\n",
    "* сумму чисел $a$ и $b$;\n",
    "* разность чисел $a$ и $b$;\n",
    "* произведение чисел $a$ и $b$;\n",
    "* частное чисел $a$ и $b$;\n",
    "* целую часть от деления числа $a$ на $b$;\n",
    "* остаток от деления числа $a$ на $b$;\n",
    "* корень квадратный из суммы их $10$-х степеней: $\\sqrt{a^{10} + b^{10}}$.\n",
    "\n",
    "На вход программе подаются два целых числа $a$ и $b$, $b \\neq 0$, каждое на отдельной строке."
   ]
  },
  {
   "cell_type": "code",
   "execution_count": 7,
   "id": "23a0f61d",
   "metadata": {},
   "outputs": [
    {
     "name": "stdout",
     "output_type": "stream",
     "text": [
      "3\n",
      "8\n",
      "11\n",
      "-5\n",
      "24\n",
      "0.375\n",
      "0\n",
      "3\n",
      "32768.90100384814\n"
     ]
    }
   ],
   "source": [
    "a, b = int(input()), int(input())\n",
    "\n",
    "from math import sqrt\n",
    "s = a + b\n",
    "d = a - b\n",
    "p = a * b\n",
    "q = a / b\n",
    "f = a // b\n",
    "r = a % b\n",
    "rs = sqrt(a**10 + b**10)\n",
    "print(s, d, p, q, f, r, rs, sep='\\n')"
   ]
  },
  {
   "cell_type": "markdown",
   "id": "b9ea728c",
   "metadata": {},
   "source": [
    "### 2"
   ]
  },
  {
   "cell_type": "markdown",
   "id": "a5dd60b8",
   "metadata": {},
   "source": [
    "Напишите программу для вычисления и оценки индекса массы тела (ИМТ) человека. ИМТ показывает весит человек больше или меньше нормы для своего роста. ИМТ человека рассчитывают по формуле:\n",
    "\n",
    "ИМТ = $\\dfrac{масса \\, (кг)}{рост(м) \\times рост(м)}$,\n",
    "\n",
    "где масса измеряется в килограммах, а рост — в метрах.\n",
    "\n",
    "Масса человека считается оптимальной, если его ИМТ находится между $18.5$ и $25$. Если ИМТ меньше $18.5$, то считается, что человек весит ниже нормы. Если значение ИМТ больше $25$, то считается, что человек весит больше нормы.\n",
    "\n",
    "Программа должна вывести \"Оптимальная масса\", если ИМТ находится между $18.5$ и $25$ (включительно). \"Недостаточная масса\", если ИМТ меньше $18.5$ и \"Избыточная масса\", если значение ИМТ больше $25$."
   ]
  },
  {
   "cell_type": "code",
   "execution_count": 16,
   "id": "0accb0a9",
   "metadata": {},
   "outputs": [
    {
     "name": "stdout",
     "output_type": "stream",
     "text": [
      "65\n",
      "1.75\n",
      "Оптимальная масса\n"
     ]
    }
   ],
   "source": [
    "weight, height = float(input()), float(input())\n",
    "bmi = weight / (height)**2\n",
    "if bmi < 18.5:\n",
    "    print(\"Недостаточная масса\")\n",
    "elif 18.5 <= bmi <= 25:\n",
    "    print(\"Оптимальная масса\")\n",
    "else:\n",
    "    print(\"Избыточная масса\")"
   ]
  },
  {
   "cell_type": "markdown",
   "id": "b8cf9297",
   "metadata": {},
   "source": [
    "### 3"
   ]
  },
  {
   "cell_type": "markdown",
   "id": "5b5c32a1",
   "metadata": {},
   "source": [
    "Дана строка текста. Напишите программу для подсчета стоимости строки, исходя из того, что один любой символ (в том числе пробел) стоит $60$ копеек. Ответ дайте в рублях и копейках в соответствии с примерами."
   ]
  },
  {
   "cell_type": "code",
   "execution_count": 20,
   "id": "fa5248ff",
   "metadata": {},
   "outputs": [
    {
     "name": "stdout",
     "output_type": "stream",
     "text": [
      "Привет, как дела?!\n",
      "10 р. 80 коп.\n"
     ]
    }
   ],
   "source": [
    "string = input()\n",
    "cost = 0\n",
    "for c in string:\n",
    "    cost += 60\n",
    "print(f\"{cost // 100} р. {cost % 100} коп.\")"
   ]
  },
  {
   "cell_type": "markdown",
   "id": "87f6e36b",
   "metadata": {},
   "source": [
    "### 4"
   ]
  },
  {
   "cell_type": "markdown",
   "id": "ffdcc67d",
   "metadata": {},
   "source": [
    "Дана строка, состоящая из слов, разделенных пробелами. Напишите программу, которая подсчитывает количество слов в этой строке."
   ]
  },
  {
   "cell_type": "code",
   "execution_count": 23,
   "id": "d6c9f39a",
   "metadata": {},
   "outputs": [
    {
     "name": "stdout",
     "output_type": "stream",
     "text": [
      "The future belongs to those who believe in beauty of their dreams\n",
      "12\n"
     ]
    }
   ],
   "source": [
    "print(len(input().split()))"
   ]
  },
  {
   "cell_type": "markdown",
   "id": "9f2e499b",
   "metadata": {},
   "source": [
    "### 5"
   ]
  },
  {
   "cell_type": "markdown",
   "id": "3c5d51d7",
   "metadata": {},
   "source": [
    "| Год\t| Животное |\n",
    "| ----------- | ----------- |\n",
    "2000 |\tДракон\n",
    "2001 |\tЗмея\n",
    "2002 |\tЛошадь\n",
    "2003 |\tОвца\n",
    "2004 |\tОбезьяна\n",
    "2005 |\tПетух\n",
    "2006 |\tСобака\n",
    "2007 |\tСвинья\n",
    "2008 |\tКрыса\n",
    "2009 |\tБык\n",
    "2010 |\tТигр\n",
    "2011 |\tЗаяц"
   ]
  },
  {
   "cell_type": "markdown",
   "id": "2a37e1ba",
   "metadata": {},
   "source": [
    "Напишите программу, которая считывает год и отображает название связанного с ним животного. Ваша программа должна корректно работать с любым годом, не только теми, что перечислены в таблице."
   ]
  },
  {
   "cell_type": "code",
   "execution_count": 24,
   "id": "939bb5dc",
   "metadata": {},
   "outputs": [
    {
     "name": "stdout",
     "output_type": "stream",
     "text": [
      "2022\n",
      "Тигр\n"
     ]
    }
   ],
   "source": [
    "animals = [\"Обезьяна\", \"Петух\", \"Собака\", \"Свинья\", \"Крыса\", \"Бык\", \"Тигр\", \"Заяц\", \"Дракон\", \"Змея\", \"Лошадь\", \"Овца\"]\n",
    "year = int(input())\n",
    "print(animals[year % 12])"
   ]
  },
  {
   "cell_type": "markdown",
   "id": "72d059c7",
   "metadata": {},
   "source": [
    "### 6"
   ]
  },
  {
   "cell_type": "markdown",
   "id": "6a3f54f9",
   "metadata": {},
   "source": [
    "Дано пятизначное или шестизначное натуральное число. Напишите программу, которая изменит порядок его последних пяти цифр на обратный."
   ]
  },
  {
   "cell_type": "code",
   "execution_count": 34,
   "id": "f194a8c8",
   "metadata": {},
   "outputs": [
    {
     "name": "stdout",
     "output_type": "stream",
     "text": [
      "123456\n",
      "165432\n"
     ]
    }
   ],
   "source": [
    "num = input().lstrip('0')\n",
    "if len(num) == 6:\n",
    "    print(num[0] + num[:-6:-1])\n",
    "else:\n",
    "    print(int(num[::-1]))"
   ]
  },
  {
   "cell_type": "markdown",
   "id": "b1fa5e46",
   "metadata": {},
   "source": [
    "### 7"
   ]
  },
  {
   "cell_type": "markdown",
   "id": "423ef347",
   "metadata": {},
   "source": [
    "На вход программе подаётся натуральное число. Напишите программу, которая вставляет в заданное число запятые в соответствии со стандартным американским соглашением о запятых в больших числах.\n",
    "\n",
    "На вход программе подаётся натуральное число $n$ \\, $(0 < n < 10^{100})$."
   ]
  },
  {
   "cell_type": "code",
   "execution_count": 47,
   "id": "a36d5479",
   "metadata": {},
   "outputs": [
    {
     "name": "stdout",
     "output_type": "stream",
     "text": [
      "2598654\n",
      "2,598,654\n"
     ]
    }
   ],
   "source": [
    "number = list(input()[::-1])\n",
    "three, result = 0, ''\n",
    "for i in number:\n",
    "    result += i\n",
    "    three += 1\n",
    "    if three == 3:\n",
    "        result += ','\n",
    "        three = 0\n",
    "print(result[::-1].lstrip(','))"
   ]
  },
  {
   "cell_type": "markdown",
   "id": "658f7a0d",
   "metadata": {},
   "source": [
    "### 8"
   ]
  },
  {
   "cell_type": "markdown",
   "id": "80c2f02d",
   "metadata": {},
   "source": [
    "$n$ человек, пронумерованных числами от $1$ до $n$, стоят в кругу. Они начинают считаться, каждый $k$-й по счету человек выбывает из круга, после чего счет продолжается со следующего за ним человека. Напишите программу, определяющую номер человека, который останется в кругу последним."
   ]
  },
  {
   "cell_type": "code",
   "execution_count": 48,
   "id": "895d7d58",
   "metadata": {},
   "outputs": [
    {
     "name": "stdout",
     "output_type": "stream",
     "text": [
      "5\n",
      "2\n",
      "3\n"
     ]
    }
   ],
   "source": [
    "n = int(input())\n",
    "k = int(input())\n",
    " \n",
    "res = 0\n",
    "for i in range(1, n+1):\n",
    "    res = (res + k) % i\n",
    "print(res + 1)"
   ]
  },
  {
   "cell_type": "markdown",
   "id": "d34084b6",
   "metadata": {},
   "source": [
    "## Часть 2"
   ]
  },
  {
   "cell_type": "markdown",
   "id": "33eb2215",
   "metadata": {},
   "source": [
    "### 1"
   ]
  },
  {
   "cell_type": "markdown",
   "id": "cf931bf8",
   "metadata": {},
   "source": [
    "Дан набор точек на координатной плоскости. Необходимо подсчитать и вывести количество точек, лежащих в каждой координатной четверти.\n",
    "\n",
    "<img src=\"https://ucarecdn.com/48a2a71b-636d-499a-ad55-764e6b6ac7ba/\" width=\"300\" height=\"300\">"
   ]
  },
  {
   "cell_type": "code",
   "execution_count": 49,
   "id": "8084fb14",
   "metadata": {},
   "outputs": [
    {
     "name": "stdout",
     "output_type": "stream",
     "text": [
      "4\n",
      "0 -1\n",
      "1 2\n",
      "0 9\n",
      "-9 -5\n",
      "Первая четверть: 1\n",
      "Вторая четверть: 0\n",
      "Третья четверть: 1\n",
      "Четвертая четверть: 0\n"
     ]
    }
   ],
   "source": [
    "first, second, third, fourth = 0, 0, 0, 0\n",
    "for coord in range(int(input())):\n",
    "    dot = input().split()\n",
    "    x, y = int(dot[0]), int(dot[1])\n",
    "    if x > 0 and y > 0:\n",
    "        first += 1\n",
    "    elif x < 0 and y > 0:\n",
    "        second += 1\n",
    "    elif x < 0 and y < 0:\n",
    "        third += 1\n",
    "    elif x > 0 and y < 0:\n",
    "        fourth += 1\n",
    "print(f\"Первая четверть: {first}\")\n",
    "print(f\"Вторая четверть: {second}\")\n",
    "print(f\"Третья четверть: {third}\")\n",
    "print(f\"Четвертая четверть: {fourth}\")"
   ]
  },
  {
   "cell_type": "markdown",
   "id": "a017555e",
   "metadata": {},
   "source": [
    "### 2"
   ]
  },
  {
   "cell_type": "markdown",
   "id": "aeb861ab",
   "metadata": {},
   "source": [
    "На вход программе подается строка текста из натуральных чисел. Из неё формируется список чисел. Напишите программу подсчета количества чисел, которые больше предшествующего им в этом списке числа, то есть, стоят вслед за меньшим числом. "
   ]
  },
  {
   "cell_type": "code",
   "execution_count": 51,
   "id": "4b16313c",
   "metadata": {},
   "outputs": [
    {
     "name": "stdout",
     "output_type": "stream",
     "text": [
      "1 1 3 2 2 1 1 1 1\n",
      "1\n"
     ]
    }
   ],
   "source": [
    "numbers = list(map(int, input().split()))\n",
    "counter = 0\n",
    "for i in range(1, len(numbers)):\n",
    "    if numbers[i] > numbers[i - 1]:\n",
    "        counter += 1\n",
    "print(counter)"
   ]
  },
  {
   "cell_type": "markdown",
   "id": "16b162c7",
   "metadata": {},
   "source": [
    "### 3"
   ]
  },
  {
   "cell_type": "markdown",
   "id": "8b970f66",
   "metadata": {},
   "source": [
    "На вход программе подается строка текста из натуральных чисел. Из элементов строки формируется список чисел. Напишите программу, которая меняет местами соседние элементы списка (`a[0]` c `a[1]`, `a[2]` c `a[3]` и т.д.). Если в списке нечетное количество элементов, то последний остается на своем месте."
   ]
  },
  {
   "cell_type": "code",
   "execution_count": 55,
   "id": "9140c071",
   "metadata": {},
   "outputs": [
    {
     "name": "stdout",
     "output_type": "stream",
     "text": [
      "1 2 3 4 5\n",
      "2 1 4 3 5\n"
     ]
    }
   ],
   "source": [
    "numbers = list(map(int, input().split()))\n",
    "for i in range(0, len(numbers), 2):\n",
    "    if i < len(numbers) - 1:\n",
    "        numbers[i], numbers[i + 1] = numbers[i + 1], numbers[i]\n",
    "print(*numbers)"
   ]
  },
  {
   "cell_type": "markdown",
   "id": "9f1d0e3e",
   "metadata": {},
   "source": [
    "### 4"
   ]
  },
  {
   "cell_type": "markdown",
   "id": "3d0ffd64",
   "metadata": {},
   "source": [
    "На вход программе подается строка текста из натуральных чисел. Из элементов строки формируется список чисел. Напишите программу циклического сдвига элементов списка направо, когда последний элемент становится первым, а остальные сдвигаются на одну позицию вперед, в сторону увеличения индексов."
   ]
  },
  {
   "cell_type": "code",
   "execution_count": 60,
   "id": "acd6bc1d",
   "metadata": {},
   "outputs": [
    {
     "name": "stdout",
     "output_type": "stream",
     "text": [
      "1 2 3 4 5\n",
      "5 1 2 3 4\n"
     ]
    }
   ],
   "source": [
    "numbers = list(map(int, input().split()))\n",
    "print(numbers[-1], *numbers[0:-1:])"
   ]
  },
  {
   "cell_type": "markdown",
   "id": "fbb7032c",
   "metadata": {},
   "source": [
    "### 5"
   ]
  },
  {
   "cell_type": "markdown",
   "id": "88c7506e",
   "metadata": {},
   "source": [
    "На вход программе подается строка текста, содержащая натуральные числа, расположенные по неубыванию. Из строки формируется список чисел. Напишите программу для подсчета количества разных элементов в списке."
   ]
  },
  {
   "cell_type": "code",
   "execution_count": 64,
   "id": "00e53bf9",
   "metadata": {},
   "outputs": [
    {
     "name": "stdout",
     "output_type": "stream",
     "text": [
      "2 2 5 5 5 5 8 10 10\n",
      "4\n"
     ]
    }
   ],
   "source": [
    "numbers = input().split()\n",
    "set = []\n",
    "for i in range(len(numbers)):\n",
    "    if numbers[i] not in set:\n",
    "        set.append(numbers[i])\n",
    "print(len(set))"
   ]
  },
  {
   "cell_type": "markdown",
   "id": "6f039a30",
   "metadata": {},
   "source": [
    "### 6"
   ]
  },
  {
   "cell_type": "markdown",
   "id": "990f5034",
   "metadata": {},
   "source": [
    "Напишите программу для определения, является ли число произведением двух чисел из данного набора, выводящую результат в виде ответа «ДА» или «НЕТ».\n",
    "\n",
    "В первой строке подаётся число $n(0<n<1000)$ – количество чисел в наборе. В последующих $n$ строках вводятся целые числа, составляющие набор (могут повторяться). Затем следует целое число, которое является или не является произведением двух каких-то чисел из набора."
   ]
  },
  {
   "cell_type": "code",
   "execution_count": 68,
   "id": "9219ecf8",
   "metadata": {},
   "outputs": [
    {
     "name": "stdout",
     "output_type": "stream",
     "text": [
      "4\n",
      "23\n",
      "4\n",
      "77\n",
      "4\n",
      "16\n",
      "ДА\n"
     ]
    }
   ],
   "source": [
    "l, flag = [], False\n",
    "for i in range(int(input())):\n",
    "    number = int(input())\n",
    "    l.append(number)\n",
    "lastnum = int(input())\n",
    "for e in range(len(l)):\n",
    "    for j in range(len(l)):\n",
    "        if e != j:\n",
    "            if int(l[e]) * int(l[j]) == lastnum:\n",
    "                flag = True\n",
    "                break\n",
    "print('ДА' if flag == True else 'НЕТ')"
   ]
  },
  {
   "cell_type": "markdown",
   "id": "7b1e4dd5",
   "metadata": {},
   "source": [
    "### 7"
   ]
  },
  {
   "cell_type": "markdown",
   "id": "ae113089",
   "metadata": {},
   "source": [
    "Тимур и Руслан пытаются разделить фронт работы по курсу \"Python для профессионалов\". Для этого они решили сыграть в камень, ножницы и бумагу. Помогите ребятам бросить честный жребий и определить, кто будет делать очередной модуль нового курса."
   ]
  },
  {
   "cell_type": "code",
   "execution_count": 69,
   "id": "91bd49aa",
   "metadata": {},
   "outputs": [
    {
     "name": "stdout",
     "output_type": "stream",
     "text": [
      "бумага\n",
      "камень\n",
      "Тимур\n"
     ]
    }
   ],
   "source": [
    "timur, ruslan = input(), input()\n",
    "if timur == ruslan:\n",
    "    print('ничья')\n",
    "elif timur == 'камень':\n",
    "    print('Тимур' if ruslan == 'ножницы' else 'Руслан')\n",
    "elif timur == 'ножницы':\n",
    "    print('Тимур' if ruslan == 'бумага' else 'Руслан')\n",
    "elif timur == 'бумага':\n",
    "    print('Тимур' if ruslan == 'камень' else 'Руслан')"
   ]
  },
  {
   "cell_type": "markdown",
   "id": "784b1432",
   "metadata": {},
   "source": [
    "### 8"
   ]
  },
  {
   "cell_type": "markdown",
   "id": "18e81538",
   "metadata": {},
   "source": [
    "Проиграв $10$ раз Тимуру, Руслан понял, что так дело дальше не пойдет, и решил усложнить игру. Теперь Тимур и Руслан играют в игру Камень, ножницы, бумага, ящерица, Спок. Помогите ребятам вновь бросить честный жребий и определить, кто будет делать следующий модуль в новом курсе.\n",
    "\n",
    "Правила игры стандартные: ножницы режут бумагу. Бумага заворачивает камень. Камень давит ящерицу, а ящерица травит Спока, в то время как Спок ломает ножницы, которые, в свою очередь, отрезают голову ящерице, которая ест бумагу, на которой улики против Спока. Спок испаряет камень, а камень, разумеется, затупляет ножницы."
   ]
  },
  {
   "cell_type": "markdown",
   "id": "c9e7da52",
   "metadata": {},
   "source": [
    "<img src=\"https://cs6.pikabu.ru/post_img/2015/01/04/5/1420352181_1171679051.jpg\" width=\"400\" height=\"400\">"
   ]
  },
  {
   "cell_type": "code",
   "execution_count": 75,
   "id": "66bb0555",
   "metadata": {},
   "outputs": [
    {
     "name": "stdout",
     "output_type": "stream",
     "text": [
      "Спок\n",
      "ящерица\n",
      "Руслан\n"
     ]
    }
   ],
   "source": [
    "timur, ruslan = input(), input()\n",
    "if timur == ruslan:\n",
    "    print('ничья')\n",
    "elif timur == 'камень':\n",
    "    print('Тимур' if ruslan == 'ножницы' or ruslan == 'ящерица' else 'Руслан')\n",
    "elif timur == 'ножницы':\n",
    "    print('Тимур' if ruslan == 'бумага' or ruslan == 'ящерица' else 'Руслан')\n",
    "elif timur == 'бумага':\n",
    "    print('Тимур' if ruslan == 'камень' or ruslan == 'Спок' else 'Руслан')\n",
    "elif timur == 'ящерица':\n",
    "    print('Тимур' if ruslan == 'Спок' or ruslan == 'бумага' else 'Руслан')\n",
    "elif timur == 'Спок':\n",
    "    print('Тимур' if ruslan == 'ножницы' or ruslan == 'камень' else 'Руслан')"
   ]
  },
  {
   "cell_type": "markdown",
   "id": "8b3debde",
   "metadata": {},
   "source": [
    "### 9"
   ]
  },
  {
   "cell_type": "markdown",
   "id": "2e2fb605",
   "metadata": {},
   "source": [
    "Дана строка текста, состоящая из букв русского алфавита \"О\" и \"Р\". Буква \"О\" – соответствует выпадению Орла, а буква \"Р\" – соответствует выпадению Решки. Напишите программу, которая подсчитывает наибольшее количество подряд выпавших Решек."
   ]
  },
  {
   "cell_type": "code",
   "execution_count": 79,
   "id": "eaa3fc7a",
   "metadata": {},
   "outputs": [
    {
     "name": "stdout",
     "output_type": "stream",
     "text": [
      "ОРОРОРРОРРРО\n",
      "3\n"
     ]
    }
   ],
   "source": [
    "s = input().split('О')\n",
    "print(max(map(len, s)))"
   ]
  },
  {
   "cell_type": "code",
   "execution_count": 80,
   "id": "c3a5bf62",
   "metadata": {},
   "outputs": [
    {
     "name": "stdout",
     "output_type": "stream",
     "text": [
      "ОРОРОРРОРРРО\n",
      "3\n"
     ]
    }
   ],
   "source": [
    "s = input()\n",
    "count, m = 0, 0\n",
    "for i in s:\n",
    "    if i == 'Р':\n",
    "        count += 1\n",
    "        if count > m:\n",
    "            m = count\n",
    "    elif i != 'Р':\n",
    "        count = 0\n",
    "print(m)"
   ]
  },
  {
   "cell_type": "markdown",
   "id": "b04bde0f",
   "metadata": {},
   "source": [
    "### 10"
   ]
  },
  {
   "cell_type": "markdown",
   "id": "ed636611",
   "metadata": {},
   "source": [
    "Искусственный интеллект Антон, созданный Гилфойлом, взломал сеть умных холодильников. Теперь он использует их в качестве серверов \"Пегого дудочника\". Помогите владельцу фирмы отыскать все зараженные холодильники.\n",
    "\n",
    "Для каждого холодильника существует строка с данными, состоящая из строчных букв и цифр, и если в ней присутствует слово \"anton\" (необязательно рядом стоящие буквы, главное наличие последовательности букв), то холодильник заражен и нужно вывести номер холодильника, нумерация начинается с единицы\n",
    "\n",
    "В первой строке подаётся число $n$ – количество холодильников. В последующих $n$ строках вводятся строки, содержащие латинские строчные буквы и цифры, в каждой строке от $5$ до $100$ символов.\n",
    "\n",
    "Программа должна вывести номера зараженных холодильников через пробел. Если таких холодильников нет, ничего выводить не нужно."
   ]
  },
  {
   "cell_type": "code",
   "execution_count": 82,
   "id": "e8eaf0fb",
   "metadata": {},
   "outputs": [
    {
     "name": "stdout",
     "output_type": "stream",
     "text": [
      "6\n",
      "222anton456\n",
      "a1n1t1o1n1\n",
      "v\n",
      "0000a0000n00t00000o000000\n",
      "0000a0000n00t00000o000000n\n",
      "ant0n\n",
      "1 2 5\n"
     ]
    }
   ],
   "source": [
    "viruslist, counter = [], 0\n",
    "for n in range(int(input())):\n",
    "    fridge = input().lower()\n",
    "    for c in fridge:\n",
    "        if c == 'a' and counter == 0:\n",
    "            counter += 1\n",
    "        if c == 'n' and (counter == 1 or counter == 4):\n",
    "            counter += 1\n",
    "        if c == 't' and counter == 2:\n",
    "            counter += 1\n",
    "        if c == 'o' and counter == 3:\n",
    "            counter += 1\n",
    "    if counter == 5:\n",
    "        viruslist.append(n + 1)\n",
    "    counter = 0\n",
    "print(*viruslist)"
   ]
  },
  {
   "cell_type": "markdown",
   "id": "1929ea53",
   "metadata": {},
   "source": [
    "### 11"
   ]
  },
  {
   "cell_type": "markdown",
   "id": "3b63b5ff",
   "metadata": {},
   "source": [
    "Необходимо написать программу, реализующую алгоритм написания этой песни. Алгоритм выводит в конце предложения следующую в алфавитном порядке букву, если она встречается в строке текста, а очередную строку отображает уже без этой буквы.\n",
    "\n",
    "Формат входных данных\n",
    "На вход программе подается одно слово, записанное строчными русскими буквами без буквы \"ё\"."
   ]
  },
  {
   "cell_type": "code",
   "execution_count": 22,
   "id": "5b0ffbcb",
   "metadata": {},
   "outputs": [
    {
     "name": "stdout",
     "output_type": "stream",
     "text": [
      "роскомнадзор\n",
      "роскомнадзор запретил букву а\n",
      "роскомндзор зпретил букву б\n",
      "роскомндзор зпретил укву в\n",
      "роскомндзор зпретил уку д\n",
      "роскомнзор зпретил уку е\n",
      "роскомнзор зпртил уку з\n",
      "роскомнор пртил уку и\n",
      "роскомнор пртл уку к\n",
      "росомнор пртл уу л\n",
      "росомнор прт уу м\n",
      "росонор прт уу н\n",
      "росоор прт уу о\n",
      "рср прт уу п\n",
      "рср рт уу р\n",
      "с т уу с\n",
      "т уу т\n",
      "уу у\n"
     ]
    }
   ],
   "source": [
    "word = input() + ' запретил букву'\n",
    "alpha = [chr(i) for i in range(1072, 1104)]\n",
    "\n",
    "for letter in alpha:\n",
    "    if letter in word:\n",
    "        print(word, letter)\n",
    "        word = word.replace(letter, '').replace('  ', ' ').strip()"
   ]
  }
 ],
 "metadata": {
  "kernelspec": {
   "display_name": "Python 3 (ipykernel)",
   "language": "python",
   "name": "python3"
  },
  "language_info": {
   "codemirror_mode": {
    "name": "ipython",
    "version": 3
   },
   "file_extension": ".py",
   "mimetype": "text/x-python",
   "name": "python",
   "nbconvert_exporter": "python",
   "pygments_lexer": "ipython3",
   "version": "3.9.13"
  },
  "toc": {
   "base_numbering": 1,
   "nav_menu": {},
   "number_sections": true,
   "sideBar": true,
   "skip_h1_title": true,
   "title_cell": "Table of Contents",
   "title_sidebar": "Contents",
   "toc_cell": true,
   "toc_position": {},
   "toc_section_display": true,
   "toc_window_display": false
  }
 },
 "nbformat": 4,
 "nbformat_minor": 5
}
