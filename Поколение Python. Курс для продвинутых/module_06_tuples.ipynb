{
 "cells": [
  {
   "cell_type": "markdown",
   "id": "82669ed7",
   "metadata": {
    "toc": true
   },
   "source": [
    "<h1>Table of Contents<span class=\"tocSkip\"></span></h1>\n",
    "<div class=\"toc\"><ul class=\"toc-item\"><li><span><a href=\"#Введение-в-кортежи\" data-toc-modified-id=\"Введение-в-кортежи-1\"><span class=\"toc-item-num\">1&nbsp;&nbsp;</span>Введение в кортежи</a></span></li><li><span><a href=\"#Основы-работы-с-кортежами.-Часть-1\" data-toc-modified-id=\"Основы-работы-с-кортежами.-Часть-1-2\"><span class=\"toc-item-num\">2&nbsp;&nbsp;</span>Основы работы с кортежами. Часть 1</a></span><ul class=\"toc-item\"><li><span><a href=\"#1\" data-toc-modified-id=\"1-2.1\"><span class=\"toc-item-num\">2.1&nbsp;&nbsp;</span>1</a></span></li><li><span><a href=\"#2\" data-toc-modified-id=\"2-2.2\"><span class=\"toc-item-num\">2.2&nbsp;&nbsp;</span>2</a></span></li><li><span><a href=\"#3\" data-toc-modified-id=\"3-2.3\"><span class=\"toc-item-num\">2.3&nbsp;&nbsp;</span>3</a></span></li><li><span><a href=\"#4\" data-toc-modified-id=\"4-2.4\"><span class=\"toc-item-num\">2.4&nbsp;&nbsp;</span>4</a></span></li><li><span><a href=\"#5\" data-toc-modified-id=\"5-2.5\"><span class=\"toc-item-num\">2.5&nbsp;&nbsp;</span>5</a></span></li><li><span><a href=\"#6\" data-toc-modified-id=\"6-2.6\"><span class=\"toc-item-num\">2.6&nbsp;&nbsp;</span>6</a></span></li><li><span><a href=\"#7\" data-toc-modified-id=\"7-2.7\"><span class=\"toc-item-num\">2.7&nbsp;&nbsp;</span>7</a></span></li><li><span><a href=\"#8\" data-toc-modified-id=\"8-2.8\"><span class=\"toc-item-num\">2.8&nbsp;&nbsp;</span>8</a></span></li><li><span><a href=\"#9\" data-toc-modified-id=\"9-2.9\"><span class=\"toc-item-num\">2.9&nbsp;&nbsp;</span>9</a></span></li><li><span><a href=\"#10\" data-toc-modified-id=\"10-2.10\"><span class=\"toc-item-num\">2.10&nbsp;&nbsp;</span>10</a></span></li><li><span><a href=\"#11\" data-toc-modified-id=\"11-2.11\"><span class=\"toc-item-num\">2.11&nbsp;&nbsp;</span>11</a></span></li><li><span><a href=\"#12\" data-toc-modified-id=\"12-2.12\"><span class=\"toc-item-num\">2.12&nbsp;&nbsp;</span>12</a></span></li><li><span><a href=\"#13\" data-toc-modified-id=\"13-2.13\"><span class=\"toc-item-num\">2.13&nbsp;&nbsp;</span>13</a></span></li></ul></li><li><span><a href=\"#Основы-работы-с-кортежами.-Часть-2\" data-toc-modified-id=\"Основы-работы-с-кортежами.-Часть-2-3\"><span class=\"toc-item-num\">3&nbsp;&nbsp;</span>Основы работы с кортежами. Часть 2</a></span><ul class=\"toc-item\"><li><span><a href=\"#1\" data-toc-modified-id=\"1-3.1\"><span class=\"toc-item-num\">3.1&nbsp;&nbsp;</span>1</a></span></li><li><span><a href=\"#2\" data-toc-modified-id=\"2-3.2\"><span class=\"toc-item-num\">3.2&nbsp;&nbsp;</span>2</a></span></li><li><span><a href=\"#3\" data-toc-modified-id=\"3-3.3\"><span class=\"toc-item-num\">3.3&nbsp;&nbsp;</span>3</a></span></li><li><span><a href=\"#4\" data-toc-modified-id=\"4-3.4\"><span class=\"toc-item-num\">3.4&nbsp;&nbsp;</span>4</a></span></li><li><span><a href=\"#5\" data-toc-modified-id=\"5-3.5\"><span class=\"toc-item-num\">3.5&nbsp;&nbsp;</span>5</a></span></li><li><span><a href=\"#6\" data-toc-modified-id=\"6-3.6\"><span class=\"toc-item-num\">3.6&nbsp;&nbsp;</span>6</a></span></li><li><span><a href=\"#7\" data-toc-modified-id=\"7-3.7\"><span class=\"toc-item-num\">3.7&nbsp;&nbsp;</span>7</a></span></li></ul></li></ul></div>"
   ]
  },
  {
   "cell_type": "markdown",
   "id": "5dddef4c",
   "metadata": {},
   "source": [
    "# Кортежи"
   ]
  },
  {
   "cell_type": "markdown",
   "id": "382dd64b",
   "metadata": {},
   "source": [
    "## Введение в кортежи"
   ]
  },
  {
   "cell_type": "markdown",
   "id": "b0ce7fa8",
   "metadata": {},
   "source": [
    "**Примеры**"
   ]
  },
  {
   "cell_type": "markdown",
   "id": "c89da28c",
   "metadata": {},
   "source": [
    "Списки – изменяемые коллекции, строки – неизменяемые последовательности Unicode символов. В Python имеются и неизменяемые последовательности содержащие, в отличие от строк, абсолютно произвольные данные. Такие коллекции называются кортежами (tuple, читается \"тюпл\")."
   ]
  },
  {
   "cell_type": "markdown",
   "id": "b62b6fd6",
   "metadata": {},
   "source": [
    "Для создания кортежа с единственным элементом после значения элемента ставят замыкающую запятую:"
   ]
  },
  {
   "cell_type": "code",
   "execution_count": 1,
   "id": "6a3fe211",
   "metadata": {},
   "outputs": [
    {
     "name": "stdout",
     "output_type": "stream",
     "text": [
      "<class 'tuple'>\n"
     ]
    }
   ],
   "source": [
    "my_tuple = (1,)\n",
    "print(type(my_tuple))     # <class 'tuple'>"
   ]
  },
  {
   "cell_type": "markdown",
   "id": "af197b51",
   "metadata": {},
   "source": [
    "Списки могут делать то же, что кортежи, и даже больше. Но неизменяемость кортежей обеспечивает им особые свойства:\n",
    "\n",
    "- **скорость** – кортежи быстрее работают, так как из-за неизменяемости хранятся в памяти иначе, и операции с их элементами выполняются заведомо быстрее, чем с компонентами списка. Одна из причин существования кортежей  – производительность. Обработка кортежа выполняется быстрее, чем обработка списка, поэтому кортежи удобны для обработки большого объема неизменных данных.\n",
    "- **безопасность** – неизменяемость превращает их в идеальные константы. Заданные кортежами константы делают код более читаемым и безопасным. Кроме того, в кортеже можно безопасно хранить данные, не опасаясь, что они будут случайно или преднамеренно изменены в программе."
   ]
  },
  {
   "cell_type": "code",
   "execution_count": 2,
   "id": "abfdaf62",
   "metadata": {},
   "outputs": [
    {
     "name": "stdout",
     "output_type": "stream",
     "text": [
      "<class 'tuple'>\n",
      "(25, 125, 625)\n"
     ]
    }
   ],
   "source": [
    "def get_powers(num):\n",
    "    return num**2, num**3, num**4\n",
    "result = get_powers(5)\n",
    "print(type(result))\n",
    "print(result)"
   ]
  },
  {
   "cell_type": "markdown",
   "id": "ab67384e",
   "metadata": {},
   "source": [
    "**Примечание**. Тот факт, что кортеж является неизменяемым вовсе не означает, что мы не можем поменять содержимое списка в кортеже."
   ]
  },
  {
   "cell_type": "markdown",
   "id": "4ba24f6b",
   "metadata": {},
   "source": [
    "## Основы работы с кортежами. Часть 1"
   ]
  },
  {
   "cell_type": "markdown",
   "id": "a2a21f1e",
   "metadata": {},
   "source": [
    "**Примеры**"
   ]
  },
  {
   "cell_type": "code",
   "execution_count": 4,
   "id": "6fa58ee6",
   "metadata": {},
   "outputs": [
    {
     "name": "stdout",
     "output_type": "stream",
     "text": [
      "('один', 'два', 'три')\n"
     ]
    }
   ],
   "source": [
    "str_list = ['один', 'два', 'три']\n",
    "str_tuple = tuple(str_list)\n",
    "print(str_tuple)"
   ]
  },
  {
   "cell_type": "code",
   "execution_count": 5,
   "id": "11c8a594",
   "metadata": {},
   "outputs": [
    {
     "name": "stdout",
     "output_type": "stream",
     "text": [
      "('Лев Толстой', 1827)\n",
      "('Лев Толстой', 1828)\n"
     ]
    }
   ],
   "source": [
    "writer = ('Лев Толстой', 1827)\n",
    "print(writer)\n",
    "a = list(writer)\n",
    "a[1] = 1828\n",
    "writer = tuple(a)\n",
    "print(writer)"
   ]
  },
  {
   "cell_type": "code",
   "execution_count": 6,
   "id": "929b8b30",
   "metadata": {},
   "outputs": [
    {
     "name": "stdout",
     "output_type": "stream",
     "text": [
      "5\n",
      "4\n",
      "3\n"
     ]
    }
   ],
   "source": [
    "numbers = (2, 4, 6, 8, 10)\n",
    "languages = ('Python', 'C#', 'C++', 'Java')\n",
    "\n",
    "print(len(numbers))      # выводим длину кортежа numbers\n",
    "print(len(languages))    # выводим длину кортежа languages\n",
    "\n",
    "print(len(('apple', 'banana', 'cherry')))   # выводим длину кортежа, состоящего из 3 элементов"
   ]
  },
  {
   "cell_type": "code",
   "execution_count": 7,
   "id": "3ab62323",
   "metadata": {},
   "outputs": [
    {
     "name": "stdout",
     "output_type": "stream",
     "text": [
      "Кортеж numbers содержит число 2\n"
     ]
    }
   ],
   "source": [
    "numbers = (2, 4, 6, 8, 10)\n",
    "\n",
    "if 2 in numbers:\n",
    "    print('Кортеж numbers содержит число 2')\n",
    "else:\n",
    "    print('Кортеж numbers не содержит число 2')"
   ]
  },
  {
   "cell_type": "code",
   "execution_count": 8,
   "id": "f8bd413a",
   "metadata": {},
   "outputs": [
    {
     "name": "stdout",
     "output_type": "stream",
     "text": [
      "(4, 6)\n",
      "(6, 8, 10)\n"
     ]
    }
   ],
   "source": [
    "numbers = (2, 4, 6, 8, 10)\n",
    "print(numbers[1:3])\n",
    "print(numbers[2:5])"
   ]
  },
  {
   "cell_type": "code",
   "execution_count": 9,
   "id": "55b6cce4",
   "metadata": {},
   "outputs": [
    {
     "name": "stdout",
     "output_type": "stream",
     "text": [
      "(1, 2, 3, 4, 5, 6, 7, 8)\n",
      "(7, 8, 7, 8, 7, 8)\n",
      "(0, 0, 0, 0, 0, 0, 0, 0, 0, 0)\n"
     ]
    }
   ],
   "source": [
    "print((1, 2, 3, 4) + (5, 6, 7, 8))\n",
    "print((7, 8) * 3)\n",
    "print((0,) * 10)"
   ]
  },
  {
   "cell_type": "code",
   "execution_count": 10,
   "id": "d66797df",
   "metadata": {},
   "outputs": [
    {
     "name": "stdout",
     "output_type": "stream",
     "text": [
      "(1, 2, 3, 4, 7, 8)\n",
      "(7, 8, 7, 8, 7, 8, 7, 8, 7, 8)\n"
     ]
    }
   ],
   "source": [
    "a = (1, 2, 3, 4)\n",
    "b = (7, 8)\n",
    "a += b   # добавляем к кортежу a кортеж b\n",
    "b *= 5   # повторяем кортеж b 5 раз \n",
    "\n",
    "print(a)\n",
    "print(b)"
   ]
  },
  {
   "cell_type": "code",
   "execution_count": 11,
   "id": "a227d65c",
   "metadata": {},
   "outputs": [
    {
     "name": "stdout",
     "output_type": "stream",
     "text": [
      "Сумма всех элементов кортежа = 55\n"
     ]
    }
   ],
   "source": [
    "numbers = (1, 2, 3, 4, 5, 6, 7, 8, 9, 10)\n",
    "print('Сумма всех элементов кортежа =', sum(numbers))"
   ]
  },
  {
   "cell_type": "code",
   "execution_count": 12,
   "id": "72fc0573",
   "metadata": {},
   "outputs": [
    {
     "name": "stdout",
     "output_type": "stream",
     "text": [
      "Минимальный элемент кортежа = -7\n",
      "Максимальный элемент кортежа = 3333\n"
     ]
    }
   ],
   "source": [
    "numbers = (3, 4, 10, 3333, 12, -7, -5, 4)\n",
    "print('Минимальный элемент кортежа =', min(numbers))\n",
    "print('Максимальный элемент кортежа =', max(numbers))"
   ]
  },
  {
   "cell_type": "code",
   "execution_count": 13,
   "id": "e904ca6f",
   "metadata": {},
   "outputs": [
    {
     "name": "stdout",
     "output_type": "stream",
     "text": [
      "2\n"
     ]
    }
   ],
   "source": [
    "names = ('Gvido', 'Roman' , 'Timur')\n",
    "position = names.index('Timur')\n",
    "print(position)"
   ]
  },
  {
   "cell_type": "code",
   "execution_count": 14,
   "id": "1fbeb3f0",
   "metadata": {},
   "outputs": [
    {
     "name": "stdout",
     "output_type": "stream",
     "text": [
      "3\n",
      "1\n",
      "0\n"
     ]
    }
   ],
   "source": [
    "names = ('Timur', 'Gvido', 'Roman', 'Timur', 'Anders', 'Timur')\n",
    "cnt1 = names.count('Timur')\n",
    "cnt2 = names.count('Gvido')\n",
    "cnt3 = names.count('Josef')\n",
    "\n",
    "print(cnt1)\n",
    "print(cnt2)\n",
    "print(cnt3)"
   ]
  },
  {
   "cell_type": "code",
   "execution_count": 15,
   "id": "021f72b4",
   "metadata": {},
   "outputs": [
    {
     "name": "stdout",
     "output_type": "stream",
     "text": [
      "blue\n",
      "9\n"
     ]
    }
   ],
   "source": [
    "colors = ('red', ('green', 'blue'), 'yellow')\n",
    "numbers = (1, 2, (4, (6, 7, 8, 9)), 10, 11)\n",
    "print(colors[1][1])\n",
    "print(numbers[2][1][3])"
   ]
  },
  {
   "cell_type": "code",
   "execution_count": 114,
   "id": "ae688f23",
   "metadata": {},
   "outputs": [
    {
     "name": "stdout",
     "output_type": "stream",
     "text": [
      "(100, 100)\n"
     ]
    }
   ],
   "source": [
    "tpl = (100,)\n",
    "print(tpl * 2)"
   ]
  },
  {
   "cell_type": "code",
   "execution_count": 115,
   "id": "63b02c33",
   "metadata": {},
   "outputs": [
    {
     "name": "stdout",
     "output_type": "stream",
     "text": [
      "200\n"
     ]
    }
   ],
   "source": [
    "tpl = (100)\n",
    "print(tpl * 2)"
   ]
  },
  {
   "cell_type": "markdown",
   "id": "c04f93d8",
   "metadata": {},
   "source": [
    "### 1"
   ]
  },
  {
   "cell_type": "markdown",
   "id": "2a8e8df4",
   "metadata": {},
   "source": [
    "Дополните приведенный код, используя индексацию кортежа, чтобы переменная `last`, содержала последний элемент кортежа `countries`."
   ]
  },
  {
   "cell_type": "code",
   "execution_count": 16,
   "id": "52bc797f",
   "metadata": {},
   "outputs": [
    {
     "name": "stdout",
     "output_type": "stream",
     "text": [
      "Italy\n"
     ]
    }
   ],
   "source": [
    "countries = ('Russia', 'Argentina', 'Spain', 'Slovakia', 'Canada', 'Slovenia', 'Italy')\n",
    "last = countries[-1]\n",
    "print(last)"
   ]
  },
  {
   "cell_type": "markdown",
   "id": "f9c15aaa",
   "metadata": {},
   "source": [
    "### 2"
   ]
  },
  {
   "cell_type": "markdown",
   "id": "ab7497a9",
   "metadata": {},
   "source": [
    "Дополните приведенный код, используя срезы, так чтобы он вывел первые $6$ элементов кортежа `primes`."
   ]
  },
  {
   "cell_type": "code",
   "execution_count": 18,
   "id": "98b5a092",
   "metadata": {},
   "outputs": [
    {
     "name": "stdout",
     "output_type": "stream",
     "text": [
      "(2, 3, 5, 7, 11, 13)\n"
     ]
    }
   ],
   "source": [
    "primes = (2, 3, 5, 7, 11, 13, 17, 19, 23, 29, 31, 37, 41, 43, 47, 53, 59, 61, 67, 71) \n",
    "print(primes[:6])"
   ]
  },
  {
   "cell_type": "markdown",
   "id": "997b1703",
   "metadata": {},
   "source": [
    "### 3"
   ]
  },
  {
   "cell_type": "markdown",
   "id": "38359554",
   "metadata": {},
   "source": [
    "Дополните приведенный код, используя срезы, так чтобы он вывел элементы кортежа `countries`, кроме первых двух."
   ]
  },
  {
   "cell_type": "code",
   "execution_count": 20,
   "id": "b22f8758",
   "metadata": {},
   "outputs": [
    {
     "name": "stdout",
     "output_type": "stream",
     "text": [
      "('Slovakia', 'Canada', 'Slovenia', 'Italy', 'Spain', 'Ukraine', 'Chile', 'Cameroon')\n"
     ]
    }
   ],
   "source": [
    "countries = ('Russia', 'Argentina', 'Slovakia', 'Canada', 'Slovenia', 'Italy', 'Spain', 'Ukraine', 'Chile', 'Cameroon')\n",
    "print(countries[2:])"
   ]
  },
  {
   "cell_type": "markdown",
   "id": "606527ca",
   "metadata": {},
   "source": [
    "### 4"
   ]
  },
  {
   "cell_type": "markdown",
   "id": "c4006edf",
   "metadata": {},
   "source": [
    "Дополните приведенный код, используя срезы, чтобы он вывел все элементы кортежа `countries`, кроме последних трех."
   ]
  },
  {
   "cell_type": "code",
   "execution_count": 26,
   "id": "1e963320",
   "metadata": {},
   "outputs": [
    {
     "name": "stdout",
     "output_type": "stream",
     "text": [
      "('Russia', 'Argentina', 'Slovakia', 'Canada', 'Slovenia', 'Italy', 'Spain')\n"
     ]
    }
   ],
   "source": [
    "countries = ('Russia', 'Argentina', 'Slovakia', 'Canada', 'Slovenia', 'Italy', 'Spain', 'Ukraine', 'Chile', 'Cameroon')\n",
    "print(countries[:-3])"
   ]
  },
  {
   "cell_type": "markdown",
   "id": "7d4df1c9",
   "metadata": {},
   "source": [
    "### 5"
   ]
  },
  {
   "cell_type": "markdown",
   "id": "7e7261ff",
   "metadata": {},
   "source": [
    "Дополните приведенный код, используя срезы, чтобы он вывел все элементы кортежа `countries`, кроме двух последних и трех первых."
   ]
  },
  {
   "cell_type": "code",
   "execution_count": 27,
   "id": "dc4f5445",
   "metadata": {},
   "outputs": [
    {
     "name": "stdout",
     "output_type": "stream",
     "text": [
      "('Canada', 'Slovenia', 'Italy', 'Spain', 'Ukraine')\n"
     ]
    }
   ],
   "source": [
    "countries = ('Russia', 'Argentina', 'Slovakia', 'Canada', 'Slovenia', 'Italy', 'Spain', 'Ukraine', 'Chile', 'Cameroon')\n",
    "print(countries[3:-2])"
   ]
  },
  {
   "cell_type": "markdown",
   "id": "3a41e23d",
   "metadata": {},
   "source": [
    "### 6"
   ]
  },
  {
   "cell_type": "markdown",
   "id": "f8041684",
   "metadata": {},
   "source": [
    "Дополните приведенный код так, чтобы переменная `number` содержала количество элементов кортежа `countries`."
   ]
  },
  {
   "cell_type": "code",
   "execution_count": 28,
   "id": "409f51da",
   "metadata": {},
   "outputs": [
    {
     "name": "stdout",
     "output_type": "stream",
     "text": [
      "7\n"
     ]
    }
   ],
   "source": [
    "countries = ('Romania', 'Poland', 'Estonia', 'Bulgaria', 'Slovakia', 'Slovenia', 'Hungary')\n",
    "number = len(countries)\n",
    "print(number)"
   ]
  },
  {
   "cell_type": "markdown",
   "id": "8e80191f",
   "metadata": {},
   "source": [
    "### 7"
   ]
  },
  {
   "cell_type": "markdown",
   "id": "52703c7b",
   "metadata": {},
   "source": [
    "Дополните приведенный код так, чтобы он вывел сумму минимального и максимального элементов кортежа `numbers`."
   ]
  },
  {
   "cell_type": "code",
   "execution_count": 30,
   "id": "4fc51e27",
   "metadata": {},
   "outputs": [
    {
     "name": "stdout",
     "output_type": "stream",
     "text": [
      "13.6618\n"
     ]
    }
   ],
   "source": [
    "numbers = (12.5, 3.1415, 2.718, 9.8, 1.414, 1.1618, 1.324)\n",
    "\n",
    "print(min(numbers) + max(numbers))"
   ]
  },
  {
   "cell_type": "markdown",
   "id": "56881581",
   "metadata": {},
   "source": [
    "### 8"
   ]
  },
  {
   "cell_type": "markdown",
   "id": "c2e1d973",
   "metadata": {},
   "source": [
    "Дополните приведенный код так, чтобы переменная `index` содержала индекс элемента `«Slovenia»` в кортеже `countries`."
   ]
  },
  {
   "cell_type": "code",
   "execution_count": 31,
   "id": "32c40d70",
   "metadata": {},
   "outputs": [
    {
     "name": "stdout",
     "output_type": "stream",
     "text": [
      "5\n"
     ]
    }
   ],
   "source": [
    "countries = ('Russia', 'Argentina', 'Spain', 'Slovakia', 'Canada', 'Slovenia', 'Italy')\n",
    "index = countries.index('Slovenia')\n",
    "print(index)"
   ]
  },
  {
   "cell_type": "markdown",
   "id": "97899d43",
   "metadata": {},
   "source": [
    "### 9"
   ]
  },
  {
   "cell_type": "markdown",
   "id": "430598f3",
   "metadata": {},
   "source": [
    "Дополните приведенный код так, чтобы переменная `number`, содержала количество вхождений `«Spain»` в кортеж `countries`."
   ]
  },
  {
   "cell_type": "code",
   "execution_count": 32,
   "id": "f7b38194",
   "metadata": {},
   "outputs": [
    {
     "name": "stdout",
     "output_type": "stream",
     "text": [
      "3\n"
     ]
    }
   ],
   "source": [
    "countries = ('Russia', 'Argentina', 'Spain', 'Slovakia', 'Canada', 'Slovenia', 'Italy', 'Spain', 'Ukraine', 'Chile', 'Spain', 'Cameroon')\n",
    "number = countries.count('Spain')\n",
    "print(number)"
   ]
  },
  {
   "cell_type": "markdown",
   "id": "9e31300d",
   "metadata": {},
   "source": [
    "### 10"
   ]
  },
  {
   "cell_type": "markdown",
   "id": "f9f5d978",
   "metadata": {},
   "source": [
    "Дополните приведенный код, используя операторы конкатенации (`+`) и умножения кортежа на число (`*`), чтобы он вывел кортеж:\n",
    "\n",
    "`(1, 2, 3, 1, 2, 3, 6, 6, 6, 6, 6, 6, 6, 6, 6, 7, 8, 9, 10, 11, 12, 13)`."
   ]
  },
  {
   "cell_type": "code",
   "execution_count": 33,
   "id": "23556fb9",
   "metadata": {},
   "outputs": [
    {
     "name": "stdout",
     "output_type": "stream",
     "text": [
      "(1, 2, 3, 1, 2, 3, 6, 6, 6, 6, 6, 6, 6, 6, 6, 7, 8, 9, 10, 11, 12, 13)\n"
     ]
    }
   ],
   "source": [
    "numbers1 = (1, 2, 3)\n",
    "numbers2 = (6,)\n",
    "numbers3 = (7, 8, 9, 10, 11, 12, 13)\n",
    "\n",
    "tup = numbers1 * 2 + numbers2 * 9 + numbers3\n",
    "\n",
    "print(tup)"
   ]
  },
  {
   "cell_type": "markdown",
   "id": "289c5ec4",
   "metadata": {},
   "source": [
    "### 11"
   ]
  },
  {
   "cell_type": "markdown",
   "id": "dd658c16",
   "metadata": {},
   "source": [
    "В переменную `city_name` вводится название города (например, Москва), а в переменную `city_year` – год его основания (например, $1147$). Заполните пропущенную строку таким образом, чтобы в переменной `city` оказался кортеж из значений этих двух переменных (сначала название города, затем год основания)."
   ]
  },
  {
   "cell_type": "code",
   "execution_count": 35,
   "id": "b1f05536",
   "metadata": {},
   "outputs": [
    {
     "name": "stdout",
     "output_type": "stream",
     "text": [
      "Москва\n",
      "1147\n",
      "('Москва', 1147)\n"
     ]
    }
   ],
   "source": [
    "city_name = input()\n",
    "city_year = int(input())\n",
    "city = (city_name, city_year)\n",
    "print(city)"
   ]
  },
  {
   "cell_type": "markdown",
   "id": "1eae2944",
   "metadata": {},
   "source": [
    "### 12"
   ]
  },
  {
   "cell_type": "markdown",
   "id": "eac5ef21",
   "metadata": {},
   "source": [
    "Дополните приведенный код, так чтобы получить список, содержащий только непустые кортежи исходного списка `tuples`, не меняя порядка их следования."
   ]
  },
  {
   "cell_type": "code",
   "execution_count": 39,
   "id": "2e3efab4",
   "metadata": {},
   "outputs": [
    {
     "name": "stdout",
     "output_type": "stream",
     "text": [
      "[('',), ('a', 'b'), ('a', 'b', 'c'), (1,), ('d',), ('', '')]\n"
     ]
    }
   ],
   "source": [
    "tuples = [(), (), ('',), ('a', 'b'), (), ('a', 'b', 'c'), (1,), (), (), ('d',), ('', ''), ()]\n",
    "non_empty_tuples = [i for i in tuples if len(i) > 0]\n",
    "\n",
    "print(non_empty_tuples)"
   ]
  },
  {
   "cell_type": "markdown",
   "id": "612933e4",
   "metadata": {},
   "source": [
    "### 13"
   ]
  },
  {
   "cell_type": "markdown",
   "id": "f49f5146",
   "metadata": {},
   "source": [
    "Дополните приведенный код так, чтобы переменная `new_tuples`, содержала список кортежей на основе списка `tuples` с последним элементом каждого кортежа, замененным на численное значение $100$."
   ]
  },
  {
   "cell_type": "code",
   "execution_count": 50,
   "id": "9f7c9985",
   "metadata": {},
   "outputs": [
    {
     "name": "stdout",
     "output_type": "stream",
     "text": [
      "[(10, 20, 100), (40, 50, 100), (70, 80, 100), (10, 100), (1, 2, 3, 100), (5, 6, 10, 2, 1, 100)]\n"
     ]
    }
   ],
   "source": [
    "tuples = [(10, 20, 40), (40, 50, 60), (70, 80, 90), (10, 90), (1, 2, 3, 4), (5, 6, 10, 2, 1, 77)]\n",
    "new_tuples = [(i[:-1]) + (100,) for i in tuples]\n",
    "print(new_tuples)"
   ]
  },
  {
   "cell_type": "markdown",
   "id": "da40e23d",
   "metadata": {},
   "source": [
    "## Основы работы с кортежами. Часть 2"
   ]
  },
  {
   "cell_type": "markdown",
   "id": "c4155a32",
   "metadata": {},
   "source": [
    "**Примеры**"
   ]
  },
  {
   "cell_type": "code",
   "execution_count": 51,
   "id": "fcfbe6c9",
   "metadata": {},
   "outputs": [
    {
     "name": "stdout",
     "output_type": "stream",
     "text": [
      "0\n",
      "1\n",
      "2\n",
      "3\n",
      "4\n",
      "5\n",
      "6\n",
      "7\n",
      "8\n",
      "9\n",
      "10\n"
     ]
    }
   ],
   "source": [
    "numbers = (0, 1, 2, 3, 4, 5, 6, 7, 8, 9, 10)\n",
    "\n",
    "for i in range(len(numbers)):\n",
    "    print(numbers[i])"
   ]
  },
  {
   "cell_type": "code",
   "execution_count": 52,
   "id": "8a0575a2",
   "metadata": {},
   "outputs": [
    {
     "name": "stdout",
     "output_type": "stream",
     "text": [
      "0\n",
      "1\n",
      "2\n",
      "3\n",
      "4\n",
      "5\n",
      "6\n",
      "7\n",
      "8\n",
      "9\n",
      "10\n"
     ]
    }
   ],
   "source": [
    "numbers = (0, 1, 2, 3, 4, 5, 6, 7, 8, 9, 10)\n",
    "\n",
    "for num in numbers:\n",
    "    print(num)"
   ]
  },
  {
   "cell_type": "code",
   "execution_count": 53,
   "id": "7a1fbe8c",
   "metadata": {},
   "outputs": [
    {
     "name": "stdout",
     "output_type": "stream",
     "text": [
      "0 1 2 3 4 5 6 7 8 9 10\n",
      "Python\n",
      "C++\n",
      "Java\n"
     ]
    }
   ],
   "source": [
    "numbers = (0, 1, 2, 3, 4, 5, 6, 7, 8, 9, 10)\n",
    "languages = ('Python', 'C++', 'Java')\n",
    "\n",
    "print(*numbers)\n",
    "print(*languages, sep='\\n')"
   ]
  },
  {
   "cell_type": "code",
   "execution_count": 54,
   "id": "5a205c9d",
   "metadata": {},
   "outputs": [
    {
     "name": "stdout",
     "output_type": "stream",
     "text": [
      "True\n",
      "True\n",
      "False\n",
      "True\n",
      "False\n"
     ]
    }
   ],
   "source": [
    "print((1, 8) == (1, 8))\n",
    "print((1, 8) != (1, 10))\n",
    "print((1, 9) < (1, 2))\n",
    "print((2, 5) < (6,))\n",
    "print(('a', 'bc') > ('a', 'de'))"
   ]
  },
  {
   "cell_type": "code",
   "execution_count": 55,
   "id": "37e9b2b7",
   "metadata": {},
   "outputs": [
    {
     "name": "stdout",
     "output_type": "stream",
     "text": [
      "(34, 1, 8, 67, 5, 9, 0, 23)\n",
      "(0, 1, 5, 8, 9, 23, 34, 67)\n"
     ]
    }
   ],
   "source": [
    "not_sorted_tuple = (34, 1, 8, 67, 5, 9, 0, 23)\n",
    "print(not_sorted_tuple)\n",
    "\n",
    "sorted_tuple = tuple(sorted(not_sorted_tuple))  # функция sorted() возвращает список, но с помощью функции tuple()\n",
    "                                                # мы приводим результат сортировки к кортежу\n",
    "print(sorted_tuple)"
   ]
  },
  {
   "cell_type": "code",
   "execution_count": 56,
   "id": "85f74553",
   "metadata": {},
   "outputs": [
    {
     "name": "stdout",
     "output_type": "stream",
     "text": [
      "('aa', 'bb', 'cc', 'dd')\n"
     ]
    }
   ],
   "source": [
    "not_sorted_tuple = ('cc', 'aa', 'dd', 'bb')\n",
    "tmp = list(not_sorted_tuple)\n",
    "tmp.sort()\n",
    "\n",
    "sorted_tuple = tuple(tmp)\n",
    "print(sorted_tuple)"
   ]
  },
  {
   "cell_type": "code",
   "execution_count": 57,
   "id": "88e2e732",
   "metadata": {},
   "outputs": [
    {
     "name": "stdout",
     "output_type": "stream",
     "text": [
      "[1, 2, 3, 4, 5]\n"
     ]
    }
   ],
   "source": [
    "tuple1 = (1, 2, 3, 4, 5)\n",
    "list1 = list(tuple1)\n",
    "print(list1)"
   ]
  },
  {
   "cell_type": "code",
   "execution_count": 58,
   "id": "b2878239",
   "metadata": {},
   "outputs": [
    {
     "name": "stdout",
     "output_type": "stream",
     "text": [
      "(1, 17.8, 'Python')\n"
     ]
    }
   ],
   "source": [
    "list1 = [1, 17.8, 'Python']\n",
    "tuple1 = tuple(list1)\n",
    "print(tuple1)"
   ]
  },
  {
   "cell_type": "code",
   "execution_count": 59,
   "id": "dbd7f34a",
   "metadata": {},
   "outputs": [
    {
     "name": "stdout",
     "output_type": "stream",
     "text": [
      "DoReMiFaSolLaSi\n",
      "Do.Re.Mi.Fa.Sol.La.Si\n"
     ]
    }
   ],
   "source": [
    "notes = ('Do', 'Re', 'Mi', 'Fa', 'Sol', 'La', 'Si')\n",
    "string1 = ''.join(notes)\n",
    "string2 = '.'.join(notes)\n",
    "\n",
    "print(string1)\n",
    "print(string2)"
   ]
  },
  {
   "cell_type": "code",
   "execution_count": 60,
   "id": "4bd9e6d1",
   "metadata": {},
   "outputs": [
    {
     "name": "stdout",
     "output_type": "stream",
     "text": [
      "('a', 'b', 'c', 'd', 'e', 'f', 'g', 'h', 'i', 'j', 'k', 'l')\n"
     ]
    }
   ],
   "source": [
    "letters = 'abcdefghijkl'\n",
    "tpl = tuple(letters)\n",
    "print(tpl)"
   ]
  },
  {
   "cell_type": "markdown",
   "id": "1e863024",
   "metadata": {},
   "source": [
    "### 1"
   ]
  },
  {
   "cell_type": "markdown",
   "id": "a82bd7ef",
   "metadata": {},
   "source": [
    "Дополните приведенный код так, чтобы он вывел произведение элементов кортежа `numbers`."
   ]
  },
  {
   "cell_type": "code",
   "execution_count": 61,
   "id": "66d67733",
   "metadata": {},
   "outputs": [
    {
     "name": "stdout",
     "output_type": "stream",
     "text": [
      "129638530920927229333292160000\n"
     ]
    }
   ],
   "source": [
    "numbers = (2, 3, 5, 7, -11, 13, 17, 19, 23, 29, 31, -6, 41, 43, 47, 53, 59, 61, -96, 71, 1000, -1)\n",
    "mult = 1\n",
    "for i in numbers:\n",
    "    mult *= i\n",
    "print(mult)"
   ]
  },
  {
   "cell_type": "markdown",
   "id": "54cfb310",
   "metadata": {},
   "source": [
    "### 2"
   ]
  },
  {
   "cell_type": "markdown",
   "id": "78d77450",
   "metadata": {},
   "source": [
    "Дополните приведенный код так, чтобы он преобразовал строку в кортеж символов строки и вывел результат."
   ]
  },
  {
   "cell_type": "code",
   "execution_count": 62,
   "id": "babaa355",
   "metadata": {},
   "outputs": [
    {
     "name": "stdout",
     "output_type": "stream",
     "text": [
      "('P', 'y', 't', 'h', 'o', 'n', ' ', 'д', 'л', 'я', ' ', 'п', 'р', 'о', 'д', 'в', 'и', 'н', 'у', 'т', 'ы', 'х', '!')\n"
     ]
    }
   ],
   "source": [
    "data = 'Python для продвинутых!'\n",
    "t = tuple(data)\n",
    "print(t)"
   ]
  },
  {
   "cell_type": "markdown",
   "id": "2c363b62",
   "metadata": {},
   "source": [
    "### 3"
   ]
  },
  {
   "cell_type": "markdown",
   "id": "38e28795",
   "metadata": {},
   "source": [
    "Программист Тимур написал программу для работы с биографическими данными русских поэтов. Данные содержатся в кортежах вида (фамилия, год рождения, город рождения). В процессе работы программы в некотором кортеже `poet_data` обнаружилась ошибка: ('Пушкин', 1799, 'Санкт-Петербург'), неверно указано место рождения, ведь Александр Пушкин родился в Москве.\n",
    "\n",
    "Дополните приведенный код так, чтобы в переменной `poet_data` находился правильный кортеж (с исправленным значением), а затем выведите его содержимое."
   ]
  },
  {
   "cell_type": "code",
   "execution_count": 63,
   "id": "664735fd",
   "metadata": {},
   "outputs": [
    {
     "name": "stdout",
     "output_type": "stream",
     "text": [
      "('Пушкин', 1799, 'Москва')\n"
     ]
    }
   ],
   "source": [
    "poet_data = ('Пушкин', 1799, 'Санкт-Петербург')\n",
    "to_list = list(poet_data)\n",
    "to_list[-1] = 'Москва'\n",
    "poet_data = tuple(to_list)\n",
    "\n",
    "print(poet_data)"
   ]
  },
  {
   "cell_type": "markdown",
   "id": "094d7fa6",
   "metadata": {},
   "source": [
    "### 4"
   ]
  },
  {
   "cell_type": "markdown",
   "id": "df668a0e",
   "metadata": {},
   "source": [
    "Дополните приведенный код так, чтобы он вывел список, содержащий средние арифметические значения чисел каждого вложенного кортежа в заданном кортеже кортежей `numbers`."
   ]
  },
  {
   "cell_type": "code",
   "execution_count": 65,
   "id": "25816b99",
   "metadata": {},
   "outputs": [
    {
     "name": "stdout",
     "output_type": "stream",
     "text": [
      "[10.5, 44.0, 58.0, 2.5, 50.0]\n"
     ]
    }
   ],
   "source": [
    "numbers = ((10, 10, 10, 12), (30, 45, 56, 45), (81, 80, 39, 32), (1, 2, 3, 4), (90, 10))\n",
    "l = []\n",
    "for e in numbers:\n",
    "    counter = 0\n",
    "    total = 0\n",
    "    for n in e:\n",
    "        counter += 1\n",
    "        total += n\n",
    "    l.append(total / counter)\n",
    "print(l)"
   ]
  },
  {
   "cell_type": "markdown",
   "id": "3bb44ed5",
   "metadata": {},
   "source": [
    "### 5"
   ]
  },
  {
   "cell_type": "markdown",
   "id": "0de59dbe",
   "metadata": {},
   "source": [
    "Уравнение параболы имеет вид $y =ax^2 + bx + c$, где $a \\neq 0$. Напишите программу, которая по введенным значениям $a, b, c$ определяет и выводит вершину параболы.\n",
    "\n",
    "На вход программе подаются три целых числа, каждое на отдельной строке. Программа должна вывести координаты вершины параболы. Координаты вершины параболы $y=ax^2+bx+c$ имеют вид $\\left(-\\dfrac{b}{2a}; \\, \\dfrac{4ac-b^2}{4a}\\right)$."
   ]
  },
  {
   "cell_type": "code",
   "execution_count": 66,
   "id": "a11b44e6",
   "metadata": {},
   "outputs": [
    {
     "name": "stdout",
     "output_type": "stream",
     "text": [
      "-2\n",
      "6\n",
      "1\n",
      "(1.5, 5.5)\n"
     ]
    }
   ],
   "source": [
    "a, b, c = int(input()), int(input()), int(input())\n",
    "def parabola_vertex(a, b, c):\n",
    "    x = - b / (2 * a)\n",
    "    y = (4 * a * c - b**2) / (4 * a)\n",
    "    return x, y\n",
    "print(parabola_vertex(a, b, c))"
   ]
  },
  {
   "cell_type": "markdown",
   "id": "f6b468b2",
   "metadata": {},
   "source": [
    "### 6"
   ]
  },
  {
   "cell_type": "markdown",
   "id": "f557fca8",
   "metadata": {},
   "source": [
    "Напишите программу, которая выводит список хорошистов и отличников в классе.\n",
    "\n",
    "На вход программе подается натуральное число $n$, далее следует $n$ строк с фамилией школьника и его оценкой на каждой из них. Программа должна вывести сначала все введённые строки с фамилиями и оценками учеников в том же порядке. Затем следует пустая строка, а затем выводятся строки с фамилиями и оценками хорошистов и отличников (в том же порядке).\n",
    "\n",
    "Оценка ученика – это натуральное число от $1$ до $5$. Гарантируется, что в классе есть хотя бы один хорошист – обладатель оценки $4$, или отличник – получивший $5$."
   ]
  },
  {
   "cell_type": "code",
   "execution_count": 88,
   "id": "3f9cde78",
   "metadata": {},
   "outputs": [
    {
     "name": "stdout",
     "output_type": "stream",
     "text": [
      "5\n",
      "Круглов 4\n",
      "Кузнецов 5\n",
      "Федин 4\n",
      "Тарасов 2\n",
      "Словецкий 3\n",
      "Круглов 4\n",
      "Кузнецов 5\n",
      "Федин 4\n",
      "Тарасов 2\n",
      "Словецкий 3\n",
      "\n",
      "Круглов 4\n",
      "Кузнецов 5\n",
      "Федин 4\n"
     ]
    }
   ],
   "source": [
    "list_of_students = [tuple(input().split()) for i in range(int(input()))]\n",
    "\n",
    "fours_and_fives = []\n",
    "\n",
    "for row in list_of_students:\n",
    "    if int(row[-1]) in (4, 5):\n",
    "        fours_and_fives.append(row)\n",
    "    print(*row)\n",
    "    \n",
    "print()\n",
    "\n",
    "for row in fours_and_fives:\n",
    "    print(*row)"
   ]
  },
  {
   "cell_type": "markdown",
   "id": "c3ce59b3",
   "metadata": {},
   "source": [
    "**Упаковка и распаковка кортежей**"
   ]
  },
  {
   "cell_type": "code",
   "execution_count": 89,
   "id": "33d66d29",
   "metadata": {},
   "outputs": [
    {
     "name": "stdout",
     "output_type": "stream",
     "text": [
      "<class 'tuple'>\n",
      "<class 'tuple'>\n"
     ]
    }
   ],
   "source": [
    "tuple1 = 1, 2, 3      # упаковка выполняется всегда, когда справа от знака равенства стоит больше одного значения\n",
    "tuple2 = 'b',         # ,\n",
    "\n",
    "print(type(tuple1))\n",
    "print(type(tuple2))"
   ]
  },
  {
   "cell_type": "markdown",
   "id": "e1b12c8f",
   "metadata": {},
   "source": [
    "Обратная операция, смысл которой в том, чтобы присвоить значения элементов кортежа отдельным переменным называется **распаковкой кортежа**.\n",
    "\n",
    "Количество переменных должно совпадать с числом элементов в кортеже."
   ]
  },
  {
   "cell_type": "code",
   "execution_count": 90,
   "id": "1a04c541",
   "metadata": {},
   "outputs": [
    {
     "name": "stdout",
     "output_type": "stream",
     "text": [
      "red\n",
      "green\n",
      "blue\n",
      "cyan\n"
     ]
    }
   ],
   "source": [
    "colors = ('red', 'green', 'blue', 'cyan')\n",
    "\n",
    "(a, b, c, d) = colors\n",
    "\n",
    "print(a)\n",
    "print(b)\n",
    "print(c)\n",
    "print(d)"
   ]
  },
  {
   "cell_type": "code",
   "execution_count": null,
   "id": "3e3129d7",
   "metadata": {},
   "outputs": [],
   "source": [
    "colors = ('red', 'green', 'blue', 'cyan')   # можем опустить скобки слева от знака равенства\n",
    "a, b, c, d = colors "
   ]
  },
  {
   "cell_type": "code",
   "execution_count": 91,
   "id": "20dacd00",
   "metadata": {},
   "outputs": [
    {
     "name": "stdout",
     "output_type": "stream",
     "text": [
      "red\n",
      "green\n"
     ]
    }
   ],
   "source": [
    "colors = ('red', 'green', 'blue') \n",
    "a, b, _ = colors                     # если необходимо получить лишь какие-то отдельные значения,\n",
    "                                     # то в качестве \"ненужных\" переменных позволено использовать символ нижнего подчеркивания _\n",
    "\n",
    "print(a)\n",
    "print(b)"
   ]
  },
  {
   "cell_type": "markdown",
   "id": "248cf016",
   "metadata": {},
   "source": [
    "Сначала вычисляются все значения справа, и лишь затем они кладутся в левую часть оператора присваивания. Поэтому можно менять местами значения переменных `a` и `b`, написав: `a, b = b, a`."
   ]
  },
  {
   "cell_type": "code",
   "execution_count": 92,
   "id": "e55fe8e5",
   "metadata": {},
   "outputs": [
    {
     "name": "stdout",
     "output_type": "stream",
     "text": [
      "[3, 4, 5, 6]\n"
     ]
    }
   ],
   "source": [
    "a, b, *tail = 1, 2, 3, 4, 5, 6\n",
    "print(tail)"
   ]
  },
  {
   "cell_type": "code",
   "execution_count": 93,
   "id": "92c0a12e",
   "metadata": {},
   "outputs": [
    {
     "name": "stdout",
     "output_type": "stream",
     "text": [
      "['Стефани', 'Джоанн', 'Анджелина']\n",
      "Джерманотта\n"
     ]
    }
   ],
   "source": [
    "*names, surname = ('Стефани', 'Джоанн', 'Анджелина', 'Джерманотта')\n",
    "\n",
    "print(names)\n",
    "print(surname)"
   ]
  },
  {
   "cell_type": "code",
   "execution_count": 94,
   "id": "ac4efe6c",
   "metadata": {},
   "outputs": [
    {
     "name": "stdout",
     "output_type": "stream",
     "text": [
      "Freddie\n",
      "['Bohemian Rhapsody', 'Killer Queen', 'Love of my life']\n",
      "Mercury\n"
     ]
    }
   ],
   "source": [
    "singer = ('Freddie', 'Bohemian Rhapsody', 'Killer Queen', 'Love of my life', 'Mercury')\n",
    "\n",
    "name, *songs, surname = singer\n",
    "\n",
    "print(name)\n",
    "print(songs)\n",
    "print(surname)"
   ]
  },
  {
   "cell_type": "code",
   "execution_count": 95,
   "id": "72629b64",
   "metadata": {},
   "outputs": [
    {
     "name": "stdout",
     "output_type": "stream",
     "text": [
      "(1,)\n",
      "1\n"
     ]
    }
   ],
   "source": [
    "a = 1,      # не распаковка, а просто присвоение\n",
    "b, = 1,     # распаковка - после имени переменной должна идти запятая\n",
    "\n",
    "print(a)\n",
    "print(b)"
   ]
  },
  {
   "cell_type": "code",
   "execution_count": 96,
   "id": "84972d2b",
   "metadata": {},
   "outputs": [
    {
     "name": "stdout",
     "output_type": "stream",
     "text": [
      "timur\n",
      "beegeek.org\n",
      "m\n",
      "a\n",
      "t\n",
      "h\n"
     ]
    }
   ],
   "source": [
    "info = ['timur', 'beegeek.org']\n",
    "user, domain = info    # распаковка списка\n",
    "\n",
    "print(user)\n",
    "print(domain)\n",
    "\n",
    "a, b, c, d = 'math'    # распаковка строки\n",
    "\n",
    "print(a)\n",
    "print(b)\n",
    "print(c)\n",
    "print(d)"
   ]
  },
  {
   "cell_type": "markdown",
   "id": "56c5b48c",
   "metadata": {},
   "source": [
    "Помимо метода `split()` строковый тип данных содержит метод `partition()`. Метод `partition()` принимает на вход один аргумент sep, разделяет строку при первом появлении sep и возвращает кортеж, состоящий из трех элементов: часть перед разделителем, сам разделитель и часть после разделителя. Если разделитель не найден, то кортеж содержит саму строку, за которой следуют две пустые строки."
   ]
  },
  {
   "cell_type": "code",
   "execution_count": 97,
   "id": "f235adeb",
   "metadata": {},
   "outputs": [
    {
     "name": "stdout",
     "output_type": "stream",
     "text": [
      "('abc', '-', 'de')\n",
      "('abc-de', '', '')\n",
      "('abc', '-', 'de-fgh')\n"
     ]
    }
   ],
   "source": [
    "s1 = 'abc-de'.partition('-')\n",
    "s2 = 'abc-de'.partition('.')\n",
    "s3 = 'abc-de-fgh'.partition('-')\n",
    "\n",
    "print(s1)\n",
    "print(s2)\n",
    "print(s3)"
   ]
  },
  {
   "cell_type": "markdown",
   "id": "6eab7ee2",
   "metadata": {},
   "source": [
    "С использованием кортежей многие алгоритмы приобретают достаточно краткую форму. Например, вычисление чисел Фибоначчи может выглядеть следующим образом:"
   ]
  },
  {
   "cell_type": "code",
   "execution_count": 98,
   "id": "f9b29b9a",
   "metadata": {},
   "outputs": [
    {
     "name": "stdout",
     "output_type": "stream",
     "text": [
      "10\n",
      "1\n",
      "1\n",
      "2\n",
      "3\n",
      "5\n",
      "8\n",
      "13\n",
      "21\n",
      "34\n",
      "55\n"
     ]
    }
   ],
   "source": [
    "n = int(input())\n",
    "f1, f2 = 1, 1\n",
    "for i in range(n):\n",
    "    print(f1)\n",
    "    f1, f2 = f2, f1 + f2"
   ]
  },
  {
   "cell_type": "code",
   "execution_count": 116,
   "id": "b866a5a2",
   "metadata": {},
   "outputs": [
    {
     "name": "stdout",
     "output_type": "stream",
     "text": [
      "[]\n"
     ]
    }
   ],
   "source": [
    "a, *b, c = 'No bees', 'no honey'\n",
    "print(b)"
   ]
  },
  {
   "cell_type": "markdown",
   "id": "a5af2eab",
   "metadata": {},
   "source": [
    "### 7"
   ]
  },
  {
   "cell_type": "markdown",
   "id": "051ea2e7",
   "metadata": {},
   "source": [
    "Напишите программу, которая считывает натуральное число $n$ и выводит первые $n$ чисел последовательности Трибоначчи.\n",
    "\n",
    "На вход программе подается одно число $(n≤100)$ – количество членов последовательности. Программа должна вывести члены последовательности Трибоначчи, отделенные символом пробела. Последовательность Трибоначчи – последовательность натуральных чисел, где каждое последующее число является суммой трех предыдущих:\n",
    "\n",
    "$1,1, 1, 3, 5, 9, 17, 31, 57, 105 …$"
   ]
  },
  {
   "cell_type": "code",
   "execution_count": 110,
   "id": "d380c5c3",
   "metadata": {},
   "outputs": [
    {
     "name": "stdout",
     "output_type": "stream",
     "text": [
      "10\n",
      "1 1 1 3 5 9 17 31 57 105\n"
     ]
    }
   ],
   "source": [
    "n = int(input())\n",
    "f1, f2, f3 = 1, 1, 1\n",
    "tribo = []\n",
    "for i in range(n):\n",
    "    tribo.append(f1)\n",
    "    f1, f2, f3 = f2, f3, f1 + f2 + f3\n",
    "print(*tribo)"
   ]
  },
  {
   "cell_type": "code",
   "execution_count": 111,
   "id": "79f37af9",
   "metadata": {},
   "outputs": [
    {
     "name": "stdout",
     "output_type": "stream",
     "text": [
      "10\n",
      "1 1 1 3 5 9 17 31 57 105 "
     ]
    }
   ],
   "source": [
    "n = int(input())\n",
    "t1 = t2 = t3 = 1\n",
    "for _ in range(n):\n",
    "    print(t1, end=' ')\n",
    "    t1, t2, t3 = t2, t3, t1 + t2 + t3"
   ]
  }
 ],
 "metadata": {
  "kernelspec": {
   "display_name": "Python 3 (ipykernel)",
   "language": "python",
   "name": "python3"
  },
  "language_info": {
   "codemirror_mode": {
    "name": "ipython",
    "version": 3
   },
   "file_extension": ".py",
   "mimetype": "text/x-python",
   "name": "python",
   "nbconvert_exporter": "python",
   "pygments_lexer": "ipython3",
   "version": "3.9.13"
  },
  "toc": {
   "base_numbering": 1,
   "nav_menu": {},
   "number_sections": true,
   "sideBar": true,
   "skip_h1_title": true,
   "title_cell": "Table of Contents",
   "title_sidebar": "Contents",
   "toc_cell": true,
   "toc_position": {},
   "toc_section_display": true,
   "toc_window_display": false
  }
 },
 "nbformat": 4,
 "nbformat_minor": 5
}
