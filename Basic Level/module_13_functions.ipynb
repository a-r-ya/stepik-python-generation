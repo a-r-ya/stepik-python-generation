{
 "cells": [
  {
   "cell_type": "markdown",
   "id": "6e394313",
   "metadata": {
    "toc": true
   },
   "source": [
    "<h1>Table of Contents<span class=\"tocSkip\"></span></h1>\n",
    "<div class=\"toc\"><ul class=\"toc-item\"><li><span><a href=\"#Функции-без-параметров\" data-toc-modified-id=\"Функции-без-параметров-1\"><span class=\"toc-item-num\">1&nbsp;&nbsp;</span>Функции без параметров</a></span><ul class=\"toc-item\"><li><span><a href=\"#1\" data-toc-modified-id=\"1-1.1\"><span class=\"toc-item-num\">1.1&nbsp;&nbsp;</span>1</a></span></li><li><span><a href=\"#2\" data-toc-modified-id=\"2-1.2\"><span class=\"toc-item-num\">1.2&nbsp;&nbsp;</span>2</a></span></li></ul></li><li><span><a href=\"#Функции-с-параметрами\" data-toc-modified-id=\"Функции-с-параметрами-2\"><span class=\"toc-item-num\">2&nbsp;&nbsp;</span>Функции с параметрами</a></span><ul class=\"toc-item\"><li><span><a href=\"#1\" data-toc-modified-id=\"1-2.1\"><span class=\"toc-item-num\">2.1&nbsp;&nbsp;</span>1</a></span></li><li><span><a href=\"#2\" data-toc-modified-id=\"2-2.2\"><span class=\"toc-item-num\">2.2&nbsp;&nbsp;</span>2</a></span></li><li><span><a href=\"#3\" data-toc-modified-id=\"3-2.3\"><span class=\"toc-item-num\">2.3&nbsp;&nbsp;</span>3</a></span></li></ul></li><li><span><a href=\"#Локальные-и-глобальные-переменные\" data-toc-modified-id=\"Локальные-и-глобальные-переменные-3\"><span class=\"toc-item-num\">3&nbsp;&nbsp;</span>Локальные и глобальные переменные</a></span></li><li><span><a href=\"#Функции-с-возвратом-значения.-Часть-1\" data-toc-modified-id=\"Функции-с-возвратом-значения.-Часть-1-4\"><span class=\"toc-item-num\">4&nbsp;&nbsp;</span>Функции с возвратом значения. Часть 1</a></span><ul class=\"toc-item\"><li><span><a href=\"#1\" data-toc-modified-id=\"1-4.1\"><span class=\"toc-item-num\">4.1&nbsp;&nbsp;</span>1</a></span></li><li><span><a href=\"#2\" data-toc-modified-id=\"2-4.2\"><span class=\"toc-item-num\">4.2&nbsp;&nbsp;</span>2</a></span></li><li><span><a href=\"#3\" data-toc-modified-id=\"3-4.3\"><span class=\"toc-item-num\">4.3&nbsp;&nbsp;</span>3</a></span></li><li><span><a href=\"#4\" data-toc-modified-id=\"4-4.4\"><span class=\"toc-item-num\">4.4&nbsp;&nbsp;</span>4</a></span></li><li><span><a href=\"#5\" data-toc-modified-id=\"5-4.5\"><span class=\"toc-item-num\">4.5&nbsp;&nbsp;</span>5</a></span></li><li><span><a href=\"#6\" data-toc-modified-id=\"6-4.6\"><span class=\"toc-item-num\">4.6&nbsp;&nbsp;</span>6</a></span></li><li><span><a href=\"#7\" data-toc-modified-id=\"7-4.7\"><span class=\"toc-item-num\">4.7&nbsp;&nbsp;</span>7</a></span></li></ul></li><li><span><a href=\"#Функции-с-возвратом-значения.-Часть-2\" data-toc-modified-id=\"Функции-с-возвратом-значения.-Часть-2-5\"><span class=\"toc-item-num\">5&nbsp;&nbsp;</span>Функции с возвратом значения. Часть 2</a></span><ul class=\"toc-item\"><li><span><a href=\"#1\" data-toc-modified-id=\"1-5.1\"><span class=\"toc-item-num\">5.1&nbsp;&nbsp;</span>1</a></span></li><li><span><a href=\"#2\" data-toc-modified-id=\"2-5.2\"><span class=\"toc-item-num\">5.2&nbsp;&nbsp;</span>2</a></span></li><li><span><a href=\"#3\" data-toc-modified-id=\"3-5.3\"><span class=\"toc-item-num\">5.3&nbsp;&nbsp;</span>3</a></span></li><li><span><a href=\"#4\" data-toc-modified-id=\"4-5.4\"><span class=\"toc-item-num\">5.4&nbsp;&nbsp;</span>4</a></span></li><li><span><a href=\"#5\" data-toc-modified-id=\"5-5.5\"><span class=\"toc-item-num\">5.5&nbsp;&nbsp;</span>5</a></span></li><li><span><a href=\"#6\" data-toc-modified-id=\"6-5.6\"><span class=\"toc-item-num\">5.6&nbsp;&nbsp;</span>6</a></span></li><li><span><a href=\"#7\" data-toc-modified-id=\"7-5.7\"><span class=\"toc-item-num\">5.7&nbsp;&nbsp;</span>7</a></span></li><li><span><a href=\"#8\" data-toc-modified-id=\"8-5.8\"><span class=\"toc-item-num\">5.8&nbsp;&nbsp;</span>8</a></span></li><li><span><a href=\"#9\" data-toc-modified-id=\"9-5.9\"><span class=\"toc-item-num\">5.9&nbsp;&nbsp;</span>9</a></span></li></ul></li><li><span><a href=\"#Функции-с-возвратом-значения.-Часть-3\" data-toc-modified-id=\"Функции-с-возвратом-значения.-Часть-3-6\"><span class=\"toc-item-num\">6&nbsp;&nbsp;</span>Функции с возвратом значения. Часть 3</a></span><ul class=\"toc-item\"><li><span><a href=\"#1\" data-toc-modified-id=\"1-6.1\"><span class=\"toc-item-num\">6.1&nbsp;&nbsp;</span>1</a></span></li><li><span><a href=\"#2\" data-toc-modified-id=\"2-6.2\"><span class=\"toc-item-num\">6.2&nbsp;&nbsp;</span>2</a></span></li><li><span><a href=\"#3\" data-toc-modified-id=\"3-6.3\"><span class=\"toc-item-num\">6.3&nbsp;&nbsp;</span>3</a></span></li></ul></li><li><span><a href=\"#Итоговая-работа-на-функции\" data-toc-modified-id=\"Итоговая-работа-на-функции-7\"><span class=\"toc-item-num\">7&nbsp;&nbsp;</span>Итоговая работа на функции</a></span><ul class=\"toc-item\"><li><span><a href=\"#1\" data-toc-modified-id=\"1-7.1\"><span class=\"toc-item-num\">7.1&nbsp;&nbsp;</span>1</a></span></li><li><span><a href=\"#2\" data-toc-modified-id=\"2-7.2\"><span class=\"toc-item-num\">7.2&nbsp;&nbsp;</span>2</a></span></li><li><span><a href=\"#3\" data-toc-modified-id=\"3-7.3\"><span class=\"toc-item-num\">7.3&nbsp;&nbsp;</span>3</a></span></li><li><span><a href=\"#4\" data-toc-modified-id=\"4-7.4\"><span class=\"toc-item-num\">7.4&nbsp;&nbsp;</span>4</a></span></li><li><span><a href=\"#5\" data-toc-modified-id=\"5-7.5\"><span class=\"toc-item-num\">7.5&nbsp;&nbsp;</span>5</a></span></li><li><span><a href=\"#6\" data-toc-modified-id=\"6-7.6\"><span class=\"toc-item-num\">7.6&nbsp;&nbsp;</span>6</a></span></li><li><span><a href=\"#7\" data-toc-modified-id=\"7-7.7\"><span class=\"toc-item-num\">7.7&nbsp;&nbsp;</span>7</a></span></li></ul></li></ul></div>"
   ]
  },
  {
   "cell_type": "markdown",
   "id": "4e796b08",
   "metadata": {},
   "source": [
    "# Функции"
   ]
  },
  {
   "cell_type": "markdown",
   "id": "92d7b3d0",
   "metadata": {},
   "source": [
    "## Функции без параметров"
   ]
  },
  {
   "cell_type": "markdown",
   "id": "0e4a64ef",
   "metadata": {},
   "source": [
    "**Примеры**"
   ]
  },
  {
   "cell_type": "code",
   "execution_count": 19,
   "id": "03b0d003",
   "metadata": {},
   "outputs": [],
   "source": [
    "def draw_box():\n",
    "    for _ in range(5):\n",
    "        print('*' * 7)"
   ]
  },
  {
   "cell_type": "code",
   "execution_count": 20,
   "id": "1aa376a1",
   "metadata": {},
   "outputs": [
    {
     "name": "stdout",
     "output_type": "stream",
     "text": [
      "*******\n",
      "*******\n",
      "*******\n",
      "*******\n",
      "*******\n"
     ]
    }
   ],
   "source": [
    "draw_box()"
   ]
  },
  {
   "cell_type": "markdown",
   "id": "29518c84",
   "metadata": {},
   "source": [
    "Python — регистрочувствительный язык. Для именования переменных и функций принято использовать стиль **lower_case_with_underscores** (слова из маленьких букв с подчеркиваниями)."
   ]
  },
  {
   "cell_type": "code",
   "execution_count": 21,
   "id": "4f9584c8",
   "metadata": {},
   "outputs": [
    {
     "name": "stdout",
     "output_type": "stream",
     "text": [
      "Я - Артур,\n",
      "король британцев. \n"
     ]
    }
   ],
   "source": [
    "# объявление функции\n",
    "def print_message():\n",
    "    print('Я - Артур,')\n",
    "    print('король британцев. ')\n",
    "\n",
    "# вызов функции\n",
    "print_message()"
   ]
  },
  {
   "cell_type": "markdown",
   "id": "985a598a",
   "metadata": {},
   "source": [
    "### 1"
   ]
  },
  {
   "cell_type": "markdown",
   "id": "9103091a",
   "metadata": {},
   "source": [
    "Напишите функцию `draw_box()`, которая выводит звездный прямоугольник с размерами $14×10$ в соответствии с образцом:"
   ]
  },
  {
   "cell_type": "code",
   "execution_count": 24,
   "id": "d3ef1a80",
   "metadata": {},
   "outputs": [
    {
     "name": "stdout",
     "output_type": "stream",
     "text": [
      "**********\n",
      "*        *\n",
      "*        *\n",
      "*        *\n",
      "*        *\n",
      "*        *\n",
      "*        *\n",
      "*        *\n",
      "*        *\n",
      "*        *\n",
      "*        *\n",
      "*        *\n",
      "*        *\n",
      "**********\n"
     ]
    }
   ],
   "source": [
    "def draw_box():\n",
    "    for i in range(0, 14):\n",
    "        if i == 0 or i == 13:\n",
    "            print('*' * 10)\n",
    "        else:\n",
    "            print('*' + ' ' * 8 + '*')\n",
    "draw_box()"
   ]
  },
  {
   "cell_type": "markdown",
   "id": "b3116256",
   "metadata": {},
   "source": [
    "### 2"
   ]
  },
  {
   "cell_type": "markdown",
   "id": "5e2be1a9",
   "metadata": {},
   "source": [
    "Напишите функцию `draw_triangle()`, которая выводит звездный прямоугольный треугольник с катетами, равными $10$ в соответствии с образцом:"
   ]
  },
  {
   "cell_type": "code",
   "execution_count": 25,
   "id": "c34df05e",
   "metadata": {},
   "outputs": [
    {
     "name": "stdout",
     "output_type": "stream",
     "text": [
      "*\n",
      "**\n",
      "***\n",
      "****\n",
      "*****\n",
      "******\n",
      "*******\n",
      "********\n",
      "*********\n",
      "**********\n"
     ]
    }
   ],
   "source": [
    "def draw_triangle():\n",
    "    for i in range(1, 11):\n",
    "        print('*' * i, end='\\n')\n",
    "draw_triangle()"
   ]
  },
  {
   "cell_type": "markdown",
   "id": "8c16f991",
   "metadata": {},
   "source": [
    "## Функции с параметрами"
   ]
  },
  {
   "cell_type": "markdown",
   "id": "2609f624",
   "metadata": {},
   "source": [
    "**Примеры**"
   ]
  },
  {
   "cell_type": "code",
   "execution_count": 26,
   "id": "1436c8d8",
   "metadata": {},
   "outputs": [],
   "source": [
    "def draw_box(height, width):    # функция принимает два параметра\n",
    "    for i in range(height):\n",
    "        print('*' * width)"
   ]
  },
  {
   "cell_type": "code",
   "execution_count": 27,
   "id": "adb3b7f9",
   "metadata": {},
   "outputs": [
    {
     "name": "stdout",
     "output_type": "stream",
     "text": [
      "*******\n",
      "*******\n",
      "*******\n",
      "*******\n",
      "*******\n"
     ]
    }
   ],
   "source": [
    "draw_box(5, 7)"
   ]
  },
  {
   "cell_type": "code",
   "execution_count": 28,
   "id": "87ee40cd",
   "metadata": {},
   "outputs": [],
   "source": [
    "def print_hello(n):\n",
    "    print('Hello' * n)"
   ]
  },
  {
   "cell_type": "markdown",
   "id": "06407e08",
   "metadata": {},
   "source": [
    "### 1"
   ]
  },
  {
   "cell_type": "markdown",
   "id": "181553ab",
   "metadata": {},
   "source": [
    "Напишите функцию `draw_triangle(fill, base)`, которая принимает два параметра:\n",
    "\n",
    "* `fill` – символ заполнитель;\n",
    "* `base` – величина основания равнобедренного треугольника;\n",
    "\n",
    "а затем выводит его.\n",
    "\n",
    "**Примечание.** Гарантируется, что основание треугольника – нечетное число."
   ]
  },
  {
   "cell_type": "code",
   "execution_count": 40,
   "id": "e0d5fa84",
   "metadata": {},
   "outputs": [
    {
     "name": "stdout",
     "output_type": "stream",
     "text": [
      "+\n",
      "9\n",
      "+\n",
      "++\n",
      "+++\n",
      "++++\n",
      "+++++\n",
      "++++\n",
      "+++\n",
      "++\n",
      "+\n"
     ]
    }
   ],
   "source": [
    "def draw_triangle(fill, base):\n",
    "    print(*[fill * i for i in range(1, base // 2 + 2)], sep='\\n')\n",
    "    print(*[fill * j for j in range(base // 2, 0, -1)], sep='\\n')\n",
    "fill = input()\n",
    "base = int(input())\n",
    "draw_triangle(fill, base)"
   ]
  },
  {
   "cell_type": "code",
   "execution_count": 38,
   "id": "f2b2159f",
   "metadata": {},
   "outputs": [
    {
     "name": "stdout",
     "output_type": "stream",
     "text": [
      "*\n",
      "9\n",
      "*\n",
      "**\n",
      "***\n",
      "****\n",
      "*****\n",
      "****\n",
      "***\n",
      "**\n",
      "*\n"
     ]
    }
   ],
   "source": [
    "def draw_triangle(fill, base):\n",
    "    for i in range(1, base + 1):\n",
    "        for j in range(i):\n",
    "            if i + j <= base:\n",
    "                print(fill, end='')\n",
    "        print()\n",
    "fill = input()\n",
    "base = int(input())\n",
    "draw_triangle(fill, base)"
   ]
  },
  {
   "cell_type": "markdown",
   "id": "dd8ca6ba",
   "metadata": {},
   "source": [
    "### 2"
   ]
  },
  {
   "cell_type": "markdown",
   "id": "0ed6b089",
   "metadata": {},
   "source": [
    "Напишите функцию `print_fio(name, surname, patronymic)`, которая принимает три параметра:\n",
    "\n",
    "* `name` – имя человека;\n",
    "* `surname` – фамилия человека;\n",
    "* `patronymic` – отчество человека;\n",
    "\n",
    "а затем выводит на печать ФИО человека."
   ]
  },
  {
   "cell_type": "code",
   "execution_count": 44,
   "id": "2bf9b51c",
   "metadata": {},
   "outputs": [
    {
     "name": "stdout",
     "output_type": "stream",
     "text": [
      "Александр\n",
      "Пушкин\n",
      "Сергеевич\n",
      "ПАС\n"
     ]
    }
   ],
   "source": [
    "def print_fio(name, surname, patronymic):\n",
    "    print(surname[0].upper() + name[0].upper() + patronymic[0].upper())\n",
    "name, surname, patronymic = input(), input(), input()\n",
    "print_fio(name, surname, patronymic)"
   ]
  },
  {
   "cell_type": "markdown",
   "id": "f8791a13",
   "metadata": {},
   "source": [
    "### 3"
   ]
  },
  {
   "cell_type": "markdown",
   "id": "7582b04f",
   "metadata": {},
   "source": [
    "Напишите функцию `print_digit_sum()`, которая принимает одно целое число `num` и выводит на печать сумму его цифр."
   ]
  },
  {
   "cell_type": "code",
   "execution_count": 2,
   "id": "6165f685",
   "metadata": {},
   "outputs": [
    {
     "name": "stdout",
     "output_type": "stream",
     "text": [
      "12345\n",
      "15\n"
     ]
    }
   ],
   "source": [
    "def print_digit_sum(num):\n",
    "    print(sum([int(i) for i in str(num)]))\n",
    "n = int(input())\n",
    "print_digit_sum(n)"
   ]
  },
  {
   "cell_type": "markdown",
   "id": "d338c351",
   "metadata": {},
   "source": [
    "## Локальные и глобальные переменные"
   ]
  },
  {
   "cell_type": "markdown",
   "id": "01302770",
   "metadata": {},
   "source": [
    "**Примеры**"
   ]
  },
  {
   "cell_type": "code",
   "execution_count": null,
   "id": "71316e57",
   "metadata": {},
   "outputs": [],
   "source": [
    "def print_texas():\n",
    "    birds = 5000\n",
    "    print('В Техасе обитает', birds, 'птиц.')"
   ]
  },
  {
   "cell_type": "markdown",
   "id": "8d5b3568",
   "metadata": {},
   "source": [
    "Термин “локальная” указывает на то, что переменная может использоваться лишь в этом месте — внутри функции, в которой создается."
   ]
  },
  {
   "cell_type": "markdown",
   "id": "bb0bcd85",
   "metadata": {},
   "source": [
    "Область действия переменной – часть программы, в которой можно к ней обращаться, та функция, где она создана. Переменная видима только программному коду в области ее действия. Никакая инструкция за пределами функции не может обращаться к такой переменной.\n",
    "\n",
    "К локальной переменной не может обращаться программный код, который появляется внутри функции до того, как переменная была создана."
   ]
  },
  {
   "cell_type": "markdown",
   "id": "072d7f05",
   "metadata": {},
   "source": [
    "Параметрическая переменная тоже локальная."
   ]
  },
  {
   "cell_type": "markdown",
   "id": "89719c61",
   "metadata": {},
   "source": [
    "Глобальными называются переменные, объявленные в основной программе и доступные как программе, так и всем ее функциям."
   ]
  },
  {
   "cell_type": "code",
   "execution_count": null,
   "id": "bbd99c04",
   "metadata": {},
   "outputs": [],
   "source": [
    "birds = 5000    # глобальная переменная\n",
    "\n",
    "def print_texas():\n",
    "    print('В Техасе обитает', birds, 'птиц.')\n",
    "\n",
    "def print_california():\n",
    "    print('В Калифорнии обитает', birds, 'птиц.')"
   ]
  },
  {
   "cell_type": "markdown",
   "id": "26251dc1",
   "metadata": {},
   "source": [
    "## Функции с возвратом значения. Часть 1"
   ]
  },
  {
   "cell_type": "markdown",
   "id": "6b6036a0",
   "metadata": {},
   "source": [
    "**Примеры**"
   ]
  },
  {
   "cell_type": "code",
   "execution_count": null,
   "id": "b4cb5b3a",
   "metadata": {},
   "outputs": [],
   "source": [
    "def название_функции():\n",
    "    блок кода\n",
    "    return выражение"
   ]
  },
  {
   "cell_type": "code",
   "execution_count": null,
   "id": "706734d4",
   "metadata": {},
   "outputs": [],
   "source": [
    "def convert_to_celsius(temp):\n",
    "    result = (5 / 9) * (temp - 32)\n",
    "    return result"
   ]
  },
  {
   "cell_type": "code",
   "execution_count": null,
   "id": "3aedd9d7",
   "metadata": {},
   "outputs": [],
   "source": [
    "def convert_grade(grade):\n",
    "    if grade >= 90:\n",
    "        return 5\n",
    "    elif grade >= 80:\n",
    "        return 4\n",
    "    elif grade >= 70: \n",
    "        return 3\n",
    "    elif grade >= 60:\n",
    "        return 2\n",
    "    else:\n",
    "        return 1\n",
    "\n",
    "# основная программа\n",
    "grade = int(input('Введите вашу отметку по 100-балльной системе: '))\n",
    "print(convert_grade(grade))"
   ]
  },
  {
   "cell_type": "markdown",
   "id": "d13760c1",
   "metadata": {},
   "source": [
    "### 1"
   ]
  },
  {
   "cell_type": "markdown",
   "id": "e89eedcf",
   "metadata": {},
   "source": [
    "Напишите функцию `convert_to_miles(km)`, которая принимает в качестве аргумента расстояние в километрах и возвращает расстояние в милях. Формула для преобразования: `мили = километры * 0.6214`."
   ]
  },
  {
   "cell_type": "code",
   "execution_count": 6,
   "id": "410e210a",
   "metadata": {},
   "outputs": [
    {
     "name": "stdout",
     "output_type": "stream",
     "text": [
      "1\n",
      "0.6214\n"
     ]
    }
   ],
   "source": [
    "def convert_to_miles(km):\n",
    "    return round(km * 0.6214, 4)\n",
    "num = int(input())\n",
    "print(convert_to_miles(num))"
   ]
  },
  {
   "cell_type": "markdown",
   "id": "beac9731",
   "metadata": {},
   "source": [
    "### 2"
   ]
  },
  {
   "cell_type": "markdown",
   "id": "e464def1",
   "metadata": {},
   "source": [
    "Напишите функцию `get_days(month)`, которая принимает в качестве аргумента номер месяца и возвращает количество дней в данном месяце.\n",
    "\n",
    "**Примечание 1.** Гарантируется, что передаваемый аргумент находится в диапазоне от 1 до 12.\n",
    "\n",
    "**Примечание 2.** Считайте, что год является невисокосным."
   ]
  },
  {
   "cell_type": "code",
   "execution_count": 8,
   "id": "8c1249ee",
   "metadata": {},
   "outputs": [
    {
     "name": "stdout",
     "output_type": "stream",
     "text": [
      "2\n",
      "28\n"
     ]
    }
   ],
   "source": [
    "def get_days(month):\n",
    "    if month in range(1, 8, 2) or month in range(8, 13, 2):\n",
    "        return 31\n",
    "    elif month == 2:\n",
    "        return 28\n",
    "    else:\n",
    "        return 30\n",
    "num = int(input())\n",
    "print(get_days(num))"
   ]
  },
  {
   "cell_type": "markdown",
   "id": "324ac7f0",
   "metadata": {},
   "source": [
    "### 3"
   ]
  },
  {
   "cell_type": "markdown",
   "id": "8c88fcf0",
   "metadata": {},
   "source": [
    "Напишите функцию `get_factors(num)`, принимающую в качестве аргумента натуральное число и возвращающую список всех делителей данного числа."
   ]
  },
  {
   "cell_type": "code",
   "execution_count": 12,
   "id": "778a84fa",
   "metadata": {},
   "outputs": [
    {
     "name": "stdout",
     "output_type": "stream",
     "text": [
      "10\n",
      "[1, 2, 5, 10]\n"
     ]
    }
   ],
   "source": [
    "def get_factors(num):\n",
    "    list = []\n",
    "    for i in range(1, num + 1):\n",
    "        if n % i == 0:\n",
    "            list.append(i)\n",
    "    return list\n",
    "n = int(input())\n",
    "print(get_factors(n))"
   ]
  },
  {
   "cell_type": "code",
   "execution_count": 13,
   "id": "5cad4b43",
   "metadata": {},
   "outputs": [
    {
     "name": "stdout",
     "output_type": "stream",
     "text": [
      "10\n",
      "[1, 2, 5, 10]\n"
     ]
    }
   ],
   "source": [
    "def get_factors(num):\n",
    "    return [n for n in range(1, num + 1) if num % n == 0]\n",
    "        \n",
    "n = int(input())\n",
    "print(get_factors(n))"
   ]
  },
  {
   "cell_type": "markdown",
   "id": "07ad306b",
   "metadata": {},
   "source": [
    "### 4"
   ]
  },
  {
   "cell_type": "markdown",
   "id": "c32bc09d",
   "metadata": {},
   "source": [
    "Напишите функцию `number_of_factors(num)`, принимающую в качестве аргумента число и возвращающую количество делителей данного числа.\n",
    "\n",
    "**Примечание 1.** Используйте уже реализованную функцию `get_factors(num)` из предыдущей задачи."
   ]
  },
  {
   "cell_type": "code",
   "execution_count": 14,
   "id": "4593fdbc",
   "metadata": {},
   "outputs": [
    {
     "name": "stdout",
     "output_type": "stream",
     "text": [
      "10\n",
      "4\n"
     ]
    }
   ],
   "source": [
    "def number_of_factors(num):\n",
    "    return len(get_factors(num))\n",
    "n = int(input())\n",
    "print(number_of_factors(n))"
   ]
  },
  {
   "cell_type": "markdown",
   "id": "f5507f4f",
   "metadata": {},
   "source": [
    "### 5"
   ]
  },
  {
   "cell_type": "markdown",
   "id": "07abea15",
   "metadata": {},
   "source": [
    "Напомним, что строковый метод `find('a')` возвращает местоположение первого вхождения символа a в строке. Проблема заключается в том, что данный метод не находит местоположение всех символов `а`.\n",
    "\n",
    "Напишите функцию с именем `find_all(target, symbol)`, которая принимает два аргумента: строку `target` и символ `symbol` и возвращает список, содержащий все местоположения этого символа в строке.\n",
    "\n",
    "**Примечание 1.** Если указанный символ не встречается в строке, то следует вернуть пустой список."
   ]
  },
  {
   "cell_type": "code",
   "execution_count": 51,
   "id": "accc9c90",
   "metadata": {},
   "outputs": [
    {
     "name": "stdout",
     "output_type": "stream",
     "text": [
      "abcdabcaaa\n",
      "a\n",
      "[0, 4, 7, 8, 9]\n"
     ]
    }
   ],
   "source": [
    "def find_all(target, symbol):\n",
    "    output = []\n",
    "    for i in range(len(target)):\n",
    "        if target[i] == symbol:\n",
    "            output.append(i)\n",
    "    return output\n",
    "s = input()\n",
    "char = input()\n",
    "print(find_all(s, char))"
   ]
  },
  {
   "cell_type": "markdown",
   "id": "218de217",
   "metadata": {},
   "source": [
    "### 6"
   ]
  },
  {
   "cell_type": "markdown",
   "id": "524b5b24",
   "metadata": {},
   "source": [
    "Напишите функцию `merge(list1, list2)`, которая принимает в качестве аргументов два отсортированных по возрастанию списка, состоящих из целых чисел, и объединяет их в один отсортированный список.\n",
    "\n",
    "**Примечание 1.** Списки `list1` и `list2` могут иметь разную длину.\n",
    "\n",
    "**Примечание 2.** Можно использовать списочный метод `sort()`, а можно обойтись и без него 😎."
   ]
  },
  {
   "cell_type": "code",
   "execution_count": 63,
   "id": "767328be",
   "metadata": {},
   "outputs": [
    {
     "name": "stdout",
     "output_type": "stream",
     "text": [
      "1 3 6\n",
      "7 2 3\n",
      "[1, 2, 3, 3, 6, 7]\n"
     ]
    }
   ],
   "source": [
    "def merge(list1, list2):\n",
    "    return sorted(list1 + list2)\n",
    "\n",
    "numbers1 = [int(c) for c in input().split()]\n",
    "numbers2 = [int(c) for c in input().split()]\n",
    "\n",
    "print(merge(numbers1, numbers2))"
   ]
  },
  {
   "cell_type": "markdown",
   "id": "dfe0a0c7",
   "metadata": {},
   "source": [
    "**Слияние двух отсортированных списков**"
   ]
  },
  {
   "cell_type": "code",
   "execution_count": 64,
   "id": "06078c9d",
   "metadata": {},
   "outputs": [
    {
     "name": "stdout",
     "output_type": "stream",
     "text": [
      "[0, 3, 10, 11, 11, 12, 12, 20, 24, 26, 47, 47, 48, 53, 57, 58, 63, 65, 70, 77, 79, 80, 81, 84, 84, 90, 95]\n"
     ]
    }
   ],
   "source": [
    "def merge(list1, list2):\n",
    "    result = list1 + list2   # создаем результирующий список\n",
    "    result.sort()            # сортируем список встроенным методом sort()\n",
    "    return result            # возвращаем отсортированный список\n",
    "\n",
    "list1 = [3, 10, 11, 12, 47, 57, 58, 63, 77, 79, 80, 95]\n",
    "list2 = [0, 11, 12, 20, 24, 26, 47, 48, 53, 65, 70, 81, 84, 84, 90]\n",
    "list3 = merge(list1, list2)  # вызываем функцию слияния двух отсортированных списков\n",
    "print(list3)"
   ]
  },
  {
   "cell_type": "markdown",
   "id": "d0f91a77",
   "metadata": {},
   "source": [
    "Пусть мы имеем два уже отсортированных по возрастанию списка `list1` и `list2`.\n",
    "\n",
    "Алгоритм быстрого слияния следующий:\n",
    "\n",
    "* Создаем численные указатели `p1 = 0` и `p2 = 0` на начала обоих списков `list1` и `list2` соответственно;\n",
    "* На каждом шаге берем меньший из двух элементов `list1[p1]` и `list2[p2]`;\n",
    "* Записываем его в результирующий список; \n",
    "* Увеличиваем указатель на первый элемент списка (`p1` или `p2`) из которого был взят элемент на `1`;\n",
    "* Когда один из начальных списков закончился, добавляем все оставшиеся элементы второго списка в результирующий список."
   ]
  },
  {
   "cell_type": "code",
   "execution_count": 65,
   "id": "022a7e42",
   "metadata": {},
   "outputs": [],
   "source": [
    "def quick_merge(list1, list2):\n",
    "    result = []\n",
    "\n",
    "    p1 = 0  # указатель на первый элемент списка list1\n",
    "    p2 = 0  # указатель на первый элемент списка list2\n",
    "\n",
    "    while p1 < len(list1) and p2 < len(list2):  # пока не закончился хотя бы один список\n",
    "        if list1[p1] <= list2[p2]:\n",
    "            result.append(list1[p1])\n",
    "            p1 += 1\n",
    "        else:\n",
    "            result.append(list2[p2])\n",
    "            p2 += 1\n",
    "\n",
    "    if p1 < len(list1):   # прицепление остатка\n",
    "        result += list1[p1:]\n",
    "    if p2 < len(list2):\n",
    "        result += list2[p2:]\n",
    "    \n",
    "    return result"
   ]
  },
  {
   "cell_type": "markdown",
   "id": "cdec92d2",
   "metadata": {},
   "source": [
    "### 7"
   ]
  },
  {
   "cell_type": "markdown",
   "id": "ba4f0774",
   "metadata": {},
   "source": [
    "На вход программе подается число $n$, а затем $n$ строк, содержащих целые числа в порядке возрастания. Из данных строк формируются списки чисел. Напишите программу, которая объединяет указанные списки в один отсортированный список с помощью функции `quick_merge()`, а затем выводит его."
   ]
  },
  {
   "cell_type": "code",
   "execution_count": 69,
   "id": "3a46012d",
   "metadata": {},
   "outputs": [
    {
     "name": "stdout",
     "output_type": "stream",
     "text": [
      "3\n",
      "1 4 8\n",
      "2 3 7\n",
      "0 5 9\n",
      "0 1 2 3 4 5 7 8 9\n"
     ]
    }
   ],
   "source": [
    "total_list = []\n",
    "for n in range(int(input())):\n",
    "    list = [int(i) for i in input().split()]\n",
    "    total_list = quick_merge(total_list, list)\n",
    "print(*total_list)"
   ]
  },
  {
   "cell_type": "markdown",
   "id": "1b6043fe",
   "metadata": {},
   "source": [
    "## Функции с возвратом значения. Часть 2"
   ]
  },
  {
   "cell_type": "markdown",
   "id": "5ede4503",
   "metadata": {},
   "source": [
    "**Возвращение булевых значений**"
   ]
  },
  {
   "cell_type": "code",
   "execution_count": null,
   "id": "9d94d5c8",
   "metadata": {},
   "outputs": [],
   "source": [
    "def is_even(number):\n",
    "    if number % 2 == 0:\n",
    "        return True\n",
    "    else:\n",
    "        return False"
   ]
  },
  {
   "cell_type": "code",
   "execution_count": null,
   "id": "c0535384",
   "metadata": {},
   "outputs": [],
   "source": [
    "number = int(input())\n",
    "if is_even(number):\n",
    "    print('Это число четное. ')\n",
    "else:\n",
    "    print('Это число нечетное.')"
   ]
  },
  {
   "cell_type": "code",
   "execution_count": null,
   "id": "18ec715b",
   "metadata": {},
   "outputs": [],
   "source": [
    "model = int(input())\n",
    "\n",
    "while model != 100 and model != 200 and model != 300:\n",
    "    рrint('Допустимыми номерами моделей являются 100, 200 и 300.')\n",
    "    model = int(input())"
   ]
  },
  {
   "cell_type": "code",
   "execution_count": null,
   "id": "7489aed1",
   "metadata": {},
   "outputs": [],
   "source": [
    "while is_invalid(model):\n",
    "    print('Допустимыми номерами моделей являются 100, 200 и 300.')\n",
    "    model = int(input())"
   ]
  },
  {
   "cell_type": "markdown",
   "id": "d3e9fa5f",
   "metadata": {},
   "source": [
    "### 1"
   ]
  },
  {
   "cell_type": "markdown",
   "id": "f2a75d8e",
   "metadata": {},
   "source": [
    "Напишите функцию `is_valid_triangle(side1, side2, side3)`, которая принимает в качестве аргументов три натуральных числа, и возвращает значение `True`, если существует невырожденный треугольник со сторонами `side1, side2, side3` и `False` в противном случае."
   ]
  },
  {
   "cell_type": "code",
   "execution_count": 71,
   "id": "bca1edc0",
   "metadata": {},
   "outputs": [
    {
     "name": "stdout",
     "output_type": "stream",
     "text": [
      "1\n",
      "2\n",
      "3\n",
      "False\n"
     ]
    }
   ],
   "source": [
    "def is_valid_triangle(side1, side2, side3):\n",
    "    if side1 < side2 + side3 and side2 < side1 + side3 and side3 < side1 + side2:\n",
    "        return True\n",
    "    else:\n",
    "        return False\n",
    "        \n",
    "a, b, c = int(input()), int(input()), int(input())\n",
    "print(is_valid_triangle(a, b, c))"
   ]
  },
  {
   "cell_type": "markdown",
   "id": "27759efb",
   "metadata": {},
   "source": [
    "### 2"
   ]
  },
  {
   "cell_type": "markdown",
   "id": "008b7f76",
   "metadata": {},
   "source": [
    "Напишите функцию `is_prime(num)`, которая принимает в качестве аргумента натуральное число и возвращает значение `True`, если число является простым, и `False` в противном случае."
   ]
  },
  {
   "cell_type": "code",
   "execution_count": 73,
   "id": "950a4288",
   "metadata": {},
   "outputs": [
    {
     "name": "stdout",
     "output_type": "stream",
     "text": [
      "17\n",
      "True\n"
     ]
    }
   ],
   "source": [
    "def is_prime(num):\n",
    "    counter = 0\n",
    "    for i in range(1, num + 1):\n",
    "        if num % i == 0:\n",
    "            counter += 1\n",
    "    if counter == 2:\n",
    "        return True\n",
    "    else:\n",
    "        return False\n",
    "\n",
    "n = int(input())\n",
    "print(is_prime(n))"
   ]
  },
  {
   "cell_type": "code",
   "execution_count": 74,
   "id": "4bf8813b",
   "metadata": {},
   "outputs": [
    {
     "name": "stdout",
     "output_type": "stream",
     "text": [
      "10\n",
      "False\n"
     ]
    }
   ],
   "source": [
    "def is_prime(num):\n",
    "    return len([i for i in range(1, num+1) if num % i == 0]) == 2\n",
    "\n",
    "# считываем данные\n",
    "n = int(input())\n",
    "\n",
    "# вызываем функцию\n",
    "print(is_prime(n))"
   ]
  },
  {
   "cell_type": "markdown",
   "id": "ca1140bb",
   "metadata": {},
   "source": [
    "### 3"
   ]
  },
  {
   "cell_type": "markdown",
   "id": "418ccc37",
   "metadata": {},
   "source": [
    "Напишите функцию `get_next_prime(num)`, которая принимает в качестве аргумента натуральное число num и возвращает первое простое число большее числа num.\n",
    "\n",
    "**Примечание 1.** Используйте функцию `is_prime()` из предыдущей задачи."
   ]
  },
  {
   "cell_type": "code",
   "execution_count": 77,
   "id": "ab5ad5d0",
   "metadata": {},
   "outputs": [
    {
     "name": "stdout",
     "output_type": "stream",
     "text": [
      "14\n",
      "17\n"
     ]
    }
   ],
   "source": [
    "def get_next_prime(num):\n",
    "    num += 1\n",
    "    while is_prime(num) == False:\n",
    "        num += 1\n",
    "    return num\n",
    "\n",
    "n = int(input())\n",
    "\n",
    "print(get_next_prime(n))"
   ]
  },
  {
   "cell_type": "markdown",
   "id": "b6a3c6b4",
   "metadata": {},
   "source": [
    "### 4"
   ]
  },
  {
   "cell_type": "markdown",
   "id": "55f42995",
   "metadata": {},
   "source": [
    "Напишите функцию `is_password_good(password)`, которая принимает в качестве аргумента строковое значение пароля `password` и возвращает значение `True` если пароль является надежным и `False` в противном случае.\n",
    "\n",
    "Пароль является надежным если:\n",
    "\n",
    "* его длина не менее $8$ символов; \n",
    "* он содержит как минимум одну заглавную букву (верхний регистр); \n",
    "* он содержит как минимум одну строчную букву (нижний регистр);\n",
    "* он содержит хотя бы одну цифру."
   ]
  },
  {
   "cell_type": "code",
   "execution_count": 84,
   "id": "b0a89cbb",
   "metadata": {},
   "outputs": [
    {
     "name": "stdout",
     "output_type": "stream",
     "text": [
      "dJzkk9oa9j\n",
      "True\n"
     ]
    }
   ],
   "source": [
    "def is_password_good(password):\n",
    "    if len(password) >= 8 and password.lower() != password and password.upper() != password and any(i.isdigit() for i in password):\n",
    "        return True\n",
    "    else:\n",
    "        return False\n",
    "    \n",
    "txt = input()\n",
    "\n",
    "print(is_password_good(txt))"
   ]
  },
  {
   "cell_type": "markdown",
   "id": "0e9ee74e",
   "metadata": {},
   "source": [
    "### 5"
   ]
  },
  {
   "cell_type": "markdown",
   "id": "21437fd7",
   "metadata": {},
   "source": [
    "Напишите функцию `is_one_away(word1, word2)`, которая принимает в качестве аргументов два слова `word1` и `word2` и возвращает значение `True` если слова имеют одинаковую длину и отличаются ровно в 1 символе и `False` в противном случае."
   ]
  },
  {
   "cell_type": "code",
   "execution_count": 102,
   "id": "8cf432ee",
   "metadata": {},
   "outputs": [
    {
     "name": "stdout",
     "output_type": "stream",
     "text": [
      "accc\n",
      "bccc\n",
      "True\n"
     ]
    }
   ],
   "source": [
    "def is_one_away(word1, word2):\n",
    "    if len(word1) == len(word2):\n",
    "        counter = 0\n",
    "        for i in range(len(word1)):\n",
    "            if word1[i] != word2[i]:\n",
    "                counter += 1\n",
    "        if counter == 1:\n",
    "            return True\n",
    "        else:\n",
    "            return False\n",
    "    else:\n",
    "        return False\n",
    "    \n",
    "txt1 = input()\n",
    "txt2 = input()\n",
    "\n",
    "print(is_one_away(txt1, txt2))"
   ]
  },
  {
   "cell_type": "markdown",
   "id": "133ebd0c",
   "metadata": {},
   "source": [
    "### 6"
   ]
  },
  {
   "cell_type": "markdown",
   "id": "f4d14ec2",
   "metadata": {},
   "source": [
    "Напишите функцию `is_palindrome(text)`, которая принимает в качестве аргумента строку `text` и возвращает значение `True` если указанный текст является палиндромом и `False` в противном случае.\n",
    "\n",
    "**Примечание 1.** Палиндром – это строка, которая читается одинаково в обоих направлениях\n",
    "\n",
    "**Примечание 2.** При проверке считайте большие и маленькие буквы одинаковыми, а также игнорируйте пробелы, а также символы `, . ! ? -`."
   ]
  },
  {
   "cell_type": "code",
   "execution_count": 116,
   "id": "b4d9a5fa",
   "metadata": {},
   "outputs": [
    {
     "name": "stdout",
     "output_type": "stream",
     "text": [
      "Gabler Ruby - burrel bag!\n",
      "True\n"
     ]
    }
   ],
   "source": [
    "def is_palindrome(text):\n",
    "    tidy = ''.join(c for c in text.lower() if c.isalpha())\n",
    "    if tidy == tidy[::-1]:\n",
    "        return True\n",
    "    else:\n",
    "        return False\n",
    "\n",
    "txt = input()\n",
    "\n",
    "print(is_palindrome(txt))"
   ]
  },
  {
   "cell_type": "markdown",
   "id": "12e8a326",
   "metadata": {},
   "source": [
    "### 7"
   ]
  },
  {
   "cell_type": "markdown",
   "id": "1957ad6c",
   "metadata": {},
   "source": [
    "BEEGEEK наконец открыл свой банк в котором используются специальные банкоматы с необычным паролем.\n",
    "\n",
    "Действительный пароль BEEGEEK банка имеет вид `a:b:c`, где a, b и c – натуральные числа. Поскольку основатель BEEGEEK фанатеет от математики, то он решил:\n",
    "\n",
    "* число a – должно быть палиндромом;\n",
    "* число b – должно быть простым;\n",
    "* число c – должно быть четным.\n",
    "\n",
    "Напишите функцию `is_valid_password(password)`, которая принимает в качестве аргумента строковое значение пароля `password` и возвращает значение `True` если пароль является действительным паролем BEEGEEK банка и `False` в противном случае."
   ]
  },
  {
   "cell_type": "code",
   "execution_count": 120,
   "id": "ceddde5f",
   "metadata": {},
   "outputs": [
    {
     "name": "stdout",
     "output_type": "stream",
     "text": [
      "1221:101:22\n",
      "True\n"
     ]
    }
   ],
   "source": [
    "def is_valid_password(password):\n",
    "    p = password.split(':')\n",
    "    counter = 0\n",
    "    a, b, c = p[0], int(p[1]), int(p[2])\n",
    "    if len(p) == 3:\n",
    "        if a == a[::-1]:\n",
    "            counter += 1\n",
    "        if len([i for i in range(1, b + 1) if b % i == 0]) == 2:\n",
    "            counter += 1\n",
    "        if c % 2 == 0:\n",
    "            counter += 1\n",
    "    if counter == 3:\n",
    "        return True\n",
    "    else:\n",
    "        return False\n",
    "    \n",
    "psw = input()\n",
    "\n",
    "print(is_valid_password(psw))"
   ]
  },
  {
   "cell_type": "markdown",
   "id": "8a3c7582",
   "metadata": {},
   "source": [
    "### 8"
   ]
  },
  {
   "cell_type": "markdown",
   "id": "648acd9d",
   "metadata": {},
   "source": [
    "Напишите функцию `is_correct_bracket(text)`, которая принимает в качестве аргумента непустую строку `text`, состоящую из символов `(` и `)` и возвращает значение `True` если поступившая на вход строка является правильной скобочной последовательностью и `False` в противном случае.\n",
    "\n",
    "**Примечание 1.** Правильной скобочной последовательностью называется строка, состоящая только из символов `(` и `)`, где каждой открывающей скобке найдется парная закрывающая скобка."
   ]
  },
  {
   "cell_type": "code",
   "execution_count": 3,
   "id": "d2d9323e",
   "metadata": {},
   "outputs": [
    {
     "name": "stdout",
     "output_type": "stream",
     "text": [
      "(())\n",
      "True\n"
     ]
    }
   ],
   "source": [
    "def is_correct_bracket(text):\n",
    "    list = []\n",
    "    for i in text:\n",
    "        if i == '(':\n",
    "            list.append(i)\n",
    "        if i == ')' and len(list) > 0:\n",
    "            list = list[:-1]\n",
    "        elif i == ')' and len(list) == 0:\n",
    "            return False\n",
    "    if len(list) == 0:\n",
    "        return True\n",
    "    else:\n",
    "        return False\n",
    "    \n",
    "txt = input()\n",
    "\n",
    "print(is_correct_bracket(txt))"
   ]
  },
  {
   "cell_type": "code",
   "execution_count": 4,
   "id": "06ce0f6f",
   "metadata": {},
   "outputs": [
    {
     "name": "stdout",
     "output_type": "stream",
     "text": [
      "(()\n",
      "False\n"
     ]
    }
   ],
   "source": [
    "# объявление функции\n",
    "def is_correct_bracket(text):\n",
    "    while '()' in text:\n",
    "        text = text.replace('()', '')\n",
    "    return not text\n",
    "\n",
    "# считываем данные\n",
    "txt = input()\n",
    "\n",
    "# вызываем функцию\n",
    "print(is_correct_bracket(txt))"
   ]
  },
  {
   "cell_type": "markdown",
   "id": "d48757fd",
   "metadata": {},
   "source": [
    "### 9"
   ]
  },
  {
   "cell_type": "markdown",
   "id": "ec2b8302",
   "metadata": {},
   "source": [
    "Напишите функцию `convert_to_python_case(text)`, которая принимает в качестве аргумента строку в «верблюжьем регистре» и преобразует его в «змеиный регистр»."
   ]
  },
  {
   "cell_type": "code",
   "execution_count": 23,
   "id": "53d86ad7",
   "metadata": {},
   "outputs": [
    {
     "name": "stdout",
     "output_type": "stream",
     "text": [
      "ThisIsCamelCased\n",
      "this_is_camel_cased\n"
     ]
    }
   ],
   "source": [
    "def convert_to_python_case(text):\n",
    "    tidy = ''\n",
    "    for i in range(len(text)):\n",
    "        if text[i].islower() or (text[i].isupper() and i == 0) or text[i].isdigit():\n",
    "            tidy += text[i]\n",
    "        else:\n",
    "            tidy += ('_' + text[i])\n",
    "    tidy = tidy.lower()\n",
    "    return tidy\n",
    "\n",
    "txt = input()\n",
    "\n",
    "print(convert_to_python_case(txt))"
   ]
  },
  {
   "cell_type": "code",
   "execution_count": 24,
   "id": "2cf22269",
   "metadata": {},
   "outputs": [
    {
     "name": "stdout",
     "output_type": "stream",
     "text": [
      "ThisIsCamelCased\n",
      "this_is_camel_cased\n"
     ]
    }
   ],
   "source": [
    "def convert_to_python_case(text):\n",
    "    s = ''\n",
    "    for el in text:\n",
    "        if el.isupper():\n",
    "            s += '_'\n",
    "        s += el.lower()\n",
    "    return s[1:]\n",
    "    \n",
    "\n",
    "print(convert_to_python_case(input()))"
   ]
  },
  {
   "cell_type": "markdown",
   "id": "07ca3603",
   "metadata": {},
   "source": [
    "## Функции с возвратом значения. Часть 3"
   ]
  },
  {
   "cell_type": "markdown",
   "id": "57242a47",
   "metadata": {},
   "source": [
    "**Функции с возвратом нескольких значений**"
   ]
  },
  {
   "cell_type": "code",
   "execution_count": null,
   "id": "c14fc69f",
   "metadata": {},
   "outputs": [],
   "source": [
    "def get_powers(num):\n",
    "    return num**2, num**3, num**4"
   ]
  },
  {
   "cell_type": "code",
   "execution_count": null,
   "id": "7be6ee2d",
   "metadata": {},
   "outputs": [],
   "source": [
    "def solve(a, b, c, d, e, f):\n",
    "    x = (d * e - b * f)/(a * d - b * c)\n",
    "    y = (a * f - c * e)/(a * d - b * c)\n",
    "    return x, y"
   ]
  },
  {
   "cell_type": "markdown",
   "id": "79a74c5d",
   "metadata": {},
   "source": [
    "### 1"
   ]
  },
  {
   "cell_type": "markdown",
   "id": "41bbc907",
   "metadata": {},
   "source": [
    "Напишите функцию `get_middle_point(x1, y1, x2, y2)`, которая принимает в качестве аргументов координаты концов отрезка $(x_1; y_1)$ и $(x_2; y_2)$ и возвращает координаты точки являющейся серединой данного отрезка.\n",
    "\n",
    "**Примечание 1.** Координаты середины отрезка вычисляются по формуле:\n",
    "\n",
    "<img src=\"https://ucarecdn.com/5bd014c6-efa7-452f-989a-06fefb5cf42f/\" width=\"400\" height=\"400\">"
   ]
  },
  {
   "cell_type": "code",
   "execution_count": 2,
   "id": "1620aadf",
   "metadata": {},
   "outputs": [
    {
     "name": "stdout",
     "output_type": "stream",
     "text": [
      "0\n",
      "0\n",
      "10\n",
      "0\n",
      "5.0 0.0\n"
     ]
    }
   ],
   "source": [
    "def get_middle_point(x1, y1, x2, y2):\n",
    "    x_3, y_3 = (x1 + x2) / 2, (y1 + y2) / 2\n",
    "    return x_3, y_3\n",
    "\n",
    "# считываем данные\n",
    "x_1, y_1 = int(input()), int(input())\n",
    "x_2, y_2 = int(input()), int(input())\n",
    "\n",
    "# вызываем функцию\n",
    "x, y = get_middle_point(x_1, y_1, x_2, y_2)\n",
    "print(x, y)"
   ]
  },
  {
   "cell_type": "markdown",
   "id": "098337f4",
   "metadata": {},
   "source": [
    "### 2"
   ]
  },
  {
   "cell_type": "markdown",
   "id": "f1e9e20f",
   "metadata": {},
   "source": [
    "Напишите функцию `get_circle(radius)`, которая принимает в качестве аргумента радиус окружности и возвращает два значения: длину окружности и площадь круга, ограниченного данной окружностью.\n",
    "\n",
    "**Примечание 1.** Длина окружности и площадь круга радиуса rr вычисляются по формулам:\n",
    "\n",
    "$С=2πr,S=πr^2$.\n",
    "\n",
    "**Примечание 2.** Для числа $π$ используйте глобальную константу из модуля `math`."
   ]
  },
  {
   "cell_type": "code",
   "execution_count": 4,
   "id": "9c566971",
   "metadata": {},
   "outputs": [
    {
     "name": "stdout",
     "output_type": "stream",
     "text": [
      "1\n",
      "6.283185307179586 3.141592653589793\n"
     ]
    }
   ],
   "source": [
    "# объявление функции\n",
    "def get_circle(radius):\n",
    "    from math import pi\n",
    "    c = 2 * pi * radius\n",
    "    s = pi * radius**2\n",
    "    return c, s\n",
    "\n",
    "# считываем данные\n",
    "r = float(input())\n",
    "\n",
    "# вызываем функцию\n",
    "length, square = get_circle(r)\n",
    "print(length, square)"
   ]
  },
  {
   "cell_type": "markdown",
   "id": "ce55180f",
   "metadata": {},
   "source": [
    "### 3"
   ]
  },
  {
   "cell_type": "markdown",
   "id": "b1bc78dd",
   "metadata": {},
   "source": [
    "Напишите функцию `solve(a, b, c)`, которая принимает в качестве аргументов три целых числа `a, b, c` – коэффициенты квадратного уравнения $ax^2+bx+c = 0$ и возвращает его корни в порядке возрастания.\n",
    "\n",
    "Гарантируется, что квадратное уравнение имеет корни."
   ]
  },
  {
   "cell_type": "code",
   "execution_count": 8,
   "id": "37191ffd",
   "metadata": {},
   "outputs": [
    {
     "name": "stdout",
     "output_type": "stream",
     "text": [
      "1\n",
      "2\n",
      "1\n",
      "-1.0 -1.0\n"
     ]
    }
   ],
   "source": [
    "def solve(a, b, c):\n",
    "    d = b**2 - 4*a*c\n",
    "    from math import sqrt\n",
    "    x1 = (-b + sqrt(d)) / (2*a)\n",
    "    x2 = (-b - sqrt(d)) / (2*a)\n",
    "    xmax, xmin = max([x1, x2]), min([x1, x2])\n",
    "    return xmin, xmax\n",
    "\n",
    "# считываем данные\n",
    "a, b, c = int(input()), int(input()), int(input())\n",
    "\n",
    "# вызываем функцию\n",
    "x1, x2 = solve(a, b, c)\n",
    "print(x1, x2)"
   ]
  },
  {
   "cell_type": "markdown",
   "id": "9c2f4057",
   "metadata": {},
   "source": [
    "## Итоговая работа на функции"
   ]
  },
  {
   "cell_type": "markdown",
   "id": "312f941f",
   "metadata": {},
   "source": [
    "### 1"
   ]
  },
  {
   "cell_type": "markdown",
   "id": "ad20816c",
   "metadata": {},
   "source": [
    "Напишите функцию `draw_triangle()`, которая выводит звездный равнобедренный треугольник с основанием и высотой равными $15$ и $8$ соответственно:\n",
    "\n",
    "Для вывода треугольника используйте цикл `for`. "
   ]
  },
  {
   "cell_type": "code",
   "execution_count": 10,
   "id": "b3a2af54",
   "metadata": {},
   "outputs": [
    {
     "name": "stdout",
     "output_type": "stream",
     "text": [
      "       *\n",
      "      ***\n",
      "     *****\n",
      "    *******\n",
      "   *********\n",
      "  ***********\n",
      " *************\n",
      "***************\n"
     ]
    }
   ],
   "source": [
    "def draw_triangle():\n",
    "    for i in range(8):\n",
    "        print(' ' * (8 - 1 - i) + '*' * (1 + i*2))\n",
    "draw_triangle()"
   ]
  },
  {
   "cell_type": "markdown",
   "id": "d407faa1",
   "metadata": {},
   "source": [
    "### 2"
   ]
  },
  {
   "cell_type": "markdown",
   "id": "3a4b6a86",
   "metadata": {},
   "source": [
    "Интернет магазин осуществляет экспресс доставку для своих товаров по цене $1000$ рублей за первый товар и $120$ рублей за каждый последующий товар. Напишите функцию `get_shipping_cost(quantity)`, которая принимает в качестве аргумента натуральное число `quantity` – количество товаров в заказе и возвращает стоимость доставки."
   ]
  },
  {
   "cell_type": "code",
   "execution_count": 12,
   "id": "514bb9b6",
   "metadata": {},
   "outputs": [
    {
     "name": "stdout",
     "output_type": "stream",
     "text": [
      "2\n",
      "1120\n"
     ]
    }
   ],
   "source": [
    "# объявление функции\n",
    "def get_shipping_cost(quantity):\n",
    "    cost = 0\n",
    "    if quantity > 1:\n",
    "        cost += 1000\n",
    "        for i in range(quantity - 1):\n",
    "            cost += 120\n",
    "    else:\n",
    "        cost = 1000\n",
    "    return cost\n",
    "\n",
    "# считываем данные\n",
    "n = int(input())\n",
    "\n",
    "# вызываем функцию\n",
    "print(get_shipping_cost(n))"
   ]
  },
  {
   "cell_type": "markdown",
   "id": "31e3a312",
   "metadata": {},
   "source": [
    "### 3"
   ]
  },
  {
   "cell_type": "markdown",
   "id": "350bf534",
   "metadata": {},
   "source": [
    "Напишите функцию `compute_binom(n, k)`, которая принимает в качестве аргументов два натуральных числа $n$ и $k$ и возвращает значение биномиального коэффициента, равного $\\dfrac{n!}{k! (n-k)!}$."
   ]
  },
  {
   "cell_type": "code",
   "execution_count": 15,
   "id": "60359c84",
   "metadata": {},
   "outputs": [
    {
     "name": "stdout",
     "output_type": "stream",
     "text": [
      "3\n",
      "1\n",
      "3\n"
     ]
    }
   ],
   "source": [
    "def compute_binom(n, k):\n",
    "    from math import factorial\n",
    "    binom = int(factorial(n) / (factorial(k) * factorial(n - k)))\n",
    "    return binom\n",
    "\n",
    "# считываем данные\n",
    "n = int(input())\n",
    "k = int(input())\n",
    "\n",
    "# вызываем функцию\n",
    "print(compute_binom(n, k))"
   ]
  },
  {
   "cell_type": "markdown",
   "id": "d6762905",
   "metadata": {},
   "source": [
    "### 4"
   ]
  },
  {
   "cell_type": "markdown",
   "id": "9a167f44",
   "metadata": {},
   "source": [
    "Напишите функцию `number_to_words(num)`, которая принимает в качестве аргумента натуральное число `num` и возвращает его словесное описание на русском языке.\n",
    "\n",
    "**Примечание 1.** Считайте, что число $1≤num ≤99$."
   ]
  },
  {
   "cell_type": "code",
   "execution_count": 31,
   "id": "38d1bbd6",
   "metadata": {},
   "outputs": [
    {
     "name": "stdout",
     "output_type": "stream",
     "text": [
      "один\n",
      "два\n",
      "три\n",
      "четыре\n",
      "пять\n",
      "шесть\n",
      "семь\n",
      "восемь\n",
      "девять\n",
      "десять\n",
      "одиннадцать\n",
      "двенадцать\n",
      "тринадцать\n",
      "четырнадцать\n",
      "пятнадцать\n",
      "шестнадцать\n",
      "семнадцать\n",
      "восемнадцать\n",
      "девятнадцать\n",
      "двадцать\n",
      "двадцать один\n",
      "двадцать два\n",
      "двадцать три\n",
      "двадцать четыре\n",
      "двадцать пять\n",
      "двадцать шесть\n",
      "двадцать семь\n",
      "двадцать восемь\n",
      "двадцать девять\n",
      "тридцать\n",
      "тридцать один\n",
      "тридцать два\n",
      "тридцать три\n",
      "тридцать четыре\n",
      "тридцать пять\n",
      "тридцать шесть\n",
      "тридцать семь\n",
      "тридцать восемь\n",
      "тридцать девять\n",
      "сорок\n",
      "сорок один\n",
      "сорок два\n",
      "сорок три\n",
      "сорок четыре\n",
      "сорок пять\n",
      "сорок шесть\n",
      "сорок семь\n",
      "сорок восемь\n",
      "сорок девять\n",
      "пятьдесят\n",
      "пятьдесят один\n",
      "пятьдесят два\n",
      "пятьдесят три\n",
      "пятьдесят четыре\n",
      "пятьдесят пять\n",
      "пятьдесят шесть\n",
      "пятьдесят семь\n",
      "пятьдесят восемь\n",
      "пятьдесят девять\n",
      "шестьдесят\n",
      "шестьдесят один\n",
      "шестьдесят два\n",
      "шестьдесят три\n",
      "шестьдесят четыре\n",
      "шестьдесят пять\n",
      "шестьдесят шесть\n",
      "шестьдесят семь\n",
      "шестьдесят восемь\n",
      "шестьдесят девять\n",
      "семьдесят\n",
      "семьдесят один\n",
      "семьдесят два\n",
      "семьдесят три\n",
      "семьдесят четыре\n",
      "семьдесят пять\n",
      "семьдесят шесть\n",
      "семьдесят семь\n",
      "семьдесят восемь\n",
      "семьдесят девять\n",
      "восемьдесят\n",
      "восемьдесят один\n",
      "восемьдесят два\n",
      "восемьдесят три\n",
      "восемьдесят четыре\n",
      "восемьдесят пять\n",
      "восемьдесят шесть\n",
      "восемьдесят семь\n",
      "восемьдесят восемь\n",
      "восемьдесят девять\n",
      "девяносто\n",
      "девяносто один\n",
      "девяносто два\n",
      "девяносто три\n",
      "девяносто четыре\n",
      "девяносто пять\n",
      "девяносто шесть\n",
      "девяносто семь\n",
      "девяносто восемь\n",
      "девяносто девять\n"
     ]
    }
   ],
   "source": [
    "def number_to_words(num):\n",
    "    output = ''\n",
    "    list_1 = ['один', 'два', 'три', 'четыре', 'пять', 'шесть', 'семь', 'восемь', 'девять', 'десять']\n",
    "    list_11 = ['одиннадцать', 'двенадцать', 'тринадцать', 'четырнадцать', 'пятнадцать', 'шестнадцать', \n",
    "               'семнадцать', 'восемнадцать', 'девятнадцать']\n",
    "    list_20 = ['двадцать', 'тридцать', 'сорок', 'пятьдесят', 'шестьдесят', 'семьдесят', 'восемьдесят', 'девяносто']\n",
    "    if num in range(1, 11):\n",
    "        output = output + list_1[num - 1]\n",
    "    elif num in range(11, 20):\n",
    "        output = output + list_11[num % 10 - 1]\n",
    "    elif num in range(20, 100) and num not in range(20, 100, 10):\n",
    "        output = output + list_20[(num // 10) - 2] + ' ' + list_1[num % 10 - 1]\n",
    "    elif num in range(20, 100, 10):\n",
    "        output = output + list_20[(num // 10) - 2]\n",
    "    return output\n",
    "        \n",
    "for i in range(1, 100):\n",
    "    print(number_to_words(i))"
   ]
  },
  {
   "cell_type": "markdown",
   "id": "9105156b",
   "metadata": {},
   "source": [
    "### 5"
   ]
  },
  {
   "cell_type": "markdown",
   "id": "aa1cc14e",
   "metadata": {},
   "source": [
    "Напишите функцию `get_month(language, number)`, которая принимает на вход два аргумента `language` – язык `ru` или `en` и `number` – номер месяца (от 1 до 12) и возвращает название месяца на русском или английском языке."
   ]
  },
  {
   "cell_type": "code",
   "execution_count": 33,
   "id": "60851506",
   "metadata": {},
   "outputs": [
    {
     "name": "stdout",
     "output_type": "stream",
     "text": [
      "ru\n",
      "5\n",
      "май\n"
     ]
    }
   ],
   "source": [
    "def get_month(language, number):\n",
    "    en = ['january', 'february', 'march', 'april', 'may', 'june', \n",
    "          'july', 'august', 'september', 'october', 'november', 'december']\n",
    "    ru = ['январь', 'февраль', 'март', 'апрель', 'май', 'июнь',\n",
    "         'июль', 'август', 'сентябрь', 'октябрь', 'ноябрь', 'декабрь']\n",
    "    if language == 'en':\n",
    "        output = en[num - 1]\n",
    "    elif language == 'ru':\n",
    "        output = ru[num - 1]\n",
    "    return output\n",
    "\n",
    "# считываем данные\n",
    "lan = input()\n",
    "num = int(input())\n",
    "\n",
    "# вызываем функцию\n",
    "print(get_month(lan, num))"
   ]
  },
  {
   "cell_type": "markdown",
   "id": "852d5348",
   "metadata": {},
   "source": [
    "### 6"
   ]
  },
  {
   "cell_type": "markdown",
   "id": "5bd36329",
   "metadata": {},
   "source": [
    "Магическая дата – это дата, когда день, умноженный на месяц, равен числу образованному последними двумя цифрами года.\n",
    "\n",
    "Напишите функцию, `is_magic(date)` которая принимает в качестве аргумента строковое представление корректой даты и возвращает значение `True` если дата является магической и `False` в противном случае."
   ]
  },
  {
   "cell_type": "code",
   "execution_count": 35,
   "id": "66a229b6",
   "metadata": {},
   "outputs": [
    {
     "name": "stdout",
     "output_type": "stream",
     "text": [
      "10.06.1960\n",
      "True\n"
     ]
    }
   ],
   "source": [
    "def is_magic(date):\n",
    "    date = date.split('.')\n",
    "    if int(date[0]) * int(date[1]) == int(date[2][-2:]):\n",
    "        return True\n",
    "    else:\n",
    "        return False\n",
    "\n",
    "# считываем данные\n",
    "date = input()\n",
    "\n",
    "# вызываем функцию\n",
    "print(is_magic(date))"
   ]
  },
  {
   "cell_type": "markdown",
   "id": "9deae836",
   "metadata": {},
   "source": [
    "### 7"
   ]
  },
  {
   "cell_type": "markdown",
   "id": "a768cd17",
   "metadata": {},
   "source": [
    "Панграмма – это фраза, содержащая в себе все буквы алфавита. Обычно панграммы используют для презентации шрифтов, чтобы можно было в одной фразе рассмотреть все глифы.\n",
    "\n",
    "Напишите функцию, `is_pangram(text)` которая принимает в качестве аргумента строку текста на английском языке и возвращает значение `True` если текст является панграммой и `False` в противном случае.\n",
    "\n",
    "**Примечание 1.** Гарантируется, что введенная строка содержит только буквы английского алфавита."
   ]
  },
  {
   "cell_type": "code",
   "execution_count": 42,
   "id": "8367d014",
   "metadata": {},
   "outputs": [
    {
     "name": "stdout",
     "output_type": "stream",
     "text": [
      "Jackdaws love my big sphinx of quartz\n",
      "True\n"
     ]
    }
   ],
   "source": [
    "def is_pangram(text):\n",
    "    letters = [chr(i) for i in range(97, 123)]\n",
    "    iteration = 0\n",
    "    for s in text.lower():\n",
    "        if s in letters:\n",
    "            letters.remove(s)\n",
    "            iteration += 1\n",
    "    if len(letters) == 0 and iteration == 26:\n",
    "        return True\n",
    "    else:\n",
    "        return False\n",
    "    \n",
    "text = input()\n",
    "\n",
    "# вызываем функцию\n",
    "print(is_pangram(text))"
   ]
  }
 ],
 "metadata": {
  "kernelspec": {
   "display_name": "Python 3 (ipykernel)",
   "language": "python",
   "name": "python3"
  },
  "language_info": {
   "codemirror_mode": {
    "name": "ipython",
    "version": 3
   },
   "file_extension": ".py",
   "mimetype": "text/x-python",
   "name": "python",
   "nbconvert_exporter": "python",
   "pygments_lexer": "ipython3",
   "version": "3.9.13"
  },
  "toc": {
   "base_numbering": 1,
   "nav_menu": {},
   "number_sections": true,
   "sideBar": true,
   "skip_h1_title": true,
   "title_cell": "Table of Contents",
   "title_sidebar": "Contents",
   "toc_cell": true,
   "toc_position": {},
   "toc_section_display": true,
   "toc_window_display": false
  }
 },
 "nbformat": 4,
 "nbformat_minor": 5
}
