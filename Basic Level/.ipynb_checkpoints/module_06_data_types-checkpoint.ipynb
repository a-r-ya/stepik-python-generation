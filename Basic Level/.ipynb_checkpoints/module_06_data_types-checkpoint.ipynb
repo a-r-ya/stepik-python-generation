{
 "cells": [
  {
   "cell_type": "markdown",
   "id": "510abd45",
   "metadata": {
    "toc": true
   },
   "source": [
    "<h1>Table of Contents<span class=\"tocSkip\"></span></h1>\n",
    "<div class=\"toc\"><ul class=\"toc-item\"><li><span><a href=\"#Числовые-типы-данных:-int,-float\" data-toc-modified-id=\"Числовые-типы-данных:-int,-float-1\"><span class=\"toc-item-num\">1&nbsp;&nbsp;</span>Числовые типы данных: int, float</a></span><ul class=\"toc-item\"><li><span><a href=\"#1\" data-toc-modified-id=\"1-1.1\"><span class=\"toc-item-num\">1.1&nbsp;&nbsp;</span>1</a></span></li><li><span><a href=\"#2\" data-toc-modified-id=\"2-1.2\"><span class=\"toc-item-num\">1.2&nbsp;&nbsp;</span>2</a></span></li><li><span><a href=\"#3\" data-toc-modified-id=\"3-1.3\"><span class=\"toc-item-num\">1.3&nbsp;&nbsp;</span>3</a></span></li><li><span><a href=\"#4\" data-toc-modified-id=\"4-1.4\"><span class=\"toc-item-num\">1.4&nbsp;&nbsp;</span>4</a></span></li><li><span><a href=\"#5\" data-toc-modified-id=\"5-1.5\"><span class=\"toc-item-num\">1.5&nbsp;&nbsp;</span>5</a></span></li><li><span><a href=\"#6\" data-toc-modified-id=\"6-1.6\"><span class=\"toc-item-num\">1.6&nbsp;&nbsp;</span>6</a></span></li><li><span><a href=\"#7\" data-toc-modified-id=\"7-1.7\"><span class=\"toc-item-num\">1.7&nbsp;&nbsp;</span>7</a></span></li><li><span><a href=\"#8\" data-toc-modified-id=\"8-1.8\"><span class=\"toc-item-num\">1.8&nbsp;&nbsp;</span>8</a></span></li><li><span><a href=\"#9\" data-toc-modified-id=\"9-1.9\"><span class=\"toc-item-num\">1.9&nbsp;&nbsp;</span>9</a></span></li><li><span><a href=\"#10\" data-toc-modified-id=\"10-1.10\"><span class=\"toc-item-num\">1.10&nbsp;&nbsp;</span>10</a></span></li><li><span><a href=\"#11\" data-toc-modified-id=\"11-1.11\"><span class=\"toc-item-num\">1.11&nbsp;&nbsp;</span>11</a></span></li><li><span><a href=\"#12\" data-toc-modified-id=\"12-1.12\"><span class=\"toc-item-num\">1.12&nbsp;&nbsp;</span>12</a></span></li></ul></li><li><span><a href=\"#Модуль-math\" data-toc-modified-id=\"Модуль-math-2\"><span class=\"toc-item-num\">2&nbsp;&nbsp;</span>Модуль math</a></span><ul class=\"toc-item\"><li><span><a href=\"#1\" data-toc-modified-id=\"1-2.1\"><span class=\"toc-item-num\">2.1&nbsp;&nbsp;</span>1</a></span></li><li><span><a href=\"#2\" data-toc-modified-id=\"2-2.2\"><span class=\"toc-item-num\">2.2&nbsp;&nbsp;</span>2</a></span></li><li><span><a href=\"#3\" data-toc-modified-id=\"3-2.3\"><span class=\"toc-item-num\">2.3&nbsp;&nbsp;</span>3</a></span></li><li><span><a href=\"#4\" data-toc-modified-id=\"4-2.4\"><span class=\"toc-item-num\">2.4&nbsp;&nbsp;</span>4</a></span></li><li><span><a href=\"#5\" data-toc-modified-id=\"5-2.5\"><span class=\"toc-item-num\">2.5&nbsp;&nbsp;</span>5</a></span></li><li><span><a href=\"#6\" data-toc-modified-id=\"6-2.6\"><span class=\"toc-item-num\">2.6&nbsp;&nbsp;</span>6</a></span></li><li><span><a href=\"#7\" data-toc-modified-id=\"7-2.7\"><span class=\"toc-item-num\">2.7&nbsp;&nbsp;</span>7</a></span></li></ul></li><li><span><a href=\"#Строковый-тип-данных\" data-toc-modified-id=\"Строковый-тип-данных-3\"><span class=\"toc-item-num\">3&nbsp;&nbsp;</span>Строковый тип данных</a></span><ul class=\"toc-item\"><li><span><a href=\"#1\" data-toc-modified-id=\"1-3.1\"><span class=\"toc-item-num\">3.1&nbsp;&nbsp;</span>1</a></span></li><li><span><a href=\"#2\" data-toc-modified-id=\"2-3.2\"><span class=\"toc-item-num\">3.2&nbsp;&nbsp;</span>2</a></span></li><li><span><a href=\"#3\" data-toc-modified-id=\"3-3.3\"><span class=\"toc-item-num\">3.3&nbsp;&nbsp;</span>3</a></span></li><li><span><a href=\"#4\" data-toc-modified-id=\"4-3.4\"><span class=\"toc-item-num\">3.4&nbsp;&nbsp;</span>4</a></span></li><li><span><a href=\"#5\" data-toc-modified-id=\"5-3.5\"><span class=\"toc-item-num\">3.5&nbsp;&nbsp;</span>5</a></span></li><li><span><a href=\"#6\" data-toc-modified-id=\"6-3.6\"><span class=\"toc-item-num\">3.6&nbsp;&nbsp;</span>6</a></span></li><li><span><a href=\"#7\" data-toc-modified-id=\"7-3.7\"><span class=\"toc-item-num\">3.7&nbsp;&nbsp;</span>7</a></span></li><li><span><a href=\"#8\" data-toc-modified-id=\"8-3.8\"><span class=\"toc-item-num\">3.8&nbsp;&nbsp;</span>8</a></span></li></ul></li></ul></div>"
   ]
  },
  {
   "cell_type": "markdown",
   "id": "79987317",
   "metadata": {},
   "source": [
    "# Типы данных"
   ]
  },
  {
   "cell_type": "markdown",
   "id": "8e29d48c",
   "metadata": {},
   "source": [
    "## Числовые типы данных: int, float"
   ]
  },
  {
   "cell_type": "markdown",
   "id": "0196f765",
   "metadata": {},
   "source": [
    "**Символ-разделитель**"
   ]
  },
  {
   "cell_type": "code",
   "execution_count": 115,
   "id": "ff01f168",
   "metadata": {},
   "outputs": [
    {
     "name": "stdout",
     "output_type": "stream",
     "text": [
      "25000000\n",
      "25000000\n"
     ]
    }
   ],
   "source": [
    "num1 = 25_000_000 # для удобства разделители\n",
    "num2 = 25000000\n",
    "print(num1)\n",
    "print(num2)"
   ]
  },
  {
   "cell_type": "markdown",
   "id": "ff30a9fe",
   "metadata": {},
   "source": [
    "### 1"
   ]
  },
  {
   "cell_type": "markdown",
   "id": "963da2c6",
   "metadata": {},
   "source": [
    "Напишите программу, которая считывает длины двух катетов в прямоугольном треугольнике и выводит его площадь."
   ]
  },
  {
   "cell_type": "code",
   "execution_count": 58,
   "id": "fa0fc01c",
   "metadata": {},
   "outputs": [
    {
     "name": "stdout",
     "output_type": "stream",
     "text": [
      "32.2\n",
      "22.5\n",
      "362.25000000000006\n"
     ]
    }
   ],
   "source": [
    "a, b = float(input()), float(input())\n",
    "print(1/2 * a * b)"
   ]
  },
  {
   "cell_type": "markdown",
   "id": "62d4361a",
   "metadata": {},
   "source": [
    "### 2"
   ]
  },
  {
   "cell_type": "markdown",
   "id": "ae3d7404",
   "metadata": {},
   "source": [
    "Две старушки идут навстречу друг другу с постоянными скоростями $V_1$ и $V_2$ км/ч. Определите, через какое время старушки встретятся, если расстояние между ними равно $S$ км."
   ]
  },
  {
   "cell_type": "code",
   "execution_count": 59,
   "id": "7bdce1e3",
   "metadata": {},
   "outputs": [
    {
     "name": "stdout",
     "output_type": "stream",
     "text": [
      "60\n",
      "15.5\n",
      "14.5\n",
      "2.0\n"
     ]
    }
   ],
   "source": [
    "s, v1 , v2 = float(input()), float(input()), float(input())\n",
    "v3 = v1 + v2\n",
    "print(s / v3)"
   ]
  },
  {
   "cell_type": "markdown",
   "id": "484083a0",
   "metadata": {},
   "source": [
    "### 3"
   ]
  },
  {
   "cell_type": "markdown",
   "id": "54abecff",
   "metadata": {},
   "source": [
    "Напишите программу, которая считывает с клавиатуры одно число и выводит обратное ему. Если при этом введённое с клавиатуры число – ноль, то вывести «Обратного числа не существует» (без кавычек)."
   ]
  },
  {
   "cell_type": "code",
   "execution_count": 60,
   "id": "43e4eda3",
   "metadata": {},
   "outputs": [
    {
     "name": "stdout",
     "output_type": "stream",
     "text": [
      "0\n",
      "Обратного числа не существует\n"
     ]
    }
   ],
   "source": [
    "num = float(input())\n",
    "if num != 0:\n",
    "    print(1 / num)\n",
    "else:\n",
    "    print('Обратного числа не существует')"
   ]
  },
  {
   "cell_type": "markdown",
   "id": "5da66796",
   "metadata": {},
   "source": [
    "### 4"
   ]
  },
  {
   "cell_type": "markdown",
   "id": "7caac41e",
   "metadata": {},
   "source": [
    "У известного американского писателя Рэя Бредбери есть роман «451 градус по Фаренгейту». Напишите программу, которая определяет, какой температуре по шкале Цельсия соответствует указанное значение по шкале Фаренгейта.\n",
    "\n",
    "Используйте формулу для перевода: $C = \\dfrac{5}{9}\\left(F - 32\\right)$."
   ]
  },
  {
   "cell_type": "code",
   "execution_count": 61,
   "id": "e6f8605e",
   "metadata": {},
   "outputs": [
    {
     "name": "stdout",
     "output_type": "stream",
     "text": [
      "275\n",
      "135.0\n"
     ]
    }
   ],
   "source": [
    "f = float(input())\n",
    "print(5 / 9 * (f - 32))"
   ]
  },
  {
   "cell_type": "markdown",
   "id": "363b8398",
   "metadata": {},
   "source": [
    "### 5"
   ]
  },
  {
   "cell_type": "markdown",
   "id": "a849569f",
   "metadata": {},
   "source": [
    "На вход программе подается число $n$ – количество собачьих лет. Напишите программу, которая вычисляет возраст собаки в человеческих годах.\n",
    "\n",
    "**Формат входных данных.** На вход программе подаётся натуральное число – количество собачьих лет.\n",
    "\n",
    "**Формат выходных данных.** Программа должна вывести возраст собаки в человеческих годах.\n",
    "\n",
    "**Примечание.** В течение первых двух лет собачий год равен $10.5$ человеческим годам. После этого каждый год собаки равен 4 человеческим годам."
   ]
  },
  {
   "cell_type": "code",
   "execution_count": 116,
   "id": "209f4bd6",
   "metadata": {},
   "outputs": [
    {
     "name": "stdout",
     "output_type": "stream",
     "text": [
      "3\n",
      "25.0\n"
     ]
    }
   ],
   "source": [
    "n = int(input())\n",
    "age = 0\n",
    "if n > 2:\n",
    "    age = (n - 2) * 4 + 10.5 * 2\n",
    "    print(age)\n",
    "else:\n",
    "    age = n * 10.5\n",
    "    print(age)"
   ]
  },
  {
   "cell_type": "markdown",
   "id": "5b4c8aa5",
   "metadata": {},
   "source": [
    "### 6"
   ]
  },
  {
   "cell_type": "markdown",
   "id": "3d6a5afd",
   "metadata": {},
   "source": [
    "Дано положительное действительное число. Выведите его первую цифру после десятичной точки."
   ]
  },
  {
   "cell_type": "code",
   "execution_count": 119,
   "id": "d10f1874",
   "metadata": {},
   "outputs": [
    {
     "name": "stdout",
     "output_type": "stream",
     "text": [
      "47.29\n",
      "2\n"
     ]
    }
   ],
   "source": [
    "n = float(input())\n",
    "print(int((n * 10) % 10))"
   ]
  },
  {
   "cell_type": "markdown",
   "id": "9ae150d8",
   "metadata": {},
   "source": [
    "### 7"
   ]
  },
  {
   "cell_type": "markdown",
   "id": "11b9451c",
   "metadata": {},
   "source": [
    "Дано положительное действительное число. Выведите его дробную часть."
   ]
  },
  {
   "cell_type": "code",
   "execution_count": 2,
   "id": "ff5c50fd",
   "metadata": {},
   "outputs": [
    {
     "name": "stdout",
     "output_type": "stream",
     "text": [
      "36.3952\n",
      "0.39520000000000266\n"
     ]
    }
   ],
   "source": [
    "num = float(input())\n",
    "num_int = int(num)\n",
    "print(num - num_int)"
   ]
  },
  {
   "cell_type": "markdown",
   "id": "3e4d9ce9",
   "metadata": {},
   "source": [
    "### 8"
   ]
  },
  {
   "cell_type": "markdown",
   "id": "264c1703",
   "metadata": {},
   "source": [
    "Напишите программу, которая находит наименьшее и наибольшее из пяти чисел. На вход программе подается пять целых чисел, каждое на отдельной строке."
   ]
  },
  {
   "cell_type": "code",
   "execution_count": 5,
   "id": "53081813",
   "metadata": {},
   "outputs": [
    {
     "name": "stdout",
     "output_type": "stream",
     "text": [
      "3\n",
      "-8\n",
      "1\n",
      "0\n",
      "2\n",
      "Наименьшее число = -8\n",
      "Наибольшее число = 3\n"
     ]
    }
   ],
   "source": [
    "n1, n2, n3, n4, n5 = int(input()), int(input()), int(input()), int(input()), int(input())\n",
    "print('Наименьшее число =', min(n1, n2, n3, n4, n5))\n",
    "print('Наибольшее число =', max(n1, n2, n3, n4, n5))"
   ]
  },
  {
   "cell_type": "markdown",
   "id": "a44e17d0",
   "metadata": {},
   "source": [
    "### 9"
   ]
  },
  {
   "cell_type": "markdown",
   "id": "718941fc",
   "metadata": {},
   "source": [
    "Напишите программу, которая упорядочивает три числа от большего к меньшему."
   ]
  },
  {
   "cell_type": "code",
   "execution_count": 7,
   "id": "506faca3",
   "metadata": {},
   "outputs": [
    {
     "name": "stdout",
     "output_type": "stream",
     "text": [
      "132\n",
      "129\n",
      "135\n",
      "135\n",
      "132\n",
      "129\n"
     ]
    }
   ],
   "source": [
    "n1, n2, n3 = int(input()), int(input()), int(input())\n",
    "n_max = max(n1, n2, n3)\n",
    "n_min = min(n1, n2, n3)\n",
    "n_all = n1 + n2 + n3\n",
    "print(n_max)\n",
    "print(n_all - n_max - n_min)\n",
    "print(n_min)"
   ]
  },
  {
   "cell_type": "markdown",
   "id": "670ef6ca",
   "metadata": {},
   "source": [
    "### 10"
   ]
  },
  {
   "cell_type": "markdown",
   "id": "1b3e8e53",
   "metadata": {},
   "source": [
    "Назовем число интересным, если в нем разность максимальной и минимальной цифры равняется средней по величине цифре. Напишите программу, которая определяет интересное число или нет. Если число интересное, следует вывести – «Число интересное» иначе «Число неинтересное»."
   ]
  },
  {
   "cell_type": "code",
   "execution_count": 8,
   "id": "a889e91d",
   "metadata": {},
   "outputs": [
    {
     "name": "stdout",
     "output_type": "stream",
     "text": [
      "312\n",
      "Число интересное\n"
     ]
    }
   ],
   "source": [
    "number = int(input())\n",
    "digit1 = (number % 1000) // 100\n",
    "digit2 = (number % 100) // 10\n",
    "digit3 = number % 10\n",
    "max_digit = max(digit1, digit2, digit3)\n",
    "min_digit = min(digit1, digit2, digit3)\n",
    "all_digit = digit1 + digit2 + digit3\n",
    "if max_digit - min_digit == all_digit - max_digit - min_digit:\n",
    "    print('Число интересное')\n",
    "else:\n",
    "    print('Число неинтересное')"
   ]
  },
  {
   "cell_type": "markdown",
   "id": "8d2581c5",
   "metadata": {},
   "source": [
    "### 11"
   ]
  },
  {
   "cell_type": "markdown",
   "id": "c30120f9",
   "metadata": {},
   "source": [
    "Даны пять чисел $a_1, a_2, a_3, a_4, a_5$. Напишите программу, которая вычисляет сумму их модулей $|a_1| + |a_2| +|a_3| +|a_4| + |a_5|$."
   ]
  },
  {
   "cell_type": "code",
   "execution_count": 9,
   "id": "43a6d027",
   "metadata": {},
   "outputs": [
    {
     "name": "stdout",
     "output_type": "stream",
     "text": [
      "-12\n",
      "145.23\n",
      "462.23456\n",
      "24\n",
      "-45.3\n",
      "688.76456\n"
     ]
    }
   ],
   "source": [
    "a1, a2, a3, a4, a5 = float(input()), float(input()), float(input()), float(input()), float(input())\n",
    "print(abs(a1) + abs(a2) + abs(a3) + abs(a4) + abs(a5))"
   ]
  },
  {
   "cell_type": "markdown",
   "id": "0e3d1efb",
   "metadata": {},
   "source": [
    "### 12"
   ]
  },
  {
   "cell_type": "markdown",
   "id": "ee23d5b0",
   "metadata": {},
   "source": [
    "Прогуливаясь по Манхэттену, вы не можете попасть из точки А в точку Б по кратчайшему пути. Если только вы не умеете проходить сквозь стены, вам обязательно придется идти вдоль его параллельно-перпендикулярных улиц.\n",
    "\n",
    "На плоскости манхэттенское расстояние между двумя точками $(p_1; p_2)$ и $(q_1; q_2)$ определяется так $|p_1-q_1|+|p_2-q_2|$.\n",
    "\n",
    "Напишите программу определяющую манхэттенское расстояние между двумя точками, координаты которых заданы.\n",
    "\n",
    "<img src=\"https://ucarecdn.com/d3720269-108b-48fb-9ca5-f24af59fb358/\" width=\"200\" height=\"200\">"
   ]
  },
  {
   "cell_type": "code",
   "execution_count": 11,
   "id": "4c043d25",
   "metadata": {},
   "outputs": [
    {
     "name": "stdout",
     "output_type": "stream",
     "text": [
      "3\n",
      "2\n",
      "5\n",
      "9\n",
      "9\n"
     ]
    }
   ],
   "source": [
    "p1, p2, q1, q2 = int(input()), int(input()), int(input()), int(input())\n",
    "manhattan = abs(p1 - q1) + abs(p2 - q2)\n",
    "print(manhattan)"
   ]
  },
  {
   "cell_type": "markdown",
   "id": "3ac94915",
   "metadata": {},
   "source": [
    "## Модуль math"
   ]
  },
  {
   "cell_type": "markdown",
   "id": "e678365c",
   "metadata": {},
   "source": [
    "**Примеры**"
   ]
  },
  {
   "cell_type": "code",
   "execution_count": 12,
   "id": "250283c8",
   "metadata": {},
   "outputs": [
    {
     "name": "stdout",
     "output_type": "stream",
     "text": [
      "1.4142135623730951\n",
      "4\n",
      "3\n"
     ]
    }
   ],
   "source": [
    "import math\n",
    "\n",
    "num1 = math.sqrt(2)     # вычисление корня квадратного из двух\n",
    "num2 = math.ceil(3.8)   # округление числа вверх\n",
    "num3 = math.floor(3.8)  # округление числа вниз\n",
    "\n",
    "print(num1)\n",
    "print(num2)\n",
    "print(num3)"
   ]
  },
  {
   "cell_type": "code",
   "execution_count": null,
   "id": "7d34a04d",
   "metadata": {},
   "outputs": [],
   "source": [
    "from math import * # все функции из модуля"
   ]
  },
  {
   "cell_type": "code",
   "execution_count": null,
   "id": "a1845749",
   "metadata": {},
   "outputs": [],
   "source": [
    "from math import sqrt, ceil"
   ]
  },
  {
   "cell_type": "markdown",
   "id": "8b1f1607",
   "metadata": {},
   "source": [
    "**Список констант модуля math**"
   ]
  },
  {
   "cell_type": "markdown",
   "id": "36c32479",
   "metadata": {},
   "source": [
    "| Константа      | Описание |\n",
    "| :---  | ----------- |\n",
    "| pi      | π = 3.141592653589793      |\n",
    "| e   | e = 2.718281828459045       |"
   ]
  },
  {
   "cell_type": "markdown",
   "id": "750673cc",
   "metadata": {},
   "source": [
    "**Список функций модуля math**"
   ]
  },
  {
   "cell_type": "markdown",
   "id": "784efb0d",
   "metadata": {},
   "source": [
    "| Функция      | Описание |\n",
    "| :---  | :--- |\n",
    "| int()      | Округляет число в сторону нуля      |\n",
    "| round(x)   | Округляет число x до ближайшего целого. Если дробная часть числа равна 0.5, то число округляется до ближайшего четного числа       |\n",
    "| round(x, n)      | Округляет число x до n знаков после точки      |\n",
    "| floor(x)   | Округляет число x вниз («пол»)       |\n",
    "| ceil(x)      | Округляет число x вверх («потолок»)      |\n",
    "| abs(x)   | Модуль числа x (абсолютная величина)       |\n",
    "| sqrt(x)      | Квадратный корень числа x      |\n",
    "| pow(x, n)   | Возведение числа x в степень n       |\n",
    "| log(x)      | Натуральный логарифм числа x. Основание натурального логарифма равно числу e      |\n",
    "| log10(x)   | Десятичный логарифм числа x. Основание десятичного логарифма равно числу 10       |\n",
    "| log(x, b)      | Логарифм числа x по основанию b      |\n",
    "| factorial(n)   | Факториал натурального числа n       |\n",
    "| degrees(x)      | Преобразует угол x, заданный в радианах, в градусы      |\n",
    "| radians(x)   | Преобразует угол x, заданный в градусах, в радианы       |\n",
    "| cos(x)      | Косинус угла x, задаваемого в радианах      |\n",
    "| sin(x)  | Синус угла x, задаваемого в радианах       |\n",
    "| tan(x)      | Тангенс угла x, задаваемого в радианах      |\n",
    "| acos(x)  | Возвращает угол в радианах от 0 до π, cos которого равен x       |\n",
    "| asin(x)      | Возвращает угол в радианах от -π/2 до π/2, sin которого равен x      |\n",
    "| atan(x)   | Возвращает угол в радианах от -π/2 до π/2, tan которого равен x       |\n",
    "| atan2(y, x)     | Полярный угол (в радианах) точки с координатами (x, y)      |"
   ]
  },
  {
   "cell_type": "markdown",
   "id": "f08bfccb",
   "metadata": {},
   "source": [
    "### 1"
   ]
  },
  {
   "cell_type": "markdown",
   "id": "8160d9f6",
   "metadata": {},
   "source": [
    "На плоскости евклидово расстояние между двумя точками $(x_1; y_1)$ и $(x_2; y_2)$ определяется так $\\rho = \\sqrt{(x_1-x_2)^2 + (y_1-y_2)^2}$.\n",
    "\n",
    "Напишите программу определяющую евклидово расстояние между двумя точками, координаты которых заданы."
   ]
  },
  {
   "cell_type": "code",
   "execution_count": 17,
   "id": "1e759702",
   "metadata": {},
   "outputs": [
    {
     "name": "stdout",
     "output_type": "stream",
     "text": [
      "150\n",
      "100\n",
      "50\n",
      "10\n",
      "134.5362404707371\n"
     ]
    }
   ],
   "source": [
    "import math\n",
    "x1, y1, x2, y2 = float(input()), float(input()), float(input()), float(input())\n",
    "p = math.sqrt((x1 - x2)**2 + (y1 - y2)**2)\n",
    "print(p)"
   ]
  },
  {
   "cell_type": "markdown",
   "id": "027e829a",
   "metadata": {},
   "source": [
    "### 2"
   ]
  },
  {
   "cell_type": "markdown",
   "id": "46fe1283",
   "metadata": {},
   "source": [
    "Напишите программу определяющую площадь круга и длину окружности по заданному радиусу $R$."
   ]
  },
  {
   "cell_type": "code",
   "execution_count": 18,
   "id": "780345ac",
   "metadata": {},
   "outputs": [
    {
     "name": "stdout",
     "output_type": "stream",
     "text": [
      "554.6\n",
      "966294.7126386268\n",
      "3484.654571361799\n"
     ]
    }
   ],
   "source": [
    "import math\n",
    "r = float(input())\n",
    "s = math.pi * r**2\n",
    "c = 2 * math.pi * r\n",
    "print(s)\n",
    "print(c)"
   ]
  },
  {
   "cell_type": "markdown",
   "id": "fecffd9f",
   "metadata": {},
   "source": [
    "### 3"
   ]
  },
  {
   "cell_type": "markdown",
   "id": "4f90174c",
   "metadata": {},
   "source": [
    "В математике выделяют следующие средние значения:\n",
    "\n",
    "* среднее арифметическое чисел $a$ и $b$: $\\dfrac{a+b}{2}$;\n",
    "\n",
    "* среднее геометрическое чисел $a$ и $b$: $\\sqrt{a*b}$;\n",
    "\n",
    "* среднее гармоническое чисел $a$ и $b$: $\\dfrac{2ab}{a+b}$;\n",
    "\n",
    "* среднее квадратичное чисел $a$ и $b$: $\\sqrt{\\dfrac{a^2+b^2}{2}}$.\n",
    "\n",
    "На вход программе подается два вещественных числа $a$ и $b$, каждое на отдельной строке. Программа должна вывести 4 числа – среднее арифметическое, геометрическое, гармоническое и квадратичное."
   ]
  },
  {
   "cell_type": "code",
   "execution_count": 19,
   "id": "55aa3297",
   "metadata": {},
   "outputs": [
    {
     "name": "stdout",
     "output_type": "stream",
     "text": [
      "1.0\n",
      "2.0\n",
      "1.5\n",
      "1.4142135623730951\n",
      "1.3333333333333333\n",
      "1.5811388300841898\n"
     ]
    }
   ],
   "source": [
    "import math\n",
    "a, b = float(input()), float(input())\n",
    "arifm = (a + b) / 2\n",
    "geom = math.sqrt(a * b)\n",
    "garm = (2 * a * b) / (a + b)\n",
    "kvadr = math.sqrt((a**2 + b**2) / 2)\n",
    "print(arifm, geom, garm, kvadr, sep='\\n')"
   ]
  },
  {
   "cell_type": "markdown",
   "id": "444aa48c",
   "metadata": {},
   "source": [
    "### 4"
   ]
  },
  {
   "cell_type": "markdown",
   "id": "d8611550",
   "metadata": {},
   "source": [
    "Напишите программу, вычисляющую значение тригонометрического выражения $sin x + cos x + tan^2 x$ по заданному числу градусов $x$.\n",
    "\n",
    "Программа должна вывести одно число – значение тригонометрического выражения. Тригонометрические функции принимают аргумент в радианах. Чтобы перевести градусы в радианы, воспользуйтесь формулой $ r = \\dfrac{x * π}{180}$."
   ]
  },
  {
   "cell_type": "code",
   "execution_count": 20,
   "id": "fd5e3071",
   "metadata": {},
   "outputs": [
    {
     "name": "stdout",
     "output_type": "stream",
     "text": [
      "45.0\n",
      "2.414213562373095\n"
     ]
    }
   ],
   "source": [
    "import math\n",
    "x = float(input())\n",
    "r = (x * math.pi) / 180\n",
    "print(math.sin(r) + math.cos(r) + math.tan(r)**2)"
   ]
  },
  {
   "cell_type": "markdown",
   "id": "7dd57726",
   "metadata": {},
   "source": [
    "### 5"
   ]
  },
  {
   "cell_type": "markdown",
   "id": "1bfdf30a",
   "metadata": {},
   "source": [
    "Напишите программу, вычисляющую значение $\\lceil x\\rceil + \\lfloor x\\rfloor$ по заданному вещественному числу $x$."
   ]
  },
  {
   "cell_type": "code",
   "execution_count": 21,
   "id": "7089b900",
   "metadata": {},
   "outputs": [
    {
     "name": "stdout",
     "output_type": "stream",
     "text": [
      "5.5\n",
      "11\n"
     ]
    }
   ],
   "source": [
    "import math\n",
    "x = float(input())\n",
    "print(math.ceil(x) + math.floor(x))"
   ]
  },
  {
   "cell_type": "markdown",
   "id": "8e693606",
   "metadata": {},
   "source": [
    "### 6"
   ]
  },
  {
   "cell_type": "markdown",
   "id": "a77e8221",
   "metadata": {},
   "source": [
    "Даны три вещественных числа $a$, $b$, $c$. Напишите программу, которая находит вещественные корни квадратного уравнения \n",
    "$ax^2 + bx + c = 0$.\n",
    "\n",
    "Если уравнение имеет два корня, то следует вывести их в порядке возрастания."
   ]
  },
  {
   "cell_type": "code",
   "execution_count": 22,
   "id": "5a975933",
   "metadata": {},
   "outputs": [
    {
     "name": "stdout",
     "output_type": "stream",
     "text": [
      "1\n",
      "-7.5\n",
      "3\n",
      "0.4239663260874824\n",
      "7.076033673912518\n"
     ]
    }
   ],
   "source": [
    "import math\n",
    "a, b, c = float(input()), float(input()), float(input())\n",
    "d = b**2 - 4 * a * c\n",
    "if d == 0:\n",
    "    print(- b / (2 * a))\n",
    "elif d > 0:\n",
    "    x1 = (-b - math.sqrt(d)) / (2 * a)\n",
    "    x2 = (-b + math.sqrt(d)) / (2 * a)\n",
    "    print(min(x1, x2), max(x1, x2), sep='\\n')\n",
    "elif d < 0:\n",
    "    print('Нет корней')"
   ]
  },
  {
   "cell_type": "markdown",
   "id": "c4d001a0",
   "metadata": {},
   "source": [
    "### 7"
   ]
  },
  {
   "cell_type": "markdown",
   "id": "0a5e271d",
   "metadata": {},
   "source": [
    "Правильный многоугольник — выпуклый многоугольник, у которого равны все стороны и все углы между смежными сторонами. Площадь правильного многоугольника с длиной стороны $a$ и количеством сторон $n$ вычисляется по формуле: \n",
    "$S = \\dfrac{n \\cdot a^2}{4tg(\\dfrac{\\pi}{n})}$\n",
    " \n",
    "Даны два числа: натуральное число $n$ и вещественное число $a$. Напишите программу, которая находит площадь указанного правильного многоугольника."
   ]
  },
  {
   "cell_type": "code",
   "execution_count": 25,
   "id": "162f0066",
   "metadata": {},
   "outputs": [
    {
     "name": "stdout",
     "output_type": "stream",
     "text": [
      "3\n",
      "2.0\n",
      "1.7320508075688779\n"
     ]
    }
   ],
   "source": [
    "import math\n",
    "n, a = int(input()), float(input())\n",
    "s = (n * a**2) / (4 * math.tan(math.pi / n))\n",
    "print(s)"
   ]
  },
  {
   "cell_type": "markdown",
   "id": "d22e4e99",
   "metadata": {},
   "source": [
    "## Строковый тип данных"
   ]
  },
  {
   "cell_type": "markdown",
   "id": "5626280e",
   "metadata": {},
   "source": [
    "### 1"
   ]
  },
  {
   "cell_type": "markdown",
   "id": "9332ca3e",
   "metadata": {},
   "source": [
    "Напишите программу, которая выводит текст:\n",
    "\n",
    "```\"Python is a great language!\", said Fred. \"I don't ever remember having this much fun before.\"```"
   ]
  },
  {
   "cell_type": "code",
   "execution_count": 36,
   "id": "2b693163",
   "metadata": {},
   "outputs": [
    {
     "name": "stdout",
     "output_type": "stream",
     "text": [
      "\"Python is a great language!\", said Fred. \"I don't ever remember having this much fun before.\"\n"
     ]
    }
   ],
   "source": [
    "print('\"Python is a great language!\", said Fred.', '\"I don\\'t ever remember having this much fun before.\"')"
   ]
  },
  {
   "cell_type": "markdown",
   "id": "1c8b7b9a",
   "metadata": {},
   "source": [
    "### 2"
   ]
  },
  {
   "cell_type": "markdown",
   "id": "96fefba5",
   "metadata": {},
   "source": [
    "Напишите программу, которая считывает с клавиатуры две строки – имя и фамилию пользователя и выводит фразу:\n",
    "\n",
    "«Hello [введенное имя] [введенная фамилия]! You just delved into Python»."
   ]
  },
  {
   "cell_type": "code",
   "execution_count": 66,
   "id": "25088982",
   "metadata": {},
   "outputs": [
    {
     "name": "stdout",
     "output_type": "stream",
     "text": [
      "Lina\n",
      "Y\n",
      "Hello Lina Y! You just delved into Python\n"
     ]
    }
   ],
   "source": [
    "firstname, lastname = input(), input()\n",
    "print(f\"Hello {firstname} {lastname}! You just delved into Python\")"
   ]
  },
  {
   "cell_type": "markdown",
   "id": "6592a2a1",
   "metadata": {},
   "source": [
    "### 3"
   ]
  },
  {
   "cell_type": "markdown",
   "id": "82b66c85",
   "metadata": {},
   "source": [
    "Напишите программу, которая считывает с клавиатуры название футбольной команды и выводит фразу:\n",
    "\n",
    "«Футбольная команда [введённая строка] имеет длину [длина введённой строки] символов»."
   ]
  },
  {
   "cell_type": "code",
   "execution_count": 37,
   "id": "2bb5d2f8",
   "metadata": {},
   "outputs": [
    {
     "name": "stdout",
     "output_type": "stream",
     "text": [
      "Барселона\n",
      "Футбольная команда Барселона имеет длину 9 символов\n"
     ]
    }
   ],
   "source": [
    "team = input()\n",
    "print(f\"Футбольная команда {team} имеет длину {len(team)} символов\")"
   ]
  },
  {
   "cell_type": "markdown",
   "id": "86184e0d",
   "metadata": {},
   "source": [
    "### 4"
   ]
  },
  {
   "cell_type": "markdown",
   "id": "4e8053f6",
   "metadata": {},
   "source": [
    "Даны названия трех городов. Напишите программу, которая определяет самое короткое и самое длинное название города."
   ]
  },
  {
   "cell_type": "code",
   "execution_count": 42,
   "id": "ed959050",
   "metadata": {},
   "outputs": [
    {
     "name": "stdout",
     "output_type": "stream",
     "text": [
      "Москва\n",
      "Санкт-Петербург\n",
      "Екатеринбург\n",
      "Москва\n",
      "Санкт-Петербург\n"
     ]
    }
   ],
   "source": [
    "city1, city2, city3 = input(), input(), input()\n",
    "print(min(city1, city2, city3, key=len))\n",
    "print(max(city1, city2, city3, key=len))"
   ]
  },
  {
   "cell_type": "markdown",
   "id": "818c0015",
   "metadata": {},
   "source": [
    "### 5"
   ]
  },
  {
   "cell_type": "markdown",
   "id": "034a2a85",
   "metadata": {},
   "source": [
    "Вводятся 3 строки в случайном порядке. Напишите программу, которая выясняет можно ли из длин этих строк построить возрастающую арифметическую прогрессию."
   ]
  },
  {
   "cell_type": "code",
   "execution_count": 44,
   "id": "d62c544b",
   "metadata": {},
   "outputs": [
    {
     "name": "stdout",
     "output_type": "stream",
     "text": [
      "aaaaaaaaaa10\n",
      "1111111Nm\n",
      "22222r\n",
      "YES\n"
     ]
    }
   ],
   "source": [
    "str1, str2, str3 = input(), input(), input()\n",
    "str_min = min(len(str1), len(str2), len(str3))\n",
    "str_max = max(len(str1), len(str2), len(str3))\n",
    "str_med = len(str1) + len (str2) + len(str3) - str_min - str_max\n",
    "if str_max - str_med == str_med - str_min:\n",
    "    print('YES')\n",
    "else:\n",
    "    print('NO')"
   ]
  },
  {
   "cell_type": "code",
   "execution_count": 45,
   "id": "14fcd6e7",
   "metadata": {},
   "outputs": [
    {
     "name": "stdout",
     "output_type": "stream",
     "text": [
      "3232323\n",
      "ddddd\n",
      "ss\n",
      "NO\n"
     ]
    }
   ],
   "source": [
    "a = len(input())\n",
    "b = len(input())\n",
    "c = len(input())\n",
    "if a - b == b - c or a - c == c - b or b - a == a - c:\n",
    "    print(\"YES\")\n",
    "else:\n",
    "    print(\"NO\")"
   ]
  },
  {
   "cell_type": "markdown",
   "id": "8356663d",
   "metadata": {},
   "source": [
    "### 6"
   ]
  },
  {
   "cell_type": "markdown",
   "id": "0a334a03",
   "metadata": {},
   "source": [
    "Напишите программу, которая считывает одну строку, после чего выводит «YES», если в введенной строке есть подстрока «синий» и «NO» в противном случае."
   ]
  },
  {
   "cell_type": "code",
   "execution_count": 1,
   "id": "fbbc696f",
   "metadata": {},
   "outputs": [
    {
     "name": "stdout",
     "output_type": "stream",
     "text": [
      "темнотемносиний\n",
      "YES\n"
     ]
    }
   ],
   "source": [
    "mystr = input()\n",
    "if 'синий' in mystr:\n",
    "    print('YES')\n",
    "else:\n",
    "    print('NO')"
   ]
  },
  {
   "cell_type": "markdown",
   "id": "c1e716b2",
   "metadata": {},
   "source": [
    "### 7"
   ]
  },
  {
   "cell_type": "markdown",
   "id": "7313d3b0",
   "metadata": {},
   "source": [
    "Напишите программу, которая считывает одну строку, после чего выводит «YES», если в введённой строке есть подстрока «суббота» или «воскресенье», и «NO» в противном случае."
   ]
  },
  {
   "cell_type": "code",
   "execution_count": 4,
   "id": "76e1f6b7",
   "metadata": {},
   "outputs": [
    {
     "name": "stdout",
     "output_type": "stream",
     "text": [
      "Была суббота, и ему хотелось поскорее уехать домой.\n",
      "YES\n"
     ]
    }
   ],
   "source": [
    "mystr = input()\n",
    "if 'суббота' in mystr or 'воскресенье' in mystr:\n",
    "    print('YES')\n",
    "else:\n",
    "    print('NO')"
   ]
  },
  {
   "cell_type": "markdown",
   "id": "465fd176",
   "metadata": {},
   "source": [
    "### 8"
   ]
  },
  {
   "cell_type": "markdown",
   "id": "8d577361",
   "metadata": {},
   "source": [
    "Будем считать email адрес корректным, если в нем есть символ собачки (@) и точки. Напишите программу проверяющую корректность email адреса."
   ]
  },
  {
   "cell_type": "code",
   "execution_count": 5,
   "id": "4b6be40f",
   "metadata": {},
   "outputs": [
    {
     "name": "stdout",
     "output_type": "stream",
     "text": [
      "asdadsyg@uhfudhf.com\n",
      "YES\n"
     ]
    }
   ],
   "source": [
    "mystr = input()\n",
    "if '@' in mystr and '.' in mystr and len(mystr) > 2:\n",
    "    print('YES')\n",
    "else:\n",
    "    print('NO')"
   ]
  }
 ],
 "metadata": {
  "kernelspec": {
   "display_name": "Python 3 (ipykernel)",
   "language": "python",
   "name": "python3"
  },
  "language_info": {
   "codemirror_mode": {
    "name": "ipython",
    "version": 3
   },
   "file_extension": ".py",
   "mimetype": "text/x-python",
   "name": "python",
   "nbconvert_exporter": "python",
   "pygments_lexer": "ipython3",
   "version": "3.9.13"
  },
  "toc": {
   "base_numbering": 1,
   "nav_menu": {},
   "number_sections": true,
   "sideBar": true,
   "skip_h1_title": true,
   "title_cell": "Table of Contents",
   "title_sidebar": "Contents",
   "toc_cell": true,
   "toc_position": {},
   "toc_section_display": true,
   "toc_window_display": false
  }
 },
 "nbformat": 4,
 "nbformat_minor": 5
}
