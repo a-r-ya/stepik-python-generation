{
 "cells": [
  {
   "cell_type": "markdown",
   "id": "b3e4ee9d",
   "metadata": {
    "toc": true
   },
   "source": [
    "<h1>Table of Contents<span class=\"tocSkip\"></span></h1>\n",
    "<div class=\"toc\"><ul class=\"toc-item\"><li><span><a href=\"#Введение-в-списки\" data-toc-modified-id=\"Введение-в-списки-1\"><span class=\"toc-item-num\">1&nbsp;&nbsp;</span>Введение в списки</a></span><ul class=\"toc-item\"><li><span><a href=\"#1\" data-toc-modified-id=\"1-1.1\"><span class=\"toc-item-num\">1.1&nbsp;&nbsp;</span>1</a></span></li><li><span><a href=\"#2\" data-toc-modified-id=\"2-1.2\"><span class=\"toc-item-num\">1.2&nbsp;&nbsp;</span>2</a></span></li></ul></li><li><span><a href=\"#Основы-работы-со-списками\" data-toc-modified-id=\"Основы-работы-со-списками-2\"><span class=\"toc-item-num\">2&nbsp;&nbsp;</span>Основы работы со списками</a></span><ul class=\"toc-item\"><li><span><a href=\"#1\" data-toc-modified-id=\"1-2.1\"><span class=\"toc-item-num\">2.1&nbsp;&nbsp;</span>1</a></span></li><li><span><a href=\"#2\" data-toc-modified-id=\"2-2.2\"><span class=\"toc-item-num\">2.2&nbsp;&nbsp;</span>2</a></span></li><li><span><a href=\"#3\" data-toc-modified-id=\"3-2.3\"><span class=\"toc-item-num\">2.3&nbsp;&nbsp;</span>3</a></span></li><li><span><a href=\"#4\" data-toc-modified-id=\"4-2.4\"><span class=\"toc-item-num\">2.4&nbsp;&nbsp;</span>4</a></span></li><li><span><a href=\"#5\" data-toc-modified-id=\"5-2.5\"><span class=\"toc-item-num\">2.5&nbsp;&nbsp;</span>5</a></span></li><li><span><a href=\"#6\" data-toc-modified-id=\"6-2.6\"><span class=\"toc-item-num\">2.6&nbsp;&nbsp;</span>6</a></span></li><li><span><a href=\"#7\" data-toc-modified-id=\"7-2.7\"><span class=\"toc-item-num\">2.7&nbsp;&nbsp;</span>7</a></span></li><li><span><a href=\"#8\" data-toc-modified-id=\"8-2.8\"><span class=\"toc-item-num\">2.8&nbsp;&nbsp;</span>8</a></span></li></ul></li><li><span><a href=\"#Методы-списков.-Часть-1\" data-toc-modified-id=\"Методы-списков.-Часть-1-3\"><span class=\"toc-item-num\">3&nbsp;&nbsp;</span>Методы списков. Часть 1</a></span><ul class=\"toc-item\"><li><span><a href=\"#1\" data-toc-modified-id=\"1-3.1\"><span class=\"toc-item-num\">3.1&nbsp;&nbsp;</span>1</a></span></li><li><span><a href=\"#2\" data-toc-modified-id=\"2-3.2\"><span class=\"toc-item-num\">3.2&nbsp;&nbsp;</span>2</a></span></li><li><span><a href=\"#3\" data-toc-modified-id=\"3-3.3\"><span class=\"toc-item-num\">3.3&nbsp;&nbsp;</span>3</a></span></li><li><span><a href=\"#4\" data-toc-modified-id=\"4-3.4\"><span class=\"toc-item-num\">3.4&nbsp;&nbsp;</span>4</a></span></li><li><span><a href=\"#5\" data-toc-modified-id=\"5-3.5\"><span class=\"toc-item-num\">3.5&nbsp;&nbsp;</span>5</a></span></li><li><span><a href=\"#6\" data-toc-modified-id=\"6-3.6\"><span class=\"toc-item-num\">3.6&nbsp;&nbsp;</span>6</a></span></li><li><span><a href=\"#7\" data-toc-modified-id=\"7-3.7\"><span class=\"toc-item-num\">3.7&nbsp;&nbsp;</span>7</a></span></li><li><span><a href=\"#8\" data-toc-modified-id=\"8-3.8\"><span class=\"toc-item-num\">3.8&nbsp;&nbsp;</span>8</a></span></li><li><span><a href=\"#9\" data-toc-modified-id=\"9-3.9\"><span class=\"toc-item-num\">3.9&nbsp;&nbsp;</span>9</a></span></li></ul></li><li><span><a href=\"#Вывод-элементов-списка\" data-toc-modified-id=\"Вывод-элементов-списка-4\"><span class=\"toc-item-num\">4&nbsp;&nbsp;</span>Вывод элементов списка</a></span><ul class=\"toc-item\"><li><span><a href=\"#1\" data-toc-modified-id=\"1-4.1\"><span class=\"toc-item-num\">4.1&nbsp;&nbsp;</span>1</a></span></li><li><span><a href=\"#2\" data-toc-modified-id=\"2-4.2\"><span class=\"toc-item-num\">4.2&nbsp;&nbsp;</span>2</a></span></li><li><span><a href=\"#3\" data-toc-modified-id=\"3-4.3\"><span class=\"toc-item-num\">4.3&nbsp;&nbsp;</span>3</a></span></li><li><span><a href=\"#4\" data-toc-modified-id=\"4-4.4\"><span class=\"toc-item-num\">4.4&nbsp;&nbsp;</span>4</a></span></li><li><span><a href=\"#5\" data-toc-modified-id=\"5-4.5\"><span class=\"toc-item-num\">4.5&nbsp;&nbsp;</span>5</a></span></li><li><span><a href=\"#6\" data-toc-modified-id=\"6-4.6\"><span class=\"toc-item-num\">4.6&nbsp;&nbsp;</span>6</a></span></li><li><span><a href=\"#7\" data-toc-modified-id=\"7-4.7\"><span class=\"toc-item-num\">4.7&nbsp;&nbsp;</span>7</a></span></li></ul></li><li><span><a href=\"#Методы-строк:-split,-join\" data-toc-modified-id=\"Методы-строк:-split,-join-5\"><span class=\"toc-item-num\">5&nbsp;&nbsp;</span>Методы строк: split, join</a></span><ul class=\"toc-item\"><li><span><a href=\"#1\" data-toc-modified-id=\"1-5.1\"><span class=\"toc-item-num\">5.1&nbsp;&nbsp;</span>1</a></span></li><li><span><a href=\"#2\" data-toc-modified-id=\"2-5.2\"><span class=\"toc-item-num\">5.2&nbsp;&nbsp;</span>2</a></span></li><li><span><a href=\"#3\" data-toc-modified-id=\"3-5.3\"><span class=\"toc-item-num\">5.3&nbsp;&nbsp;</span>3</a></span></li><li><span><a href=\"#4\" data-toc-modified-id=\"4-5.4\"><span class=\"toc-item-num\">5.4&nbsp;&nbsp;</span>4</a></span></li><li><span><a href=\"#5\" data-toc-modified-id=\"5-5.5\"><span class=\"toc-item-num\">5.5&nbsp;&nbsp;</span>5</a></span></li><li><span><a href=\"#6\" data-toc-modified-id=\"6-5.6\"><span class=\"toc-item-num\">5.6&nbsp;&nbsp;</span>6</a></span></li><li><span><a href=\"#7\" data-toc-modified-id=\"7-5.7\"><span class=\"toc-item-num\">5.7&nbsp;&nbsp;</span>7</a></span></li></ul></li><li><span><a href=\"#Методы-списков.-Часть-2\" data-toc-modified-id=\"Методы-списков.-Часть-2-6\"><span class=\"toc-item-num\">6&nbsp;&nbsp;</span>Методы списков. Часть 2</a></span><ul class=\"toc-item\"><li><span><a href=\"#1\" data-toc-modified-id=\"1-6.1\"><span class=\"toc-item-num\">6.1&nbsp;&nbsp;</span>1</a></span></li><li><span><a href=\"#2\" data-toc-modified-id=\"2-6.2\"><span class=\"toc-item-num\">6.2&nbsp;&nbsp;</span>2</a></span></li><li><span><a href=\"#3\" data-toc-modified-id=\"3-6.3\"><span class=\"toc-item-num\">6.3&nbsp;&nbsp;</span>3</a></span></li><li><span><a href=\"#4\" data-toc-modified-id=\"4-6.4\"><span class=\"toc-item-num\">6.4&nbsp;&nbsp;</span>4</a></span></li><li><span><a href=\"#5\" data-toc-modified-id=\"5-6.5\"><span class=\"toc-item-num\">6.5&nbsp;&nbsp;</span>5</a></span></li></ul></li><li><span><a href=\"#Списочные-выражения\" data-toc-modified-id=\"Списочные-выражения-7\"><span class=\"toc-item-num\">7&nbsp;&nbsp;</span>Списочные выражения</a></span><ul class=\"toc-item\"><li><span><a href=\"#1\" data-toc-modified-id=\"1-7.1\"><span class=\"toc-item-num\">7.1&nbsp;&nbsp;</span>1</a></span></li><li><span><a href=\"#2\" data-toc-modified-id=\"2-7.2\"><span class=\"toc-item-num\">7.2&nbsp;&nbsp;</span>2</a></span></li><li><span><a href=\"#3\" data-toc-modified-id=\"3-7.3\"><span class=\"toc-item-num\">7.3&nbsp;&nbsp;</span>3</a></span></li><li><span><a href=\"#4\" data-toc-modified-id=\"4-7.4\"><span class=\"toc-item-num\">7.4&nbsp;&nbsp;</span>4</a></span></li><li><span><a href=\"#5\" data-toc-modified-id=\"5-7.5\"><span class=\"toc-item-num\">7.5&nbsp;&nbsp;</span>5</a></span></li><li><span><a href=\"#6\" data-toc-modified-id=\"6-7.6\"><span class=\"toc-item-num\">7.6&nbsp;&nbsp;</span>6</a></span></li><li><span><a href=\"#7\" data-toc-modified-id=\"7-7.7\"><span class=\"toc-item-num\">7.7&nbsp;&nbsp;</span>7</a></span></li><li><span><a href=\"#8\" data-toc-modified-id=\"8-7.8\"><span class=\"toc-item-num\">7.8&nbsp;&nbsp;</span>8</a></span></li><li><span><a href=\"#9\" data-toc-modified-id=\"9-7.9\"><span class=\"toc-item-num\">7.9&nbsp;&nbsp;</span>9</a></span></li></ul></li><li><span><a href=\"#Сортировка-списков\" data-toc-modified-id=\"Сортировка-списков-8\"><span class=\"toc-item-num\">8&nbsp;&nbsp;</span>Сортировка списков</a></span><ul class=\"toc-item\"><li><span><a href=\"#1\" data-toc-modified-id=\"1-8.1\"><span class=\"toc-item-num\">8.1&nbsp;&nbsp;</span>1</a></span></li><li><span><a href=\"#2\" data-toc-modified-id=\"2-8.2\"><span class=\"toc-item-num\">8.2&nbsp;&nbsp;</span>2</a></span></li></ul></li><li><span><a href=\"#Итоговая-работа-на-списки\" data-toc-modified-id=\"Итоговая-работа-на-списки-9\"><span class=\"toc-item-num\">9&nbsp;&nbsp;</span>Итоговая работа на списки</a></span><ul class=\"toc-item\"><li><span><a href=\"#1\" data-toc-modified-id=\"1-9.1\"><span class=\"toc-item-num\">9.1&nbsp;&nbsp;</span>1</a></span></li><li><span><a href=\"#2\" data-toc-modified-id=\"2-9.2\"><span class=\"toc-item-num\">9.2&nbsp;&nbsp;</span>2</a></span></li><li><span><a href=\"#3\" data-toc-modified-id=\"3-9.3\"><span class=\"toc-item-num\">9.3&nbsp;&nbsp;</span>3</a></span></li><li><span><a href=\"#4\" data-toc-modified-id=\"4-9.4\"><span class=\"toc-item-num\">9.4&nbsp;&nbsp;</span>4</a></span></li><li><span><a href=\"#5\" data-toc-modified-id=\"5-9.5\"><span class=\"toc-item-num\">9.5&nbsp;&nbsp;</span>5</a></span></li><li><span><a href=\"#6\" data-toc-modified-id=\"6-9.6\"><span class=\"toc-item-num\">9.6&nbsp;&nbsp;</span>6</a></span></li></ul></li></ul></div>"
   ]
  },
  {
   "cell_type": "markdown",
   "id": "35189796",
   "metadata": {},
   "source": [
    "# Списки"
   ]
  },
  {
   "cell_type": "markdown",
   "id": "4fd740a4",
   "metadata": {},
   "source": [
    "## Введение в списки"
   ]
  },
  {
   "cell_type": "markdown",
   "id": "29cc08a4",
   "metadata": {},
   "source": [
    "**Примеры**"
   ]
  },
  {
   "cell_type": "code",
   "execution_count": 261,
   "id": "784e305e",
   "metadata": {},
   "outputs": [],
   "source": [
    "numbers = [2, 4, 6, 8, 10]\n",
    "languages = ['Python', 'C#', 'C++', 'Java']"
   ]
  },
  {
   "cell_type": "code",
   "execution_count": 263,
   "id": "ac0135bc",
   "metadata": {},
   "outputs": [
    {
     "data": {
      "text/plain": [
       "True"
      ]
     },
     "execution_count": 263,
     "metadata": {},
     "output_type": "execute_result"
    }
   ],
   "source": [
    "numbers[0] == 2\n",
    "languages[3] == 'Java'"
   ]
  },
  {
   "cell_type": "code",
   "execution_count": 264,
   "id": "6e376d4b",
   "metadata": {},
   "outputs": [],
   "source": [
    "numbers = list(range(5))\n",
    "even_numbers = list(range(0, 10, 2))  # список содержит четные числа 0, 2, 4, 6, 8\n",
    "odd_numbers = list(range(1, 10, 2))   # список содержит нечетные числа 1, 3, 5, 7, 9"
   ]
  },
  {
   "cell_type": "markdown",
   "id": "93e9c727",
   "metadata": {},
   "source": [
    "### 1"
   ]
  },
  {
   "cell_type": "markdown",
   "id": "f0024780",
   "metadata": {},
   "source": [
    "На вход программе подается одно число $n$. Напишите программу, которая выводит список `[1, 2, 3, ..., n]`."
   ]
  },
  {
   "cell_type": "code",
   "execution_count": 268,
   "id": "8c121173",
   "metadata": {},
   "outputs": [
    {
     "name": "stdout",
     "output_type": "stream",
     "text": [
      "7\n",
      "[1, 2, 3, 4, 5, 6, 7]\n"
     ]
    }
   ],
   "source": [
    "n = int(input())\n",
    "print(list(range(1, n + 1)))"
   ]
  },
  {
   "cell_type": "markdown",
   "id": "4b70d453",
   "metadata": {},
   "source": [
    "### 2"
   ]
  },
  {
   "cell_type": "markdown",
   "id": "08c785f2",
   "metadata": {},
   "source": [
    "На вход программе подается одно число $n$. Напишите программу, которая выводит список, состоящий из $n$ букв английского алфавита `['a', 'b', 'c', ...]` в нижнем регистре. На вход программе подается натуральное число $n$, $n≤26$."
   ]
  },
  {
   "cell_type": "code",
   "execution_count": 269,
   "id": "a6a4c0dd",
   "metadata": {},
   "outputs": [
    {
     "name": "stdout",
     "output_type": "stream",
     "text": [
      "15\n",
      "['a', 'b', 'c', 'd', 'e', 'f', 'g', 'h', 'i', 'j', 'k', 'l', 'm', 'n', 'o']\n"
     ]
    }
   ],
   "source": [
    "n = int(input())\n",
    "A = list(range(97, 97 + n))\n",
    "A = map(chr, A)\n",
    "A = list(A)\n",
    "print(A)"
   ]
  },
  {
   "cell_type": "markdown",
   "id": "4cb6a438",
   "metadata": {},
   "source": [
    "## Основы работы со списками"
   ]
  },
  {
   "cell_type": "markdown",
   "id": "29caf766",
   "metadata": {},
   "source": [
    "**Примеры**"
   ]
  },
  {
   "cell_type": "code",
   "execution_count": 270,
   "id": "a6041c6f",
   "metadata": {},
   "outputs": [
    {
     "name": "stdout",
     "output_type": "stream",
     "text": [
      "5\n",
      "4\n"
     ]
    }
   ],
   "source": [
    "numbers = [2, 4, 6, 8, 10]\n",
    "languages = ['Python', 'C#', 'C++', 'Java']\n",
    "\n",
    "print(len(numbers))      # выводим длину списка numbers\n",
    "print(len(languages))    # выводим длину списка languages"
   ]
  },
  {
   "cell_type": "code",
   "execution_count": 271,
   "id": "2359b9de",
   "metadata": {},
   "outputs": [
    {
     "name": "stdout",
     "output_type": "stream",
     "text": [
      "Список numbers не содержит нулей\n"
     ]
    }
   ],
   "source": [
    "numbers = [2, 4, 6, 8, 10]\n",
    "\n",
    "if 0 not in numbers:\n",
    "    print('Список numbers не содержит нулей')"
   ]
  },
  {
   "cell_type": "code",
   "execution_count": 272,
   "id": "1abb1b32",
   "metadata": {},
   "outputs": [
    {
     "name": "stdout",
     "output_type": "stream",
     "text": [
      "[4, 6]\n",
      "[6, 8, 10]\n"
     ]
    }
   ],
   "source": [
    "numbers = [2, 4, 6, 8, 10]\n",
    "print(numbers[1:3])\n",
    "print(numbers[2:5])"
   ]
  },
  {
   "cell_type": "code",
   "execution_count": 273,
   "id": "cb323b9f",
   "metadata": {},
   "outputs": [
    {
     "name": "stdout",
     "output_type": "stream",
     "text": [
      "[1, 2, 3, 4, 5, 6, 7, 8]\n",
      "[7, 8, 7, 8, 7, 8]\n",
      "[0, 0, 0, 0, 0, 0, 0, 0, 0, 0]\n"
     ]
    }
   ],
   "source": [
    "print([1, 2, 3, 4] + [5, 6, 7, 8])\n",
    "print([7, 8] * 3)\n",
    "print([0] * 10)"
   ]
  },
  {
   "cell_type": "code",
   "execution_count": 274,
   "id": "e6958caf",
   "metadata": {},
   "outputs": [
    {
     "name": "stdout",
     "output_type": "stream",
     "text": [
      "[1, 2, 3, 4, 7, 8]\n",
      "[7, 8, 7, 8, 7, 8, 7, 8, 7, 8]\n"
     ]
    }
   ],
   "source": [
    "a = [1, 2, 3, 4]\n",
    "b = [7, 8]\n",
    "a += b   # добавляем к списку a список b\n",
    "b *= 5   # повторяем список b 5 раз \n",
    "\n",
    "print(a)\n",
    "print(b)"
   ]
  },
  {
   "cell_type": "markdown",
   "id": "1e62a55b",
   "metadata": {},
   "source": [
    "### 1"
   ]
  },
  {
   "cell_type": "markdown",
   "id": "c9560798",
   "metadata": {},
   "source": [
    "Дополните приведенный код, используя индексатор, так чтобы он вывел 17-ый элемент списка `primes`."
   ]
  },
  {
   "cell_type": "code",
   "execution_count": 277,
   "id": "526de515",
   "metadata": {},
   "outputs": [
    {
     "name": "stdout",
     "output_type": "stream",
     "text": [
      "59\n"
     ]
    }
   ],
   "source": [
    "primes = [2, 3, 5, 7, 11, 13, 17, 19, 23, 29, 31, 37, 41, 43, 47, 53, 59, 61, 67, 71]\n",
    "\n",
    "print(primes[16])"
   ]
  },
  {
   "cell_type": "markdown",
   "id": "2eeb98ff",
   "metadata": {},
   "source": [
    "### 2"
   ]
  },
  {
   "cell_type": "markdown",
   "id": "ccea033f",
   "metadata": {},
   "source": [
    "Дополните приведенный код, используя индексатор, так чтобы он вывел последний элемент списка `primes`."
   ]
  },
  {
   "cell_type": "code",
   "execution_count": 278,
   "id": "ab1abd4f",
   "metadata": {},
   "outputs": [
    {
     "name": "stdout",
     "output_type": "stream",
     "text": [
      "71\n"
     ]
    }
   ],
   "source": [
    "primes = [2, 3, 5, 7, 11, 13, 17, 19, 23, 29, 31, 37, 41, 43, 47, 53, 59, 61, 67, 71]\n",
    "\n",
    "print(primes[-1])"
   ]
  },
  {
   "cell_type": "markdown",
   "id": "88a093e9",
   "metadata": {},
   "source": [
    "### 3"
   ]
  },
  {
   "cell_type": "markdown",
   "id": "67d263ed",
   "metadata": {},
   "source": [
    "Дополните приведенный код, используя срезы, так чтобы он вывел первые 6 элементов списка `primes`.\n",
    "\n",
    "**Примечание.** Результатом вывода должна быть строка `[2, 3, 5, 7, 11, 13]`."
   ]
  },
  {
   "cell_type": "code",
   "execution_count": 279,
   "id": "2abe3123",
   "metadata": {},
   "outputs": [
    {
     "name": "stdout",
     "output_type": "stream",
     "text": [
      "[2, 3, 5, 7, 11, 13]\n"
     ]
    }
   ],
   "source": [
    "primes = [2, 3, 5, 7, 11, 13, 17, 19, 23, 29, 31, 37, 41, 43, 47, 53, 59, 61, 67, 71]\n",
    "\n",
    "print(primes[:6])"
   ]
  },
  {
   "cell_type": "markdown",
   "id": "dfb61ff3",
   "metadata": {},
   "source": [
    "### 4"
   ]
  },
  {
   "cell_type": "markdown",
   "id": "f760ded0",
   "metadata": {},
   "source": [
    "Дополните приведенный код, так чтобы он вывел сумму минимального и максимального элементов списка `numbers`."
   ]
  },
  {
   "cell_type": "code",
   "execution_count": 1,
   "id": "bd77ab21",
   "metadata": {},
   "outputs": [
    {
     "name": "stdout",
     "output_type": "stream",
     "text": [
      "13.6618\n"
     ]
    }
   ],
   "source": [
    "numbers = [12.5, 3.1415, 2.718, 9.8, 1.414, 1.1618, 1.324]\n",
    "\n",
    "print(sum([min(numbers), max(numbers)]))"
   ]
  },
  {
   "cell_type": "markdown",
   "id": "b9bf9657",
   "metadata": {},
   "source": [
    "### 5"
   ]
  },
  {
   "cell_type": "markdown",
   "id": "b1399a22",
   "metadata": {},
   "source": [
    "Дополните приведенный код так, чтобы он вывел среднее арифметическое элементов списка `evens`."
   ]
  },
  {
   "cell_type": "code",
   "execution_count": 2,
   "id": "2ef39a73",
   "metadata": {},
   "outputs": [
    {
     "name": "stdout",
     "output_type": "stream",
     "text": [
      "11.0\n"
     ]
    }
   ],
   "source": [
    "evens = [2, 4, 6, 8, 10, 12, 14, 16, 18, 20]\n",
    "average = sum(evens) / len(evens)\n",
    "\n",
    "print(average)"
   ]
  },
  {
   "cell_type": "markdown",
   "id": "b07f820d",
   "metadata": {},
   "source": [
    "### 6"
   ]
  },
  {
   "cell_type": "markdown",
   "id": "89880e7c",
   "metadata": {},
   "source": [
    "Дополните приведенный код так, чтобы элемент списка имеющий значение `Green` заменился на значение `Зеленый`, а элемент `Violet` на `Фиолетовый`. Далее необходимо вывести полученный список."
   ]
  },
  {
   "cell_type": "code",
   "execution_count": 5,
   "id": "d7e11cb3",
   "metadata": {},
   "outputs": [
    {
     "name": "stdout",
     "output_type": "stream",
     "text": [
      "['Red', 'Orange', 'Yellow', 'Зеленый', 'Blue', 'Indigo', 'Фиолетовый']\n"
     ]
    }
   ],
   "source": [
    "rainbow = ['Red', 'Orange', 'Yellow', 'Green', 'Blue', 'Indigo', 'Violet']\n",
    "rainbow[3] = 'Зеленый'\n",
    "rainbow[-1] = 'Фиолетовый'\n",
    "print(rainbow)"
   ]
  },
  {
   "cell_type": "markdown",
   "id": "4943df7d",
   "metadata": {},
   "source": [
    "### 7"
   ]
  },
  {
   "cell_type": "markdown",
   "id": "6a0cbf50",
   "metadata": {},
   "source": [
    "Дополните приведенный код так, чтобы он вывел элементы списка `languages` в обратном порядке."
   ]
  },
  {
   "cell_type": "code",
   "execution_count": 6,
   "id": "c14df66d",
   "metadata": {},
   "outputs": [
    {
     "name": "stdout",
     "output_type": "stream",
     "text": [
      "['Lahnda', 'Japanese', 'Russian', 'Portuguese', 'Bengali', 'Arabic', 'Hindi', 'English', 'Spanish', 'Chinese']\n"
     ]
    }
   ],
   "source": [
    "languages = ['Chinese', 'Spanish', 'English', 'Hindi', 'Arabic', 'Bengali', 'Portuguese', \n",
    "             'Russian', 'Japanese', 'Lahnda']\n",
    "print(languages[::-1])"
   ]
  },
  {
   "cell_type": "markdown",
   "id": "d5e5e6e2",
   "metadata": {},
   "source": [
    "### 8"
   ]
  },
  {
   "cell_type": "markdown",
   "id": "b52f7fef",
   "metadata": {},
   "source": [
    "Дополните приведенный код, используя операторы конкатенации (+) и умножения списка на число (*), так чтобы он вывел список:\n",
    "\n",
    " `[1, 2, 3, 1, 2, 3, 6, 6, 6, 6, 6, 6, 6, 6, 6, 7, 8, 9, 10, 11, 12, 13]`."
   ]
  },
  {
   "cell_type": "code",
   "execution_count": 7,
   "id": "b6670ee9",
   "metadata": {},
   "outputs": [
    {
     "name": "stdout",
     "output_type": "stream",
     "text": [
      "[1, 2, 3, 1, 2, 3, 6, 6, 6, 6, 6, 6, 6, 6, 6, 7, 8, 9, 10, 11, 12, 13]\n"
     ]
    }
   ],
   "source": [
    "numbers1 = [1, 2, 3]\n",
    "numbers2 = [6]\n",
    "numbers3 = [7, 8, 9, 10, 11, 12, 13]\n",
    "\n",
    "print(numbers1 * 2 + numbers2 * 9 + numbers3)"
   ]
  },
  {
   "cell_type": "markdown",
   "id": "59ebd2eb",
   "metadata": {},
   "source": [
    "## Методы списков. Часть 1"
   ]
  },
  {
   "cell_type": "markdown",
   "id": "1a83d21f",
   "metadata": {},
   "source": [
    "**Примеры**"
   ]
  },
  {
   "cell_type": "code",
   "execution_count": 14,
   "id": "4412d69e",
   "metadata": {},
   "outputs": [
    {
     "name": "stdout",
     "output_type": "stream",
     "text": [
      "[1, 1, 2, 3, 5, 8, 13, 21, 34]\n"
     ]
    }
   ],
   "source": [
    "numbers = [1, 1, 2, 3, 5, 8, 13]  # создаем список\n",
    "\n",
    "numbers.append(21)  # добавляем число 21 в конец списка\n",
    "numbers.append(34)  # добавляем число 34 в конец списка\n",
    "\n",
    "print(numbers)"
   ]
  },
  {
   "cell_type": "code",
   "execution_count": 15,
   "id": "e067aec1",
   "metadata": {},
   "outputs": [
    {
     "name": "stdout",
     "output_type": "stream",
     "text": [
      "[0, 2, 4, 6, 8, 10, 1, 3, 5, 7]\n"
     ]
    }
   ],
   "source": [
    "numbers = [0, 2, 4, 6, 8, 10]\n",
    "odds = [1, 3, 5, 7]\n",
    "\n",
    "numbers.extend(odds)\n",
    "print(numbers)"
   ]
  },
  {
   "cell_type": "code",
   "execution_count": 16,
   "id": "4f1af6f8",
   "metadata": {},
   "outputs": [
    {
     "name": "stdout",
     "output_type": "stream",
     "text": [
      "['iq option', 'stepik', 'beegeek', 'python']\n",
      "['iq option', 'stepik', 'beegeek', 'p', 'y', 't', 'h', 'o', 'n']\n"
     ]
    }
   ],
   "source": [
    "words1 = ['iq option', 'stepik', 'beegeek']\n",
    "words2 = ['iq option', 'stepik', 'beegeek']\n",
    "\n",
    "words1.append('python')\n",
    "words2.extend('python')\n",
    "\n",
    "print(words1)\n",
    "print(words2)"
   ]
  },
  {
   "cell_type": "code",
   "execution_count": 17,
   "id": "a4e4588c",
   "metadata": {},
   "outputs": [
    {
     "name": "stdout",
     "output_type": "stream",
     "text": [
      "[1, 2, 3, 4, 5, 7, 8, 9]\n"
     ]
    }
   ],
   "source": [
    "numbers = [1, 2, 3, 4, 5, 6, 7, 8, 9]\n",
    "del numbers[5]    # удаляем элемент имеющий индекс 5\n",
    "\n",
    "print(numbers)"
   ]
  },
  {
   "cell_type": "markdown",
   "id": "2508003e",
   "metadata": {},
   "source": [
    "### 1"
   ]
  },
  {
   "cell_type": "markdown",
   "id": "f9981314",
   "metadata": {},
   "source": [
    "Дополните приведенный код, чтобы он:\n",
    "\n",
    "* Вывел длину списка;\n",
    "* Вывел последний элемент списка;\n",
    "* Вывел список в обратном порядке (вспоминаем срезы);\n",
    "* Вывел `YES` если список содержит числа 5 и 17, и `NO` в противном случае;\n",
    "* Вывел список с удаленным первым и последним элементами.\n",
    "\n",
    "**Примечание.** Каждый вывод осуществлять с новой строки."
   ]
  },
  {
   "cell_type": "code",
   "execution_count": 10,
   "id": "7b8a7c18",
   "metadata": {},
   "outputs": [
    {
     "name": "stdout",
     "output_type": "stream",
     "text": [
      "50\n",
      "5\n",
      "[5, 7, 6, 16, 14, 2, 1, 15, 1, 9, 14, 10, 2, 1, 12, 6, 5, 14, 12, 2, 8, 14, 6, 0, 0, 12, 10, 10, 11, 1, 5, 8, 10, 10, 16, 8, 0, 1, 16, 4, 5, 12, 16, 11, 4, 10, 14, 3, 6, 2]\n",
      "NO\n",
      "[6, 3, 14, 10, 4, 11, 16, 12, 5, 4, 16, 1, 0, 8, 16, 10, 10, 8, 5, 1, 11, 10, 10, 12, 0, 0, 6, 14, 8, 2, 12, 14, 5, 6, 12, 1, 2, 10, 14, 9, 1, 15, 1, 2, 14, 16, 6, 7]\n"
     ]
    }
   ],
   "source": [
    "numbers = [2, 6, 3, 14, 10, 4, 11, 16, 12, 5, 4, 16, 1, 0, 8, \n",
    "           16, 10, 10, 8, 5, 1, 11, 10, 10, 12, 0, 0, 6, 14, 8, \n",
    "           2, 12, 14, 5, 6, 12, 1, 2, 10, 14, 9, 1, 15, 1, 2, 14, 16, 6, 7, 5]\n",
    "print(len(numbers), \n",
    "      numbers[-1], \n",
    "      numbers[::-1], \n",
    "      'YES' if 5 and 17 in numbers else 'NO',\n",
    "      numbers[1:-1], sep='\\n')"
   ]
  },
  {
   "cell_type": "markdown",
   "id": "3bb89e41",
   "metadata": {},
   "source": [
    "### 2"
   ]
  },
  {
   "cell_type": "markdown",
   "id": "7a9135b8",
   "metadata": {},
   "source": [
    "На вход программе подается натуральное число $n$, а затем $n$ строк. Напишите программу, которая создает из указанных строк список и выводит его."
   ]
  },
  {
   "cell_type": "code",
   "execution_count": 19,
   "id": "50ba03ce",
   "metadata": {},
   "outputs": [
    {
     "name": "stdout",
     "output_type": "stream",
     "text": [
      "3\n",
      "C++\n",
      "Python\n",
      "??\n",
      "['C++', 'Python', '??']\n"
     ]
    }
   ],
   "source": [
    "n, list = int(input()), []\n",
    "for i in range(n):\n",
    "    x = input()\n",
    "    list.append(x)\n",
    "print(list)"
   ]
  },
  {
   "cell_type": "markdown",
   "id": "452a7b2e",
   "metadata": {},
   "source": [
    "### 3"
   ]
  },
  {
   "cell_type": "markdown",
   "id": "87a0fb6c",
   "metadata": {},
   "source": [
    "Напишите программу, выводящую следующий список:\n",
    "\n",
    "`['a', 'bb', 'ccc', 'dddd', 'eeeee', 'ffffff', ...]`"
   ]
  },
  {
   "cell_type": "code",
   "execution_count": 4,
   "id": "51a6602d",
   "metadata": {},
   "outputs": [
    {
     "name": "stdout",
     "output_type": "stream",
     "text": [
      "['a', 'bb', 'ccc', 'dddd', 'eeeee', 'ffffff', 'ggggggg', 'hhhhhhhh', 'iiiiiiiii', 'jjjjjjjjjj', 'kkkkkkkkkkk', 'llllllllllll', 'mmmmmmmmmmmmm', 'nnnnnnnnnnnnnn', 'ooooooooooooooo', 'pppppppppppppppp', 'qqqqqqqqqqqqqqqqq', 'rrrrrrrrrrrrrrrrrr', 'sssssssssssssssssss', 'tttttttttttttttttttt', 'uuuuuuuuuuuuuuuuuuuuu', 'vvvvvvvvvvvvvvvvvvvvvv', 'wwwwwwwwwwwwwwwwwwwwwww', 'xxxxxxxxxxxxxxxxxxxxxxxx', 'yyyyyyyyyyyyyyyyyyyyyyyyy', 'zzzzzzzzzzzzzzzzzzzzzzzzzz']\n"
     ]
    }
   ],
   "source": [
    "letters = list(range(97, 123))\n",
    "letters = map(chr, letters)\n",
    "letters = list(letters)\n",
    "order = 1\n",
    "for i in range(0, len(letters)):\n",
    "    letters[i] *= order\n",
    "    order += 1\n",
    "print(letters)"
   ]
  },
  {
   "cell_type": "code",
   "execution_count": 5,
   "id": "3dabb5a3",
   "metadata": {},
   "outputs": [
    {
     "name": "stdout",
     "output_type": "stream",
     "text": [
      "['a', 'bb', 'ccc', 'dddd', 'eeeee', 'ffffff', 'ggggggg', 'hhhhhhhh', 'iiiiiiiii', 'jjjjjjjjjj', 'kkkkkkkkkkk', 'llllllllllll', 'mmmmmmmmmmmmm', 'nnnnnnnnnnnnnn', 'ooooooooooooooo', 'pppppppppppppppp', 'qqqqqqqqqqqqqqqqq', 'rrrrrrrrrrrrrrrrrr', 'sssssssssssssssssss', 'tttttttttttttttttttt', 'uuuuuuuuuuuuuuuuuuuuu', 'vvvvvvvvvvvvvvvvvvvvvv', 'wwwwwwwwwwwwwwwwwwwwwww', 'xxxxxxxxxxxxxxxxxxxxxxxx', 'yyyyyyyyyyyyyyyyyyyyyyyyy', 'zzzzzzzzzzzzzzzzzzzzzzzzzz']\n"
     ]
    }
   ],
   "source": [
    "l = []\n",
    "for i in range(ord('z') - ord('a') + 1):\n",
    "    l.append(chr(ord('a') + i) * (i + 1))\n",
    "print(l)"
   ]
  },
  {
   "cell_type": "markdown",
   "id": "26817f8b",
   "metadata": {},
   "source": [
    "### 4"
   ]
  },
  {
   "cell_type": "markdown",
   "id": "f02945e4",
   "metadata": {},
   "source": [
    "На вход программе подается натуральное число $n$, а затем $n$ целых чисел. Напишите программу, которая создает из указанных чисел список их кубов."
   ]
  },
  {
   "cell_type": "code",
   "execution_count": 7,
   "id": "13a68202",
   "metadata": {},
   "outputs": [
    {
     "name": "stdout",
     "output_type": "stream",
     "text": [
      "3\n",
      "1\n",
      "2\n",
      "3\n",
      "[1, 8, 27]\n"
     ]
    }
   ],
   "source": [
    "l = []\n",
    "for i in range(int(input())):\n",
    "    element = int(input())\n",
    "    l.append(element ** 3)\n",
    "print(l)"
   ]
  },
  {
   "cell_type": "markdown",
   "id": "526bd0c6",
   "metadata": {},
   "source": [
    "### 5"
   ]
  },
  {
   "cell_type": "markdown",
   "id": "84d7a6ce",
   "metadata": {},
   "source": [
    "На вход программе подается натуральное число $n$. Напишите программу, которая создает список состоящий из делителей введенного числа."
   ]
  },
  {
   "cell_type": "code",
   "execution_count": 4,
   "id": "05b2db66",
   "metadata": {},
   "outputs": [
    {
     "name": "stdout",
     "output_type": "stream",
     "text": [
      "25\n",
      "[1, 5, 25]\n"
     ]
    }
   ],
   "source": [
    "n, list = int(input()), []\n",
    "for delimiter in range(1, n + 1):\n",
    "    if n % delimiter == 0:\n",
    "        list.append(delimiter)\n",
    "print(list)"
   ]
  },
  {
   "cell_type": "markdown",
   "id": "8f2c090f",
   "metadata": {},
   "source": [
    "### 6"
   ]
  },
  {
   "cell_type": "markdown",
   "id": "bb88585d",
   "metadata": {},
   "source": [
    "На вход программе подается натуральное число $n≥2$, а затем $n$ целых чисел. Напишите программу, которая создает из указанных чисел список, состоящий из сумм соседних чисел ($0$ и $1$, $1$ и $2$, $2$ и $3$ и т.д.)."
   ]
  },
  {
   "cell_type": "code",
   "execution_count": 15,
   "id": "8dd354c7",
   "metadata": {},
   "outputs": [
    {
     "name": "stdout",
     "output_type": "stream",
     "text": [
      "5\n",
      "1\n",
      "2\n",
      "3\n",
      "4\n",
      "5\n",
      "[3, 5, 7, 9]\n"
     ]
    }
   ],
   "source": [
    "n, plus, list = int(input()), 0, []\n",
    "for i in range(n):\n",
    "    num = int(input())          \n",
    "    plus += num\n",
    "    list.append(plus)\n",
    "    plus = num\n",
    "print(list[1:])"
   ]
  },
  {
   "cell_type": "markdown",
   "id": "b4fa4ae5",
   "metadata": {},
   "source": [
    "### 7"
   ]
  },
  {
   "cell_type": "markdown",
   "id": "4224fad2",
   "metadata": {},
   "source": [
    "На вход программе подается натуральное число $n$, а затем $n$ целых чисел. Напишите программу, которая создает из указанных чисел список, затем удаляет все элементы стоящие по нечетным индексам, а затем выводит полученный список."
   ]
  },
  {
   "cell_type": "code",
   "execution_count": 19,
   "id": "d6f2b4dc",
   "metadata": {},
   "outputs": [
    {
     "name": "stdout",
     "output_type": "stream",
     "text": [
      "10\n",
      "0\n",
      "1\n",
      "2\n",
      "3\n",
      "4\n",
      "5\n",
      "6\n",
      "7\n",
      "8\n",
      "9\n",
      "[0, 2, 4, 6, 8]\n"
     ]
    }
   ],
   "source": [
    "list = []\n",
    "for i in range(int(input())):\n",
    "    num = int(input())\n",
    "    list.append(num)\n",
    "print(list[::2])"
   ]
  },
  {
   "cell_type": "markdown",
   "id": "f07e5f36",
   "metadata": {},
   "source": [
    "### 8"
   ]
  },
  {
   "cell_type": "markdown",
   "id": "fe2ee1d1",
   "metadata": {},
   "source": [
    "На вход программе подается натуральное число $n$ и $n$ строк, а затем число $k$. Напишите программу, которая выводит $k$-ую букву из введенных строк на одной строке без пробелов. Если некоторые строки слишком короткие, и в них нет символа с заданным номером, то такие строки при выводе нужно игнорировать."
   ]
  },
  {
   "cell_type": "code",
   "execution_count": 28,
   "id": "d2450ece",
   "metadata": {},
   "outputs": [
    {
     "name": "stdout",
     "output_type": "stream",
     "text": [
      "3\n",
      "asd\n",
      "cvb\n",
      "dfg\n",
      "2\n",
      "svf"
     ]
    }
   ],
   "source": [
    "n, list = int(input()), []\n",
    "for i in range(n):\n",
    "    string = input()\n",
    "    list.append(string)\n",
    "    if i == n - 1:\n",
    "        k = int(input())\n",
    "        for e in range(n):\n",
    "            print(list[e][k - 1:k], end='')"
   ]
  },
  {
   "cell_type": "markdown",
   "id": "ae9639b6",
   "metadata": {},
   "source": [
    "### 9"
   ]
  },
  {
   "cell_type": "markdown",
   "id": "36e73e73",
   "metadata": {},
   "source": [
    "На вход программе подается натуральное число $n$, а затем $n$ строк. Напишите программу, которая создает список из символов всех строк, а затем выводит его."
   ]
  },
  {
   "cell_type": "code",
   "execution_count": 30,
   "id": "06d9f5c0",
   "metadata": {},
   "outputs": [
    {
     "name": "stdout",
     "output_type": "stream",
     "text": [
      "4\n",
      "abc\n",
      "d\n",
      "ef\n",
      "g\n",
      "['a', 'b', 'c', 'd', 'e', 'f', 'g']\n"
     ]
    }
   ],
   "source": [
    "n, list = int(input()), []\n",
    "for i in range(n):\n",
    "    string = input()\n",
    "    list.extend(string)\n",
    "print(list)"
   ]
  },
  {
   "cell_type": "markdown",
   "id": "65e41cb0",
   "metadata": {},
   "source": [
    "## Вывод элементов списка"
   ]
  },
  {
   "cell_type": "markdown",
   "id": "ccf84e83",
   "metadata": {},
   "source": [
    "**Примеры**"
   ]
  },
  {
   "cell_type": "code",
   "execution_count": 31,
   "id": "bc1f248b",
   "metadata": {},
   "outputs": [
    {
     "name": "stdout",
     "output_type": "stream",
     "text": [
      "0\n",
      "1\n",
      "2\n",
      "3\n",
      "4\n",
      "5\n",
      "6\n",
      "7\n",
      "8\n",
      "9\n",
      "10\n"
     ]
    }
   ],
   "source": [
    "numbers = [0, 1, 2, 3, 4, 5, 6, 7, 8, 9, 10]\n",
    "\n",
    "for i in range(len(numbers)):\n",
    "    print(numbers[i])"
   ]
  },
  {
   "cell_type": "code",
   "execution_count": 32,
   "id": "b0be0e7b",
   "metadata": {},
   "outputs": [
    {
     "name": "stdout",
     "output_type": "stream",
     "text": [
      "0 1 2 3 4 5 6 7 8 9 10\n"
     ]
    }
   ],
   "source": [
    "numbers = [0, 1, 2, 3, 4, 5, 6, 7, 8, 9, 10] \n",
    "\n",
    "print(*numbers) # вывода элементов списка без использования цикла"
   ]
  },
  {
   "cell_type": "code",
   "execution_count": 33,
   "id": "98cd0361",
   "metadata": {},
   "outputs": [
    {
     "name": "stdout",
     "output_type": "stream",
     "text": [
      "0\n",
      "1\n",
      "2\n",
      "3\n",
      "4\n",
      "5\n",
      "6\n",
      "7\n",
      "8\n",
      "9\n",
      "10\n"
     ]
    }
   ],
   "source": [
    "numbers = [0, 1, 2, 3, 4, 5, 6, 7, 8, 9, 10]\n",
    "\n",
    "print(*numbers, sep='\\n')"
   ]
  },
  {
   "cell_type": "code",
   "execution_count": 34,
   "id": "9a814fad",
   "metadata": {},
   "outputs": [
    {
     "name": "stdout",
     "output_type": "stream",
     "text": [
      "P y t h o n\n",
      "\n",
      "P\n",
      "y\n",
      "t\n",
      "h\n",
      "o\n",
      "n\n"
     ]
    }
   ],
   "source": [
    "s = 'Python'\n",
    "\n",
    "print(*s)\n",
    "print()\n",
    "print(*s, sep='\\n')"
   ]
  },
  {
   "cell_type": "markdown",
   "id": "3c50d9d2",
   "metadata": {},
   "source": [
    "### 1"
   ]
  },
  {
   "cell_type": "markdown",
   "id": "cf0f3bc2",
   "metadata": {},
   "source": [
    "Дополните приведенный код, так чтобы он вывел сумму квадратов элементов списка `numbers`."
   ]
  },
  {
   "cell_type": "code",
   "execution_count": 5,
   "id": "a066726a",
   "metadata": {},
   "outputs": [
    {
     "name": "stdout",
     "output_type": "stream",
     "text": [
      "82649673\n"
     ]
    }
   ],
   "source": [
    "numbers = [1, 78, 23, -65, 99, 9089, 34, -32, 0, -67, 1, 11, 111]\n",
    "list = []\n",
    "for i in range(len(numbers)):\n",
    "    list.append(numbers[i] ** 2)\n",
    "print(sum(list))"
   ]
  },
  {
   "cell_type": "markdown",
   "id": "161bf3ce",
   "metadata": {},
   "source": [
    "### 2"
   ]
  },
  {
   "cell_type": "markdown",
   "id": "ffcd321f",
   "metadata": {},
   "source": [
    "На вход программе подается натуральное число $n$, а затем $n$ целых чисел. Напишите программу, которая для каждого введенного числа $x$ выводит значение функции $f(x) = x^2 + 2x + 1$, каждое на отдельной строке.\n",
    "\n",
    "Программа должна вывести сначала введенные числа, затем пустую строку, а затем соответствующие значения функции."
   ]
  },
  {
   "cell_type": "code",
   "execution_count": 1,
   "id": "a80ce713",
   "metadata": {},
   "outputs": [
    {
     "name": "stdout",
     "output_type": "stream",
     "text": [
      "3\n",
      "10\n",
      "20\n",
      "30\n",
      "10\n",
      "20\n",
      "30\n",
      "\n",
      "121\n",
      "441\n",
      "961\n"
     ]
    }
   ],
   "source": [
    "list1, list2 = [], []\n",
    "for i in range(int(input())):\n",
    "    list1.append(int(input()))\n",
    "    list2.append(list1[i]**2 + 2 * list1[i] + 1)\n",
    "print(*list1, sep='\\n')\n",
    "print()\n",
    "print(*list2, sep='\\n')"
   ]
  },
  {
   "cell_type": "markdown",
   "id": "7ed8def7",
   "metadata": {},
   "source": [
    "### 3"
   ]
  },
  {
   "cell_type": "markdown",
   "id": "f25c8d18",
   "metadata": {},
   "source": [
    "При анализе данных, собранных в рамках научного эксперимента, бывает полезно удалить самое большое и самое маленькое значение.\n",
    "\n",
    "На вход программе подается натуральное число $n$, а затем $n$ различных натуральных чисел. Напишите программу, которая удаляет наименьшее и наибольшее значение из указанных чисел, а затем выводит оставшиеся числа каждое на отдельной строке, не меняя их порядок."
   ]
  },
  {
   "cell_type": "code",
   "execution_count": 1,
   "id": "7c88db40",
   "metadata": {},
   "outputs": [
    {
     "name": "stdout",
     "output_type": "stream",
     "text": [
      "5\n",
      "1\n",
      "47\n",
      "222\n",
      "34\n",
      "58\n",
      "47\n",
      "34\n",
      "58\n"
     ]
    }
   ],
   "source": [
    "list = []\n",
    "for i in range(int(input())):\n",
    "    list.append(int(input()))\n",
    "del list[list.index(min(list))]\n",
    "del list[list.index(max(list))]\n",
    "print(*list, sep='\\n')"
   ]
  },
  {
   "cell_type": "markdown",
   "id": "194d8a4e",
   "metadata": {},
   "source": [
    "### 4"
   ]
  },
  {
   "cell_type": "markdown",
   "id": "daae63df",
   "metadata": {},
   "source": [
    "На вход программе подается натуральное число $n$, а затем $n$ строк. Напишите программу, которая выводит только уникальные строки, в том же порядке, в котором они были введены."
   ]
  },
  {
   "cell_type": "code",
   "execution_count": 6,
   "id": "5967c865",
   "metadata": {},
   "outputs": [
    {
     "name": "stdout",
     "output_type": "stream",
     "text": [
      "4\n",
      "sd\n",
      "56\n",
      "64\n",
      "sd\n",
      "sd\n",
      "56\n",
      "64\n"
     ]
    }
   ],
   "source": [
    "list = []\n",
    "for i in range(int(input())):\n",
    "    string = input()\n",
    "    if string not in list:\n",
    "        list.append(string)\n",
    "print(*list, sep='\\n')"
   ]
  },
  {
   "cell_type": "markdown",
   "id": "b2dd662c",
   "metadata": {},
   "source": [
    "### 5"
   ]
  },
  {
   "cell_type": "markdown",
   "id": "d781b94a",
   "metadata": {},
   "source": [
    "На вход программе подается натуральное число $n$, затем $n$ строк, затем еще одна строка — поисковый запрос. Напишите программу, которая выводит все введенные строки, в которых встречается поисковый запрос. Программа должна вывести все введенные строки, в которых встречается поисковый запрос.\n",
    "\n",
    "**Примечание.** Поиск не должен быть чувствителен к регистру символов."
   ]
  },
  {
   "cell_type": "code",
   "execution_count": 10,
   "id": "45c15cdc",
   "metadata": {},
   "outputs": [
    {
     "name": "stdout",
     "output_type": "stream",
     "text": [
      "5\n",
      "Язык Python прекрасен\n",
      "C# - отличный язык программирования\n",
      "Stepik - отличная платформа\n",
      "BEEGEEK FOREVER!\n",
      "язык Python появился 20 февраля 1991\n",
      "язык\n",
      "Язык Python прекрасен\n",
      "C# - отличный язык программирования\n",
      "язык Python появился 20 февраля 1991\n"
     ]
    }
   ],
   "source": [
    "list = []\n",
    "for i in range(int(input())):\n",
    "    string = input()\n",
    "    list.append(string)\n",
    "query = input().lower()\n",
    "for e in range(len(list)):\n",
    "    if query in list[e].lower():\n",
    "        print(list[e])"
   ]
  },
  {
   "cell_type": "markdown",
   "id": "17676c67",
   "metadata": {},
   "source": [
    "### 6"
   ]
  },
  {
   "cell_type": "markdown",
   "id": "b94bde50",
   "metadata": {},
   "source": [
    "На вход программе подается натуральное число $n$, затем $n$ строк, затем число $k$ — количество поисковых запросов, затем $k$ строк — поисковые запросы. Напишите программу, которая выводит все введенные строки, в которых встречаются все поисковые запросы."
   ]
  },
  {
   "cell_type": "code",
   "execution_count": 13,
   "id": "f14a1574",
   "metadata": {},
   "outputs": [
    {
     "name": "stdout",
     "output_type": "stream",
     "text": [
      "5\n",
      "Язык Python прекрасен\n",
      "C# - отличный язык программирования\n",
      "C# - отличный язык программирования\n",
      "BEEGEEK FOREVER!\n",
      "язык Python появился 20 февраля 1991\n",
      "2\n",
      "язык\n",
      "python\n",
      "Язык Python прекрасен\n",
      "язык Python появился 20 февраля 1991\n"
     ]
    }
   ],
   "source": [
    "list_string, list_query, counter = [], [], 0\n",
    "for n in range(int(input())):\n",
    "    string = input()\n",
    "    list_string.append(string)\n",
    "for k in range(int(input())):\n",
    "    query = input()\n",
    "    list_query.append(query)\n",
    "for e in range(len(list_string)):\n",
    "    for j in range(len(list_query)):\n",
    "        if list_query[j].lower() in list_string[e].lower():\n",
    "            counter += 1\n",
    "        if counter == len(list_query):\n",
    "            print(list_string[e])\n",
    "    counter = 0"
   ]
  },
  {
   "cell_type": "markdown",
   "id": "68ff03b7",
   "metadata": {},
   "source": [
    "### 7"
   ]
  },
  {
   "cell_type": "markdown",
   "id": "3c6ea88f",
   "metadata": {},
   "source": [
    "На вход программе подается натуральное число $n$, а затем $n$ целых чисел. Напишите программу, которая сначала выводит все отрицательные числа, затем нули, а затем все положительные числа, каждое на отдельной строке. Числа должны быть выведены в том же порядке, в котором они были введены."
   ]
  },
  {
   "cell_type": "code",
   "execution_count": 14,
   "id": "2e17d786",
   "metadata": {},
   "outputs": [
    {
     "name": "stdout",
     "output_type": "stream",
     "text": [
      "9\n",
      "3\n",
      "-2\n",
      "0\n",
      "-11\n",
      "-6\n",
      "0\n",
      "13\n",
      "0\n",
      "2\n",
      "-2\n",
      "-11\n",
      "-6\n",
      "0\n",
      "0\n",
      "0\n",
      "3\n",
      "13\n",
      "2\n"
     ]
    }
   ],
   "source": [
    "list_minus, list_zero, list_plus = [], [], []\n",
    "for n in range(int(input())):\n",
    "    x = int(input())\n",
    "    if x < 0:\n",
    "        list_minus.append(x)\n",
    "    elif x == 0:\n",
    "        list_zero.append(x)\n",
    "    elif x > 0:\n",
    "        list_plus.append(x)\n",
    "print(*list_minus, *list_zero, *list_plus, sep='\\n')"
   ]
  },
  {
   "cell_type": "markdown",
   "id": "9b18a16d",
   "metadata": {},
   "source": [
    "## Методы строк: split, join"
   ]
  },
  {
   "cell_type": "markdown",
   "id": "a86b8758",
   "metadata": {},
   "source": [
    "**Примеры**"
   ]
  },
  {
   "cell_type": "code",
   "execution_count": 15,
   "id": "15e18ef9",
   "metadata": {},
   "outputs": [
    {
     "name": "stdout",
     "output_type": "stream",
     "text": [
      "['Python', 'is', 'the', 'most', 'powerful', 'language']\n"
     ]
    }
   ],
   "source": [
    "s = 'Python is the most powerful language'\n",
    "words = s.split()\n",
    "print(words)"
   ]
  },
  {
   "cell_type": "code",
   "execution_count": 17,
   "id": "945eb502",
   "metadata": {},
   "outputs": [
    {
     "name": "stdout",
     "output_type": "stream",
     "text": [
      "145\n"
     ]
    }
   ],
   "source": [
    "numbers = input().split()\n",
    "for i in range(len(numbers)):\n",
    "    numbers[i] = int(numbers[i])"
   ]
  },
  {
   "cell_type": "code",
   "execution_count": 18,
   "id": "67f98120",
   "metadata": {},
   "outputs": [
    {
     "name": "stdout",
     "output_type": "stream",
     "text": [
      "['192', '168', '1', '24']\n"
     ]
    }
   ],
   "source": [
    "ip = '192.168.1.24'\n",
    "numbers = ip.split('.')    # указываем явно разделитель\n",
    "print(numbers)"
   ]
  },
  {
   "cell_type": "code",
   "execution_count": 19,
   "id": "b95dee8d",
   "metadata": {},
   "outputs": [
    {
     "name": "stdout",
     "output_type": "stream",
     "text": [
      "Python is the most powerful language\n"
     ]
    }
   ],
   "source": [
    "words = ['Python', 'is', 'the', 'most', 'powerful', 'language']\n",
    "s = ' '.join(words)\n",
    "print(s)"
   ]
  },
  {
   "cell_type": "code",
   "execution_count": 20,
   "id": "9f864c31",
   "metadata": {},
   "outputs": [
    {
     "name": "stdout",
     "output_type": "stream",
     "text": [
      "Мы*учим*язык*Python\n",
      "Мы-учим-язык-Python\n",
      "Мы?учим?язык?Python\n",
      "Мы!учим!язык!Python\n",
      "Мы*****учим*****язык*****Python\n",
      "МыabcучимabcязыкabcPython\n",
      "Мы123учим123язык123Python\n"
     ]
    }
   ],
   "source": [
    "words = ['Мы', 'учим', 'язык', 'Python']\n",
    "print('*'.join(words))\n",
    "print('-'.join(words))\n",
    "print('?'.join(words))\n",
    "print('!'.join(words))\n",
    "print('*****'.join(words))\n",
    "print('abc'.join(words))\n",
    "print('123'.join(words))"
   ]
  },
  {
   "cell_type": "markdown",
   "id": "399f6789",
   "metadata": {},
   "source": [
    "Функцию `join()` можно использовать, чтобы разбить строку по определенному разделителю. Если передать в качестве аргумента функции строку, то она будет разбита по символам с определенным разделителем."
   ]
  },
  {
   "cell_type": "code",
   "execution_count": 27,
   "id": "7f7ad4d5",
   "metadata": {},
   "outputs": [
    {
     "name": "stdout",
     "output_type": "stream",
     "text": [
      "P,y,t,h,o,n\n"
     ]
    }
   ],
   "source": [
    "print(\",\".join(\"Python\"))"
   ]
  },
  {
   "cell_type": "markdown",
   "id": "ea51394d",
   "metadata": {},
   "source": [
    "### 1"
   ]
  },
  {
   "cell_type": "markdown",
   "id": "120bc3ab",
   "metadata": {},
   "source": [
    "На вход программе подается строка текста. Напишите программу, которая выводит слова введенной строки в столбик."
   ]
  },
  {
   "cell_type": "code",
   "execution_count": 2,
   "id": "48a3d156",
   "metadata": {},
   "outputs": [
    {
     "name": "stdout",
     "output_type": "stream",
     "text": [
      "У лукоморья дуб зеленый златая цепь на дубе том\n",
      "У\n",
      "лукоморья\n",
      "дуб\n",
      "зеленый\n",
      "златая\n",
      "цепь\n",
      "на\n",
      "дубе\n",
      "том\n"
     ]
    }
   ],
   "source": [
    "s = input()\n",
    "words = s.split()\n",
    "print(*words, sep='\\n')"
   ]
  },
  {
   "cell_type": "markdown",
   "id": "8e683b10",
   "metadata": {},
   "source": [
    "### 2"
   ]
  },
  {
   "cell_type": "markdown",
   "id": "ef5c3d92",
   "metadata": {},
   "source": [
    "На вход программе подается строка текста, содержащая имя, отчество и фамилию человека. Напишите программу, которая выводит инициалы человека."
   ]
  },
  {
   "cell_type": "code",
   "execution_count": 10,
   "id": "29b1e5ed",
   "metadata": {},
   "outputs": [
    {
     "name": "stdout",
     "output_type": "stream",
     "text": [
      "Владимир Семенович Высоцкий\n",
      "В.С.В.\n"
     ]
    }
   ],
   "source": [
    "name = input().split()\n",
    "for e in range(len(name)):\n",
    "    name[e] = name[e][0] + '.'\n",
    "print(*name, sep='')"
   ]
  },
  {
   "cell_type": "markdown",
   "id": "032df3e6",
   "metadata": {},
   "source": [
    "### 3"
   ]
  },
  {
   "cell_type": "markdown",
   "id": "07863db2",
   "metadata": {},
   "source": [
    "В операционной системе Windows полное имя файла состоит из буквы диска, после которого ставится двоеточие и символ `\\`,  затем через такой же символ перечисляются подкаталоги (папки), в которых находится файл, в конце пишется имя файла (C:\\Windows\\System32\\calc.exe).\n",
    "\n",
    "На вход программе подается одна строка с корректным именем файла в операционной системе Windows. Напишите программу, которая разбирает строку на части, разделенные символом `\\`. Каждую часть вывести в отдельной строке."
   ]
  },
  {
   "cell_type": "code",
   "execution_count": 3,
   "id": "ef296d5a",
   "metadata": {},
   "outputs": [
    {
     "name": "stdout",
     "output_type": "stream",
     "text": [
      "C:\\Windows\\System32\\calc.exe\n",
      "C:\n",
      "Windows\n",
      "System32\n",
      "calc.exe\n"
     ]
    }
   ],
   "source": [
    "print(*input().split('\\\\'), sep='\\n')"
   ]
  },
  {
   "cell_type": "markdown",
   "id": "9361dbec",
   "metadata": {},
   "source": [
    "### 4"
   ]
  },
  {
   "cell_type": "markdown",
   "id": "89a680d0",
   "metadata": {},
   "source": [
    "На вход программе подается строка текста, содержащая целые числа. Напишите программу, которая по заданным числам строит столбчатую диаграмму."
   ]
  },
  {
   "cell_type": "code",
   "execution_count": 14,
   "id": "c4d7aa66",
   "metadata": {},
   "outputs": [
    {
     "name": "stdout",
     "output_type": "stream",
     "text": [
      "5 3 1 7 10 2\n",
      "+++++\n",
      "+++\n",
      "+\n",
      "+++++++\n",
      "++++++++++\n",
      "++\n"
     ]
    }
   ],
   "source": [
    "s = input().split()\n",
    "for e in range(len(s)):\n",
    "    print(int(s[e]) * '+', sep='\\n')"
   ]
  },
  {
   "cell_type": "code",
   "execution_count": 17,
   "id": "17006c49",
   "metadata": {},
   "outputs": [
    {
     "name": "stdout",
     "output_type": "stream",
     "text": [
      "5 3 1 7 10 2\n",
      "+++++\n",
      "+++\n",
      "+\n",
      "+++++++\n",
      "++++++++++\n",
      "++\n"
     ]
    }
   ],
   "source": [
    "print(*['+' * int(c) for c in input().split()], sep='\\n')"
   ]
  },
  {
   "cell_type": "markdown",
   "id": "221e2aff",
   "metadata": {},
   "source": [
    "### 5"
   ]
  },
  {
   "cell_type": "markdown",
   "id": "af7335a7",
   "metadata": {},
   "source": [
    "На вход программе подается строка текста, содержащая 4 целых числа разделенных точкой. Напишите программу, которая определяет является ли введенная строка текста корректным ip-адресом.\n",
    "\n",
    "**Примечание.** ip-адрес является корректным, если все 4 числа находятся в диапазоне от 0 до 255 включительно."
   ]
  },
  {
   "cell_type": "code",
   "execution_count": 19,
   "id": "bd574976",
   "metadata": {},
   "outputs": [
    {
     "name": "stdout",
     "output_type": "stream",
     "text": [
      "192.168.0.300\n",
      "НЕТ\n"
     ]
    }
   ],
   "source": [
    "flag = True\n",
    "for i in input().split('.'):\n",
    "    if 255 >= int(i) >= 0:\n",
    "        continue\n",
    "    else:\n",
    "        flag = False\n",
    "print('ДА' if flag == True else 'НЕТ')"
   ]
  },
  {
   "cell_type": "markdown",
   "id": "36764c8b",
   "metadata": {},
   "source": [
    "### 6"
   ]
  },
  {
   "cell_type": "markdown",
   "id": "a68bce89",
   "metadata": {},
   "source": [
    "На вход программе подается строка текста и строка разделитель. Напишите программу, которая вставляет указанный разделитель между каждым символом введенной строки текста."
   ]
  },
  {
   "cell_type": "code",
   "execution_count": 29,
   "id": "f07f338b",
   "metadata": {},
   "outputs": [
    {
     "name": "stdout",
     "output_type": "stream",
     "text": [
      "12345\n",
      "*\n",
      "1*2*3*4*5\n"
     ]
    }
   ],
   "source": [
    "string, separator = input(), input()\n",
    "print(separator.join(string))"
   ]
  },
  {
   "cell_type": "code",
   "execution_count": 30,
   "id": "cdef8981",
   "metadata": {},
   "outputs": [
    {
     "name": "stdout",
     "output_type": "stream",
     "text": [
      "12345\n",
      "*\n",
      "1*2*3*4*5\n"
     ]
    }
   ],
   "source": [
    "print(*list(input()), sep=input())"
   ]
  },
  {
   "cell_type": "markdown",
   "id": "4181a3d2",
   "metadata": {},
   "source": [
    "### 7"
   ]
  },
  {
   "cell_type": "markdown",
   "id": "27d39a86",
   "metadata": {},
   "source": [
    "На вход программе подается строка текста, содержащая натуральные числа. Из данной строки формируется список чисел. Напишите программу, которая подсчитывает, сколько в полученном списке пар элементов, равных друг другу. Считается, что любые два элемента, равные друг другу образуют одну пару, которую необходимо посчитать.\n",
    "\n",
    "<img src=\"https://ucarecdn.com/5bd93a3d-d9c7-4e17-8e57-41ede7a82439/\" width=\"400\" height=\"400\">"
   ]
  },
  {
   "cell_type": "code",
   "execution_count": 43,
   "id": "5c44c3af",
   "metadata": {},
   "outputs": [
    {
     "name": "stdout",
     "output_type": "stream",
     "text": [
      "1 7 5 7 5\n",
      "2\n"
     ]
    }
   ],
   "source": [
    "numbers, pairs = input().split(), 0\n",
    "for element in numbers:\n",
    "    count = numbers.count(element)\n",
    "    if count > 1:\n",
    "        pairs += count * (count - 1) / 2\n",
    "        while element in numbers:\n",
    "            del numbers[numbers.index(element)]\n",
    "print(int(pairs))"
   ]
  },
  {
   "cell_type": "markdown",
   "id": "1aeafdf6",
   "metadata": {},
   "source": [
    "## Методы списков. Часть 2"
   ]
  },
  {
   "cell_type": "markdown",
   "id": "cd8dbb3d",
   "metadata": {},
   "source": [
    "**Примеры**"
   ]
  },
  {
   "cell_type": "code",
   "execution_count": 44,
   "id": "d9823a57",
   "metadata": {},
   "outputs": [
    {
     "name": "stdout",
     "output_type": "stream",
     "text": [
      "['Gvido', 'Roman', 'Timur']\n",
      "['Anders', 'Gvido', 'Roman', 'Timur']\n",
      "['Anders', 'Gvido', 'Roman', 'Josef', 'Timur']\n"
     ]
    }
   ],
   "source": [
    "names = ['Gvido', 'Roman' , 'Timur']\n",
    "print(names)\n",
    "names.insert(0, 'Anders')\n",
    "print(names)\n",
    "names.insert(3, 'Josef')\n",
    "print(names)"
   ]
  },
  {
   "cell_type": "code",
   "execution_count": 45,
   "id": "18f85351",
   "metadata": {},
   "outputs": [
    {
     "name": "stdout",
     "output_type": "stream",
     "text": [
      "2\n"
     ]
    }
   ],
   "source": [
    "names = ['Gvido', 'Roman' , 'Timur']\n",
    "position = names.index('Timur')\n",
    "print(position)"
   ]
  },
  {
   "cell_type": "code",
   "execution_count": 46,
   "id": "650c1153",
   "metadata": {},
   "outputs": [
    {
     "name": "stdout",
     "output_type": "stream",
     "text": [
      "['Рис', 'Курица', 'Рыба', 'Брокколи', 'Рис']\n",
      "['Курица', 'Рыба', 'Брокколи', 'Рис']\n"
     ]
    }
   ],
   "source": [
    "food = ['Рис', 'Курица', 'Рыба', 'Брокколи', 'Рис']\n",
    "print(food)\n",
    "food.remove('Рис') # метод remove() удаляет только первый элемент с указанным значением\n",
    "# Чтобы удалить все вхождения нужно использовать цикл while в связке с оператором принадлежности in и методом remove\n",
    "print(food)"
   ]
  },
  {
   "cell_type": "code",
   "execution_count": 47,
   "id": "36aaab7a",
   "metadata": {},
   "outputs": [
    {
     "name": "stdout",
     "output_type": "stream",
     "text": [
      "Roman\n",
      "['Gvido', 'Timur']\n"
     ]
    }
   ],
   "source": [
    "names = ['Gvido', 'Roman' , 'Timur']\n",
    "item = names.pop(1)\n",
    "print(item)\n",
    "print(names)"
   ]
  },
  {
   "cell_type": "markdown",
   "id": "44ef2a99",
   "metadata": {},
   "source": [
    "Метод `pop()` удаляет элемент по указанному индексу и возвращает его. В метод `pop()` передается один необязательный аргумент: `index: индекс элемента, который требуется удалить.`\n",
    "Если индекс не указан, то метод удаляет и возвращает последний элемент списка. Если список пуст или указан индекс за пределами диапазона, то во время выполнения происходит ошибка."
   ]
  },
  {
   "cell_type": "code",
   "execution_count": 48,
   "id": "e0fe83b9",
   "metadata": {},
   "outputs": [
    {
     "name": "stdout",
     "output_type": "stream",
     "text": [
      "3\n",
      "1\n",
      "0\n"
     ]
    }
   ],
   "source": [
    "names = ['Timur', 'Gvido', 'Roman', 'Timur', 'Anders', 'Timur']\n",
    "cnt1 = names.count('Timur')\n",
    "cnt2 = names.count('Gvido')\n",
    "cnt3 = names.count('Josef')\n",
    "\n",
    "print(cnt1)\n",
    "print(cnt2)\n",
    "print(cnt3)"
   ]
  },
  {
   "cell_type": "code",
   "execution_count": 49,
   "id": "02533c2a",
   "metadata": {},
   "outputs": [
    {
     "name": "stdout",
     "output_type": "stream",
     "text": [
      "['Timur', 'Roman', 'Gvido']\n"
     ]
    }
   ],
   "source": [
    "names = ['Gvido', 'Roman' , 'Timur']\n",
    "names.reverse()\n",
    "print(names)"
   ]
  },
  {
   "cell_type": "markdown",
   "id": "dcc86b5f",
   "metadata": {},
   "source": [
    "Существует большая разница между вызовом метода `names.reverse()` и использованием среза `names[::-1]`. Метод `reverse()` меняет порядок элементов на обратный в текущем списке, а срез создает копию списка, в котором элементы следуют в обратном порядке."
   ]
  },
  {
   "cell_type": "code",
   "execution_count": 50,
   "id": "0df1d5fc",
   "metadata": {},
   "outputs": [
    {
     "name": "stdout",
     "output_type": "stream",
     "text": [
      "[]\n"
     ]
    }
   ],
   "source": [
    "names = ['Gvido', 'Roman' , 'Timur']\n",
    "names.clear() # удаляет все элементы из списка\n",
    "print(names)"
   ]
  },
  {
   "cell_type": "code",
   "execution_count": 51,
   "id": "89933e6e",
   "metadata": {},
   "outputs": [
    {
     "name": "stdout",
     "output_type": "stream",
     "text": [
      "['Gvido', 'Roman', 'Timur']\n",
      "['Gvido', 'Roman', 'Timur']\n"
     ]
    }
   ],
   "source": [
    "names = ['Gvido', 'Roman' , 'Timur']\n",
    "names_copy = names.copy()              # создаем поверхностную копию списка names\n",
    "\n",
    "print(names)\n",
    "print(names_copy)"
   ]
  },
  {
   "cell_type": "markdown",
   "id": "4a9a4779",
   "metadata": {},
   "source": [
    "### 1"
   ]
  },
  {
   "cell_type": "markdown",
   "id": "1385dec1",
   "metadata": {},
   "source": [
    "Дополните приведенный код, чтобы он:\n",
    "\n",
    "* Заменил второй элемент списка на `17`;\n",
    "* Добавил числа `4`, `5` и `6` в конец списка;\n",
    "* Удалил первый элемент списка;\n",
    "* Удвоил список;\n",
    "* Вставил число `25` по индексу 3;\n",
    "* Вывел список, с помощью функции `print()`"
   ]
  },
  {
   "cell_type": "code",
   "execution_count": 68,
   "id": "69311f64",
   "metadata": {},
   "outputs": [
    {
     "name": "stdout",
     "output_type": "stream",
     "text": [
      "[17, 10, 11, 25, 4, 5, 6, 17, 10, 11, 4, 5, 6]\n"
     ]
    }
   ],
   "source": [
    "numbers = [8, 9, 10, 11]\n",
    "numbers[1] = 17\n",
    "numbers.extend([4, 5, 6])\n",
    "del numbers[0]\n",
    "numbers *= 2\n",
    "numbers.insert(3, 25)\n",
    "print(numbers)"
   ]
  },
  {
   "cell_type": "markdown",
   "id": "baa1560e",
   "metadata": {},
   "source": [
    "### 2"
   ]
  },
  {
   "cell_type": "markdown",
   "id": "12bf5fed",
   "metadata": {},
   "source": [
    "На вход программе подается строка текста, содержащая различные натуральные числа. Из данной строки формируется список чисел. Напишите программу, которая меняет местами минимальный и максимальный элемент этого списка."
   ]
  },
  {
   "cell_type": "code",
   "execution_count": 1,
   "id": "a321da60",
   "metadata": {},
   "outputs": [
    {
     "name": "stdout",
     "output_type": "stream",
     "text": [
      "10 9 8 7 6 5 4 3 2 1\n",
      "1 9 8 7 6 5 4 3 2 10\n"
     ]
    }
   ],
   "source": [
    "numbers = input().split()\n",
    "numbers = map(int, numbers)\n",
    "numbers = list(numbers)\n",
    "max_number, min_number = max(numbers), min(numbers)\n",
    "max, min = numbers.index(max_number), numbers.index(min_number)\n",
    "numbers[max], numbers[min] = numbers[min], numbers[max]\n",
    "print(*numbers)"
   ]
  },
  {
   "cell_type": "markdown",
   "id": "20dd7bb4",
   "metadata": {},
   "source": [
    "### 3"
   ]
  },
  {
   "cell_type": "markdown",
   "id": "6aeb6f02",
   "metadata": {},
   "source": [
    "На вход программе подается строка, содержащая английский текст. Напишите программу, которая подсчитывает общее количество артиклей: `'a'`, `'an'`, `'the'`."
   ]
  },
  {
   "cell_type": "code",
   "execution_count": 2,
   "id": "5bd23369",
   "metadata": {},
   "outputs": [
    {
     "name": "stdout",
     "output_type": "stream",
     "text": [
      "William Shakespeare was born in the town of Stratford, England, in the year 1564. When he was a young man, Shakespeare moved to the city of London, where he began writing plays. His plays were soon very successful, and were enjoyed both by the common people of London and also by the rich and famous. In addition to his plays, Shakespeare wrote many short poems and a few longer poems. Like his plays, these poems are still famous today.\n",
      "Общее количество артиклей: 7\n"
     ]
    }
   ],
   "source": [
    "text = input().lower().split()\n",
    "print(f\"Общее количество артиклей: {text.count('a') + text.count('an') + text.count('the')}\")"
   ]
  },
  {
   "cell_type": "markdown",
   "id": "c645bc70",
   "metadata": {},
   "source": [
    "### 4"
   ]
  },
  {
   "cell_type": "markdown",
   "id": "1327e5bb",
   "metadata": {},
   "source": [
    "Немалоизвестный в пустошах Мохаве Курьер забрел в Хидден-Вэли – секретный бункер Братства Стали, и любезно соглашается помочь им в решении их проблем. Одной из такой проблем являлся странный компьютерный вирус, который проявлялся в виде появления комментариев к программам на терминалах Братства Стали. Известно, что программисты Братства никогда не оставляют комментарии к коду, и пишут программы на Python, поэтому удаление всех этих комментариев никак не навредит им. Помогите писцу Ибсену удалить все комментарии из программы.\n",
    "\n",
    "На первой строке вводится символ решётки и сразу же натуральное число $n$ — количество строк в программе, не считая первой. Далее следует $n$ строк кода. Нужно вывести те же строки, но удалить комментарии и символы пустого пространства в конце строк. Пустую строку вместо первой строки ввода выводить не надо."
   ]
  },
  {
   "cell_type": "code",
   "execution_count": 6,
   "id": "e0f5debb",
   "metadata": {},
   "outputs": [
    {
     "name": "stdout",
     "output_type": "stream",
     "text": [
      "#5\n",
      "print(\"Введите пароль, если имеется\")    # ахахахах вам не поймать меня\n",
      "password = input()\n",
      "if password == \"hoover\":\n",
      "print(\"Здравствуйте, рыцарь\", name)         #долой Макнамару\n",
      "elif password == \"noncr\":\n",
      "print(\"Введите пароль, если имеется\")\n",
      "password = input()\n",
      "if password == \"hoover\":\n",
      "print(\"Здравствуйте, рыцарь\", name)\n",
      "elif password == \"noncr\":\n"
     ]
    }
   ],
   "source": [
    "n = int(input()[1:]) # exclude '#'\n",
    "output = []\n",
    "for i in range(n):\n",
    "    s = input()\n",
    "    comment = s.rfind('#')\n",
    "    if comment != -1:\n",
    "        s = s[:comment]\n",
    "    output.append(s.rstrip())\n",
    "print(*output, sep='\\n')"
   ]
  },
  {
   "cell_type": "markdown",
   "id": "895b9d5f",
   "metadata": {},
   "source": [
    "### 5"
   ]
  },
  {
   "cell_type": "markdown",
   "id": "1b904745",
   "metadata": {},
   "source": [
    "На вход программе подается строка текста, содержащая целые числа. Из данной строки формируется список чисел. Напишите программу, которая сортирует и выводит данный список сначала по возрастанию, а затем по убыванию. "
   ]
  },
  {
   "cell_type": "code",
   "execution_count": 6,
   "id": "fd18231f",
   "metadata": {},
   "outputs": [
    {
     "name": "stdout",
     "output_type": "stream",
     "text": [
      "4 5 1 2 3 8\n",
      "1 2 3 4 5 8\n",
      "8 5 4 3 2 1\n"
     ]
    }
   ],
   "source": [
    "s = input().split()\n",
    "s = [int(x) for x in s]\n",
    "s.sort()\n",
    "print(*s)\n",
    "s.sort(reverse=True)\n",
    "print(*s)"
   ]
  },
  {
   "cell_type": "code",
   "execution_count": 7,
   "id": "a45b70b1",
   "metadata": {},
   "outputs": [
    {
     "name": "stdout",
     "output_type": "stream",
     "text": [
      "4 5 1 2 3 8\n",
      "1 2 3 4 5 8\n",
      "8 5 4 3 2 1\n"
     ]
    }
   ],
   "source": [
    "n = input().split()\n",
    "n.sort(key=int)\n",
    "print(*n)\n",
    "n.sort(reverse=True, key=int)\n",
    "print(*n)"
   ]
  },
  {
   "cell_type": "markdown",
   "id": "77afef8b",
   "metadata": {},
   "source": [
    "## Списочные выражения"
   ]
  },
  {
   "cell_type": "markdown",
   "id": "4f172194",
   "metadata": {},
   "source": [
    "**Примеры**"
   ]
  },
  {
   "cell_type": "code",
   "execution_count": 8,
   "id": "31913a60",
   "metadata": {},
   "outputs": [],
   "source": [
    "zeros = []\n",
    "for i in range(10):\n",
    "    zeros.append(0)"
   ]
  },
  {
   "cell_type": "code",
   "execution_count": null,
   "id": "b9c1c6a8",
   "metadata": {},
   "outputs": [],
   "source": [
    "zeros = [0] * 10"
   ]
  },
  {
   "cell_type": "code",
   "execution_count": 10,
   "id": "97870253",
   "metadata": {},
   "outputs": [
    {
     "name": "stdout",
     "output_type": "stream",
     "text": [
      "[0, 1, 2, 3, 4, 5, 6, 7, 8, 9]\n"
     ]
    }
   ],
   "source": [
    "numbers = [i for i in range(10)]\n",
    "print(numbers)"
   ]
  },
  {
   "cell_type": "markdown",
   "id": "81fab35c",
   "metadata": {},
   "source": [
    "`[выражение for переменная in последовательность]`"
   ]
  },
  {
   "cell_type": "code",
   "execution_count": null,
   "id": "2fba43bb",
   "metadata": {},
   "outputs": [],
   "source": [
    "cubes = [i ** 3 for i in range(10, 21)]"
   ]
  },
  {
   "cell_type": "code",
   "execution_count": null,
   "id": "85f4965b",
   "metadata": {},
   "outputs": [],
   "source": [
    "lines = [input() for _ in range(int(input()))]"
   ]
  },
  {
   "cell_type": "code",
   "execution_count": null,
   "id": "7ab19695",
   "metadata": {},
   "outputs": [],
   "source": [
    "evens = [i for i in range(21) if i % 2 == 0]"
   ]
  },
  {
   "cell_type": "markdown",
   "id": "d7668b28",
   "metadata": {},
   "source": [
    "### 1"
   ]
  },
  {
   "cell_type": "markdown",
   "id": "e0b8c3ed",
   "metadata": {},
   "source": [
    "Дополните приведенный код, используя списочное выражение так, чтобы получить новый список, содержащий строки исходного списка с удаленным первым символом."
   ]
  },
  {
   "cell_type": "code",
   "execution_count": 11,
   "id": "f28778fb",
   "metadata": {},
   "outputs": [
    {
     "name": "stdout",
     "output_type": "stream",
     "text": [
      "['alse', 'rue', 'one', 'nd', 'ith', 's', 'ssert', 'reak', 'lass', 'ontinue', 'ef', 'el', 'lif', 'lse', 'xcept', 'inally', 'ry', 'or', 'rom', 'lobal', 'f', 'mport', 'n', 's', 'ambda', 'onlocal', 'ot', 'r', 'ass', 'aise', 'eturn', 'hile', 'ield']\n"
     ]
    }
   ],
   "source": [
    "keywords = ['False', 'True', 'None', 'and', 'with', 'as', \n",
    "            'assert', 'break', 'class', 'continue', 'def', \n",
    "            'del', 'elif', 'else', 'except', 'finally', 'try', \n",
    "            'for', 'from', 'global', 'if', 'import', 'in', 'is', \n",
    "            'lambda', 'nonlocal', 'not', 'or', 'pass', 'raise', 'return', 'while', 'yield']\n",
    "\n",
    "new_keywords = [i[1:] for i in keywords]\n",
    "\n",
    "print(new_keywords)"
   ]
  },
  {
   "cell_type": "markdown",
   "id": "9a852cf0",
   "metadata": {},
   "source": [
    "### 2"
   ]
  },
  {
   "cell_type": "markdown",
   "id": "12ae8d8f",
   "metadata": {},
   "source": [
    "Дополните приведенный код, используя списочное выражение, так чтобы получить новый список, содержащий длины строк исходного списка."
   ]
  },
  {
   "cell_type": "code",
   "execution_count": 12,
   "id": "39009496",
   "metadata": {},
   "outputs": [
    {
     "name": "stdout",
     "output_type": "stream",
     "text": [
      "[5, 4, 4, 3, 4, 2, 6, 5, 5, 8, 3, 3, 4, 4, 6, 7, 3, 3, 4, 6, 2, 6, 2, 2, 6, 8, 3, 2, 4, 5, 6, 5, 5]\n"
     ]
    }
   ],
   "source": [
    "keywords = ['False', 'True', 'None', 'and', 'with', 'as', \n",
    "            'assert', 'break', 'class', 'continue', 'def', \n",
    "            'del', 'elif', 'else', 'except', 'finally', 'try', \n",
    "            'for', 'from', 'global', 'if', 'import', 'in', 'is', \n",
    "            'lambda', 'nonlocal', 'not', 'or', 'pass', 'raise', 'return', 'while', 'yield']\n",
    "\n",
    "lengths = [len(i) for i in keywords]\n",
    "\n",
    "print(lengths)"
   ]
  },
  {
   "cell_type": "markdown",
   "id": "cb005219",
   "metadata": {},
   "source": [
    "### 3"
   ]
  },
  {
   "cell_type": "markdown",
   "id": "a02fef80",
   "metadata": {},
   "source": [
    "Дополните приведенный код списочным выражением, чтобы получить новый список, содержащий только слова длиной не менее пяти символов (включительно)."
   ]
  },
  {
   "cell_type": "code",
   "execution_count": 13,
   "id": "e6ecffa6",
   "metadata": {},
   "outputs": [
    {
     "name": "stdout",
     "output_type": "stream",
     "text": [
      "['False', 'assert', 'break', 'class', 'continue', 'except', 'finally', 'global', 'import', 'lambda', 'nonlocal', 'raise', 'return', 'while', 'yield']\n"
     ]
    }
   ],
   "source": [
    "keywords = ['False', 'True', 'None', 'and', 'with', 'as', 'assert', 'break', 'class', 'continue', 'def', 'del', \n",
    "            'elif', 'else', 'except', 'finally', 'try', 'for', 'from', 'global', 'if', 'import', 'in', 'is', \n",
    "            'lambda', 'nonlocal', 'not', 'or', 'pass', 'raise', 'return', 'while', 'yield']\n",
    "\n",
    "new_keywords = [i for i in keywords if len(i) >= 5]\n",
    "\n",
    "print(new_keywords)"
   ]
  },
  {
   "cell_type": "markdown",
   "id": "d0b62d6e",
   "metadata": {},
   "source": [
    "### 4"
   ]
  },
  {
   "cell_type": "markdown",
   "id": "ae3be51a",
   "metadata": {},
   "source": [
    "Дополните приведенный код, используя списочное выражение, так чтобы получить список всех чисел палиндромов от $100$ до $1000$."
   ]
  },
  {
   "cell_type": "code",
   "execution_count": 20,
   "id": "9b3ecdaa",
   "metadata": {},
   "outputs": [
    {
     "name": "stdout",
     "output_type": "stream",
     "text": [
      "[101, 111, 121, 131, 141, 151, 161, 171, 181, 191, 202, 212, 222, 232, 242, 252, 262, 272, 282, 292, 303, 313, 323, 333, 343, 353, 363, 373, 383, 393, 404, 414, 424, 434, 444, 454, 464, 474, 484, 494, 505, 515, 525, 535, 545, 555, 565, 575, 585, 595, 606, 616, 626, 636, 646, 656, 666, 676, 686, 696, 707, 717, 727, 737, 747, 757, 767, 777, 787, 797, 808, 818, 828, 838, 848, 858, 868, 878, 888, 898, 909, 919, 929, 939, 949, 959, 969, 979, 989, 999]\n"
     ]
    }
   ],
   "source": [
    "palindromes = [i for i in range(100, 1001) if i % 10 == i // 100]\n",
    "\n",
    "print(palindromes)"
   ]
  },
  {
   "cell_type": "markdown",
   "id": "7e2b6c1d",
   "metadata": {},
   "source": [
    "### 5"
   ]
  },
  {
   "cell_type": "markdown",
   "id": "53872e10",
   "metadata": {},
   "source": [
    "На вход программе подается натуральное число $n$. Напишите программу, использующую списочное выражение, которая создает список содержащий квадраты чисел от $1$ до $n$, а затем выводит его элементы построчно, то есть каждый на отдельной строке."
   ]
  },
  {
   "cell_type": "code",
   "execution_count": 25,
   "id": "ee95e675",
   "metadata": {},
   "outputs": [
    {
     "name": "stdout",
     "output_type": "stream",
     "text": [
      "5\n",
      "1\n",
      "4\n",
      "9\n",
      "16\n",
      "25\n"
     ]
    }
   ],
   "source": [
    "print(*[i ** 2 for i in range(1, int(input()) + 1)], sep='\\n')"
   ]
  },
  {
   "cell_type": "markdown",
   "id": "a0935c4b",
   "metadata": {},
   "source": [
    "### 6"
   ]
  },
  {
   "cell_type": "markdown",
   "id": "92ee4b5f",
   "metadata": {},
   "source": [
    "На вход программе подается строка текста, содержащая целые числа. Напишите программу, использующую списочное выражение, которая выведет кубы указанных чисел также на одной строке."
   ]
  },
  {
   "cell_type": "code",
   "execution_count": 28,
   "id": "ce040a3f",
   "metadata": {},
   "outputs": [
    {
     "name": "stdout",
     "output_type": "stream",
     "text": [
      "2 4 3\n",
      "8 64 27\n"
     ]
    }
   ],
   "source": [
    "print(*[i ** 3 for i in map(int, input().split())])"
   ]
  },
  {
   "cell_type": "code",
   "execution_count": 29,
   "id": "2b8c9be1",
   "metadata": {},
   "outputs": [
    {
     "name": "stdout",
     "output_type": "stream",
     "text": [
      "2 4 3\n",
      "8 64 27\n"
     ]
    }
   ],
   "source": [
    "print(*[int(i) ** 3 for i in input().split()])"
   ]
  },
  {
   "cell_type": "markdown",
   "id": "0d5a2cb7",
   "metadata": {},
   "source": [
    "### 7"
   ]
  },
  {
   "cell_type": "markdown",
   "id": "a86a3036",
   "metadata": {},
   "source": [
    "На вход программе подается строка текста, содержащая слова. Напишите программу, которая выводит слова введенной строки в столбик."
   ]
  },
  {
   "cell_type": "code",
   "execution_count": 30,
   "id": "8c244f07",
   "metadata": {},
   "outputs": [
    {
     "name": "stdout",
     "output_type": "stream",
     "text": [
      "Умей ценить того кто без тебя не может\n",
      "Умей\n",
      "ценить\n",
      "того\n",
      "кто\n",
      "без\n",
      "тебя\n",
      "не\n",
      "может\n"
     ]
    }
   ],
   "source": [
    "print(*[i for i in input().split()], sep='\\n')"
   ]
  },
  {
   "cell_type": "markdown",
   "id": "c6f507e3",
   "metadata": {},
   "source": [
    "### 8"
   ]
  },
  {
   "cell_type": "markdown",
   "id": "b382b382",
   "metadata": {},
   "source": [
    "На вход программе подается строка текста. Напишите программу, использующую списочное выражение, которая выводит все цифровые символы данной строки."
   ]
  },
  {
   "cell_type": "code",
   "execution_count": 6,
   "id": "d81429c9",
   "metadata": {},
   "outputs": [
    {
     "name": "stdout",
     "output_type": "stream",
     "text": [
      "Число Pi примерно равно 3.1415\n",
      "31415\n"
     ]
    }
   ],
   "source": [
    "print(*[i for i in list(input()) if i.isdigit() == True], sep='')"
   ]
  },
  {
   "cell_type": "markdown",
   "id": "2c4b5755",
   "metadata": {},
   "source": [
    "### 9"
   ]
  },
  {
   "cell_type": "markdown",
   "id": "e38ee269",
   "metadata": {},
   "source": [
    "На вход программе подается строка текста, содержащая целые числа. Напишите программу, использующую списочное выражение, которая выведет квадраты четных чисел, которые не оканчиваются на цифру $4$."
   ]
  },
  {
   "cell_type": "code",
   "execution_count": 2,
   "id": "b524d9cd",
   "metadata": {},
   "outputs": [
    {
     "name": "stdout",
     "output_type": "stream",
     "text": [
      "1 2 3 4 5 6 7 8 9\n",
      "16 36\n"
     ]
    }
   ],
   "source": [
    "print(*[i ** 2 for i in map(int, input().split()) if i % 2 == 0 and i ** 2 % 10 != 4])"
   ]
  },
  {
   "cell_type": "markdown",
   "id": "72920f19",
   "metadata": {},
   "source": [
    "## Сортировка списков"
   ]
  },
  {
   "cell_type": "markdown",
   "id": "395d8eae",
   "metadata": {},
   "source": [
    "**Основные алгоритмы сортировки**"
   ]
  },
  {
   "cell_type": "markdown",
   "id": "7b584a9e",
   "metadata": {},
   "source": [
    "**Медленные:**\n",
    "\n",
    "* Пузырьковая сортировка (Bubble sort);\n",
    "* Сортировка выбором (Selection sort);\n",
    "* Сортировка простыми вставками (Insertion sort).\n",
    "\n",
    "**Быстрые:**\n",
    "\n",
    "* Сортировка Шелла (Shell sort);\n",
    "* Быстрая сортировка (Quick sort);\n",
    "* Сортировка слиянием (Merge sort);\n",
    "* Пирамидальная сортировка (Heap sort);\n",
    "* Сортировка TimSort (используется в Java и Python).\n",
    "\n",
    "К алгоритмам не основанным на сравнениях можно отнести следующие:\n",
    "\n",
    "* Сортировка подсчетом (Counting sort);\n",
    "* Блочная сортировка (Bucket sort);\n",
    "* Поразрядная сортировка (Radix sort)."
   ]
  },
  {
   "cell_type": "markdown",
   "id": "a486cac9",
   "metadata": {},
   "source": [
    "### 1"
   ]
  },
  {
   "cell_type": "markdown",
   "id": "bbda9e72",
   "metadata": {},
   "source": [
    "Оптимизируйте приведенный код, реализующий алгоритм пузырьковой сортировки."
   ]
  },
  {
   "cell_type": "code",
   "execution_count": 3,
   "id": "ed515e87",
   "metadata": {},
   "outputs": [
    {
     "name": "stdout",
     "output_type": "stream",
     "text": [
      "[-97, -96, -95, -94, -91, -84, -84, -84, -83, -79, -78, -78, -78, -76, -76, -75, -74, -74, -73, -71, -71, -71, -68, -68, -66, -65, -62, -61, -58, -56, -55, -55, -51, -47, -41, -40, -37, -32, -29, -27, -26, -26, -24, -20, -19, -17, -17, -16, -16, -13, -11, -9, -8, -6, 0, 1, 7, 7, 11, 14, 16, 17, 17, 21, 21, 24, 25, 32, 36, 38, 38, 39, 44, 44, 47, 48, 50, 52, 56, 58, 63, 67, 69, 70, 75, 78, 79, 79, 88, 88, 88, 91, 92, 93, 93, 94, 96, 96, 97, 98]\n"
     ]
    }
   ],
   "source": [
    "a = [17, 24, 91, 96, 67, -27, 79, -71, -71, 58, 48, 88, 88, -16, -78, 96, -76, 56, 92, 1, 32, -17, 36, 88, -61, -97,\n",
    "     -37, -84, 50, 47, 94, -6, 52, -76, 93, 14, -32, 98, -65, -16, -9, -68, -20, -40, -71, 93, -91, 44, 25, 79, 97, \n",
    "     0, -94, 7, -47, -96, -55, -58, -78, -78, -79, 75, 44, -56, -41, 38, 16, 70, 17, -17, -24, -83, -74, -73, 11, \n",
    "     -26, 63, -75, -19, -13, -51, -74, 21, -8, 21, -68, -66, -84, \n",
    "     -95, 78, 69, -29, 39, 38, -55, 7, -11, -26, -62, -84]\n",
    "\n",
    "n = len(a)\n",
    "\n",
    "for i in range(n - 1):\n",
    "    flag = True\n",
    "    for j in range(n - i - 1):\n",
    "        if a[j] > a[j + 1]:\n",
    "            a[j], a[j + 1] = a[j + 1], a[j]\n",
    "            flag = False\n",
    "    if flag:\n",
    "        break\n",
    "print(a)"
   ]
  },
  {
   "cell_type": "markdown",
   "id": "bebfd94f",
   "metadata": {},
   "source": [
    "### 2"
   ]
  },
  {
   "cell_type": "markdown",
   "id": "f7bb0814",
   "metadata": {},
   "source": [
    "Отсортируйте список по возрастанию, реализовав алгоритм сортировки выбором."
   ]
  },
  {
   "cell_type": "code",
   "execution_count": 4,
   "id": "6e74a8a8",
   "metadata": {},
   "outputs": [
    {
     "name": "stdout",
     "output_type": "stream",
     "text": [
      "[-97, -96, -94, -94, -79, -77, -72, -72, -71, -71, -67, -67, -64, -64, -63, -62, -62, -61, -60, -58, -56, -52, -48, -47, -42, -41, -39, -36, -32, -31, -30, -26, -24, -23, -22, -21, -19, -16, -16, -14, -10, -8, -5, -3, -1, 0, 2, 2, 3, 3, 5, 9, 9, 14, 20, 22, 27, 32, 32, 35, 35, 39, 39, 41, 41, 43, 48, 53, 57, 57, 58, 59, 59, 59, 60, 60, 61, 62, 63, 63, 64, 66, 71, 72, 76, 78, 78, 80, 82, 84, 87, 87, 89, 90, 92, 92, 93, 94, 96, 98]\n"
     ]
    }
   ],
   "source": [
    "a = [78, -32, 5, 39, 58, -5, -63, 57, 72, 9, 53, -1, 63, -97, -21, -94, \n",
    "     -47, 57, -8, 60, -23, -72, -22, -79, 90, 96, -41, -71, -48, 84, 89, -96, 41, -16, 94,\n",
    "     -60, -64, -39, 60, -14, -62, -19, -3, 32, 98, 14, 43, 3, -56, 71, -71, -67, 80, 27, 92, 92, -64, \n",
    "     0, -77, 2, -26, 41, 3, -31, 48, 39, 20, -30, 35, 32, -58, 2, 63, 64, 66, 62, 82, -62, 9, \n",
    "     -52, 35, -61, 87, 78, 93, -42, 87, -72, -10, -36, 61, -16, 59, 59, 22, -24, -67, 76, -94, 59]\n",
    "\n",
    "n = len(a)\n",
    "\n",
    "for i in range(n):\n",
    "    # Мы предполагаем, что первый элемент несортированного сегмента является наименьшим\n",
    "    lowest_value_index = i\n",
    "    # Этот цикл перебирает несортированные элементы\n",
    "    for j in range(i + 1, n):\n",
    "        if a[j] < a[lowest_value_index]:\n",
    "            lowest_value_index = j\n",
    "    # Поменять местами значения самого низкого несортированного элемента с первым несортированным\n",
    "    a[i], a[lowest_value_index] = a[lowest_value_index], a[i]\n",
    "\n",
    "print(a)"
   ]
  },
  {
   "cell_type": "markdown",
   "id": "8b15638f",
   "metadata": {},
   "source": [
    "## Итоговая работа на списки"
   ]
  },
  {
   "cell_type": "markdown",
   "id": "7c61c4f8",
   "metadata": {},
   "source": [
    "### 1"
   ]
  },
  {
   "cell_type": "markdown",
   "id": "285a22bc",
   "metadata": {},
   "source": [
    "На вход программе подается четное число $n,n≥2$. Напишите программу, которая выводит список четных чисел\n",
    "\n",
    "`[2, 4, 6, ..., n]`."
   ]
  },
  {
   "cell_type": "code",
   "execution_count": 6,
   "id": "09787d7c",
   "metadata": {},
   "outputs": [
    {
     "name": "stdout",
     "output_type": "stream",
     "text": [
      "8\n",
      "[2, 4, 6, 8]\n"
     ]
    }
   ],
   "source": [
    "print([i for i in range(2, int(input()) + 1, 2)])"
   ]
  },
  {
   "cell_type": "markdown",
   "id": "288305bb",
   "metadata": {},
   "source": [
    "### 2"
   ]
  },
  {
   "cell_type": "markdown",
   "id": "b6ff9336",
   "metadata": {},
   "source": [
    "На вход программе подаются две строки текста, содержащие целые числа. Из данных строк формируются списки чисел `L` и `M`. Напишите программу, которая создает третий список, элементами которого являются суммы соответствующих элементов списков `L` и `M`. Далее программа должна вывести каждый элемент полученного списка на одной строке через 1 пробел."
   ]
  },
  {
   "cell_type": "code",
   "execution_count": 7,
   "id": "a2881d41",
   "metadata": {},
   "outputs": [
    {
     "name": "stdout",
     "output_type": "stream",
     "text": [
      "3 1 4\n",
      "1 5 9\n",
      "4 6 13\n"
     ]
    }
   ],
   "source": [
    "L, M = [int(i) for i in input().split()], [int(i) for i in input().split()]\n",
    "print(*[L[i] + M[i] for i in range(len(L))])"
   ]
  },
  {
   "cell_type": "markdown",
   "id": "0c6b4c68",
   "metadata": {},
   "source": [
    "### 3"
   ]
  },
  {
   "cell_type": "markdown",
   "id": "ac86932a",
   "metadata": {},
   "source": [
    "На вход программе подается строка текста, содержащая натуральные числа. Напишите программу, которая вставляет между каждым числом знак `+`, а затем вычисляет сумму полученных чисел."
   ]
  },
  {
   "cell_type": "code",
   "execution_count": 23,
   "id": "ea3f70eb",
   "metadata": {},
   "outputs": [
    {
     "name": "stdout",
     "output_type": "stream",
     "text": [
      "2 5 11\n",
      "2+5+11=18\n"
     ]
    }
   ],
   "source": [
    "s = [int(i) for i in input().split()]\n",
    "print(*s, sep='+', end='=')\n",
    "print(sum(s))"
   ]
  },
  {
   "cell_type": "markdown",
   "id": "4b2f82ad",
   "metadata": {},
   "source": [
    "### 4"
   ]
  },
  {
   "cell_type": "markdown",
   "id": "9ecb9e79",
   "metadata": {},
   "source": [
    "На вход программе подается строка текста. Напишите программу, которая определяет, является ли введенная строка корректным телефонным номером. Строка текста является корректным телефонным номером если она имеет формат:\n",
    "\n",
    "* `abc-def-hijk` или\n",
    "* `7-abc-def-hijk`\n",
    "\n",
    "где `a, b, c, d, e, f, h, i, j, k` – цифры от 0 до 9."
   ]
  },
  {
   "cell_type": "code",
   "execution_count": 11,
   "id": "89f5d77f",
   "metadata": {},
   "outputs": [
    {
     "name": "stdout",
     "output_type": "stream",
     "text": [
      "7-911-823-0198\n",
      "YES\n"
     ]
    }
   ],
   "source": [
    "number = input()\n",
    "flag = False\n",
    "if ''.join(number.split('-')).isdigit() == True:\n",
    "    if len(number) == 12:\n",
    "        list = number.split('-')\n",
    "        if len(list[0]) == 3 and len(list[1]) == 3 and len(list[2]) == 4:\n",
    "            flag = True\n",
    "    elif len(number) == 14:\n",
    "        list = number.split('-')\n",
    "        if int(list[0]) == 7 and len(list[1]) == 3 and len(list[2]) == 3 and len(list[3]) == 4:\n",
    "            flag = True\n",
    "print('YES' if flag == True else 'NO')"
   ]
  },
  {
   "cell_type": "markdown",
   "id": "c5d55ca6",
   "metadata": {},
   "source": [
    "### 5"
   ]
  },
  {
   "cell_type": "markdown",
   "id": "66aceb32",
   "metadata": {},
   "source": [
    "На вход программе подается строка текста. Напишите программу, использующую списочное выражение, которая находит длину самого длинного слова."
   ]
  },
  {
   "cell_type": "code",
   "execution_count": 14,
   "id": "ca1be0cb",
   "metadata": {},
   "outputs": [
    {
     "name": "stdout",
     "output_type": "stream",
     "text": [
      "проспал почти всю ночь\n",
      "7\n"
     ]
    }
   ],
   "source": [
    "print(max([len(i) for i in input().split()]))"
   ]
  },
  {
   "cell_type": "markdown",
   "id": "d732c367",
   "metadata": {},
   "source": [
    "### 6"
   ]
  },
  {
   "cell_type": "markdown",
   "id": "b7c4fa20",
   "metadata": {},
   "source": [
    "На вход программе подается строка текста. Напишите программу, использующую списочное выражение, которая преобразует каждое слово введенного текста в \"молодежный жаргон\" по следующему правилу: \n",
    "\n",
    "* первая буква каждого слова удаляется и ставится в конец слова; \n",
    "* затем в конец слова добавляется слог \"ки\"."
   ]
  },
  {
   "cell_type": "code",
   "execution_count": 18,
   "id": "279406f4",
   "metadata": {},
   "outputs": [
    {
     "name": "stdout",
     "output_type": "stream",
     "text": [
      "проспал почти всю ночь\n",
      "роспалпки очтипки сювки очьнки\n"
     ]
    }
   ],
   "source": [
    "print(*[i[1:] + i[0] + 'ки' for i in input().split()])"
   ]
  }
 ],
 "metadata": {
  "kernelspec": {
   "display_name": "Python 3 (ipykernel)",
   "language": "python",
   "name": "python3"
  },
  "language_info": {
   "codemirror_mode": {
    "name": "ipython",
    "version": 3
   },
   "file_extension": ".py",
   "mimetype": "text/x-python",
   "name": "python",
   "nbconvert_exporter": "python",
   "pygments_lexer": "ipython3",
   "version": "3.9.13"
  },
  "toc": {
   "base_numbering": 1,
   "nav_menu": {},
   "number_sections": true,
   "sideBar": true,
   "skip_h1_title": true,
   "title_cell": "Table of Contents",
   "title_sidebar": "Contents",
   "toc_cell": true,
   "toc_position": {},
   "toc_section_display": true,
   "toc_window_display": false
  }
 },
 "nbformat": 4,
 "nbformat_minor": 5
}
