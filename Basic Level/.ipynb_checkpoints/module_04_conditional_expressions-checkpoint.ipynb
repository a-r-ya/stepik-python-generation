{
 "cells": [
  {
   "cell_type": "markdown",
   "id": "ecd073b6",
   "metadata": {
    "toc": true
   },
   "source": [
    "<h1>Table of Contents<span class=\"tocSkip\"></span></h1>\n",
    "<div class=\"toc\"><ul class=\"toc-item\"><li><span><a href=\"#Выбор-из-двух\" data-toc-modified-id=\"Выбор-из-двух-1\"><span class=\"toc-item-num\">1&nbsp;&nbsp;</span>Выбор из двух</a></span><ul class=\"toc-item\"><li><span><a href=\"#1\" data-toc-modified-id=\"1-1.1\"><span class=\"toc-item-num\">1.1&nbsp;&nbsp;</span>1</a></span></li><li><span><a href=\"#2\" data-toc-modified-id=\"2-1.2\"><span class=\"toc-item-num\">1.2&nbsp;&nbsp;</span>2</a></span></li><li><span><a href=\"#3\" data-toc-modified-id=\"3-1.3\"><span class=\"toc-item-num\">1.3&nbsp;&nbsp;</span>3</a></span></li><li><span><a href=\"#4\" data-toc-modified-id=\"4-1.4\"><span class=\"toc-item-num\">1.4&nbsp;&nbsp;</span>4</a></span></li><li><span><a href=\"#5\" data-toc-modified-id=\"5-1.5\"><span class=\"toc-item-num\">1.5&nbsp;&nbsp;</span>5</a></span></li><li><span><a href=\"#6\" data-toc-modified-id=\"6-1.6\"><span class=\"toc-item-num\">1.6&nbsp;&nbsp;</span>6</a></span></li><li><span><a href=\"#7\" data-toc-modified-id=\"7-1.7\"><span class=\"toc-item-num\">1.7&nbsp;&nbsp;</span>7</a></span></li><li><span><a href=\"#8\" data-toc-modified-id=\"8-1.8\"><span class=\"toc-item-num\">1.8&nbsp;&nbsp;</span>8</a></span></li><li><span><a href=\"#9\" data-toc-modified-id=\"9-1.9\"><span class=\"toc-item-num\">1.9&nbsp;&nbsp;</span>9</a></span></li></ul></li><li><span><a href=\"#Логические-операции\" data-toc-modified-id=\"Логические-операции-2\"><span class=\"toc-item-num\">2&nbsp;&nbsp;</span>Логические операции</a></span><ul class=\"toc-item\"><li><span><a href=\"#1\" data-toc-modified-id=\"1-2.1\"><span class=\"toc-item-num\">2.1&nbsp;&nbsp;</span>1</a></span></li><li><span><a href=\"#2\" data-toc-modified-id=\"2-2.2\"><span class=\"toc-item-num\">2.2&nbsp;&nbsp;</span>2</a></span></li><li><span><a href=\"#3\" data-toc-modified-id=\"3-2.3\"><span class=\"toc-item-num\">2.3&nbsp;&nbsp;</span>3</a></span></li><li><span><a href=\"#4\" data-toc-modified-id=\"4-2.4\"><span class=\"toc-item-num\">2.4&nbsp;&nbsp;</span>4</a></span></li><li><span><a href=\"#5\" data-toc-modified-id=\"5-2.5\"><span class=\"toc-item-num\">2.5&nbsp;&nbsp;</span>5</a></span></li><li><span><a href=\"#6\" data-toc-modified-id=\"6-2.6\"><span class=\"toc-item-num\">2.6&nbsp;&nbsp;</span>6</a></span></li><li><span><a href=\"#7\" data-toc-modified-id=\"7-2.7\"><span class=\"toc-item-num\">2.7&nbsp;&nbsp;</span>7</a></span></li><li><span><a href=\"#8\" data-toc-modified-id=\"8-2.8\"><span class=\"toc-item-num\">2.8&nbsp;&nbsp;</span>8</a></span></li></ul></li><li><span><a href=\"#Вложенные-и-каскадные-условия\" data-toc-modified-id=\"Вложенные-и-каскадные-условия-3\"><span class=\"toc-item-num\">3&nbsp;&nbsp;</span>Вложенные и каскадные условия</a></span><ul class=\"toc-item\"><li><span><a href=\"#1\" data-toc-modified-id=\"1-3.1\"><span class=\"toc-item-num\">3.1&nbsp;&nbsp;</span>1</a></span></li><li><span><a href=\"#2\" data-toc-modified-id=\"2-3.2\"><span class=\"toc-item-num\">3.2&nbsp;&nbsp;</span>2</a></span></li><li><span><a href=\"#3\" data-toc-modified-id=\"3-3.3\"><span class=\"toc-item-num\">3.3&nbsp;&nbsp;</span>3</a></span></li><li><span><a href=\"#4\" data-toc-modified-id=\"4-3.4\"><span class=\"toc-item-num\">3.4&nbsp;&nbsp;</span>4</a></span></li><li><span><a href=\"#5\" data-toc-modified-id=\"5-3.5\"><span class=\"toc-item-num\">3.5&nbsp;&nbsp;</span>5</a></span></li><li><span><a href=\"#6\" data-toc-modified-id=\"6-3.6\"><span class=\"toc-item-num\">3.6&nbsp;&nbsp;</span>6</a></span></li><li><span><a href=\"#7\" data-toc-modified-id=\"7-3.7\"><span class=\"toc-item-num\">3.7&nbsp;&nbsp;</span>7</a></span></li><li><span><a href=\"#8\" data-toc-modified-id=\"8-3.8\"><span class=\"toc-item-num\">3.8&nbsp;&nbsp;</span>8</a></span></li><li><span><a href=\"#9\" data-toc-modified-id=\"9-3.9\"><span class=\"toc-item-num\">3.9&nbsp;&nbsp;</span>9</a></span></li></ul></li><li><span><a href=\"#Итоговая-работа-на-условный-оператор\" data-toc-modified-id=\"Итоговая-работа-на-условный-оператор-4\"><span class=\"toc-item-num\">4&nbsp;&nbsp;</span>Итоговая работа на условный оператор</a></span><ul class=\"toc-item\"><li><span><a href=\"#1\" data-toc-modified-id=\"1-4.1\"><span class=\"toc-item-num\">4.1&nbsp;&nbsp;</span>1</a></span></li><li><span><a href=\"#2\" data-toc-modified-id=\"2-4.2\"><span class=\"toc-item-num\">4.2&nbsp;&nbsp;</span>2</a></span></li><li><span><a href=\"#3\" data-toc-modified-id=\"3-4.3\"><span class=\"toc-item-num\">4.3&nbsp;&nbsp;</span>3</a></span></li><li><span><a href=\"#4\" data-toc-modified-id=\"4-4.4\"><span class=\"toc-item-num\">4.4&nbsp;&nbsp;</span>4</a></span></li><li><span><a href=\"#5\" data-toc-modified-id=\"5-4.5\"><span class=\"toc-item-num\">4.5&nbsp;&nbsp;</span>5</a></span></li><li><span><a href=\"#6\" data-toc-modified-id=\"6-4.6\"><span class=\"toc-item-num\">4.6&nbsp;&nbsp;</span>6</a></span></li><li><span><a href=\"#7\" data-toc-modified-id=\"7-4.7\"><span class=\"toc-item-num\">4.7&nbsp;&nbsp;</span>7</a></span></li><li><span><a href=\"#8\" data-toc-modified-id=\"8-4.8\"><span class=\"toc-item-num\">4.8&nbsp;&nbsp;</span>8</a></span></li></ul></li></ul></div>"
   ]
  },
  {
   "cell_type": "markdown",
   "id": "44211f39",
   "metadata": {},
   "source": [
    "# Условный оператор"
   ]
  },
  {
   "cell_type": "markdown",
   "id": "56d1e478",
   "metadata": {},
   "source": [
    "## Выбор из двух"
   ]
  },
  {
   "cell_type": "markdown",
   "id": "bde99df5",
   "metadata": {},
   "source": [
    "**Условный оператор**"
   ]
  },
  {
   "cell_type": "markdown",
   "id": "6b0b1d32",
   "metadata": {},
   "source": [
    "Для проверки двух элементов на равенство Python использует удвоенный знак равно (==). Не стоит путать оператор присваивания (=) с условным оператором (==)."
   ]
  },
  {
   "cell_type": "markdown",
   "id": "4345b1a1",
   "metadata": {},
   "source": [
    "### 1"
   ]
  },
  {
   "cell_type": "markdown",
   "id": "2b90f9df",
   "metadata": {},
   "source": [
    "При регистрации на сайтах требуется вводить пароль дважды. Это сделано для безопасности, поскольку такой подход уменьшает возможность неверного ввода пароля.\n",
    "\n",
    "Напишите программу, которая сравнивает пароль и его подтверждение. Если они совпадают, то программа выводит: «Пароль принят», иначе: «Пароль не принят»."
   ]
  },
  {
   "cell_type": "code",
   "execution_count": 59,
   "id": "5a6d99e7",
   "metadata": {},
   "outputs": [
    {
     "name": "stdout",
     "output_type": "stream",
     "text": [
      "qwerty\n",
      "Qwerty\n",
      "Пароль не принят\n"
     ]
    }
   ],
   "source": [
    "pass1, pass2 = input(), input()\n",
    "if pass1 == pass2:\n",
    "    print('Пароль принят')\n",
    "else:\n",
    "    print('Пароль не принят')"
   ]
  },
  {
   "cell_type": "markdown",
   "id": "3adfadfd",
   "metadata": {},
   "source": [
    "### 2"
   ]
  },
  {
   "cell_type": "markdown",
   "id": "1adf8d02",
   "metadata": {},
   "source": [
    "Напишите программу, которая определяет, является число четным или нечетным."
   ]
  },
  {
   "cell_type": "code",
   "execution_count": 60,
   "id": "ca006b63",
   "metadata": {},
   "outputs": [
    {
     "name": "stdout",
     "output_type": "stream",
     "text": [
      "3\n",
      "Нечетное\n"
     ]
    }
   ],
   "source": [
    "num = int(input())\n",
    "if num % 2 == 0:\n",
    "    print('Четное')\n",
    "else:\n",
    "    print('Нечетное')"
   ]
  },
  {
   "cell_type": "markdown",
   "id": "9e7b78fe",
   "metadata": {},
   "source": [
    "### 3"
   ]
  },
  {
   "cell_type": "markdown",
   "id": "7ec5ab3e",
   "metadata": {},
   "source": [
    "Напишите программу, которая проверяет, что для заданного четырехзначного числа выполняется следующее соотношение: сумма первой и последней цифр равна разности второй и третьей цифр."
   ]
  },
  {
   "cell_type": "code",
   "execution_count": 62,
   "id": "dbf9e9b3",
   "metadata": {},
   "outputs": [
    {
     "name": "stdout",
     "output_type": "stream",
     "text": [
      "1614\n",
      "ДА\n"
     ]
    }
   ],
   "source": [
    "num = int(input())\n",
    "digit1 = (num % 10000) // 1000\n",
    "digit2 = (num % 1000) // 100\n",
    "digit3 = (num % 100) // 10\n",
    "digit4 = (num % 10)\n",
    "if digit1 + digit4 == digit2 - digit3:\n",
    "    print('ДА')\n",
    "else:\n",
    "    print('НЕТ')"
   ]
  },
  {
   "cell_type": "markdown",
   "id": "c7223150",
   "metadata": {},
   "source": [
    "### 4"
   ]
  },
  {
   "cell_type": "markdown",
   "id": "d70a4dc9",
   "metadata": {},
   "source": [
    "Напишите программу, которая определяет, разрешен пользователю доступ к интернет-ресурсу или нет."
   ]
  },
  {
   "cell_type": "code",
   "execution_count": 41,
   "id": "b2c7e67f",
   "metadata": {},
   "outputs": [
    {
     "name": "stdout",
     "output_type": "stream",
     "text": [
      "15\n",
      "Доступ запрещен\n"
     ]
    }
   ],
   "source": [
    "age = int(input())\n",
    "if age < 18:\n",
    "    print('Доступ запрещен')\n",
    "else:\n",
    "    print('Доступ разрешен')"
   ]
  },
  {
   "cell_type": "markdown",
   "id": "d0d7f262",
   "metadata": {},
   "source": [
    "### 5"
   ]
  },
  {
   "cell_type": "markdown",
   "id": "c0b87a07",
   "metadata": {},
   "source": [
    "Напишите программу, которая определяет, являются ли три заданных числа (в указанном порядке) последовательными членами арифметической прогрессии."
   ]
  },
  {
   "cell_type": "code",
   "execution_count": 42,
   "id": "5c41a6bc",
   "metadata": {},
   "outputs": [
    {
     "name": "stdout",
     "output_type": "stream",
     "text": [
      "2\n",
      "4\n",
      "6\n",
      "YES\n"
     ]
    }
   ],
   "source": [
    "a, b, c = int(input()), int(input()), int(input())\n",
    "if (c-b)==(b-a):\n",
    "    print('YES')\n",
    "else:\n",
    "    print('NO')"
   ]
  },
  {
   "cell_type": "markdown",
   "id": "dc22184b",
   "metadata": {},
   "source": [
    "### 6"
   ]
  },
  {
   "cell_type": "markdown",
   "id": "d6121e70",
   "metadata": {},
   "source": [
    "Напишите программу, которая определяет наименьшее из двух чисел."
   ]
  },
  {
   "cell_type": "code",
   "execution_count": 44,
   "id": "547bb092",
   "metadata": {},
   "outputs": [
    {
     "name": "stdout",
     "output_type": "stream",
     "text": [
      "2\n",
      "3\n",
      "2\n"
     ]
    }
   ],
   "source": [
    "a, b = int(input()), int(input())\n",
    "if a<b:\n",
    "    print(a)\n",
    "else:\n",
    "    print(b)"
   ]
  },
  {
   "cell_type": "markdown",
   "id": "873e8240",
   "metadata": {},
   "source": [
    "### 7"
   ]
  },
  {
   "cell_type": "markdown",
   "id": "2111276c",
   "metadata": {},
   "source": [
    "Напишите программу, которая определяет наименьшее из четырёх чисел."
   ]
  },
  {
   "cell_type": "code",
   "execution_count": 63,
   "id": "6d7bc7fc",
   "metadata": {},
   "outputs": [
    {
     "name": "stdout",
     "output_type": "stream",
     "text": [
      "3\n",
      "16\n",
      "21\n",
      "6\n",
      "3\n"
     ]
    }
   ],
   "source": [
    "a, b, c, d = int(input()), int(input()), int(input()), int(input())\n",
    "min1, min2 = 0, 0\n",
    "if a < b:\n",
    "    min1 = a\n",
    "else:\n",
    "    min1 = b\n",
    "if c < d:\n",
    "    min2 = c\n",
    "else:\n",
    "    min2 = d\n",
    "if min1 < min2:\n",
    "    print(min1)\n",
    "else:\n",
    "    print(min2)"
   ]
  },
  {
   "cell_type": "markdown",
   "id": "52368788",
   "metadata": {},
   "source": [
    "### 8"
   ]
  },
  {
   "cell_type": "markdown",
   "id": "3fa70e5d",
   "metadata": {},
   "source": [
    "Напишите программу, которая по введённому возрасту пользователя сообщает, к какой возрастной группе он относится:\n",
    "\n",
    "* до 13 включительно – детство;\n",
    "* от 14 до 24 – молодость;\n",
    "* от 25 до 59 – зрелость;\n",
    "* от 60 – старость."
   ]
  },
  {
   "cell_type": "code",
   "execution_count": 45,
   "id": "87d346cd",
   "metadata": {},
   "outputs": [
    {
     "name": "stdout",
     "output_type": "stream",
     "text": [
      "99\n",
      "старость\n"
     ]
    }
   ],
   "source": [
    "age = int(input())\n",
    "if age <= 13:\n",
    "    print('детство')\n",
    "elif 14 <= age <= 24:\n",
    "    print('молодость')\n",
    "elif 25 <= age <= 59:\n",
    "    print('зрелость')\n",
    "else:\n",
    "    print('старость')"
   ]
  },
  {
   "cell_type": "markdown",
   "id": "c6d175ba",
   "metadata": {},
   "source": [
    "### 9"
   ]
  },
  {
   "cell_type": "markdown",
   "id": "33323185",
   "metadata": {},
   "source": [
    "Напишите программу, которая считывает три числа и подсчитывает сумму только положительных чисел."
   ]
  },
  {
   "cell_type": "code",
   "execution_count": 66,
   "id": "a00797ae",
   "metadata": {},
   "outputs": [
    {
     "name": "stdout",
     "output_type": "stream",
     "text": [
      "0\n",
      "14\n",
      "3\n",
      "17\n"
     ]
    }
   ],
   "source": [
    "a, b, c = int(input()), int(input()), int(input())\n",
    "sum = 0\n",
    "if a > 0:\n",
    "    sum = sum + a\n",
    "if b > 0:\n",
    "    sum = sum + b\n",
    "if c > 0:\n",
    "    sum = sum + c\n",
    "print(sum)"
   ]
  },
  {
   "cell_type": "markdown",
   "id": "a1b8d6e3",
   "metadata": {},
   "source": [
    "## Логические операции"
   ]
  },
  {
   "cell_type": "markdown",
   "id": "bf980729",
   "metadata": {},
   "source": [
    "**Приоритеты логических операторов**"
   ]
  },
  {
   "cell_type": "code",
   "execution_count": 67,
   "id": "2e91d974",
   "metadata": {},
   "outputs": [
    {
     "name": "stdout",
     "output_type": "stream",
     "text": [
      "Сколько вам лет?: 11\n",
      "Доступ запрещен.\n"
     ]
    }
   ],
   "source": [
    "age = int(input('Сколько вам лет?: '))\n",
    "if not (age < 12):\n",
    "    print('Доступ разрешен.')\n",
    "else:\n",
    "    print('Доступ запрещен.')"
   ]
  },
  {
   "cell_type": "markdown",
   "id": "2941e51e",
   "metadata": {},
   "source": [
    "| a | not a |\n",
    "| :----: | :----: |\n",
    "| False | True |\n",
    "| True | False |"
   ]
  },
  {
   "cell_type": "markdown",
   "id": "697fb127",
   "metadata": {},
   "source": [
    "| a | b | a or b |\n",
    "| :----: | :----: | :----: |\n",
    "| False | False | False |\n",
    "| False | True | True |\n",
    "| True | False | True |\n",
    "| True | True | True |"
   ]
  },
  {
   "cell_type": "markdown",
   "id": "d33cb983",
   "metadata": {},
   "source": [
    "Приоритет выполнения следующий:\n",
    "\n",
    "* в первую очередь выполняется логическое отрицание not;\n",
    "* далее выполняется логическое умножение and;\n",
    "* далее выполняется логическое сложение or."
   ]
  },
  {
   "cell_type": "markdown",
   "id": "5cbe435c",
   "metadata": {},
   "source": [
    "### 1"
   ]
  },
  {
   "cell_type": "markdown",
   "id": "bea38836",
   "metadata": {},
   "source": [
    "Напишите программу, которая принимает целое число $x$ и определяет, принадлежит ли данное число указанному промежутку. \n",
    "\n",
    "<img src=\"https://ucarecdn.com/9bd3a69a-d538-41a2-aefb-e76386c653f9/\" width=\"400\" height=\"400\">"
   ]
  },
  {
   "cell_type": "code",
   "execution_count": 46,
   "id": "4778578e",
   "metadata": {},
   "outputs": [
    {
     "name": "stdout",
     "output_type": "stream",
     "text": [
      "5\n",
      "Принадлежит\n"
     ]
    }
   ],
   "source": [
    "x = int(input())\n",
    "if -1 < x < 17:\n",
    "    print('Принадлежит')\n",
    "else:\n",
    "    print('Не принадлежит')"
   ]
  },
  {
   "cell_type": "markdown",
   "id": "57899990",
   "metadata": {},
   "source": [
    "### 2"
   ]
  },
  {
   "cell_type": "markdown",
   "id": "bfb7b8f2",
   "metadata": {},
   "source": [
    "Напишите программу, которая принимает целое число $x$ и определяет, принадлежит ли данное число указанным промежуткам. \n",
    "\n",
    "<img src=\"https://ucarecdn.com/5d994476-13fb-40aa-a529-4fd12c9e424a/\" width=\"400\" height=\"400\">"
   ]
  },
  {
   "cell_type": "code",
   "execution_count": 47,
   "id": "144ebd3c",
   "metadata": {},
   "outputs": [
    {
     "name": "stdout",
     "output_type": "stream",
     "text": [
      "4\n",
      "Не принадлежит\n"
     ]
    }
   ],
   "source": [
    "x = int(input())\n",
    "if x <= -3 or x >= 7:\n",
    "    print('Принадлежит')\n",
    "else:\n",
    "    print('Не принадлежит')"
   ]
  },
  {
   "cell_type": "markdown",
   "id": "78bd1d8e",
   "metadata": {},
   "source": [
    "### 3"
   ]
  },
  {
   "cell_type": "markdown",
   "id": "07b77f41",
   "metadata": {},
   "source": [
    "Напишите программу, которая принимает целое число $x$ и определяет, принадлежит ли данное число указанным промежуткам. \n",
    "\n",
    "<img src=\"https://ucarecdn.com/4659a972-d8f5-4186-90ed-38dfdacf17fb/\" width=\"300\" height=\"300\">"
   ]
  },
  {
   "cell_type": "code",
   "execution_count": 48,
   "id": "90cabe16",
   "metadata": {},
   "outputs": [
    {
     "name": "stdout",
     "output_type": "stream",
     "text": [
      "-2\n",
      "Принадлежит\n"
     ]
    }
   ],
   "source": [
    "x = int(input())\n",
    "if -30 < x <= 2 or 25 >= x > 7:\n",
    "    print('Принадлежит')\n",
    "else:\n",
    "    print('Не принадлежит')"
   ]
  },
  {
   "cell_type": "markdown",
   "id": "380c59bb",
   "metadata": {},
   "source": [
    "### 4"
   ]
  },
  {
   "cell_type": "markdown",
   "id": "78556e4b",
   "metadata": {},
   "source": [
    "Назовем число красивым, если оно является четырехзначным и делится нацело на $7$ или на $17$. Напишите программу, определяющую, является ли введённое число красивым. Программа должна вывести «YES», если число является красивым, или «NO» в противном случае."
   ]
  },
  {
   "cell_type": "code",
   "execution_count": 49,
   "id": "429d9ede",
   "metadata": {},
   "outputs": [
    {
     "name": "stdout",
     "output_type": "stream",
     "text": [
      "1043\n",
      "YES\n"
     ]
    }
   ],
   "source": [
    "x = int(input())\n",
    "if 1000 <= x <= 9999 and (x % 7 == 0 or x % 17 == 0):\n",
    "    print('YES')\n",
    "else:\n",
    "    print('NO')"
   ]
  },
  {
   "cell_type": "markdown",
   "id": "4b48e6cb",
   "metadata": {},
   "source": [
    "### 5"
   ]
  },
  {
   "cell_type": "markdown",
   "id": "0267d3fd",
   "metadata": {},
   "source": [
    "Напишите программу, которая принимает три положительных числа и определяет, существует ли невырожденный треугольник с такими сторонами.\n",
    "\n",
    "**Примечание.** Треугольник существует, если выполняется [неравенство треугольника](https://ru.wikipedia.org/wiki/%D0%9D%D0%B5%D1%80%D0%B0%D0%B2%D0%B5%D0%BD%D1%81%D1%82%D0%B2%D0%BE_%D1%82%D1%80%D0%B5%D1%83%D0%B3%D0%BE%D0%BB%D1%8C%D0%BD%D0%B8%D0%BA%D0%B0)."
   ]
  },
  {
   "cell_type": "code",
   "execution_count": 70,
   "id": "34a2de7a",
   "metadata": {},
   "outputs": [
    {
     "name": "stdout",
     "output_type": "stream",
     "text": [
      "5\n",
      "2\n",
      "3\n",
      "NO\n"
     ]
    }
   ],
   "source": [
    "ab, bc, ca = int(input()), int(input()), int(input())\n",
    "if ca < ab + bc and bc < ab + ca and ab < bc + ca:\n",
    "    print('YES')\n",
    "else:\n",
    "    print('NO')"
   ]
  },
  {
   "cell_type": "markdown",
   "id": "997504a2",
   "metadata": {},
   "source": [
    "### 6"
   ]
  },
  {
   "cell_type": "markdown",
   "id": "4c456fc5",
   "metadata": {},
   "source": [
    "Напишите программу, которая определяет, является ли год с данным номером високосным. Если год является високосным, то выведите «YES», иначе выведите «NO».\n",
    "\n",
    "Год является високосным, если его номер кратен 4, но не кратен 100, или если он кратен 400."
   ]
  },
  {
   "cell_type": "code",
   "execution_count": 71,
   "id": "8cc432f6",
   "metadata": {},
   "outputs": [
    {
     "name": "stdout",
     "output_type": "stream",
     "text": [
      "2009\n",
      "NO\n"
     ]
    }
   ],
   "source": [
    "year = int(input())\n",
    "if year % 4 == 0 and year % 100 != 0 or year % 400 == 0:\n",
    "    print('YES')\n",
    "else:\n",
    "    print('NO')"
   ]
  },
  {
   "cell_type": "markdown",
   "id": "4c09fd5f",
   "metadata": {},
   "source": [
    "### 7"
   ]
  },
  {
   "cell_type": "markdown",
   "id": "5ea54362",
   "metadata": {},
   "source": [
    "Даны две различные клетки шахматной доски. Напишите программу, которая определяет, может ли ладья попасть с первой клетки на вторую одним ходом. Программа получает на вход четыре числа от 1 до 8 каждое, задающие номер столбца и номер строки сначала для первой клетки, потом для второй клетки. Программа должна вывести «YES», если из первой клетки ходом ладьи можно попасть во вторую, или «NO» в противном случае.\n",
    "\n",
    "**Формат входных данных.** На вход программе подаётся четыре числа от 1 до 8.\n",
    "\n",
    "**Формат выходных данных.** Программа должна вывести текст в соответствии с условием задачи.\n",
    "\n",
    "**Примечание.** Шахматная ладья ходит по горизонтали или вертикали.\n",
    "\n",
    "<img src=\"https://ucarecdn.com/c13b2aac-577c-45a5-b29e-7136842cb955/\" width=\"200\" height=\"200\">"
   ]
  },
  {
   "cell_type": "code",
   "execution_count": 72,
   "id": "77574b70",
   "metadata": {},
   "outputs": [
    {
     "name": "stdout",
     "output_type": "stream",
     "text": [
      "3\n",
      "2\n",
      "3\n",
      "9\n",
      "YES\n"
     ]
    }
   ],
   "source": [
    "col1, row1, col2, row2 = int(input()), int(input()), int(input()), int(input())\n",
    "if col1 == col2 or row1 == row2:\n",
    "    print('YES')\n",
    "else:\n",
    "    print('NO')"
   ]
  },
  {
   "cell_type": "markdown",
   "id": "2ef35267",
   "metadata": {},
   "source": [
    "### 8"
   ]
  },
  {
   "cell_type": "markdown",
   "id": "c221a160",
   "metadata": {},
   "source": [
    "Даны две различные клетки шахматной доски. Напишите программу,  которая определяет, может ли король попасть с первой клетки на вторую одним ходом. Программа получает на вход четыре числа от 1 до 8 каждое, задающие номер столбца и номер строки сначала для первой клетки, потом для второй клетки. Программа должна вывести «YES», если из первой клетки ходом короля можно попасть во вторую, или «NO» в противном случае.\n",
    "\n",
    "**Формат входных данных.** На вход программе подаётся четыре числа от 1 до 8.\n",
    "\n",
    "**Формат выходных данных.** Программа должна вывести текст в соответствии с условием задачи.\n",
    "\n",
    "**Примечание.** Шахматный король ходит по горизонтали, вертикали и диагонали, но только на 1 клетку.\n",
    "\n",
    "<img src=\"https://ucarecdn.com/e759d185-a6d3-47c8-96b2-7b52fa03af09/\" width=\"200\" height=\"200\">"
   ]
  },
  {
   "cell_type": "code",
   "execution_count": 75,
   "id": "98d6de14",
   "metadata": {},
   "outputs": [
    {
     "name": "stdout",
     "output_type": "stream",
     "text": [
      "4\n",
      "4\n",
      "2\n",
      "3\n",
      "NO\n"
     ]
    }
   ],
   "source": [
    "col1, row1, col2, row2 = int(input()), int(input()), int(input()), int(input())\n",
    "if -1 <= col2 - col1 <= 1 and -1 <= row2 - row1 <= 1:\n",
    "    print('YES')\n",
    "else:\n",
    "    print('NO')"
   ]
  },
  {
   "cell_type": "markdown",
   "id": "015344aa",
   "metadata": {},
   "source": [
    "## Вложенные и каскадные условия"
   ]
  },
  {
   "cell_type": "markdown",
   "id": "1a39e43e",
   "metadata": {},
   "source": [
    "### 1"
   ]
  },
  {
   "cell_type": "markdown",
   "id": "1747ef9e",
   "metadata": {},
   "source": [
    "Зум бросил вызов Флэшу и предложил ему честный поединок в виде гонки вокруг магнетара. В случае проигрыша эта нейтронная звезда зарядится и уничтожит мир, поэтому Флэш решил не рисковать без причины, и узнать у своего друга Циско Рамона есть ли смысл принимать вызов. Циско получил данные, что скорость Зума равна $n$, а скорость Флэша равна $k$."
   ]
  },
  {
   "cell_type": "code",
   "execution_count": 50,
   "id": "e5534608",
   "metadata": {},
   "outputs": [
    {
     "name": "stdout",
     "output_type": "stream",
     "text": [
      "2500\n",
      "2500\n",
      "Don't know\n"
     ]
    }
   ],
   "source": [
    "n, k = int(input()), int(input())\n",
    "if n > k:\n",
    "    print('NO')\n",
    "elif k > n:\n",
    "    print('YES')\n",
    "else:\n",
    "    print(\"Don't know\")"
   ]
  },
  {
   "cell_type": "markdown",
   "id": "29cdcb78",
   "metadata": {},
   "source": [
    "### 2"
   ]
  },
  {
   "cell_type": "markdown",
   "id": "9fd62929",
   "metadata": {},
   "source": [
    "Напишите программу, которая принимает три положительных числа и определяет вид треугольника, длины сторон которого равны введенным числам."
   ]
  },
  {
   "cell_type": "code",
   "execution_count": 51,
   "id": "65612e26",
   "metadata": {},
   "outputs": [
    {
     "name": "stdout",
     "output_type": "stream",
     "text": [
      "890\n",
      "199\n",
      "700\n",
      "Разносторонний\n"
     ]
    }
   ],
   "source": [
    "ab, bc, ca = int(input()), int(input()), int(input())\n",
    "if ab == bc == ca:\n",
    "    print('Равносторонний')\n",
    "elif ab == bc or bc == ca or ab == ca:\n",
    "    print('Равнобедренный')\n",
    "else:\n",
    "    print('Разносторонний')"
   ]
  },
  {
   "cell_type": "markdown",
   "id": "b86071bc",
   "metadata": {},
   "source": [
    "### 3"
   ]
  },
  {
   "cell_type": "markdown",
   "id": "68165f0f",
   "metadata": {},
   "source": [
    "Даны три различных целых числа. Напишите программу, которая находит среднее по величине число."
   ]
  },
  {
   "cell_type": "code",
   "execution_count": 79,
   "id": "607634af",
   "metadata": {},
   "outputs": [
    {
     "name": "stdout",
     "output_type": "stream",
     "text": [
      "4\n",
      "1\n",
      "2\n",
      "2\n"
     ]
    }
   ],
   "source": [
    "a, b, c = int(input()), int(input()), int(input())\n",
    "if a < b < c or a > b > c:\n",
    "    print(b)\n",
    "elif b < c < a or b > c > a:\n",
    "    print(c)\n",
    "else:\n",
    "    print(a)"
   ]
  },
  {
   "cell_type": "markdown",
   "id": "8c692bbd",
   "metadata": {},
   "source": [
    "### 4"
   ]
  },
  {
   "cell_type": "markdown",
   "id": "9593446b",
   "metadata": {},
   "source": [
    "Дан порядковый номер месяца $(1,2,…, 12)$. Напишите программу, которая выводит на экран количество дней в этом месяце. Принять, что год является невисокосным.\n",
    "\n",
    "**Примечание.** Постарайтесь написать программу, так чтобы в ней было не более трех условий."
   ]
  },
  {
   "cell_type": "code",
   "execution_count": 86,
   "id": "c82d2527",
   "metadata": {},
   "outputs": [
    {
     "name": "stdout",
     "output_type": "stream",
     "text": [
      "4\n",
      "30\n"
     ]
    }
   ],
   "source": [
    "month = int(input())\n",
    "if month in range(1, 8, 2) or month in range(8, 13, 2):\n",
    "    print('31')\n",
    "elif month == 2:\n",
    "    print('28')\n",
    "else:\n",
    "    print('30')"
   ]
  },
  {
   "cell_type": "markdown",
   "id": "ff67bfa2",
   "metadata": {},
   "source": [
    "### 5"
   ]
  },
  {
   "cell_type": "markdown",
   "id": "92f1472f",
   "metadata": {},
   "source": [
    "Известен вес боксера-любителя (целое число). Известно, что вес таков, что боксер может быть отнесён к одной из трех весовых категорий:\n",
    "\n",
    "* Легкий вес – до 60 кг;\n",
    "* Первый полусредний вес – до 64 кг;\n",
    "* Полусредний вес – до 69 кг.\n",
    "\n",
    "Напишите программу, определяющую, в какой категории будет выступать данный боксер."
   ]
  },
  {
   "cell_type": "code",
   "execution_count": 52,
   "id": "cb2d2f9c",
   "metadata": {},
   "outputs": [
    {
     "name": "stdout",
     "output_type": "stream",
     "text": [
      "66\n",
      "Полусредний вес\n"
     ]
    }
   ],
   "source": [
    "kg = int(input())\n",
    "if kg < 60:\n",
    "    print('Легкий вес')\n",
    "elif kg < 64:\n",
    "    print('Первый полусредний вес')\n",
    "else:\n",
    "    print('Полусредний вес')"
   ]
  },
  {
   "cell_type": "markdown",
   "id": "25fc770d",
   "metadata": {},
   "source": [
    "### 6"
   ]
  },
  {
   "cell_type": "markdown",
   "id": "277b1d66",
   "metadata": {},
   "source": [
    "Напишите программу, которая считывает с клавиатуры два целых числа и строку. Если эта строка является обозначением одной из четырёх математических операций (+, -, *, /), то выведите результат применения этой операции к введённым ранее числам, в противном случае выведите «Неверная операция». Если пользователь захочет поделить на ноль, выведите текст «На ноль делить нельзя!»."
   ]
  },
  {
   "cell_type": "code",
   "execution_count": 87,
   "id": "4ebe81ea",
   "metadata": {},
   "outputs": [
    {
     "name": "stdout",
     "output_type": "stream",
     "text": [
      "2\n",
      "3\n",
      "/\n",
      "0.6666666666666666\n"
     ]
    }
   ],
   "source": [
    "num1, num2, operation = int(input()), int(input()), str(input())\n",
    "if operation == '/':\n",
    "    if num2 == 0:\n",
    "        print('На ноль делить нельзя!')\n",
    "    else:\n",
    "        print(num1 / num2)\n",
    "elif operation == '*':\n",
    "    print(num1 * num2)\n",
    "elif operation == '-':\n",
    "    print(num1 - num2)\n",
    "elif operation == '+':\n",
    "    print(num1 + num2)\n",
    "else:\n",
    "    print('Неверная операция')"
   ]
  },
  {
   "cell_type": "markdown",
   "id": "f83cade4",
   "metadata": {},
   "source": [
    "### 7"
   ]
  },
  {
   "cell_type": "markdown",
   "id": "f6a8ee6d",
   "metadata": {},
   "source": [
    "Красный, синий и желтый называются основными цветами, потому что их нельзя получить путем смешения других цветов. При смешивании двух основных цветов получается вторичный цвет:\n",
    "\n",
    "* если смешать красный и синий, то получится фиолетовый;\n",
    "* если смешать красный и желтый, то получится оранжевый;\n",
    "* если смешать синий и желтый, то получится зеленый.\n",
    "\n",
    "Напишите программу, которая считывает названия двух основных цветов для смешивания. Если пользователь вводит что-нибудь помимо названий «красный», «синий» или «желтый», то программа должна вывести сообщение об ошибке. В противном случае программа должна вывести название вторичного цвета, который получится в результате."
   ]
  },
  {
   "cell_type": "code",
   "execution_count": 110,
   "id": "25db9174",
   "metadata": {},
   "outputs": [
    {
     "name": "stdout",
     "output_type": "stream",
     "text": [
      "желтый\n",
      "синий\n",
      "зеленый\n"
     ]
    }
   ],
   "source": [
    "color1, color2 = str(input()), str(input())\n",
    "allcolors = [\"красный\", \"синий\", \"желтый\"]\n",
    "purple = [\"красный\", \"синий\"]\n",
    "orange = [\"красный\", \"желтый\"]\n",
    "if any(a == color1 for a in allcolors) and any(b == color2 for b in allcolors):\n",
    "    if color1 == color2:\n",
    "        print(color1)\n",
    "    elif any(c == color1 for c in purple) and any(d == color2 for d in purple):\n",
    "        print(\"фиолетовый\")\n",
    "    elif any(e == color1 for e in orange) and any(f == color2 for f in orange):\n",
    "        print(\"оранжевый\")\n",
    "    else:\n",
    "        print(\"зеленый\")\n",
    "else:\n",
    "    print(\"ошибка цвета\")"
   ]
  },
  {
   "cell_type": "markdown",
   "id": "10099a54",
   "metadata": {},
   "source": [
    "### 8"
   ]
  },
  {
   "cell_type": "markdown",
   "id": "7b85699c",
   "metadata": {},
   "source": [
    "На колесе рулетки карманы пронумерованы от 0 до 36. Ниже приведены цвета карманов: \n",
    "\n",
    "* карман 0 зеленый;\n",
    "* для карманов с 1 по 10 карманы с нечетным номером имеют красный цвет, карманы с четным номером – черный;\n",
    "* для карманов с 11 по 18 карманы с нечетным номером имеют черный цвет, карманы с четным номером – красный;\n",
    "* для карманов с 19 по 28 карманы с нечетным номером имеют красный цвет, карманы с четным номером – черный;\n",
    "* для карманов с 29 по 36 карманы с нечетным номером имеют черный цвет, карманы с четным номером – красный.\n",
    "\n",
    "Напишите программу, которая считывает номер кармана и показывает, является ли этот карман зеленым, красным или черным. Программа должна вывести сообщение об ошибке, если пользователь вводит число, которое лежит вне диапазона от 0 до 36.\n",
    "\n",
    "<img src=\"https://st2.depositphotos.com/1072356/7725/v/950/depositphotos_77254344-stock-illustration-roulette-wheel.jpg\" width=\"200\" height=\"200\">"
   ]
  },
  {
   "cell_type": "code",
   "execution_count": 111,
   "id": "3a2e7478",
   "metadata": {},
   "outputs": [
    {
     "name": "stdout",
     "output_type": "stream",
     "text": [
      "11\n",
      "черный\n"
     ]
    }
   ],
   "source": [
    "k = int(input())\n",
    "if k == 0:\n",
    "    print('зеленый')\n",
    "elif 1 <= k <= 10 or 19 <= k <= 28:\n",
    "    if k % 2 == 0:\n",
    "        print('черный')\n",
    "    else:\n",
    "        print('красный')\n",
    "elif 11 <= k <= 18 or 29 <= k <= 36:\n",
    "    if k % 2 == 0:\n",
    "        print('красный')\n",
    "    else:\n",
    "        print('черный')\n",
    "else:\n",
    "    print('ошибка ввода')"
   ]
  },
  {
   "cell_type": "markdown",
   "id": "b65191ba",
   "metadata": {},
   "source": [
    "### 9"
   ]
  },
  {
   "cell_type": "markdown",
   "id": "47ca8ebf",
   "metadata": {},
   "source": [
    "На числовой прямой даны два отрезка: $[a_1; b_1]$ и $[a_2; b_2]$. Напишите программу, которая находит их пересечение.\n",
    "\n",
    "Гарантируется, что $a_1 < b_1$ и $a_2 < b_2$.\n",
    "\n",
    "Пересечением двух отрезков может быть:\n",
    "\n",
    "* отрезок;\n",
    "* точка;\n",
    "* пустое множество.\n",
    "\n",
    "![picture](https://ucarecdn.com/52f859ab-1f8a-472b-9e2d-ac8a63191a45/)"
   ]
  },
  {
   "cell_type": "code",
   "execution_count": null,
   "id": "52cabffe",
   "metadata": {},
   "outputs": [],
   "source": [
    "a1, b1, a2, b2 = int(input()), int(input()), int(input()), int(input())\n",
    "if b1 < a2 or b2 < a1: \n",
    "    print('пустое множество')\n",
    "elif a1 == b2:\n",
    "    print(a1)\n",
    "elif a2 == b1:\n",
    "    print(b1)\n",
    "elif a1 <= a2 < b1 < b2:\n",
    "    print(a2, b1)\n",
    "elif a2 <= a1 < b2 < b1:\n",
    "    print(a1, b2)\n",
    "elif a1 < a2 < b2 <= b1:\n",
    "    print(a2, b2)\n",
    "elif a2 < a1 < b1 <= b2:\n",
    "    print(a1, b1)\n",
    "elif a1 == a2 and b1 == b2:\n",
    "    print(a1, b1)"
   ]
  },
  {
   "cell_type": "markdown",
   "id": "e0ec78c1",
   "metadata": {},
   "source": [
    "## Итоговая работа на условный оператор"
   ]
  },
  {
   "cell_type": "markdown",
   "id": "1ecd51ec",
   "metadata": {},
   "source": [
    "### 1"
   ]
  },
  {
   "cell_type": "markdown",
   "id": "5858a28d",
   "metadata": {},
   "source": [
    "Напишите программу, которая определяет, оканчивается ли год с данным номером на два нуля. Если год оканчивается, то выведите «YES», иначе выведите «NO»."
   ]
  },
  {
   "cell_type": "code",
   "execution_count": 53,
   "id": "d8d4106c",
   "metadata": {},
   "outputs": [
    {
     "name": "stdout",
     "output_type": "stream",
     "text": [
      "3000\n",
      "YES\n"
     ]
    }
   ],
   "source": [
    "year = int(input())\n",
    "digit3 = (year % 100) // 10\n",
    "digit4 = (year % 10)\n",
    "if digit4 == 0 and digit3 == 0:\n",
    "    print('YES')\n",
    "else:\n",
    "    print('NO')"
   ]
  },
  {
   "cell_type": "markdown",
   "id": "0dc2ccdc",
   "metadata": {},
   "source": [
    "### 2"
   ]
  },
  {
   "cell_type": "markdown",
   "id": "7cb4b256",
   "metadata": {},
   "source": [
    "Заданы две клетки шахматной доски. Напишите программу, которая определяет имеют ли указанные клетки один цвет или нет. Если они покрашены в один цвет, то выведите слово «YES», а если в разные цвета — то «NO».\n",
    "\n",
    "<img src=\"https://ucarecdn.com/552441a7-7c02-47b4-9338-c9264f6c1b14/\" width=\"200\" height=\"200\">"
   ]
  },
  {
   "cell_type": "code",
   "execution_count": 54,
   "id": "5e8dbec8",
   "metadata": {},
   "outputs": [
    {
     "name": "stdout",
     "output_type": "stream",
     "text": [
      "1\n",
      "1\n",
      "2\n",
      "6\n",
      "YES\n"
     ]
    }
   ],
   "source": [
    "n1, n2, n3, n4 = int(input()), int(input()), int(input()), int(input())\n",
    "c1, c2 = 0, 0\n",
    "if (n1+n2)%2==0:\n",
    "    c1='белая'\n",
    "elif (n3+n4)%2!=0:\n",
    "    c1='черная'\n",
    "if (n3+n4)%2==0:\n",
    "    c2='белая'\n",
    "elif (n1+n2)%2!=0:\n",
    "    c2='черная'\n",
    "if c1==c2:\n",
    "    print('YES')\n",
    "else:\n",
    "    print('NO')"
   ]
  },
  {
   "cell_type": "markdown",
   "id": "d25db38a",
   "metadata": {},
   "source": [
    "### 3"
   ]
  },
  {
   "cell_type": "markdown",
   "id": "c7914e87",
   "metadata": {},
   "source": [
    "Футбольная команда набирает девочек от 10 до 15 лет включительно. Напишите программу, которая запрашивает возраст и пол претендента, используя обозначение пола буквы m (от male – мужчина) и f (от female – женщина) и определяет подходит ли претендент для вступления в команду или нет. Если претендент подходит, то выведите «YES», иначе выведите «NO»."
   ]
  },
  {
   "cell_type": "code",
   "execution_count": 55,
   "id": "67f71c82",
   "metadata": {},
   "outputs": [
    {
     "name": "stdout",
     "output_type": "stream",
     "text": [
      "11\n",
      "m\n",
      "NO\n"
     ]
    }
   ],
   "source": [
    "age, sex = int(input()), str(input())\n",
    "if 10 <= age <= 15 and sex=='f':\n",
    "    print('YES')\n",
    "else:\n",
    "    print('NO')"
   ]
  },
  {
   "cell_type": "markdown",
   "id": "1f446593",
   "metadata": {},
   "source": [
    "### 4"
   ]
  },
  {
   "cell_type": "markdown",
   "id": "57d5b152",
   "metadata": {},
   "source": [
    "Напишите программу, которая считывает целое число и выводит соответствующую ему римскую цифру. Если число находится вне диапазона 1-10, то программа должна вывести текст «ошибка»."
   ]
  },
  {
   "cell_type": "code",
   "execution_count": 56,
   "id": "e80776b5",
   "metadata": {},
   "outputs": [
    {
     "name": "stdout",
     "output_type": "stream",
     "text": [
      "10\n",
      "X\n"
     ]
    }
   ],
   "source": [
    "num = int(input())\n",
    "if 1 <= num <= 10:\n",
    "    if num == 1:\n",
    "        print('I')\n",
    "    elif num == 2:\n",
    "        print('II')\n",
    "    elif num == 3:\n",
    "        print('III')\n",
    "    elif num == 4:\n",
    "        print('IV')\n",
    "    elif num == 5:\n",
    "        print('V')\n",
    "    elif num == 6:\n",
    "        print('VI')\n",
    "    elif num == 7:\n",
    "        print('VII')\n",
    "    elif num == 8:\n",
    "        print('VIII')\n",
    "    elif num == 9:\n",
    "        print('IX')\n",
    "    elif num == 10:\n",
    "        print('X')\n",
    "else:\n",
    "    print('ошибка')"
   ]
  },
  {
   "cell_type": "markdown",
   "id": "bad7db1a",
   "metadata": {},
   "source": [
    "### 5"
   ]
  },
  {
   "cell_type": "markdown",
   "id": "149c3472",
   "metadata": {},
   "source": [
    "Напишите программу, которая принимает на вход число и в зависимости от условий выводит текст «YES», либо «NO».\n",
    "\n",
    "Условия:\n",
    "\n",
    "* если число нечётное, то вывести «YES»;\n",
    "* если число чётное в диапазоне от 2 до 5 (включительно), то вывести «NO»;\n",
    "* если число чётное в диапазоне от 6 до 20 (включительно), то вывести «YES»;\n",
    "* если число чётное и больше 20, то вывести «NO»."
   ]
  },
  {
   "cell_type": "code",
   "execution_count": 57,
   "id": "88f34df7",
   "metadata": {},
   "outputs": [
    {
     "name": "stdout",
     "output_type": "stream",
     "text": [
      "22\n",
      "NO\n"
     ]
    }
   ],
   "source": [
    "num = int(input())\n",
    "if num % 2 != 0:\n",
    "    print('YES')\n",
    "elif num % 2 == 0:\n",
    "    if 2 <= num <= 5:\n",
    "        print('NO')\n",
    "    elif 6 <= num <= 20:\n",
    "        print('YES')\n",
    "    else:\n",
    "        print('NO')"
   ]
  },
  {
   "cell_type": "markdown",
   "id": "72b2dc3d",
   "metadata": {},
   "source": [
    "### 6"
   ]
  },
  {
   "cell_type": "markdown",
   "id": "0ec374c1",
   "metadata": {},
   "source": [
    "Даны две различные клетки шахматной доски. Напишите программу, которая определяет, может ли слон попасть с первой клетки на вторую одним ходом. Программа получает на вход четыре числа от 1 до 8 каждое, задающие номер столбца и номер строки сначала для первой клетки, потом для второй клетки. Программа должна вывести «YES», если из первой клетки ходом слона можно попасть во вторую или «NO» в противном случае.\n",
    "\n",
    "**Формат входных данных.** На вход программе подаётся четыре числа от 1 до 8.\n",
    "\n",
    "**Формат выходных данных.** Программа должна вывести текст в соответствии с условием задачи.\n",
    "\n",
    "**Примечание.** Шахматный слон ходит по диагоналям.\n",
    "\n",
    "<img src=\"https://ucarecdn.com/eb6ad880-928b-4271-98f0-aefb193991d7/\" width=\"200\" height=\"200\">"
   ]
  },
  {
   "cell_type": "code",
   "execution_count": 112,
   "id": "a94e0381",
   "metadata": {},
   "outputs": [
    {
     "name": "stdout",
     "output_type": "stream",
     "text": [
      "3\n",
      "1\n",
      "2\n",
      "4\n",
      "NO\n"
     ]
    }
   ],
   "source": [
    "x1, y1, x2, y2 = int(input()), int(input()), int(input()), int(input())\n",
    "\n",
    "if (x1 - y1 == x2 - y2) or (x1 + y1 == x2 + y2):\n",
    "    print('YES')\n",
    "else:\n",
    "    print('NO')"
   ]
  },
  {
   "cell_type": "markdown",
   "id": "e7724c5e",
   "metadata": {},
   "source": [
    "### 7"
   ]
  },
  {
   "cell_type": "markdown",
   "id": "f96cca3d",
   "metadata": {},
   "source": [
    "Даны две различные клетки шахматной доски. Напишите программу,  которая определяет, может ли конь попасть с первой клетки на вторую одним ходом. Программа получает на вход четыре числа от 1 до 8 каждое, задающие номер столбца и номер строки сначала для первой клетки, потом для второй клетки. Программа должна вывести «YES», если из первой клетки ходом коня можно попасть во вторую или «NO» в противном случае.\n",
    "\n",
    "**Формат входных данных.** На вход программе подаётся четыре числа от 1 до 8.\n",
    "\n",
    "**Формат выходных данных.** Программа должна вывести текст в соответствии с условием задачи.\n",
    "\n",
    "**Примечание.** Шахматный конь ходит буквой «Г».\n",
    "\n",
    "\n",
    "<img src=\"https://ucarecdn.com/1611c614-daab-439b-8a5e-350cee84d150/\" width=\"200\" height=\"200\">"
   ]
  },
  {
   "cell_type": "code",
   "execution_count": 113,
   "id": "3ee8de5d",
   "metadata": {},
   "outputs": [
    {
     "name": "stdout",
     "output_type": "stream",
     "text": [
      "2\n",
      "4\n",
      "3\n",
      "2\n",
      "YES\n"
     ]
    }
   ],
   "source": [
    "x1, y1, x2, y2 = int(input()), int(input()), int(input()), int(input())\n",
    "\n",
    "if x2 - x1 == 1 and (y2 - y1 == 2 or y2 - y1 == -2):\n",
    "    print('YES')\n",
    "elif x2 - x1 == -1 and (y2 - y1 == 2 or y2 - y1 == -2):\n",
    "    print('YES')\n",
    "elif x2 - x1 == 2 and (y2 - y1 == 1 or y2 - y1 == -1):\n",
    "    print('YES')\n",
    "elif x2 - x1 == -2 and (y2 - y1 == 1 or y2 - y1 == -1):\n",
    "    print('YES')\n",
    "else:\n",
    "    print('NO')"
   ]
  },
  {
   "cell_type": "markdown",
   "id": "2db1e094",
   "metadata": {},
   "source": [
    "### 8"
   ]
  },
  {
   "cell_type": "markdown",
   "id": "cc3e4c6a",
   "metadata": {},
   "source": [
    "Даны две различные клетки шахматной доски. Напишите программу,  которая определяет, может ли ферзь попасть с первой клетки на вторую одним ходом. Программа получает на вход четыре числа от 1 до 8 каждое, задающие номер столбца и номер строки сначала для первой клетки, потом для второй клетки. Программа должна вывести «YES», если из первой клетки ходом ферзя можно попасть во вторую или «NO» в противном случае.\n",
    "\n",
    "**Формат входных данных.** На вход программе подаётся четыре числа от 1 до 8.\n",
    "\n",
    "**Формат выходных данных.** Программа должна вывести текст в соответствии с условием задачи.\n",
    "\n",
    "**Примечание.** Шахматный ферзь ходит по диагонали, горизонтали или вертикали.\n",
    "\n",
    "<img src=\"https://ucarecdn.com/b34b1092-f9bd-46de-b5b2-870c761197d2/\" width=\"200\" height=\"200\">"
   ]
  },
  {
   "cell_type": "code",
   "execution_count": 114,
   "id": "e30f7210",
   "metadata": {},
   "outputs": [
    {
     "name": "stdout",
     "output_type": "stream",
     "text": [
      "2\n",
      "3\n",
      "5\n",
      "4\n",
      "NO\n"
     ]
    }
   ],
   "source": [
    "x1, y1, x2, y2 = int(input()), int(input()), int(input()), int(input())\n",
    "\n",
    "if (x1 - y1 == x2 - y2) or (x1 + y1 == x2 + y2):\n",
    "    print('YES')\n",
    "elif x1 == x2 or y1 == y2:\n",
    "    print('YES')\n",
    "else:\n",
    "    print('NO')"
   ]
  }
 ],
 "metadata": {
  "kernelspec": {
   "display_name": "Python 3 (ipykernel)",
   "language": "python",
   "name": "python3"
  },
  "language_info": {
   "codemirror_mode": {
    "name": "ipython",
    "version": 3
   },
   "file_extension": ".py",
   "mimetype": "text/x-python",
   "name": "python",
   "nbconvert_exporter": "python",
   "pygments_lexer": "ipython3",
   "version": "3.9.13"
  },
  "toc": {
   "base_numbering": 1,
   "nav_menu": {},
   "number_sections": true,
   "sideBar": true,
   "skip_h1_title": true,
   "title_cell": "Table of Contents",
   "title_sidebar": "Contents",
   "toc_cell": true,
   "toc_position": {},
   "toc_section_display": true,
   "toc_window_display": false
  }
 },
 "nbformat": 4,
 "nbformat_minor": 5
}
