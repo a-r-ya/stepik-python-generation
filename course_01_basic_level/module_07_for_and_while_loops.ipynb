{
 "cells": [
  {
   "cell_type": "markdown",
   "id": "994982dc",
   "metadata": {
    "toc": true
   },
   "source": [
    "<h1>Table of Contents<span class=\"tocSkip\"></span></h1>\n",
    "<div class=\"toc\"><ul class=\"toc-item\"><li><span><a href=\"#Цикл-for\" data-toc-modified-id=\"Цикл-for-1\"><span class=\"toc-item-num\">1&nbsp;&nbsp;</span>Цикл for</a></span><ul class=\"toc-item\"><li><span><a href=\"#1\" data-toc-modified-id=\"1-1.1\"><span class=\"toc-item-num\">1.1&nbsp;&nbsp;</span>1</a></span></li><li><span><a href=\"#2\" data-toc-modified-id=\"2-1.2\"><span class=\"toc-item-num\">1.2&nbsp;&nbsp;</span>2</a></span></li><li><span><a href=\"#3\" data-toc-modified-id=\"3-1.3\"><span class=\"toc-item-num\">1.3&nbsp;&nbsp;</span>3</a></span></li><li><span><a href=\"#4\" data-toc-modified-id=\"4-1.4\"><span class=\"toc-item-num\">1.4&nbsp;&nbsp;</span>4</a></span></li><li><span><a href=\"#5\" data-toc-modified-id=\"5-1.5\"><span class=\"toc-item-num\">1.5&nbsp;&nbsp;</span>5</a></span></li><li><span><a href=\"#6\" data-toc-modified-id=\"6-1.6\"><span class=\"toc-item-num\">1.6&nbsp;&nbsp;</span>6</a></span></li><li><span><a href=\"#7\" data-toc-modified-id=\"7-1.7\"><span class=\"toc-item-num\">1.7&nbsp;&nbsp;</span>7</a></span></li><li><span><a href=\"#8\" data-toc-modified-id=\"8-1.8\"><span class=\"toc-item-num\">1.8&nbsp;&nbsp;</span>8</a></span></li></ul></li><li><span><a href=\"#Цикл-for:-функция-range\" data-toc-modified-id=\"Цикл-for:-функция-range-2\"><span class=\"toc-item-num\">2&nbsp;&nbsp;</span>Цикл for: функция range</a></span><ul class=\"toc-item\"><li><span><a href=\"#1\" data-toc-modified-id=\"1-2.1\"><span class=\"toc-item-num\">2.1&nbsp;&nbsp;</span>1</a></span></li><li><span><a href=\"#2\" data-toc-modified-id=\"2-2.2\"><span class=\"toc-item-num\">2.2&nbsp;&nbsp;</span>2</a></span></li><li><span><a href=\"#3\" data-toc-modified-id=\"3-2.3\"><span class=\"toc-item-num\">2.3&nbsp;&nbsp;</span>3</a></span></li><li><span><a href=\"#4\" data-toc-modified-id=\"4-2.4\"><span class=\"toc-item-num\">2.4&nbsp;&nbsp;</span>4</a></span></li><li><span><a href=\"#5\" data-toc-modified-id=\"5-2.5\"><span class=\"toc-item-num\">2.5&nbsp;&nbsp;</span>5</a></span></li></ul></li><li><span><a href=\"#Частые-сценарии\" data-toc-modified-id=\"Частые-сценарии-3\"><span class=\"toc-item-num\">3&nbsp;&nbsp;</span>Частые сценарии</a></span><ul class=\"toc-item\"><li><span><a href=\"#1\" data-toc-modified-id=\"1-3.1\"><span class=\"toc-item-num\">3.1&nbsp;&nbsp;</span>1</a></span></li><li><span><a href=\"#2\" data-toc-modified-id=\"2-3.2\"><span class=\"toc-item-num\">3.2&nbsp;&nbsp;</span>2</a></span></li><li><span><a href=\"#3\" data-toc-modified-id=\"3-3.3\"><span class=\"toc-item-num\">3.3&nbsp;&nbsp;</span>3</a></span></li><li><span><a href=\"#4\" data-toc-modified-id=\"4-3.4\"><span class=\"toc-item-num\">3.4&nbsp;&nbsp;</span>4</a></span></li><li><span><a href=\"#5\" data-toc-modified-id=\"5-3.5\"><span class=\"toc-item-num\">3.5&nbsp;&nbsp;</span>5</a></span></li><li><span><a href=\"#6\" data-toc-modified-id=\"6-3.6\"><span class=\"toc-item-num\">3.6&nbsp;&nbsp;</span>6</a></span></li><li><span><a href=\"#7\" data-toc-modified-id=\"7-3.7\"><span class=\"toc-item-num\">3.7&nbsp;&nbsp;</span>7</a></span></li><li><span><a href=\"#8\" data-toc-modified-id=\"8-3.8\"><span class=\"toc-item-num\">3.8&nbsp;&nbsp;</span>8</a></span></li><li><span><a href=\"#9\" data-toc-modified-id=\"9-3.9\"><span class=\"toc-item-num\">3.9&nbsp;&nbsp;</span>9</a></span></li><li><span><a href=\"#10\" data-toc-modified-id=\"10-3.10\"><span class=\"toc-item-num\">3.10&nbsp;&nbsp;</span>10</a></span></li><li><span><a href=\"#11\" data-toc-modified-id=\"11-3.11\"><span class=\"toc-item-num\">3.11&nbsp;&nbsp;</span>11</a></span></li></ul></li><li><span><a href=\"#Цикл-while\" data-toc-modified-id=\"Цикл-while-4\"><span class=\"toc-item-num\">4&nbsp;&nbsp;</span>Цикл while</a></span><ul class=\"toc-item\"><li><span><a href=\"#1\" data-toc-modified-id=\"1-4.1\"><span class=\"toc-item-num\">4.1&nbsp;&nbsp;</span>1</a></span></li><li><span><a href=\"#2\" data-toc-modified-id=\"2-4.2\"><span class=\"toc-item-num\">4.2&nbsp;&nbsp;</span>2</a></span></li><li><span><a href=\"#3\" data-toc-modified-id=\"3-4.3\"><span class=\"toc-item-num\">4.3&nbsp;&nbsp;</span>3</a></span></li><li><span><a href=\"#4\" data-toc-modified-id=\"4-4.4\"><span class=\"toc-item-num\">4.4&nbsp;&nbsp;</span>4</a></span></li><li><span><a href=\"#5\" data-toc-modified-id=\"5-4.5\"><span class=\"toc-item-num\">4.5&nbsp;&nbsp;</span>5</a></span></li><li><span><a href=\"#6\" data-toc-modified-id=\"6-4.6\"><span class=\"toc-item-num\">4.6&nbsp;&nbsp;</span>6</a></span></li><li><span><a href=\"#7\" data-toc-modified-id=\"7-4.7\"><span class=\"toc-item-num\">4.7&nbsp;&nbsp;</span>7</a></span></li></ul></li><li><span><a href=\"#Цикл-while:-обработка-цифр-числа\" data-toc-modified-id=\"Цикл-while:-обработка-цифр-числа-5\"><span class=\"toc-item-num\">5&nbsp;&nbsp;</span>Цикл while: обработка цифр числа</a></span><ul class=\"toc-item\"><li><span><a href=\"#1\" data-toc-modified-id=\"1-5.1\"><span class=\"toc-item-num\">5.1&nbsp;&nbsp;</span>1</a></span></li><li><span><a href=\"#2\" data-toc-modified-id=\"2-5.2\"><span class=\"toc-item-num\">5.2&nbsp;&nbsp;</span>2</a></span></li><li><span><a href=\"#3\" data-toc-modified-id=\"3-5.3\"><span class=\"toc-item-num\">5.3&nbsp;&nbsp;</span>3</a></span></li><li><span><a href=\"#4\" data-toc-modified-id=\"4-5.4\"><span class=\"toc-item-num\">5.4&nbsp;&nbsp;</span>4</a></span></li><li><span><a href=\"#5\" data-toc-modified-id=\"5-5.5\"><span class=\"toc-item-num\">5.5&nbsp;&nbsp;</span>5</a></span></li><li><span><a href=\"#6\" data-toc-modified-id=\"6-5.6\"><span class=\"toc-item-num\">5.6&nbsp;&nbsp;</span>6</a></span></li><li><span><a href=\"#7\" data-toc-modified-id=\"7-5.7\"><span class=\"toc-item-num\">5.7&nbsp;&nbsp;</span>7</a></span></li></ul></li><li><span><a href=\"#break,-continue-и-else\" data-toc-modified-id=\"break,-continue-и-else-6\"><span class=\"toc-item-num\">6&nbsp;&nbsp;</span>break, continue и else</a></span><ul class=\"toc-item\"><li><span><a href=\"#1\" data-toc-modified-id=\"1-6.1\"><span class=\"toc-item-num\">6.1&nbsp;&nbsp;</span>1</a></span></li><li><span><a href=\"#2\" data-toc-modified-id=\"2-6.2\"><span class=\"toc-item-num\">6.2&nbsp;&nbsp;</span>2</a></span></li></ul></li><li><span><a href=\"#Поиск-ошибок-и-ревью-кода\" data-toc-modified-id=\"Поиск-ошибок-и-ревью-кода-7\"><span class=\"toc-item-num\">7&nbsp;&nbsp;</span>Поиск ошибок и ревью кода</a></span><ul class=\"toc-item\"><li><span><a href=\"#1\" data-toc-modified-id=\"1-7.1\"><span class=\"toc-item-num\">7.1&nbsp;&nbsp;</span>1</a></span></li><li><span><a href=\"#2\" data-toc-modified-id=\"2-7.2\"><span class=\"toc-item-num\">7.2&nbsp;&nbsp;</span>2</a></span></li><li><span><a href=\"#3\" data-toc-modified-id=\"3-7.3\"><span class=\"toc-item-num\">7.3&nbsp;&nbsp;</span>3</a></span></li><li><span><a href=\"#4\" data-toc-modified-id=\"4-7.4\"><span class=\"toc-item-num\">7.4&nbsp;&nbsp;</span>4</a></span></li><li><span><a href=\"#5\" data-toc-modified-id=\"5-7.5\"><span class=\"toc-item-num\">7.5&nbsp;&nbsp;</span>5</a></span></li><li><span><a href=\"#6\" data-toc-modified-id=\"6-7.6\"><span class=\"toc-item-num\">7.6&nbsp;&nbsp;</span>6</a></span></li></ul></li><li><span><a href=\"#Вложенные-циклы.-Часть-1\" data-toc-modified-id=\"Вложенные-циклы.-Часть-1-8\"><span class=\"toc-item-num\">8&nbsp;&nbsp;</span>Вложенные циклы. Часть 1</a></span><ul class=\"toc-item\"><li><span><a href=\"#1\" data-toc-modified-id=\"1-8.1\"><span class=\"toc-item-num\">8.1&nbsp;&nbsp;</span>1</a></span></li><li><span><a href=\"#2\" data-toc-modified-id=\"2-8.2\"><span class=\"toc-item-num\">8.2&nbsp;&nbsp;</span>2</a></span></li><li><span><a href=\"#3\" data-toc-modified-id=\"3-8.3\"><span class=\"toc-item-num\">8.3&nbsp;&nbsp;</span>3</a></span></li><li><span><a href=\"#4\" data-toc-modified-id=\"4-8.4\"><span class=\"toc-item-num\">8.4&nbsp;&nbsp;</span>4</a></span></li><li><span><a href=\"#5\" data-toc-modified-id=\"5-8.5\"><span class=\"toc-item-num\">8.5&nbsp;&nbsp;</span>5</a></span></li><li><span><a href=\"#6\" data-toc-modified-id=\"6-8.6\"><span class=\"toc-item-num\">8.6&nbsp;&nbsp;</span>6</a></span></li><li><span><a href=\"#7\" data-toc-modified-id=\"7-8.7\"><span class=\"toc-item-num\">8.7&nbsp;&nbsp;</span>7</a></span></li><li><span><a href=\"#8\" data-toc-modified-id=\"8-8.8\"><span class=\"toc-item-num\">8.8&nbsp;&nbsp;</span>8</a></span></li></ul></li><li><span><a href=\"#Вложенные-циклы.-Часть-2\" data-toc-modified-id=\"Вложенные-циклы.-Часть-2-9\"><span class=\"toc-item-num\">9&nbsp;&nbsp;</span>Вложенные циклы. Часть 2</a></span><ul class=\"toc-item\"><li><span><a href=\"#1\" data-toc-modified-id=\"1-9.1\"><span class=\"toc-item-num\">9.1&nbsp;&nbsp;</span>1</a></span></li><li><span><a href=\"#2\" data-toc-modified-id=\"2-9.2\"><span class=\"toc-item-num\">9.2&nbsp;&nbsp;</span>2</a></span></li><li><span><a href=\"#3\" data-toc-modified-id=\"3-9.3\"><span class=\"toc-item-num\">9.3&nbsp;&nbsp;</span>3</a></span></li><li><span><a href=\"#4\" data-toc-modified-id=\"4-9.4\"><span class=\"toc-item-num\">9.4&nbsp;&nbsp;</span>4</a></span></li><li><span><a href=\"#5\" data-toc-modified-id=\"5-9.5\"><span class=\"toc-item-num\">9.5&nbsp;&nbsp;</span>5</a></span></li><li><span><a href=\"#6\" data-toc-modified-id=\"6-9.6\"><span class=\"toc-item-num\">9.6&nbsp;&nbsp;</span>6</a></span></li><li><span><a href=\"#7\" data-toc-modified-id=\"7-9.7\"><span class=\"toc-item-num\">9.7&nbsp;&nbsp;</span>7</a></span></li></ul></li><li><span><a href=\"#Итоговая-работа-на-циклы\" data-toc-modified-id=\"Итоговая-работа-на-циклы-10\"><span class=\"toc-item-num\">10&nbsp;&nbsp;</span>Итоговая работа на циклы</a></span><ul class=\"toc-item\"><li><span><a href=\"#1\" data-toc-modified-id=\"1-10.1\"><span class=\"toc-item-num\">10.1&nbsp;&nbsp;</span>1</a></span></li><li><span><a href=\"#2\" data-toc-modified-id=\"2-10.2\"><span class=\"toc-item-num\">10.2&nbsp;&nbsp;</span>2</a></span></li><li><span><a href=\"#3\" data-toc-modified-id=\"3-10.3\"><span class=\"toc-item-num\">10.3&nbsp;&nbsp;</span>3</a></span></li><li><span><a href=\"#4\" data-toc-modified-id=\"4-10.4\"><span class=\"toc-item-num\">10.4&nbsp;&nbsp;</span>4</a></span></li><li><span><a href=\"#5\" data-toc-modified-id=\"5-10.5\"><span class=\"toc-item-num\">10.5&nbsp;&nbsp;</span>5</a></span></li><li><span><a href=\"#6\" data-toc-modified-id=\"6-10.6\"><span class=\"toc-item-num\">10.6&nbsp;&nbsp;</span>6</a></span></li><li><span><a href=\"#7\" data-toc-modified-id=\"7-10.7\"><span class=\"toc-item-num\">10.7&nbsp;&nbsp;</span>7</a></span></li></ul></li></ul></div>"
   ]
  },
  {
   "cell_type": "markdown",
   "id": "ae858031",
   "metadata": {},
   "source": [
    "# Циклы for и while"
   ]
  },
  {
   "cell_type": "markdown",
   "id": "63cb0417",
   "metadata": {},
   "source": [
    "## Цикл for"
   ]
  },
  {
   "cell_type": "markdown",
   "id": "de5ade4c",
   "metadata": {},
   "source": [
    "### 1"
   ]
  },
  {
   "cell_type": "markdown",
   "id": "16c4e633",
   "metadata": {},
   "source": [
    "Напишите программу, которая выводит слова «Python is awesome!» (без кавычек) 10 раз."
   ]
  },
  {
   "cell_type": "markdown",
   "id": "43ac06fe",
   "metadata": {},
   "source": [
    "<img src=\"https://ucarecdn.com/a641f6da-809b-4895-8b1d-3db32a0e8f26/\" width=\"400\" height=\"400\">"
   ]
  },
  {
   "cell_type": "code",
   "execution_count": 67,
   "id": "c608b276",
   "metadata": {},
   "outputs": [
    {
     "name": "stdout",
     "output_type": "stream",
     "text": [
      "Python is awesome!\n",
      "Python is awesome!\n",
      "Python is awesome!\n",
      "Python is awesome!\n",
      "Python is awesome!\n",
      "Python is awesome!\n",
      "Python is awesome!\n",
      "Python is awesome!\n",
      "Python is awesome!\n",
      "Python is awesome!\n"
     ]
    }
   ],
   "source": [
    "for i in range(10):\n",
    "    print(\"Python is awesome!\")"
   ]
  },
  {
   "cell_type": "markdown",
   "id": "da35751b",
   "metadata": {},
   "source": [
    "### 2"
   ]
  },
  {
   "cell_type": "markdown",
   "id": "1cf1ef45",
   "metadata": {},
   "source": [
    "Дано предложение и количество раз которое его надо повторить. Напишите программу, которая повторяет данное предложение нужное количество раз."
   ]
  },
  {
   "cell_type": "code",
   "execution_count": 6,
   "id": "3a184da7",
   "metadata": {},
   "outputs": [
    {
     "name": "stdout",
     "output_type": "stream",
     "text": [
      "Век живи - век учись.\n",
      "3\n",
      "Век живи - век учись.\n",
      "Век живи - век учись.\n",
      "Век живи - век учись.\n"
     ]
    }
   ],
   "source": [
    "text = input()\n",
    "number = int(input())\n",
    "for i in range(number):\n",
    "    print(text)"
   ]
  },
  {
   "cell_type": "markdown",
   "id": "bafe3f8c",
   "metadata": {},
   "source": [
    "### 3"
   ]
  },
  {
   "cell_type": "markdown",
   "id": "a4435e0a",
   "metadata": {},
   "source": [
    "Напишите программу, которая использует ровно три цикла for для печати следующей последовательности символов:\n",
    "\n",
    "AAA\n",
    "AAA\n",
    "AAA\n",
    "AAA\n",
    "AAA\n",
    "AAA\n",
    "BBBB\n",
    "BBBB\n",
    "BBBB\n",
    "BBBB\n",
    "BBBB\n",
    "E\n",
    "TTTTT\n",
    "TTTTT\n",
    "TTTTT\n",
    "TTTTT\n",
    "TTTTT\n",
    "TTTTT\n",
    "TTTTT\n",
    "TTTTT\n",
    "TTTTT\n",
    "G"
   ]
  },
  {
   "cell_type": "code",
   "execution_count": 68,
   "id": "f5b2bc24",
   "metadata": {},
   "outputs": [
    {
     "name": "stdout",
     "output_type": "stream",
     "text": [
      "AAA\n",
      "AAA\n",
      "AAA\n",
      "AAA\n",
      "AAA\n",
      "AAA\n",
      "BBBB\n",
      "BBBB\n",
      "BBBB\n",
      "BBBB\n",
      "BBBB\n",
      "E\n",
      "TTTTT\n",
      "TTTTT\n",
      "TTTTT\n",
      "TTTTT\n",
      "TTTTT\n",
      "TTTTT\n",
      "TTTTT\n",
      "TTTTT\n",
      "TTTTT\n",
      "G\n"
     ]
    }
   ],
   "source": [
    "for i in range(6):\n",
    "    print('AAA')\n",
    "for t in range(5):\n",
    "    print('BBBB')\n",
    "print('E')\n",
    "for y in range(9):\n",
    "    print('TTTTT')\n",
    "print('G')"
   ]
  },
  {
   "cell_type": "markdown",
   "id": "a013f383",
   "metadata": {},
   "source": [
    "### 4"
   ]
  },
  {
   "cell_type": "markdown",
   "id": "7a49b7cd",
   "metadata": {},
   "source": [
    "На вход программе подается натуральное число $n$. Напишите программу, которая печатает звездный прямоугольник размерами $n×19$.\n",
    "\n",
    "На вход программе подаётся натуральное число $n∈[1;20]$ — высота звездного прямоугольника."
   ]
  },
  {
   "cell_type": "code",
   "execution_count": 7,
   "id": "e2e372a6",
   "metadata": {},
   "outputs": [
    {
     "name": "stdout",
     "output_type": "stream",
     "text": [
      "3\n",
      "*******************\n",
      "*******************\n",
      "*******************\n"
     ]
    }
   ],
   "source": [
    "n = int(input())\n",
    "for star in range(n):\n",
    "    print('*' * 19)"
   ]
  },
  {
   "cell_type": "markdown",
   "id": "3db1f28a",
   "metadata": {},
   "source": [
    "### 5"
   ]
  },
  {
   "cell_type": "markdown",
   "id": "f54ee3d0",
   "metadata": {},
   "source": [
    "Напишите программу, которая считывает одну строку текста и выводит 10 строк, пронумерованных от 0 до 9, каждая с указанной строкой текста."
   ]
  },
  {
   "cell_type": "code",
   "execution_count": 8,
   "id": "7d1c5daf",
   "metadata": {},
   "outputs": [
    {
     "name": "stdout",
     "output_type": "stream",
     "text": [
      "мой текст\n",
      "0 мой текст\n",
      "1 мой текст\n",
      "2 мой текст\n",
      "3 мой текст\n",
      "4 мой текст\n",
      "5 мой текст\n",
      "6 мой текст\n",
      "7 мой текст\n",
      "8 мой текст\n",
      "9 мой текст\n"
     ]
    }
   ],
   "source": [
    "text = input()\n",
    "for i in range(10):\n",
    "    print(i, text)"
   ]
  },
  {
   "cell_type": "markdown",
   "id": "fd8c1aa3",
   "metadata": {},
   "source": [
    "### 6"
   ]
  },
  {
   "cell_type": "markdown",
   "id": "969d3288",
   "metadata": {},
   "source": [
    "На вход программе подается натуральное число $n$. Напишите программу, которая для каждого из чисел от $0$ до $n$ (включительно) выводит фразу: «Квадрат числа [число] равен [число]» (без кавычек)."
   ]
  },
  {
   "cell_type": "code",
   "execution_count": 9,
   "id": "c11ed018",
   "metadata": {},
   "outputs": [
    {
     "name": "stdout",
     "output_type": "stream",
     "text": [
      "5\n",
      "Квадрат числа 0 равен 0\n",
      "Квадрат числа 1 равен 1\n",
      "Квадрат числа 2 равен 4\n",
      "Квадрат числа 3 равен 9\n",
      "Квадрат числа 4 равен 16\n",
      "Квадрат числа 5 равен 25\n"
     ]
    }
   ],
   "source": [
    "n = int(input())\n",
    "for number in range(n + 1):\n",
    "    print(f'Квадрат числа {number} равен {number ** 2}')"
   ]
  },
  {
   "cell_type": "markdown",
   "id": "ba3eefb4",
   "metadata": {},
   "source": [
    "### 7"
   ]
  },
  {
   "cell_type": "markdown",
   "id": "49fea8e9",
   "metadata": {},
   "source": [
    "На вход программе подается натуральное число $n(n≥2)$ – катет прямоугольного равнобедренного треугольника.\n",
    "\n",
    "Напишите программу, которая выводит звездный треугольник в соответствии с примером."
   ]
  },
  {
   "cell_type": "code",
   "execution_count": 11,
   "id": "e7132f90",
   "metadata": {},
   "outputs": [
    {
     "name": "stdout",
     "output_type": "stream",
     "text": [
      "3\n",
      "***\n",
      "**\n",
      "*\n"
     ]
    }
   ],
   "source": [
    "num = int(input())\n",
    "for k in range(num):\n",
    "    print('*' * (num - k))"
   ]
  },
  {
   "cell_type": "markdown",
   "id": "918f02e2",
   "metadata": {},
   "source": [
    "### 8"
   ]
  },
  {
   "cell_type": "markdown",
   "id": "4fd7a576",
   "metadata": {},
   "source": [
    "На вход программе подается три натуральных числа $m$, $p$, $n$:\n",
    "\n",
    "* $m$: стартовое количество организмов;\n",
    "* $p$: среднесуточное увеличение в %;\n",
    "* $n$: количество дней для размножения.\n",
    "\n",
    "Напишите программу, которая предсказывает размер популяции организмов. Программа должна выводить размер популяции в каждый день, начиная с $1$ и заканчивая n-м днем."
   ]
  },
  {
   "cell_type": "code",
   "execution_count": 17,
   "id": "d4066326",
   "metadata": {},
   "outputs": [
    {
     "name": "stdout",
     "output_type": "stream",
     "text": [
      "120\n",
      "25\n",
      "4\n",
      "1 120\n",
      "2 150.0\n",
      "3 187.5\n",
      "4 234.375\n"
     ]
    }
   ],
   "source": [
    "m, p, n = int(input()), int(input()), int(input())\n",
    "for day in range(1, n + 1):\n",
    "    print(day, m)\n",
    "    m = m + m * p / 100"
   ]
  },
  {
   "cell_type": "markdown",
   "id": "11c2ae42",
   "metadata": {},
   "source": [
    "## Цикл for: функция range"
   ]
  },
  {
   "cell_type": "markdown",
   "id": "3fffa7ef",
   "metadata": {},
   "source": [
    "### 1"
   ]
  },
  {
   "cell_type": "markdown",
   "id": "592a90d6",
   "metadata": {},
   "source": [
    "Даны два целых числа $m$ и $n$ $(m≤n)$. Напишите программу, которая выводит все числа от $m$ до $n$ включительно."
   ]
  },
  {
   "cell_type": "code",
   "execution_count": 69,
   "id": "3551273d",
   "metadata": {},
   "outputs": [
    {
     "name": "stdout",
     "output_type": "stream",
     "text": [
      "1\n",
      "6\n",
      "1\n",
      "2\n",
      "3\n",
      "4\n",
      "5\n",
      "6\n"
     ]
    }
   ],
   "source": [
    "m, n = int(input()), int(input())\n",
    "for i in range (m, n+1):\n",
    "    print(i)"
   ]
  },
  {
   "cell_type": "markdown",
   "id": "dd36c695",
   "metadata": {},
   "source": [
    "### 2"
   ]
  },
  {
   "cell_type": "markdown",
   "id": "9abec065",
   "metadata": {},
   "source": [
    "Даны два целых числа $m$ и $n$. Напишите программу, которая выводит все числа от $m$ до $n$ включительно в порядке возрастания, если $m < n$, или в порядке убывания в противном случае."
   ]
  },
  {
   "cell_type": "code",
   "execution_count": 23,
   "id": "4f7e6779",
   "metadata": {},
   "outputs": [
    {
     "name": "stdout",
     "output_type": "stream",
     "text": [
      "7\n",
      "1\n",
      "7\n",
      "6\n",
      "5\n",
      "4\n",
      "3\n",
      "2\n",
      "1\n"
     ]
    }
   ],
   "source": [
    "m, n = int(input()), int(input())\n",
    "if m > n:\n",
    "    for i in range(m, n-1, -1):\n",
    "        print(i)\n",
    "elif m < n:\n",
    "    for g in range(m, n+1):\n",
    "        print(g)\n",
    "elif m == n:\n",
    "    print(m)"
   ]
  },
  {
   "cell_type": "markdown",
   "id": "716a5f83",
   "metadata": {},
   "source": [
    "### 3"
   ]
  },
  {
   "cell_type": "markdown",
   "id": "159cdc9e",
   "metadata": {},
   "source": [
    "Даны два целых числа $m$ и $n$ $(m > n)$. Напишите программу, которая выводит все нечетные числа от $m$ до $n$ включительно в порядке убывания."
   ]
  },
  {
   "cell_type": "code",
   "execution_count": null,
   "id": "4c2b9b82",
   "metadata": {},
   "outputs": [],
   "source": [
    "m, n = int(input()), int(input())\n",
    "if m % 2 == 0:\n",
    "    for i in range(m-1, n-1, -2):\n",
    "        print(i)\n",
    "else:\n",
    "    for k in range(m, n-1, -2):\n",
    "        print(k)"
   ]
  },
  {
   "cell_type": "code",
   "execution_count": 24,
   "id": "579bf68f",
   "metadata": {},
   "outputs": [
    {
     "name": "stdout",
     "output_type": "stream",
     "text": [
      "5\n",
      "2\n",
      "5\n",
      "3\n"
     ]
    }
   ],
   "source": [
    "m, n = int(input()), int(input())\n",
    "for i in range(m - 1 + m % 2, n - 1, -2):\n",
    "    print(i)"
   ]
  },
  {
   "cell_type": "markdown",
   "id": "7e9e3810",
   "metadata": {},
   "source": [
    "### 4"
   ]
  },
  {
   "cell_type": "markdown",
   "id": "4678520e",
   "metadata": {},
   "source": [
    "Даны два натуральных числа $m$ и $n (m≤n)$. Напишите программу, которая выводит все числа от $m$ до $n$ включительно удовлетворяющие хотя бы одному из условий:\n",
    "\n",
    "* число кратно 17;\n",
    "* число оканчивается на 9;\n",
    "* число кратно 3 и 5 одновременно."
   ]
  },
  {
   "cell_type": "code",
   "execution_count": 25,
   "id": "3ef9e934",
   "metadata": {},
   "outputs": [
    {
     "name": "stdout",
     "output_type": "stream",
     "text": [
      "1\n",
      "20\n",
      "9\n",
      "15\n",
      "17\n",
      "19\n"
     ]
    }
   ],
   "source": [
    "m, n = int(input()), int(input())\n",
    "for i in range(m, n+1):\n",
    "    if i % 17 == 0 or i % 10 == 9 or i % 15 == 0:\n",
    "        print(i)"
   ]
  },
  {
   "cell_type": "markdown",
   "id": "60b66670",
   "metadata": {},
   "source": [
    "### 5"
   ]
  },
  {
   "cell_type": "markdown",
   "id": "1e417772",
   "metadata": {},
   "source": [
    "Дано натуральное число $n$. Напишите программу, которая выводит таблицу умножения на $n$."
   ]
  },
  {
   "cell_type": "code",
   "execution_count": 6,
   "id": "07dc1b2f",
   "metadata": {},
   "outputs": [
    {
     "name": "stdout",
     "output_type": "stream",
     "text": [
      "5\n",
      "5 x 1 = 5\n",
      "5 x 2 = 10\n",
      "5 x 3 = 15\n",
      "5 x 4 = 20\n",
      "5 x 5 = 25\n",
      "5 x 6 = 30\n",
      "5 x 7 = 35\n",
      "5 x 8 = 40\n",
      "5 x 9 = 45\n",
      "5 x 10 = 50\n"
     ]
    }
   ],
   "source": [
    "n = int(input())\n",
    "for i in range(1, 11):\n",
    "    print(f'{n} x {i} =', n * i)"
   ]
  },
  {
   "cell_type": "markdown",
   "id": "4494312d",
   "metadata": {},
   "source": [
    "## Частые сценарии"
   ]
  },
  {
   "cell_type": "markdown",
   "id": "5fba0313",
   "metadata": {},
   "source": [
    "**Подсчет количества**"
   ]
  },
  {
   "cell_type": "code",
   "execution_count": null,
   "id": "97375fc1",
   "metadata": {},
   "outputs": [],
   "source": [
    "counter1 = 0 # переменная-счетчик 1\n",
    "counter2 = 0 # переменная-счетчик 2\n",
    "for i in range(10):\n",
    "    num = int(input())\n",
    "    if num > 10:\n",
    "        counter1 = counter1 + 1\n",
    "    if num == 0:\n",
    "        counter2 = counter2 + 1\n",
    "print('Было введено', counter1, 'чисел, больших 10.')\n",
    "print('Было введено', counter2, 'нулей.' )"
   ]
  },
  {
   "cell_type": "code",
   "execution_count": null,
   "id": "80e85447",
   "metadata": {},
   "outputs": [],
   "source": [
    "counter = 0 # переменная-счетчик чисел из диапазона [1; 100], квадрат которых оканчивается на 4\n",
    "for i in range(1, 101):\n",
    "    if i**2 % 10 == 4:\n",
    "        counter = counter + 1\n",
    "print(counter)"
   ]
  },
  {
   "cell_type": "markdown",
   "id": "02b7f5c5",
   "metadata": {},
   "source": [
    "**Вычисление суммы и произведения**"
   ]
  },
  {
   "cell_type": "code",
   "execution_count": null,
   "id": "3865df81",
   "metadata": {},
   "outputs": [],
   "source": [
    "total = 0 # считывает 10 чисел и определяет сумму тех из них, которые больше 10\n",
    "for i in range(10):\n",
    "    num = int(input())\n",
    "    if num > 10:\n",
    "        total = total + num\n",
    "print('Сумма чисел больших 10 равна',  total)"
   ]
  },
  {
   "cell_type": "markdown",
   "id": "a5ff86d5",
   "metadata": {},
   "source": [
    "**Обмен значений переменных**"
   ]
  },
  {
   "cell_type": "code",
   "execution_count": null,
   "id": "c54d9ba9",
   "metadata": {},
   "outputs": [],
   "source": [
    "temp = x\n",
    "x = y\n",
    "y = temp"
   ]
  },
  {
   "cell_type": "code",
   "execution_count": null,
   "id": "bbd493b4",
   "metadata": {},
   "outputs": [],
   "source": [
    "x, y = y, x # лучший вариант"
   ]
  },
  {
   "cell_type": "markdown",
   "id": "5e23a678",
   "metadata": {},
   "source": [
    "**Сигнальные метки**"
   ]
  },
  {
   "cell_type": "code",
   "execution_count": null,
   "id": "37265918",
   "metadata": {},
   "outputs": [],
   "source": [
    "num = int(input())\n",
    "flag = True\n",
    "\n",
    "for i in range(2, num):\n",
    "    if num % i == 0:        #  если исходное число делится на какое-либо отличное от 1 и самого себя\n",
    "        flag = False\n",
    "\n",
    "if num == 1:\n",
    "    print('Это единица, она не простая и не составная') \n",
    "elif flag == True:\n",
    "    print('Число простое')\n",
    "else:\n",
    "    print('Число составное')"
   ]
  },
  {
   "cell_type": "markdown",
   "id": "7658f824",
   "metadata": {},
   "source": [
    "**Максимум и минимум**"
   ]
  },
  {
   "cell_type": "code",
   "execution_count": null,
   "id": "dfdb34fd",
   "metadata": {},
   "outputs": [],
   "source": [
    "largest = -1\n",
    "for i in range(10):\n",
    "    num = int(input())    \n",
    "    if num > largest:\n",
    "        largest = num\n",
    "print('Наибольшее число равно', largest) "
   ]
  },
  {
   "cell_type": "code",
   "execution_count": null,
   "id": "c9e4715a",
   "metadata": {},
   "outputs": [],
   "source": [
    "largest = int(input())  # принимаем первое число за максимальное\n",
    "for i in range(9):\n",
    "    num = int(input())\n",
    "    if num > largest:\n",
    "        largest = num\n",
    "print('Наибольшее число равно', largest) "
   ]
  },
  {
   "cell_type": "markdown",
   "id": "1b24088e",
   "metadata": {},
   "source": [
    "### 1"
   ]
  },
  {
   "cell_type": "markdown",
   "id": "2b49cec8",
   "metadata": {},
   "source": [
    "На вход программе подаются два целых числа $a$ и $b$ $(a≤b)$. Напишите программу, которая подсчитывает количество чисел в диапазоне от $a$ до $b$ включительно, куб которых оканчивается на $4$ или $9$."
   ]
  },
  {
   "cell_type": "code",
   "execution_count": 10,
   "id": "c9ed092b",
   "metadata": {},
   "outputs": [
    {
     "name": "stdout",
     "output_type": "stream",
     "text": [
      "1\n",
      "4\n",
      "1\n"
     ]
    }
   ],
   "source": [
    "a, b = int(input()), int(input())\n",
    "counter = 0\n",
    "for i in range(a, b + 1):\n",
    "    if i**3 % 10 == 4 or i**3 % 10 == 9:\n",
    "        counter = counter + 1\n",
    "print(counter)"
   ]
  },
  {
   "cell_type": "markdown",
   "id": "d9b18a43",
   "metadata": {},
   "source": [
    "### 2"
   ]
  },
  {
   "cell_type": "markdown",
   "id": "4da56a5a",
   "metadata": {},
   "source": [
    "На вход программе подается натуральное число $n$, а затем $n$ целых чисел, каждое на отдельной строке. Напишите программу, которая подсчитывает сумму введенных чисел. "
   ]
  },
  {
   "cell_type": "code",
   "execution_count": 11,
   "id": "dd16b25a",
   "metadata": {},
   "outputs": [
    {
     "name": "stdout",
     "output_type": "stream",
     "text": [
      "3\n",
      "0\n",
      "5\n",
      "2\n",
      "7\n"
     ]
    }
   ],
   "source": [
    "n = int(input())\n",
    "sum = 0\n",
    "for i in range(n):\n",
    "    num = int(input())\n",
    "    sum += num\n",
    "print(sum)"
   ]
  },
  {
   "cell_type": "markdown",
   "id": "a0622dc7",
   "metadata": {},
   "source": [
    "### 3"
   ]
  },
  {
   "cell_type": "markdown",
   "id": "4117d3e2",
   "metadata": {},
   "source": [
    "На вход программе подается натуральное число $n$. Напишите программу, которая вычисляет значение выражения\n",
    "$\\left(1+\\dfrac12 + \\dfrac13 + \\ldots + \\dfrac{1}{n} \\right) - \\ln (n)$.\n",
    "\n",
    "Для вычисления натурального логарифма воспользуйтесь функцией ```log(n)```, которая находится в модуле ```math```."
   ]
  },
  {
   "cell_type": "code",
   "execution_count": 13,
   "id": "8068a6c8",
   "metadata": {},
   "outputs": [
    {
     "name": "stdout",
     "output_type": "stream",
     "text": [
      "4\n",
      "0.6970389722134425\n"
     ]
    }
   ],
   "source": [
    "import math\n",
    "n = int(input())\n",
    "sum = 0\n",
    "for i in range(1, n + 1):\n",
    "    num = 1 / i\n",
    "    sum += num\n",
    "print(sum - math.log(n))"
   ]
  },
  {
   "cell_type": "markdown",
   "id": "aab9dab0",
   "metadata": {},
   "source": [
    "### 4"
   ]
  },
  {
   "cell_type": "markdown",
   "id": "8f0072c2",
   "metadata": {},
   "source": [
    "На вход программе подается натуральное число $n$. Напишите программу, которая подсчитывает сумму тех чисел от $1$ до $n$ (включительно), квадрат которых оканчивается на $2$, $5$ или $8$."
   ]
  },
  {
   "cell_type": "code",
   "execution_count": 14,
   "id": "71abfcd4",
   "metadata": {},
   "outputs": [
    {
     "name": "stdout",
     "output_type": "stream",
     "text": [
      "3\n",
      "0\n"
     ]
    }
   ],
   "source": [
    "n = int(input())\n",
    "sum = 0\n",
    "for i in range(1, n+1):\n",
    "    if i**2 % 10 == 2 or i**2 % 10 == 5 or i**2 % 10 == 8:\n",
    "        sum += i\n",
    "print(sum)"
   ]
  },
  {
   "cell_type": "markdown",
   "id": "dd8573c2",
   "metadata": {},
   "source": [
    "### 5"
   ]
  },
  {
   "cell_type": "markdown",
   "id": "eb31114d",
   "metadata": {},
   "source": [
    "На вход программе подается натуральное число $n$. Напишите программу, которая вычисляет $n!$."
   ]
  },
  {
   "cell_type": "code",
   "execution_count": 15,
   "id": "28de78a3",
   "metadata": {},
   "outputs": [
    {
     "name": "stdout",
     "output_type": "stream",
     "text": [
      "4\n",
      "24\n"
     ]
    }
   ],
   "source": [
    "n = int(input())\n",
    "factorial = 1\n",
    "for i in range(1, n+1):\n",
    "    factorial *= i\n",
    "print(factorial)"
   ]
  },
  {
   "cell_type": "markdown",
   "id": "64ee3675",
   "metadata": {},
   "source": [
    "### 6"
   ]
  },
  {
   "cell_type": "markdown",
   "id": "8842705e",
   "metadata": {},
   "source": [
    "Напишите программу, которая считывает 10 чисел и выводит произведение отличных от нуля чисел."
   ]
  },
  {
   "cell_type": "code",
   "execution_count": 18,
   "id": "e5c8b0e7",
   "metadata": {},
   "outputs": [
    {
     "name": "stdout",
     "output_type": "stream",
     "text": [
      "1\n",
      "43\n",
      "2\n",
      "234\n",
      "78\n",
      "0\n",
      "1\n",
      "1\n",
      "23\n",
      "4\n",
      "144409824\n"
     ]
    }
   ],
   "source": [
    "total = 1\n",
    "for i in range(10):\n",
    "    num = int(input())\n",
    "    if num != 0:\n",
    "        total *= num\n",
    "print(total)"
   ]
  },
  {
   "cell_type": "markdown",
   "id": "ad11ca66",
   "metadata": {},
   "source": [
    "### 7"
   ]
  },
  {
   "cell_type": "markdown",
   "id": "f9bf5db3",
   "metadata": {},
   "source": [
    "На вход программе подается натуральное число $n$. Напишите программу, которая вычисляет сумму всех его делителей."
   ]
  },
  {
   "cell_type": "code",
   "execution_count": 19,
   "id": "8653aab5",
   "metadata": {},
   "outputs": [
    {
     "name": "stdout",
     "output_type": "stream",
     "text": [
      "10\n",
      "18\n"
     ]
    }
   ],
   "source": [
    "sum = 0\n",
    "n = int(input())\n",
    "for i in range(1, n+1):\n",
    "    if n % i == 0:\n",
    "        sum += i\n",
    "print(sum)"
   ]
  },
  {
   "cell_type": "markdown",
   "id": "e4ab8b7b",
   "metadata": {},
   "source": [
    "### 8"
   ]
  },
  {
   "cell_type": "markdown",
   "id": "d1abe16e",
   "metadata": {},
   "source": [
    "На вход программе подается натуральное число $n$. Напишите программу вычисления знакочередующей суммы \n",
    "$1-2+3-4+5-6 + \\ldots + (-1)^{n+1}n$."
   ]
  },
  {
   "cell_type": "code",
   "execution_count": 20,
   "id": "1c3fd791",
   "metadata": {},
   "outputs": [
    {
     "name": "stdout",
     "output_type": "stream",
     "text": [
      "5\n",
      "3\n"
     ]
    }
   ],
   "source": [
    "sum = 0\n",
    "n = int(input())\n",
    "for i in range(1, n+1):\n",
    "    if i % 2 != 0:\n",
    "        sum += i\n",
    "    else:\n",
    "        sum -= i\n",
    "print(sum)"
   ]
  },
  {
   "cell_type": "markdown",
   "id": "a68d8f0b",
   "metadata": {},
   "source": [
    "### 9"
   ]
  },
  {
   "cell_type": "markdown",
   "id": "f8d44d53",
   "metadata": {},
   "source": [
    "На вход программе подается натуральное число $n$, а затем $n$ различных натуральных чисел, каждое на отдельной строке. Напишите программу, которая выводит наибольшее и второе наибольшее число последовательности."
   ]
  },
  {
   "cell_type": "code",
   "execution_count": 27,
   "id": "e81a0820",
   "metadata": {},
   "outputs": [
    {
     "name": "stdout",
     "output_type": "stream",
     "text": [
      "5\n",
      "1\n",
      "2\n",
      "3\n",
      "4\n",
      "5\n",
      "5\n",
      "4\n"
     ]
    }
   ],
   "source": [
    "n = int(input())\n",
    "largest_1st = 0\n",
    "largest_2nd = 0\n",
    "for i in range(n):\n",
    "    num = int(input())\n",
    "    if num > largest_1st:\n",
    "        largest_2nd, largest_1st = largest_1st, num\n",
    "    elif largest_2nd < num < largest_1st:\n",
    "        largest_2nd = num\n",
    "print(largest_1st, largest_2nd, sep='\\n')"
   ]
  },
  {
   "cell_type": "markdown",
   "id": "35cb608c",
   "metadata": {},
   "source": [
    "### 10"
   ]
  },
  {
   "cell_type": "markdown",
   "id": "49f0540a",
   "metadata": {},
   "source": [
    "Напишите программу, которая считывает последовательность из 10 целых чисел и определяет, является ли каждое из них четным или нет."
   ]
  },
  {
   "cell_type": "code",
   "execution_count": 29,
   "id": "c554cc92",
   "metadata": {},
   "outputs": [
    {
     "name": "stdout",
     "output_type": "stream",
     "text": [
      "1\n",
      "5\n",
      "343\n",
      "22\n",
      "55\n",
      "3\n",
      "5\n",
      "6\n",
      "2\n",
      "3\n",
      "NO\n"
     ]
    }
   ],
   "source": [
    "flag = True\n",
    "for i in range(10):\n",
    "    num = int(input())\n",
    "    if num % 2 != 0:\n",
    "        flag = False\n",
    "if flag == True:\n",
    "    print('YES')\n",
    "else:\n",
    "    print('NO')"
   ]
  },
  {
   "cell_type": "markdown",
   "id": "3c8be37d",
   "metadata": {},
   "source": [
    "### 11"
   ]
  },
  {
   "cell_type": "markdown",
   "id": "0a52b391",
   "metadata": {},
   "source": [
    "Напишите программу, которая считывает натуральное число $n$ и выводит первые $n$ чисел последовательности Фибоначчи."
   ]
  },
  {
   "cell_type": "code",
   "execution_count": 36,
   "id": "88ad83ab",
   "metadata": {},
   "outputs": [
    {
     "name": "stdout",
     "output_type": "stream",
     "text": [
      "5\n",
      "1 1 2 3 5 "
     ]
    }
   ],
   "source": [
    "n = int(input())\n",
    "num = 0\n",
    "num_next = 1\n",
    "for i in range(1, n+1):\n",
    "    num, num_next = num_next, num+num_next\n",
    "    print(num, end=' ')"
   ]
  },
  {
   "cell_type": "markdown",
   "id": "390c765c",
   "metadata": {},
   "source": [
    "## Цикл while"
   ]
  },
  {
   "cell_type": "markdown",
   "id": "75f54f83",
   "metadata": {},
   "source": [
    "### 1"
   ]
  },
  {
   "cell_type": "markdown",
   "id": "4f8638f6",
   "metadata": {},
   "source": [
    "На вход программе подается последовательность слов, каждое слово на отдельной строке. Концом последовательности является слово «КОНЕЦ» (без кавычек). Напишите программу, которая выводит члены данной последовательности."
   ]
  },
  {
   "cell_type": "code",
   "execution_count": 41,
   "id": "ef254c5f",
   "metadata": {},
   "outputs": [
    {
     "name": "stdout",
     "output_type": "stream",
     "text": [
      "рождение\n",
      "рождение\n",
      "жизнь\n",
      "жизнь\n",
      "КОНЕЦ\n"
     ]
    }
   ],
   "source": [
    "word = str(input())\n",
    "while word != 'КОНЕЦ':\n",
    "    print(word)\n",
    "    word = str(input())"
   ]
  },
  {
   "cell_type": "markdown",
   "id": "9b45112a",
   "metadata": {},
   "source": [
    "### 2"
   ]
  },
  {
   "cell_type": "markdown",
   "id": "a2e4114c",
   "metadata": {},
   "source": [
    "На вход программе подается последовательность слов, каждое слово на отдельной строке. Концом последовательности является слово «КОНЕЦ» или «конец» (большими или маленькими буквами, без кавычек). Напишите программу, которая выводит члены данной последовательности."
   ]
  },
  {
   "cell_type": "code",
   "execution_count": 6,
   "id": "4ad0990f",
   "metadata": {},
   "outputs": [
    {
     "name": "stdout",
     "output_type": "stream",
     "text": [
      "а\n",
      "а\n",
      "а\n",
      "а\n",
      "ы\n",
      "ы\n",
      "конец\n"
     ]
    }
   ],
   "source": [
    "word = str(input())\n",
    "while word != 'КОНЕЦ' and word != 'конец':\n",
    "    print(word)\n",
    "    word = str(input())"
   ]
  },
  {
   "cell_type": "markdown",
   "id": "a5e7e254",
   "metadata": {},
   "source": [
    "### 3"
   ]
  },
  {
   "cell_type": "markdown",
   "id": "4453ca7e",
   "metadata": {},
   "source": [
    "На вход программе подается последовательность слов, каждое слово на отдельной строке. Концом последовательности является одно из трех слов: «стоп», «хватит», «достаточно» (маленькими буквами, без кавычек). Напишите программу, которая выводит общее количество членов данной последовательности."
   ]
  },
  {
   "cell_type": "code",
   "execution_count": 9,
   "id": "961dc0d9",
   "metadata": {},
   "outputs": [
    {
     "name": "stdout",
     "output_type": "stream",
     "text": [
      "в\n",
      "ы\n",
      "стоп\n",
      "2\n"
     ]
    }
   ],
   "source": [
    "word = str(input())\n",
    "sum = 0\n",
    "while word != 'стоп' and word != 'хватит' and word != 'достаточно':\n",
    "    sum += 1\n",
    "    word = str(input())\n",
    "print(sum)"
   ]
  },
  {
   "cell_type": "markdown",
   "id": "14ee3df3",
   "metadata": {},
   "source": [
    "### 4"
   ]
  },
  {
   "cell_type": "markdown",
   "id": "3f722cd6",
   "metadata": {},
   "source": [
    "На вход программе подается последовательность целых чисел делящихся на $7$, каждое число на отдельной строке. Концом последовательности является любое число не делящееся на $7$. Напишите программу, которая выводит члены данной последовательности."
   ]
  },
  {
   "cell_type": "code",
   "execution_count": 10,
   "id": "1eb56216",
   "metadata": {},
   "outputs": [
    {
     "name": "stdout",
     "output_type": "stream",
     "text": [
      "7\n",
      "7\n",
      "14\n",
      "14\n",
      "0\n",
      "0\n",
      "2\n"
     ]
    }
   ],
   "source": [
    "num = int(input())\n",
    "while num % 7 == 0:\n",
    "    print(num)\n",
    "    num = int(input())"
   ]
  },
  {
   "cell_type": "markdown",
   "id": "fdcd7496",
   "metadata": {},
   "source": [
    "### 5"
   ]
  },
  {
   "cell_type": "markdown",
   "id": "fdbf52bd",
   "metadata": {},
   "source": [
    "На вход программе подается последовательность целых чисел, каждое число на отдельной строке. Концом последовательности является любое отрицательное число. Напишите программу, которая выводит сумму всех членов данной последовательности."
   ]
  },
  {
   "cell_type": "code",
   "execution_count": 13,
   "id": "0928656a",
   "metadata": {},
   "outputs": [
    {
     "name": "stdout",
     "output_type": "stream",
     "text": [
      "2\n",
      "3\n",
      "-4\n",
      "5\n"
     ]
    }
   ],
   "source": [
    "num = int(input())\n",
    "sum = 0\n",
    "while num >= 0:\n",
    "    sum += num\n",
    "    num = int(input())\n",
    "print(sum)"
   ]
  },
  {
   "cell_type": "markdown",
   "id": "415e4f26",
   "metadata": {},
   "source": [
    "### 6"
   ]
  },
  {
   "cell_type": "markdown",
   "id": "52d4390e",
   "metadata": {},
   "source": [
    "На вход программе подается последовательность целых чисел от $1$ до $5$, характеризующее оценку ученика, каждое число на отдельной строке. Концом последовательности является любое отрицательное число, либо число большее $5$. Напишите программу, которая выводит количество пятерок."
   ]
  },
  {
   "cell_type": "code",
   "execution_count": 2,
   "id": "b4955d48",
   "metadata": {},
   "outputs": [
    {
     "name": "stdout",
     "output_type": "stream",
     "text": [
      "2\n",
      "5\n",
      "4\n",
      "5\n",
      "-2\n",
      "2\n"
     ]
    }
   ],
   "source": [
    "num = int(input())\n",
    "sum = 0\n",
    "while 6 > num >= 0:\n",
    "    if num == 5:\n",
    "        sum += 1\n",
    "    num = int(input())\n",
    "print(sum)"
   ]
  },
  {
   "cell_type": "markdown",
   "id": "d36d8f9a",
   "metadata": {},
   "source": [
    "### 7"
   ]
  },
  {
   "cell_type": "markdown",
   "id": "2e74b716",
   "metadata": {},
   "source": [
    "Всем известно, что ведьмак способен одолеть любых чудовищ, однако его услуги обойдутся недешево, к тому же ведьмак не принимает купюры, он принимает только чеканные монеты. В мире ведьмака существуют монеты с номиналами $1$, $5$, $10$, $25$.\n",
    "\n",
    "Напишите программу, которая определяет, какое минимальное количество чеканных монет нужно заплатить ведьмаку."
   ]
  },
  {
   "cell_type": "code",
   "execution_count": 3,
   "id": "25f7a65b",
   "metadata": {},
   "outputs": [
    {
     "name": "stdout",
     "output_type": "stream",
     "text": [
      "49\n",
      "7\n"
     ]
    }
   ],
   "source": [
    "price = int(input())\n",
    "counter = 0\n",
    "while price >= 25:\n",
    "    price -= 25\n",
    "    counter += 1\n",
    "while price >= 10:\n",
    "    price -= 10\n",
    "    counter += 1\n",
    "while price >= 5:\n",
    "    price -= 5\n",
    "    counter += 1\n",
    "while price >= 1:\n",
    "    price -= 1\n",
    "    counter += 1\n",
    "print(counter)"
   ]
  },
  {
   "cell_type": "markdown",
   "id": "18838115",
   "metadata": {},
   "source": [
    "## Цикл while: обработка цифр числа"
   ]
  },
  {
   "cell_type": "markdown",
   "id": "1a6c0e5d",
   "metadata": {},
   "source": [
    "### 1"
   ]
  },
  {
   "cell_type": "markdown",
   "id": "497c315d",
   "metadata": {},
   "source": [
    "Дано натуральное число. Напишите программу, которая выводит его цифры в столбик в обратном порядке."
   ]
  },
  {
   "cell_type": "code",
   "execution_count": 6,
   "id": "9e664bc9",
   "metadata": {},
   "outputs": [
    {
     "name": "stdout",
     "output_type": "stream",
     "text": [
      "345\n",
      "5\n",
      "4\n",
      "3\n"
     ]
    }
   ],
   "source": [
    "n = int(input())\n",
    "while n != 0:  # пока в числе есть цифры\n",
    "    last_digit = n % 10  # получить последнюю цифру\n",
    "    print(last_digit)\n",
    "    n = n // 10  # удалить последнюю цифру из числа"
   ]
  },
  {
   "cell_type": "markdown",
   "id": "1471510b",
   "metadata": {},
   "source": [
    "### 2"
   ]
  },
  {
   "cell_type": "markdown",
   "id": "e5bae145",
   "metadata": {},
   "source": [
    "Дано натуральное число. Напишите программу, которая меняет порядок цифр числа на обратный."
   ]
  },
  {
   "cell_type": "code",
   "execution_count": 4,
   "id": "3e647c62",
   "metadata": {},
   "outputs": [
    {
     "name": "stdout",
     "output_type": "stream",
     "text": [
      "3546\n",
      "6453"
     ]
    }
   ],
   "source": [
    "n = int(input())\n",
    "while n != 0:\n",
    "    last_digit = n % 10  \n",
    "    print(last_digit, end='')\n",
    "    n = n // 10  "
   ]
  },
  {
   "cell_type": "markdown",
   "id": "4bb614d3",
   "metadata": {},
   "source": [
    "### 3"
   ]
  },
  {
   "cell_type": "markdown",
   "id": "f36aa6c1",
   "metadata": {},
   "source": [
    "Дано натуральное число $n$, $(n≥10)$. Напишите программу, которая определяет его максимальную и минимальную цифры."
   ]
  },
  {
   "cell_type": "code",
   "execution_count": 21,
   "id": "a77613b6",
   "metadata": {},
   "outputs": [
    {
     "name": "stdout",
     "output_type": "stream",
     "text": [
      "8945\n",
      "Максимальная цифра равна 9\n",
      "Минимальная цифра равна 4\n"
     ]
    }
   ],
   "source": [
    "n = int(input())\n",
    "min_digit = n % 10\n",
    "max_digit = n % 10\n",
    "while n != 0:\n",
    "    last_digit = n % 10  \n",
    "    if last_digit > max_digit:\n",
    "        max_digit = last_digit\n",
    "    if last_digit < min_digit:\n",
    "        min_digit = last_digit\n",
    "    n = n // 10 \n",
    "print('Максимальная цифра равна', max_digit)\n",
    "print('Минимальная цифра равна', min_digit)"
   ]
  },
  {
   "cell_type": "markdown",
   "id": "da2d060d",
   "metadata": {},
   "source": [
    "### 4"
   ]
  },
  {
   "cell_type": "markdown",
   "id": "1bdfd16e",
   "metadata": {},
   "source": [
    "Дано натуральное число. Напишите программу, которая вычисляет:\n",
    "\n",
    "* сумму его цифр;\n",
    "* количество цифр в нем;\n",
    "* произведение его цифр;\n",
    "* среднее арифметическое его цифр;\n",
    "* его первую цифру;\n",
    "* сумму его первой и последней цифры."
   ]
  },
  {
   "cell_type": "code",
   "execution_count": 7,
   "id": "e22c8f04",
   "metadata": {},
   "outputs": [
    {
     "name": "stdout",
     "output_type": "stream",
     "text": [
      "5678\n",
      "26\n",
      "4\n",
      "1680\n",
      "6.5\n",
      "5\n",
      "13\n"
     ]
    }
   ],
   "source": [
    "n = int(input())\n",
    "sum, num, total = 0, 0, 1\n",
    "le = len(str(n))\n",
    "digit1 = (n % 10**le) // 10**(le-1)\n",
    "digitsum = digit1 + n % 10  \n",
    "while n != 0:\n",
    "    last_digit = n % 10  \n",
    "    sum += last_digit\n",
    "    num += 1\n",
    "    total *= last_digit\n",
    "    n = n // 10 \n",
    "print(sum, num, total, sum/le, digit1, digitsum, sep='\\n')"
   ]
  },
  {
   "cell_type": "markdown",
   "id": "31b49d99",
   "metadata": {},
   "source": [
    "### 5"
   ]
  },
  {
   "cell_type": "markdown",
   "id": "71dec329",
   "metadata": {},
   "source": [
    "Дано натуральное число $n$, $(n>9)$. Напишите программу, которая определяет его вторую (с начала) цифру."
   ]
  },
  {
   "cell_type": "code",
   "execution_count": 8,
   "id": "597b62d0",
   "metadata": {},
   "outputs": [
    {
     "name": "stdout",
     "output_type": "stream",
     "text": [
      "45672\n",
      "5\n"
     ]
    }
   ],
   "source": [
    "n = int(input())\n",
    "while n > 9:\n",
    "    last_digit = n % 10\n",
    "    n = n // 10\n",
    "print(last_digit)"
   ]
  },
  {
   "cell_type": "markdown",
   "id": "58b04d33",
   "metadata": {},
   "source": [
    "### 6"
   ]
  },
  {
   "cell_type": "markdown",
   "id": "febbd0dd",
   "metadata": {},
   "source": [
    "Дано натуральное число. Напишите программу, которая определяет, состоит ли указанное число из одинаковых цифр."
   ]
  },
  {
   "cell_type": "code",
   "execution_count": 10,
   "id": "89fb99e3",
   "metadata": {},
   "outputs": [
    {
     "name": "stdout",
     "output_type": "stream",
     "text": [
      "223\n",
      "NO\n"
     ]
    }
   ],
   "source": [
    "n = int(input())\n",
    "last_digit = n % 10\n",
    "while last_digit == n % 10:\n",
    "    last_digit = n % 10\n",
    "    n = n // 10\n",
    "if n == 0:\n",
    "    print('YES')\n",
    "else:\n",
    "    print('NO')"
   ]
  },
  {
   "cell_type": "markdown",
   "id": "a0485a05",
   "metadata": {},
   "source": [
    "### 7"
   ]
  },
  {
   "cell_type": "markdown",
   "id": "874ce2f5",
   "metadata": {},
   "source": [
    "Дано натуральное число. Напишите программу, которая определяет, является ли последовательность его цифр при просмотре справа налево упорядоченной по неубыванию."
   ]
  },
  {
   "cell_type": "code",
   "execution_count": 12,
   "id": "91be6fd1",
   "metadata": {},
   "outputs": [
    {
     "name": "stdout",
     "output_type": "stream",
     "text": [
      "54321\n",
      "YES\n"
     ]
    }
   ],
   "source": [
    "n = int(input())\n",
    "last_digit = 0\n",
    "while last_digit <= n % 10:\n",
    "    last_digit = n % 10\n",
    "    n = n // 10\n",
    "if n == 0:\n",
    "    print('YES')\n",
    "else:\n",
    "    print('NO')"
   ]
  },
  {
   "cell_type": "markdown",
   "id": "13774523",
   "metadata": {},
   "source": [
    "## break, continue и else"
   ]
  },
  {
   "cell_type": "markdown",
   "id": "9d39ed51",
   "metadata": {},
   "source": [
    "**Примеры**"
   ]
  },
  {
   "cell_type": "code",
   "execution_count": null,
   "id": "57f6d149",
   "metadata": {},
   "outputs": [],
   "source": [
    "# Напишем программу, определяющую, что число является простым:\n",
    "\n",
    "num = int(input())\n",
    "flag = True\n",
    "\n",
    "for i in range(2, num):\n",
    "    if num % i == 0:        #  если исходное число делится на какое-либо отличное от 1 и самого себя\n",
    "        flag = False\n",
    "        break               # останавливаем цикл если встретили делитель числа        \n",
    "\n",
    "if flag == True:\n",
    "    print('Число простое')\n",
    "else:\n",
    "    print('Число составное')\n",
    "    \n",
    "# Оператор прерывания цикла break позволяет ускорять программы, так как мы избавляемся от лишних итераций."
   ]
  },
  {
   "cell_type": "code",
   "execution_count": null,
   "id": "e924737d",
   "metadata": {},
   "outputs": [],
   "source": [
    "# Напишем, программу, которая определяет, содержит ли введенное пользователем число, цифру 7.\n",
    "\n",
    "num = int(input())\n",
    "number = num\n",
    "flag = False\n",
    "while num != 0:\n",
    "    last_digit = num % 10\n",
    "    if last_digit == 7:\n",
    "        flag = True\n",
    "        break        # прерываем цикл, так как число гарантированно содержит цифру 7\n",
    "    num //= 10\n",
    "\n",
    "if flag == True:\n",
    "    print('Число', number, 'содержит цифру 7')\n",
    "else:\n",
    "    print('Число', number, 'не содержит цифру 7')"
   ]
  },
  {
   "cell_type": "code",
   "execution_count": null,
   "id": "e2268601",
   "metadata": {},
   "outputs": [],
   "source": [
    "for i in range(1, 101):\n",
    "    if i == 7 or i == 17 or i == 29 or i == 78:\n",
    "        continue  # переходим на следующую итерацию\n",
    "    print(i)"
   ]
  },
  {
   "cell_type": "markdown",
   "id": "402bc6ae",
   "metadata": {},
   "source": [
    "### 1"
   ]
  },
  {
   "cell_type": "markdown",
   "id": "4f4491a1",
   "metadata": {},
   "source": [
    "На вход программе подается число $n>1$. Напишите программу, которая выводит его наименьший отличный от $1$ делитель."
   ]
  },
  {
   "cell_type": "code",
   "execution_count": 79,
   "id": "e286a82f",
   "metadata": {},
   "outputs": [
    {
     "name": "stdout",
     "output_type": "stream",
     "text": [
      "15\n",
      "3\n"
     ]
    }
   ],
   "source": [
    "n = int(input())\n",
    "for i in range(2, n+1):\n",
    "    if n % i == 0:\n",
    "        print(i)\n",
    "        break"
   ]
  },
  {
   "cell_type": "markdown",
   "id": "15003be9",
   "metadata": {},
   "source": [
    "### 2"
   ]
  },
  {
   "cell_type": "markdown",
   "id": "0d3a7a0f",
   "metadata": {},
   "source": [
    "На вход программе подается натуральное число $n$. Напишите программу, которая выводит числа от $1$ до $n$ включительно за исключением:\n",
    "\n",
    "* чисел от $5$ до $9$ включительно;\n",
    "* чисел от $17$ до $37$ включительно;\n",
    "* чисел от $78$ до $87$ включительно."
   ]
  },
  {
   "cell_type": "code",
   "execution_count": 81,
   "id": "9f829e54",
   "metadata": {},
   "outputs": [
    {
     "name": "stdout",
     "output_type": "stream",
     "text": [
      "10\n",
      "1\n",
      "2\n",
      "3\n",
      "4\n",
      "10\n"
     ]
    }
   ],
   "source": [
    "n = int(input())\n",
    "for i in range(1, n+1):\n",
    "    if i in range(5, 10) or i in range(17, 38) or i in range(78, 88):\n",
    "        continue\n",
    "    else:\n",
    "        print(i)"
   ]
  },
  {
   "cell_type": "markdown",
   "id": "94136381",
   "metadata": {},
   "source": [
    "## Поиск ошибок и ревью кода"
   ]
  },
  {
   "cell_type": "markdown",
   "id": "c746f433",
   "metadata": {},
   "source": [
    "### 1"
   ]
  },
  {
   "cell_type": "markdown",
   "id": "75af583a",
   "metadata": {},
   "source": [
    "На обработку поступает последовательность из $10$ целых чисел. Известно, что вводимые числа по абсолютной величине не превышают $10^6$. Нужно написать программу, которая выводит на экран количество неотрицательных чисел последовательности и их произведение. Если неотрицательных чисел нет, требуется вывести на экран «NO». Программист торопился и написал программу неправильно.\n",
    "\n",
    "Найдите все ошибки в этой программе (их ровно $4$). Известно, что каждая ошибка затрагивает только одну строку и может быть исправлена без изменения других строк.\n",
    "\n",
    "**Примечание 1.** Число $x$ не превышает по абсолютной величине $10^6$, если $−10^6 ≤ x ≤ 10^6$.\n",
    "\n",
    "**Примечание 2.** При необходимости вы можете добавить необходимые строки кода."
   ]
  },
  {
   "cell_type": "code",
   "execution_count": null,
   "id": "f796993a",
   "metadata": {},
   "outputs": [],
   "source": [
    "count = 0\n",
    "p = 1\n",
    "for i in range(0, 10):\n",
    "    x = int(input())\n",
    "    if x >= 0:\n",
    "        p = p * x\n",
    "        count = count + 1\n",
    "if count > 0:\n",
    "    print(count)\n",
    "    print(p)\n",
    "else:\n",
    "    print('NO')"
   ]
  },
  {
   "cell_type": "markdown",
   "id": "06cf44ee",
   "metadata": {},
   "source": [
    "### 2"
   ]
  },
  {
   "cell_type": "markdown",
   "id": "d876d6a7",
   "metadata": {},
   "source": [
    "На обработку поступает последовательность из $10$ целых чисел. Известно, что вводимые числа по абсолютной величине не превышают $10^6$. Нужно написать программу, которая выводит на экран сумму всех отрицательных чисел последовательности и максимальное отрицательное число в последовательности. Если отрицательных чисел нет, требуется вывести на экран «NO». Программист торопился и написал программу неправильно.\n",
    "\n",
    "Найдите все ошибки в этой программе (их ровно $5$). Известно, что каждая ошибка затрагивает только одну строку и может быть исправлена без изменения других строк.\n",
    "\n",
    "**Примечание 1.** Число $x$ не превышает по абсолютной величине $10^6$, если $−10^6 ≤ x ≤ 10^6$.\n",
    "\n",
    "**Примечание 2.** При необходимости вы можете добавить необходимые строки кода."
   ]
  },
  {
   "cell_type": "code",
   "execution_count": null,
   "id": "d95e1a31",
   "metadata": {},
   "outputs": [],
   "source": [
    "mx = -10**6 - 1\n",
    "s = 0\n",
    "for i in range(10):\n",
    "    x = int(input())\n",
    "    if x < 0:\n",
    "        s += x\n",
    "    if 0 > x > mx:\n",
    "        mx = x\n",
    "if s < 0:\n",
    "    print(s)\n",
    "    print(mx)\n",
    "else:\n",
    "    print('NO')"
   ]
  },
  {
   "cell_type": "markdown",
   "id": "292c115f",
   "metadata": {},
   "source": [
    "### 3"
   ]
  },
  {
   "cell_type": "markdown",
   "id": "10ddec57",
   "metadata": {},
   "source": [
    "На обработку поступает последовательность из $7$ целых чисел. Известно, что вводимые числа по абсолютной величине не превышают $10^6$. Нужно написать программу, которая подсчитывает и выводит сумму всех чётных чисел последовательности или $0$, если чётных чисел в последовательности нет. Программист торопился и написал программу неправильно.\n",
    "\n",
    "Найдите все ошибки в этой программе (их ровно $4$). Известно, что каждая ошибка затрагивает только одну строку и может быть исправлена без изменения других строк.\n",
    "\n",
    "**Примечание 1.** Число $x$ не превышает по абсолютной величине $10^6$, если $−10^6 ≤ x ≤ 10^6$.\n",
    "\n",
    "**Примечание 2.** При необходимости вы можете добавить необходимые строки кода."
   ]
  },
  {
   "cell_type": "code",
   "execution_count": null,
   "id": "91c103d6",
   "metadata": {},
   "outputs": [],
   "source": [
    "s = 0\n",
    "for i in range(0, 7):\n",
    "    n = int(input())\n",
    "    if n % 2 == 0:\n",
    "        s = s + n\n",
    "print(s)"
   ]
  },
  {
   "cell_type": "markdown",
   "id": "02c2c583",
   "metadata": {},
   "source": [
    "### 4"
   ]
  },
  {
   "cell_type": "markdown",
   "id": "74e223da",
   "metadata": {},
   "source": [
    "На обработку поступает натуральное число. Нужно написать программу, которая выводит на экран максимальную цифру числа, кратную $3$. Если в числе нет цифр, кратных $3$, требуется на экран вывести «NO». Программист торопился и написал программу неправильно.\n",
    "\n",
    "Найдите все ошибки в этой программе (их ровно $5$). Известно, что каждая ошибка затрагивает только одну строку и может быть исправлена без изменения других строк.\n",
    "\n",
    "**Примечание 1.** Число $0$ делится на любое натуральное число.\n",
    "\n",
    "**Примечание 2.** При необходимости вы можете добавить нужные строки кода."
   ]
  },
  {
   "cell_type": "code",
   "execution_count": null,
   "id": "0833b5da",
   "metadata": {},
   "outputs": [],
   "source": [
    "n = int(input())\n",
    "max_digit = -1\n",
    "while n > 0:\n",
    "    digit = n % 10\n",
    "    if digit % 3 == 0:\n",
    "        if digit >= max_digit:\n",
    "            max_digit = digit\n",
    "    n = n // 10\n",
    "if max_digit == -1:\n",
    "    print('NO')\n",
    "else:\n",
    "    print(max_digit)"
   ]
  },
  {
   "cell_type": "markdown",
   "id": "1ace1a41",
   "metadata": {},
   "source": [
    "### 5"
   ]
  },
  {
   "cell_type": "markdown",
   "id": "be0b0771",
   "metadata": {},
   "source": [
    "На обработку поступает натуральное число. Нужно написать программу, которая выводит на экран его первую (старшую) цифру. Программист торопился и написал программу неправильно.\n",
    "\n",
    "Найдите все ошибки в этой программе (их ровно $2$). Известно, что каждая ошибка затрагивает только одну строку и может быть исправлена без изменения других строк."
   ]
  },
  {
   "cell_type": "code",
   "execution_count": null,
   "id": "97b3f081",
   "metadata": {},
   "outputs": [],
   "source": [
    "n = int(input())\n",
    "while n > 0:\n",
    "    digit = n % 10\n",
    "    n = n // 10\n",
    "print(digit)"
   ]
  },
  {
   "cell_type": "code",
   "execution_count": null,
   "id": "7724e9c2",
   "metadata": {},
   "outputs": [],
   "source": [
    "# решение не по условию, но элегантное\n",
    "print(input()[0])"
   ]
  },
  {
   "cell_type": "markdown",
   "id": "637293cb",
   "metadata": {},
   "source": [
    "### 6"
   ]
  },
  {
   "cell_type": "markdown",
   "id": "d2721d28",
   "metadata": {},
   "source": [
    "На обработку поступает натуральное число. Нужно написать программу, которая выводит на экран произведение цифр введенного числа. Программист торопился и написал программу неправильно.\n",
    "\n",
    "Найдите все ошибки в этой программе (их ровно $3$). Известно, что каждая ошибка затрагивает только одну строку и может быть исправлена без изменения других строк."
   ]
  },
  {
   "cell_type": "code",
   "execution_count": null,
   "id": "f21db83e",
   "metadata": {},
   "outputs": [],
   "source": [
    "n = int(input())\n",
    "product = 1\n",
    "while n > 0:\n",
    "    digit = n % 10\n",
    "    product = product * digit\n",
    "    n = n // 10\n",
    "print(product)"
   ]
  },
  {
   "cell_type": "markdown",
   "id": "776cdf45",
   "metadata": {},
   "source": [
    "## Вложенные циклы. Часть 1"
   ]
  },
  {
   "cell_type": "markdown",
   "id": "ae3134d7",
   "metadata": {},
   "source": [
    "**Примеры**"
   ]
  },
  {
   "cell_type": "code",
   "execution_count": null,
   "id": "7c139d97",
   "metadata": {},
   "outputs": [],
   "source": [
    "for hours in range(24):\n",
    "    for minutes in range(60):\n",
    "        for seconds in range(60):\n",
    "            print(hours, ':', minutes, ':', seconds)"
   ]
  },
  {
   "cell_type": "raw",
   "id": "d7c9cd6c",
   "metadata": {},
   "source": [
    "0 : 0 : 0\n",
    "0 : 0 : 1\n",
    "0 : 0 : 2\n",
    "...\n",
    "23 : 59 : 58\n",
    "23 : 59 : 59 "
   ]
  },
  {
   "cell_type": "markdown",
   "id": "8b131dbd",
   "metadata": {},
   "source": [
    "### 1"
   ]
  },
  {
   "cell_type": "markdown",
   "id": "8e8164f2",
   "metadata": {},
   "source": [
    "Дано натуральное число $n$, $(n≤ 9)$. Напишите программу, которая печатает таблицу размером $n×3$ состоящую из данного числа (числа отделены одним пробелом)."
   ]
  },
  {
   "cell_type": "code",
   "execution_count": 112,
   "id": "b90b1984",
   "metadata": {},
   "outputs": [
    {
     "name": "stdout",
     "output_type": "stream",
     "text": [
      "4\n",
      "4 4 4 \n",
      "4 4 4 \n",
      "4 4 4 \n",
      "4 4 4 \n"
     ]
    }
   ],
   "source": [
    "n = int(input())\n",
    "for i in range(n): # rows\n",
    "    for j in range(3): # columns\n",
    "        print(n, end=' ')\n",
    "    print()"
   ]
  },
  {
   "cell_type": "markdown",
   "id": "3c4ff7fd",
   "metadata": {},
   "source": [
    "### 2"
   ]
  },
  {
   "cell_type": "markdown",
   "id": "1c0d8615",
   "metadata": {},
   "source": [
    "Дано натуральное число $n$, $(n≤ 9)$. Напишите программу, которая печатает таблицу размером $n×5$, где в $i$-ой строке указано число $i$ (числа отделены одним пробелом)."
   ]
  },
  {
   "cell_type": "code",
   "execution_count": 119,
   "id": "5fbf478f",
   "metadata": {},
   "outputs": [
    {
     "name": "stdout",
     "output_type": "stream",
     "text": [
      "5\n",
      "1 1 1 1 1 \n",
      "2 2 2 2 2 \n",
      "3 3 3 3 3 \n",
      "4 4 4 4 4 \n",
      "5 5 5 5 5 \n"
     ]
    }
   ],
   "source": [
    "n = int(input())\n",
    "for i in range(1, n+1):\n",
    "    for j in range(1, 6): \n",
    "        print(i, end=' ')\n",
    "    print()"
   ]
  },
  {
   "cell_type": "markdown",
   "id": "ee45df4d",
   "metadata": {},
   "source": [
    "### 3"
   ]
  },
  {
   "cell_type": "markdown",
   "id": "c11b16a5",
   "metadata": {},
   "source": [
    "Дано натуральное число $n$, $(n≤ 9)$. Напишите программу, которая печатает таблицу сложения для всех чисел от $1$ до $n$ в соответствии с примером."
   ]
  },
  {
   "cell_type": "code",
   "execution_count": 122,
   "id": "92579b70",
   "metadata": {},
   "outputs": [
    {
     "name": "stdout",
     "output_type": "stream",
     "text": [
      "3\n",
      "1 + 1 = 2\n",
      "1 + 2 = 3\n",
      "1 + 3 = 4\n",
      "1 + 4 = 5\n",
      "1 + 5 = 6\n",
      "1 + 6 = 7\n",
      "1 + 7 = 8\n",
      "1 + 8 = 9\n",
      "1 + 9 = 10\n",
      "\n",
      "2 + 1 = 3\n",
      "2 + 2 = 4\n",
      "2 + 3 = 5\n",
      "2 + 4 = 6\n",
      "2 + 5 = 7\n",
      "2 + 6 = 8\n",
      "2 + 7 = 9\n",
      "2 + 8 = 10\n",
      "2 + 9 = 11\n",
      "\n",
      "3 + 1 = 4\n",
      "3 + 2 = 5\n",
      "3 + 3 = 6\n",
      "3 + 4 = 7\n",
      "3 + 5 = 8\n",
      "3 + 6 = 9\n",
      "3 + 7 = 10\n",
      "3 + 8 = 11\n",
      "3 + 9 = 12\n",
      "\n"
     ]
    }
   ],
   "source": [
    "n = int(input())\n",
    "for i in range(1, n+1):\n",
    "    for j in range(1, 10): \n",
    "        print(f\"{i} + {j} = {i + j}\", end='\\n')\n",
    "    print()"
   ]
  },
  {
   "cell_type": "markdown",
   "id": "d4a33776",
   "metadata": {},
   "source": [
    "### 4"
   ]
  },
  {
   "cell_type": "markdown",
   "id": "453068bb",
   "metadata": {},
   "source": [
    "Дано нечетное натуральное число $n$. Напишите программу, которая печатает равнобедренный звездный треугольник с основанием, равным $n$ в соответствии с примером:"
   ]
  },
  {
   "cell_type": "code",
   "execution_count": 134,
   "id": "50a3d057",
   "metadata": {},
   "outputs": [
    {
     "name": "stdout",
     "output_type": "stream",
     "text": [
      "7\n",
      "*\n",
      "**\n",
      "***\n",
      "****\n",
      "***\n",
      "**\n",
      "*\n"
     ]
    }
   ],
   "source": [
    "n = int(input())\n",
    "middle = n // 2 + 1 # середина треугольника, после которой начинается убывание звездочек\n",
    "for i in range(1, n+1):\n",
    "    if i <= middle:\n",
    "        print('*' * i)\n",
    "    else:\n",
    "        print('*' * (n - i + 1))"
   ]
  },
  {
   "cell_type": "code",
   "execution_count": 135,
   "id": "6002bb53",
   "metadata": {},
   "outputs": [
    {
     "name": "stdout",
     "output_type": "stream",
     "text": [
      "7\n",
      "*\n",
      "**\n",
      "***\n",
      "****\n",
      "***\n",
      "**\n",
      "*\n"
     ]
    }
   ],
   "source": [
    "n = int(input())\n",
    "for i in range(1, n + 1):\n",
    "    for j in range(i):\n",
    "        if i + j <= n:\n",
    "            print('*', end='')\n",
    "    print()"
   ]
  },
  {
   "cell_type": "markdown",
   "id": "87867511",
   "metadata": {},
   "source": [
    "### 5"
   ]
  },
  {
   "cell_type": "markdown",
   "id": "1786e5b6",
   "metadata": {},
   "source": [
    "Дано натуральное число $n$. Напишите программу, которая печатает численный треугольник в соответствии с примером:"
   ]
  },
  {
   "cell_type": "code",
   "execution_count": 142,
   "id": "8b496ba6",
   "metadata": {},
   "outputs": [
    {
     "name": "stdout",
     "output_type": "stream",
     "text": [
      "4\n",
      "1\n",
      "22\n",
      "333\n",
      "4444\n"
     ]
    }
   ],
   "source": [
    "n = int(input())\n",
    "for i in range(1, n + 1):\n",
    "    for j in range(1, i + 1):\n",
    "        print(i, end='')\n",
    "    print()"
   ]
  },
  {
   "cell_type": "markdown",
   "id": "08acda83",
   "metadata": {},
   "source": [
    "**Решение уравнений**"
   ]
  },
  {
   "cell_type": "markdown",
   "id": "ce40b32c",
   "metadata": {},
   "source": [
    "Найдите все пары натуральных чисел (и их количество) являющихся решением уравнения $12x+13y=777$.\n",
    "\n",
    "Поскольку по условию числа $x$ и $y$ являются натуральными, то $x≤64,y≤59$. Напишем программу, которая перебирает всевозможные пары чисел $(x;y)$ и проверяет для них выполнение условия $12x+13y=777$.\n",
    "\n",
    "`Если предположить, что x или y равно 0, то 12x+13y=777 примет вид 12x=777 или 13y=777.\n",
    "Из этого равенства и знания что x и y - натуральные числа, делаем вывод, что делать нужно без остатка или:\n",
    "x = 777 // 12 = 64 или\n",
    "y = 777 // 13 = 59 .\n",
    "Мы предположили, что одно из слагаемых приняло минимальное значение (0), значит значения, которые мы получили - теоретически максимально возможное. Поэтому x <= 64 и y <= 59.`"
   ]
  },
  {
   "cell_type": "code",
   "execution_count": 143,
   "id": "53843462",
   "metadata": {},
   "outputs": [
    {
     "name": "stdout",
     "output_type": "stream",
     "text": [
      "x = 3 y = 57\n",
      "x = 16 y = 45\n",
      "x = 29 y = 33\n",
      "x = 42 y = 21\n",
      "x = 55 y = 9\n",
      "Общее количество натуральных решений = 5\n"
     ]
    }
   ],
   "source": [
    "total = 0\n",
    "for x in range(1, 65):\n",
    "    for y in range(1, 60):\n",
    "        if 12 * x + 13 * y == 777:\n",
    "            total += 1\n",
    "            print('x =', x, 'y =', y)\n",
    "print('Общее количество натуральных решений =', total)"
   ]
  },
  {
   "cell_type": "markdown",
   "id": "e58634d3",
   "metadata": {},
   "source": [
    "Найдите все пары натуральных чисел (и их количество) являющихся решением уравнения $x^2+y^2+z^2 = 2020$.\n",
    "\n",
    "Поскольку по условию числа $x$, $y$ и $z$ являются натуральными, то $x, y, z \\le \\sqrt{2020} = 45$. Напишем программу, которая перебирает всевозможные тройки чисел $(x;y;z)$ и проверяет для них условие $x^2+y^2+z^2 = 2020$."
   ]
  },
  {
   "cell_type": "code",
   "execution_count": 144,
   "id": "ee8cbef7",
   "metadata": {},
   "outputs": [
    {
     "name": "stdout",
     "output_type": "stream",
     "text": [
      "x = 18 y = 20 z = 36\n",
      "x = 18 y = 36 z = 20\n",
      "x = 20 y = 18 z = 36\n",
      "x = 20 y = 36 z = 18\n",
      "x = 36 y = 18 z = 20\n",
      "x = 36 y = 20 z = 18\n",
      "Общее количество натуральных решений = 6\n"
     ]
    }
   ],
   "source": [
    "total = 0\n",
    "for x in range(1, 45):\n",
    "    for y in range(1, 45):\n",
    "        for z in range(1, 45):\n",
    "            if x ** 2 + y ** 2 + z ** 2 == 2020:\n",
    "                total += 1\n",
    "                print('x =', x, 'y =', y, 'z =', z)\n",
    "print('Общее количество натуральных решений =', total)"
   ]
  },
  {
   "cell_type": "markdown",
   "id": "c5296bb3",
   "metadata": {},
   "source": [
    "### 6"
   ]
  },
  {
   "cell_type": "markdown",
   "id": "9e20f78b",
   "metadata": {},
   "source": [
    "Решите уравнение в натуральных числах $28n+30k+31m=365$."
   ]
  },
  {
   "cell_type": "code",
   "execution_count": 149,
   "id": "a5f11131",
   "metadata": {},
   "outputs": [
    {
     "name": "stdout",
     "output_type": "stream",
     "text": [
      "n = 1 k = 4 m = 7\n",
      "n = 2 k = 1 m = 9\n",
      "Общее количество натуральных решений = 2\n"
     ]
    }
   ],
   "source": [
    "#28n=365 or 30k=365 or 31m=365\n",
    "n = 365 // 28 #13\n",
    "k = 365 // 30 #12\n",
    "m = 365 // 31 #11\n",
    "\n",
    "total = 0\n",
    "for n in range(1, 14):\n",
    "    for k in range(1, 13):\n",
    "        for m in range(1, 12):\n",
    "            if 28 * n + 30 * k + 31 * m == 365:\n",
    "                total += 1\n",
    "                print('n =', n, 'k =', k, 'm =', m)\n",
    "print('Общее количество натуральных решений =', total)"
   ]
  },
  {
   "cell_type": "markdown",
   "id": "fe17e536",
   "metadata": {},
   "source": [
    "### 7"
   ]
  },
  {
   "cell_type": "markdown",
   "id": "b5e3e4f7",
   "metadata": {},
   "source": [
    "Имеется $100$ рублей. Сколько быков, коров и телят можно купить на все эти деньги, если плата за быка – $10$ рублей, за корову – $5$ рублей, за теленка – $0.5$ рубля и надо купить $100$ голов скота?"
   ]
  },
  {
   "cell_type": "code",
   "execution_count": 150,
   "id": "59ff83ef",
   "metadata": {},
   "outputs": [
    {
     "name": "stdout",
     "output_type": "stream",
     "text": [
      "bull = 1 cow = 9 calf = 90\n",
      "Общее количество натуральных решений = 1\n"
     ]
    }
   ],
   "source": [
    "# 10*bull + 5*cow + 0.5*calf = 100 (rubles)\n",
    "# bull + cow + calf = 100 (animals)\n",
    "\n",
    "total = 0\n",
    "for bull in range(100):\n",
    "    for cow in range(100):\n",
    "        for calf in range(100):\n",
    "            if 10 * bull + 5 * cow + 0.5 * calf == 100 and bull + cow + calf == 100:\n",
    "                total += 1\n",
    "                print('bull =', bull, 'cow =', cow, 'calf =', calf)\n",
    "print('Общее количество натуральных решений =', total)"
   ]
  },
  {
   "cell_type": "markdown",
   "id": "6299969f",
   "metadata": {},
   "source": [
    "### 8"
   ]
  },
  {
   "cell_type": "markdown",
   "id": "87b9b4e4",
   "metadata": {},
   "source": [
    "В 1769 году Леонард Эйлер сформулировал обобщенную версию Великой теоремы Ферма, предполагая, что по крайней мере $n$ энных степеней необходимо для получения суммы, которая сама является энной степенью для $n>2$. Напишите программу для опровержения гипотезы Эйлера (продержавшейся до 1967 года), и найдите четыре положительных целых числа, сумма 5-х степеней которых равна 5-й степени другого положительного целого числа.\n",
    "\n",
    "Таким образом, найдите пять натуральных чисел $a,b,c,d,e$ удовлетворяющих условию:\n",
    "\n",
    "$a^5+b^5+c^5+d^5=e^5$.\n",
    "\n",
    "В ответе укажите сумму $a+b+c+d+e$.\n",
    "\n",
    "**Примечание 1.** Используйте вложенный цикл for.\n",
    "\n",
    "**Примечание 2.** Считайте, что числа $a, b, c, d, e$ не превосходят $150$.\n",
    "\n",
    "**Примечание 3.** Программа может работать дольше чем обычно. В зависимости от способа решения задачи на выполнение программы может уходить до нескольких минут. Попробуйте сократить количество вложенных циклов. "
   ]
  },
  {
   "cell_type": "code",
   "execution_count": 1,
   "id": "01c90412",
   "metadata": {},
   "outputs": [
    {
     "name": "stdout",
     "output_type": "stream",
     "text": [
      "a = 27 b = 84 c = 110 d = 133 e = 144\n",
      "sum = 498\n"
     ]
    }
   ],
   "source": [
    "total = 0\n",
    "while total < 1:\n",
    "    for a in range(1, 151):\n",
    "        for b in range(a, 151):\n",
    "            for c in range(b, 151):\n",
    "                for d in range(c, 151):\n",
    "                    for e in range(d, 151):\n",
    "                        if a**5 + b**5 + c**5 + d**5 == e**5:\n",
    "                            print('a =', a, 'b =', b, 'c =', c, 'd =', d, 'e =', e)\n",
    "                            total += 1\n",
    "                            print('sum =', a + b + c + d + e)"
   ]
  },
  {
   "cell_type": "markdown",
   "id": "e9837e83",
   "metadata": {},
   "source": [
    "## Вложенные циклы. Часть 2"
   ]
  },
  {
   "cell_type": "markdown",
   "id": "934f6ceb",
   "metadata": {},
   "source": [
    "### 1"
   ]
  },
  {
   "cell_type": "markdown",
   "id": "04421d8b",
   "metadata": {},
   "source": [
    "Дано натуральное число $n$. Напишите программу, которая печатает численный треугольник с высотой равной $n$, в соответствии с примером:"
   ]
  },
  {
   "cell_type": "code",
   "execution_count": 58,
   "id": "b22bfbd1",
   "metadata": {},
   "outputs": [
    {
     "name": "stdout",
     "output_type": "stream",
     "text": [
      "5\n",
      "1 \n",
      "2 3 \n",
      "4 5 6 \n",
      "7 8 9 10 \n",
      "11 12 13 14 15 \n"
     ]
    }
   ],
   "source": [
    "n = int(input())\n",
    "step = 1\n",
    "for i in range(1, n + 1):\n",
    "    for j in range(1, i + 1):\n",
    "        print(step, end=' ')\n",
    "        step += 1\n",
    "    print()"
   ]
  },
  {
   "cell_type": "markdown",
   "id": "0189de65",
   "metadata": {},
   "source": [
    "### 2"
   ]
  },
  {
   "cell_type": "markdown",
   "id": "7f4316e9",
   "metadata": {},
   "source": [
    "Дано натуральное число $n$. Напишите программу, которая печатает численный треугольник с высотой равной $n$, в соответствии с примером:"
   ]
  },
  {
   "cell_type": "code",
   "execution_count": 77,
   "id": "8ea343fc",
   "metadata": {},
   "outputs": [
    {
     "name": "stdout",
     "output_type": "stream",
     "text": [
      "5\n",
      "1\n",
      "121\n",
      "12321\n",
      "1234321\n",
      "123454321\n"
     ]
    }
   ],
   "source": [
    "n = int(input())\n",
    "middle = 1\n",
    "for i in range(1, n + 1):\n",
    "    for j in range(1, i + 1):\n",
    "        print(j, end='')\n",
    "        middle = i\n",
    "    while middle > 1:\n",
    "        print(middle - 1, end='')\n",
    "        middle -= 1\n",
    "    print()"
   ]
  },
  {
   "cell_type": "markdown",
   "id": "bdee8b15",
   "metadata": {},
   "source": [
    "### 3"
   ]
  },
  {
   "cell_type": "markdown",
   "id": "0dbe283a",
   "metadata": {},
   "source": [
    "На вход программе подается два натуральных числа $a$ и $b$ $(a < b)$. Напишите программу, которая находит натуральное число из отрезка $[a;b]$ с максимальной суммой делителей.\n",
    "\n",
    "На вход программе подаются два числа, каждое на отдельной строке. Программа должна вывести два числа на одной строке, разделенных пробелом: число с максимальной суммой делителей и сумму его делителей. Если таких чисел несколько, то выведите наибольшее из них."
   ]
  },
  {
   "cell_type": "code",
   "execution_count": 94,
   "id": "94c8e40d",
   "metadata": {},
   "outputs": [
    {
     "name": "stdout",
     "output_type": "stream",
     "text": [
      "1\n",
      "100\n",
      "96 252\n"
     ]
    }
   ],
   "source": [
    "a, b = int(input()), int(input())\n",
    "sum = 0\n",
    "maxsum = 0\n",
    "solution_number = 0\n",
    "solution_sum = 0\n",
    "for number in range(a, b + 1):\n",
    "    for divider in range(1, number + 1):\n",
    "        if number % divider == 0:\n",
    "            sum += divider\n",
    "    if sum >= maxsum:\n",
    "        maxsum = sum\n",
    "        solution_number, solution_sum = number, sum\n",
    "    sum = 0\n",
    "print(solution_number, solution_sum)"
   ]
  },
  {
   "cell_type": "markdown",
   "id": "eef95fc9",
   "metadata": {},
   "source": [
    "### 4"
   ]
  },
  {
   "cell_type": "markdown",
   "id": "002563ff",
   "metadata": {},
   "source": [
    "На вход программе подается натуральное число $n$. Напишите программу, выводящую графическое изображение делимости чисел от $1$ до $n$ включительно. В каждой строке надо напечатать очередное число и столько символов «+», сколько делителей у этого числа."
   ]
  },
  {
   "cell_type": "code",
   "execution_count": 98,
   "id": "6251c13d",
   "metadata": {},
   "outputs": [
    {
     "name": "stdout",
     "output_type": "stream",
     "text": [
      "5\n",
      "1+\n",
      "2++\n",
      "3++\n",
      "4+++\n",
      "5++\n"
     ]
    }
   ],
   "source": [
    "n = int(input())\n",
    "counter = 0\n",
    "for number in range(1, n + 1):\n",
    "    for divider in range(1, number + 1):\n",
    "        if number % divider == 0:\n",
    "            counter += 1\n",
    "    print(number, '+' * counter, sep='')\n",
    "    counter = 0"
   ]
  },
  {
   "cell_type": "markdown",
   "id": "0344cb40",
   "metadata": {},
   "source": [
    "### 5"
   ]
  },
  {
   "cell_type": "markdown",
   "id": "be3bd867",
   "metadata": {},
   "source": [
    "На вход программе подается натуральное число $n$. Напишите программу, которая находит цифровой корень данного числа. Цифровой корень числа $n$ получается следующим образом: если сложить все цифры этого числа, затем все цифры найденной суммы и повторить этот процесс, то в результате будет получено однозначное число (цифра), которое и называется цифровым корнем данного числа."
   ]
  },
  {
   "cell_type": "code",
   "execution_count": 102,
   "id": "b21cbe71",
   "metadata": {},
   "outputs": [
    {
     "name": "stdout",
     "output_type": "stream",
     "text": [
      "192\n",
      "3\n"
     ]
    }
   ],
   "source": [
    "n = int(input())\n",
    "while n > 9:\n",
    "    sum = 0\n",
    "    while n > 0:\n",
    "        last_digit = n % 10\n",
    "        sum += last_digit\n",
    "        n = n // 10\n",
    "    n = sum    \n",
    "print(n)"
   ]
  },
  {
   "cell_type": "markdown",
   "id": "20d3cd32",
   "metadata": {},
   "source": [
    "### 6"
   ]
  },
  {
   "cell_type": "markdown",
   "id": "da2577d1",
   "metadata": {},
   "source": [
    "Дано натуральное число $n$. Напишите программу, которая выводит значение суммы $1!+2!+3!+…+n!$."
   ]
  },
  {
   "cell_type": "code",
   "execution_count": 6,
   "id": "d159f1be",
   "metadata": {},
   "outputs": [
    {
     "name": "stdout",
     "output_type": "stream",
     "text": [
      "3\n",
      "9\n"
     ]
    }
   ],
   "source": [
    "n = int(input())\n",
    "fac = 1\n",
    "sum = 0\n",
    "for i in range(1, n + 1):\n",
    "    for j in range(1, i + 1):\n",
    "        fac *= j\n",
    "    sum += fac\n",
    "    fac = 1\n",
    "print(sum)"
   ]
  },
  {
   "cell_type": "markdown",
   "id": "abd99492",
   "metadata": {},
   "source": [
    "### 7"
   ]
  },
  {
   "cell_type": "markdown",
   "id": "76575704",
   "metadata": {},
   "source": [
    "На вход программе подается два натуральных числа $a$ и $b$ $(a< b)$. Напишите программу, которая находит все простые числа от $a$ до $b$ включительно."
   ]
  },
  {
   "cell_type": "code",
   "execution_count": 15,
   "id": "c80a9f46",
   "metadata": {},
   "outputs": [
    {
     "name": "stdout",
     "output_type": "stream",
     "text": [
      "1\n",
      "5\n",
      "2\n",
      "3\n",
      "5\n"
     ]
    }
   ],
   "source": [
    "a, b = int(input()), int(input())\n",
    "counter = 0\n",
    "for number in range(a, b + 1):\n",
    "    for divider in range (1, number + 1):\n",
    "        if number % divider == 0:\n",
    "            counter += 1\n",
    "    if counter == 2:\n",
    "        print(number)\n",
    "    counter = 0"
   ]
  },
  {
   "cell_type": "markdown",
   "id": "49821fd5",
   "metadata": {},
   "source": [
    "## Итоговая работа на циклы"
   ]
  },
  {
   "cell_type": "markdown",
   "id": "0b8fdd69",
   "metadata": {},
   "source": [
    "### 1"
   ]
  },
  {
   "cell_type": "markdown",
   "id": "5a4c0b20",
   "metadata": {},
   "source": [
    "На обработку поступает натуральное число. Нужно написать программу, которая выводит на экран сумму чётных цифр этого числа или 0, если чётных цифр в записи нет. Программист торопился и написал программу неправильно.\n",
    "\n",
    "Найдите все ошибки в этой программе (их может быть одна или несколько). Известно, что каждая ошибка затрагивает только одну строку и может быть исправлена без изменения других строк."
   ]
  },
  {
   "cell_type": "code",
   "execution_count": 25,
   "id": "dae7b54e",
   "metadata": {},
   "outputs": [
    {
     "name": "stdout",
     "output_type": "stream",
     "text": [
      "22\n",
      "4\n"
     ]
    }
   ],
   "source": [
    "n = int(input())\n",
    "s = 0\n",
    "while n > 0:\n",
    "    if n % 2 == 0:\n",
    "        s += n % 10\n",
    "    n //= 10\n",
    "print(s)"
   ]
  },
  {
   "cell_type": "markdown",
   "id": "27733c32",
   "metadata": {},
   "source": [
    "### 2"
   ]
  },
  {
   "cell_type": "markdown",
   "id": "728c774a",
   "metadata": {},
   "source": [
    "На обработку поступает последовательность из 8 целых чисел. Известно, что вводимые числа по абсолютной величине не превышают $10^{12}$. Нужно написать программу, которая выводит на экран количество делящихся нацело на 4 чисел в исходной последовательности и максимальное делящееся нацело на 4 число. Если делящихся нацело на 4 чисел нет, требуется на экран вывести «NO». Программист торопился и написал программу неправильно.\n",
    "\n",
    "Найдите все ошибки в этой программе (их может быть одна или несколько). Известно, что каждая ошибка затрагивает только одну строку и может быть исправлена без изменения других строк."
   ]
  },
  {
   "cell_type": "code",
   "execution_count": null,
   "id": "edbc1634",
   "metadata": {},
   "outputs": [],
   "source": [
    "n = 8\n",
    "count = 0\n",
    "maximum = -10**12\n",
    "for i in range(1, n + 1):\n",
    "    x = int(input())\n",
    "    if x % 4 == 0:\n",
    "        count += 1\n",
    "        if x > maximum:\n",
    "            maximum = x\n",
    "if count > 0:\n",
    "    print(count)\n",
    "    print(maximum)\n",
    "else:\n",
    "    print('NO')"
   ]
  },
  {
   "cell_type": "markdown",
   "id": "1eb998d3",
   "metadata": {},
   "source": [
    "### 3"
   ]
  },
  {
   "cell_type": "markdown",
   "id": "eb1f35bb",
   "metadata": {},
   "source": [
    "На обработку поступает последовательность из 4 целых чисел. Известно, что вводимые числа по абсолютной величине не превышают $10^8$. Нужно написать программу, которая выводит на экран количество нечётных чисел в исходной последовательности и максимальное нечётное число. Если нечётных чисел нет, требуется на экран вывести «NO». Программист торопился и написал программу неправильно.\n",
    "\n",
    "Найдите все ошибки в этой программе (их может быть одна или несколько). Известно, что каждая ошибка затрагивает только одну строку и может быть исправлена без изменения других строк."
   ]
  },
  {
   "cell_type": "code",
   "execution_count": null,
   "id": "fb95e019",
   "metadata": {},
   "outputs": [],
   "source": [
    "n = 4\n",
    "count = 0\n",
    "maximum = -10**8\n",
    "for i in range(1, n + 1):\n",
    "    x = int(input())\n",
    "    if x % 2 != 0:\n",
    "        count += 1\n",
    "        if x > maximum:\n",
    "            maximum = x\n",
    "if count > 0:\n",
    "    print(count)\n",
    "    print(maximum)\n",
    "else:\n",
    "    print('NO')"
   ]
  },
  {
   "cell_type": "markdown",
   "id": "b159c651",
   "metadata": {},
   "source": [
    "### 4"
   ]
  },
  {
   "cell_type": "markdown",
   "id": "89261ba9",
   "metadata": {},
   "source": [
    "На вход программе подается натуральное число $n$. Напишите программу, которая печатает звездную рамку размерами $n×19$. На вход программе подаётся натуральное число $n∈[3;19]$ — высота звездной рамки."
   ]
  },
  {
   "cell_type": "code",
   "execution_count": 31,
   "id": "d35d73f4",
   "metadata": {},
   "outputs": [
    {
     "name": "stdout",
     "output_type": "stream",
     "text": [
      "4\n",
      "*******************\n",
      "*                 *\n",
      "*                 *\n",
      "*******************\n"
     ]
    }
   ],
   "source": [
    "n = int(input())\n",
    "for star in range(1, n + 1):\n",
    "    if star != 1 and star != n:\n",
    "        print('*' + ' ' * 17 + '*')\n",
    "    else:\n",
    "        print('*' * 19)"
   ]
  },
  {
   "cell_type": "markdown",
   "id": "5e83404b",
   "metadata": {},
   "source": [
    "### 5"
   ]
  },
  {
   "cell_type": "markdown",
   "id": "6f99f0ac",
   "metadata": {},
   "source": [
    "Дано натуральное число $n$ $(n>99)$. Напишите программу, которая определяет его третью (с начала) цифру."
   ]
  },
  {
   "cell_type": "code",
   "execution_count": 35,
   "id": "fc6b0641",
   "metadata": {},
   "outputs": [
    {
     "name": "stdout",
     "output_type": "stream",
     "text": [
      "15230\n",
      "2\n"
     ]
    }
   ],
   "source": [
    "n = int(input())\n",
    "while n > 99:\n",
    "    last_digit = n % 10\n",
    "    n = n // 10\n",
    "print(last_digit)"
   ]
  },
  {
   "cell_type": "markdown",
   "id": "856c9039",
   "metadata": {},
   "source": [
    "### 6"
   ]
  },
  {
   "cell_type": "markdown",
   "id": "7a3d1488",
   "metadata": {},
   "source": [
    "Дано натуральное число. Напишите программу, которая вычисляет:\n",
    "\n",
    "* количество цифр 3 в нем;\n",
    "* сколько раз в нем встречается последняя цифра;\n",
    "* количество четных цифр;\n",
    "* сумму его цифр, больших пяти;\n",
    "* произведение цифр, больших семи (если цифр больших семи нет, то вывести 1, если такая цифра одна, то вывести ее);\n",
    "* сколько раз в нем встречается цифры 0 и 5 (всего суммарно)."
   ]
  },
  {
   "cell_type": "code",
   "execution_count": 26,
   "id": "d2f2f425",
   "metadata": {},
   "outputs": [
    {
     "name": "stdout",
     "output_type": "stream",
     "text": [
      "56639\n",
      "1\n",
      "1\n",
      "2\n",
      "21\n",
      "9\n",
      "1\n"
     ]
    }
   ],
   "source": [
    "n = int(input())\n",
    "count_3, count_lastdigit, count_even, sum_more5, mult_more7, count_05 = 0, 0, 0, 0, 1, 0\n",
    "last = n % 10\n",
    "while n != 0:\n",
    "    last_digit = n % 10  \n",
    "    if last_digit == 3:\n",
    "        count_3 += 1\n",
    "    if last_digit == last:\n",
    "        count_lastdigit += 1\n",
    "    if last_digit % 2 == 0:\n",
    "        count_even += 1\n",
    "    if last_digit > 5:\n",
    "        sum_more5 += last_digit\n",
    "    if last_digit > 7:\n",
    "        mult_more7 *= last_digit\n",
    "    if last_digit == 0 or last_digit == 5:\n",
    "        count_05 += 1\n",
    "    n = n // 10 \n",
    "print(count_3, count_lastdigit, count_even, sum_more5, mult_more7, count_05, sep='\\n')"
   ]
  },
  {
   "cell_type": "markdown",
   "id": "dc1ab87c",
   "metadata": {},
   "source": [
    "### 7"
   ]
  },
  {
   "cell_type": "markdown",
   "id": "7f91813f",
   "metadata": {},
   "source": [
    "Сриниваса Рамануджан – индийский математик, славившийся своей интуицией в области чисел. Когда английский математик Годфри Харди навестил его однажды в больнице, он обмолвился, что номером такси, на котором он приехал, было $1729$, такое скучное и заурядное число. На что Рамануджан ответил: \"Нет, нет! Это очень интересное число. Это наименьшее число, выражаемое как сумма двух кубов двумя разными способами\". Другими словами:\n",
    "\n",
    "$1729 = 1^3 + 12^3 = 9^3 + 10^3$.\n",
    "\n",
    "Напишите программу, которая находит аналогичные интересные числа. В ответе запишите первые 5 чисел в порядке возрастания, включая число $1729$.\n",
    "\n",
    "**Примечание.** Используйте вложенный цикл."
   ]
  },
  {
   "cell_type": "code",
   "execution_count": null,
   "id": "c1541f2b",
   "metadata": {},
   "outputs": [],
   "source": [
    "for i in range(1, 40):\n",
    "    for j in range(1, 40):\n",
    "        for k in range(1, 40):\n",
    "            for l in range(1, 40):\n",
    "                if i != k and i != l and j != k and j != l and i ** 3 + j ** 3 == k ** 3 + l ** 3:\n",
    "                    print(i ** 3 + j ** 3)"
   ]
  }
 ],
 "metadata": {
  "kernelspec": {
   "display_name": "Python 3 (ipykernel)",
   "language": "python",
   "name": "python3"
  },
  "language_info": {
   "codemirror_mode": {
    "name": "ipython",
    "version": 3
   },
   "file_extension": ".py",
   "mimetype": "text/x-python",
   "name": "python",
   "nbconvert_exporter": "python",
   "pygments_lexer": "ipython3",
   "version": "3.9.13"
  },
  "toc": {
   "base_numbering": 1,
   "nav_menu": {},
   "number_sections": true,
   "sideBar": true,
   "skip_h1_title": true,
   "title_cell": "Table of Contents",
   "title_sidebar": "Contents",
   "toc_cell": true,
   "toc_position": {},
   "toc_section_display": true,
   "toc_window_display": false
  }
 },
 "nbformat": 4,
 "nbformat_minor": 5
}
