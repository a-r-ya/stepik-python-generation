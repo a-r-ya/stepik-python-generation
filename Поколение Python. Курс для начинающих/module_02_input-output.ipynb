{
 "cells": [
  {
   "cell_type": "markdown",
   "id": "c56b9e63",
   "metadata": {
    "toc": true
   },
   "source": [
    "<h1>Table of Contents<span class=\"tocSkip\"></span></h1>\n",
    "<div class=\"toc\"><ul class=\"toc-item\"><li><span><a href=\"#Команды-print-и-input\" data-toc-modified-id=\"Команды-print-и-input-1\"><span class=\"toc-item-num\">1&nbsp;&nbsp;</span>Команды print и input</a></span><ul class=\"toc-item\"><li><span><a href=\"#1\" data-toc-modified-id=\"1-1.1\"><span class=\"toc-item-num\">1.1&nbsp;&nbsp;</span>1</a></span></li><li><span><a href=\"#2\" data-toc-modified-id=\"2-1.2\"><span class=\"toc-item-num\">1.2&nbsp;&nbsp;</span>2</a></span></li><li><span><a href=\"#3\" data-toc-modified-id=\"3-1.3\"><span class=\"toc-item-num\">1.3&nbsp;&nbsp;</span>3</a></span></li><li><span><a href=\"#4\" data-toc-modified-id=\"4-1.4\"><span class=\"toc-item-num\">1.4&nbsp;&nbsp;</span>4</a></span></li><li><span><a href=\"#5\" data-toc-modified-id=\"5-1.5\"><span class=\"toc-item-num\">1.5&nbsp;&nbsp;</span>5</a></span></li><li><span><a href=\"#6\" data-toc-modified-id=\"6-1.6\"><span class=\"toc-item-num\">1.6&nbsp;&nbsp;</span>6</a></span></li><li><span><a href=\"#7\" data-toc-modified-id=\"7-1.7\"><span class=\"toc-item-num\">1.7&nbsp;&nbsp;</span>7</a></span></li><li><span><a href=\"#8\" data-toc-modified-id=\"8-1.8\"><span class=\"toc-item-num\">1.8&nbsp;&nbsp;</span>8</a></span></li></ul></li><li><span><a href=\"#Параметры-sep-и-end\" data-toc-modified-id=\"Параметры-sep-и-end-2\"><span class=\"toc-item-num\">2&nbsp;&nbsp;</span>Параметры sep и end</a></span><ul class=\"toc-item\"><li><span><a href=\"#1\" data-toc-modified-id=\"1-2.1\"><span class=\"toc-item-num\">2.1&nbsp;&nbsp;</span>1</a></span></li><li><span><a href=\"#2\" data-toc-modified-id=\"2-2.2\"><span class=\"toc-item-num\">2.2&nbsp;&nbsp;</span>2</a></span></li><li><span><a href=\"#3\" data-toc-modified-id=\"3-2.3\"><span class=\"toc-item-num\">2.3&nbsp;&nbsp;</span>3</a></span></li></ul></li><li><span><a href=\"#Целочисленная-арифметика.-Часть-1\" data-toc-modified-id=\"Целочисленная-арифметика.-Часть-1-3\"><span class=\"toc-item-num\">3&nbsp;&nbsp;</span>Целочисленная арифметика. Часть 1</a></span><ul class=\"toc-item\"><li><span><a href=\"#1\" data-toc-modified-id=\"1-3.1\"><span class=\"toc-item-num\">3.1&nbsp;&nbsp;</span>1</a></span></li><li><span><a href=\"#2\" data-toc-modified-id=\"2-3.2\"><span class=\"toc-item-num\">3.2&nbsp;&nbsp;</span>2</a></span></li><li><span><a href=\"#3\" data-toc-modified-id=\"3-3.3\"><span class=\"toc-item-num\">3.3&nbsp;&nbsp;</span>3</a></span></li><li><span><a href=\"#4\" data-toc-modified-id=\"4-3.4\"><span class=\"toc-item-num\">3.4&nbsp;&nbsp;</span>4</a></span></li><li><span><a href=\"#5\" data-toc-modified-id=\"5-3.5\"><span class=\"toc-item-num\">3.5&nbsp;&nbsp;</span>5</a></span></li><li><span><a href=\"#6\" data-toc-modified-id=\"6-3.6\"><span class=\"toc-item-num\">3.6&nbsp;&nbsp;</span>6</a></span></li><li><span><a href=\"#7\" data-toc-modified-id=\"7-3.7\"><span class=\"toc-item-num\">3.7&nbsp;&nbsp;</span>7</a></span></li><li><span><a href=\"#8\" data-toc-modified-id=\"8-3.8\"><span class=\"toc-item-num\">3.8&nbsp;&nbsp;</span>8</a></span></li><li><span><a href=\"#9\" data-toc-modified-id=\"9-3.9\"><span class=\"toc-item-num\">3.9&nbsp;&nbsp;</span>9</a></span></li></ul></li><li><span><a href=\"#Целочисленная-арифметика.-Часть-2\" data-toc-modified-id=\"Целочисленная-арифметика.-Часть-2-4\"><span class=\"toc-item-num\">4&nbsp;&nbsp;</span>Целочисленная арифметика. Часть 2</a></span><ul class=\"toc-item\"><li><span><a href=\"#1\" data-toc-modified-id=\"1-4.1\"><span class=\"toc-item-num\">4.1&nbsp;&nbsp;</span>1</a></span></li><li><span><a href=\"#2\" data-toc-modified-id=\"2-4.2\"><span class=\"toc-item-num\">4.2&nbsp;&nbsp;</span>2</a></span></li><li><span><a href=\"#3\" data-toc-modified-id=\"3-4.3\"><span class=\"toc-item-num\">4.3&nbsp;&nbsp;</span>3</a></span></li><li><span><a href=\"#4\" data-toc-modified-id=\"4-4.4\"><span class=\"toc-item-num\">4.4&nbsp;&nbsp;</span>4</a></span></li><li><span><a href=\"#5\" data-toc-modified-id=\"5-4.5\"><span class=\"toc-item-num\">4.5&nbsp;&nbsp;</span>5</a></span></li><li><span><a href=\"#6\" data-toc-modified-id=\"6-4.6\"><span class=\"toc-item-num\">4.6&nbsp;&nbsp;</span>6</a></span></li><li><span><a href=\"#7\" data-toc-modified-id=\"7-4.7\"><span class=\"toc-item-num\">4.7&nbsp;&nbsp;</span>7</a></span></li><li><span><a href=\"#8\" data-toc-modified-id=\"8-4.8\"><span class=\"toc-item-num\">4.8&nbsp;&nbsp;</span>8</a></span></li><li><span><a href=\"#9\" data-toc-modified-id=\"9-4.9\"><span class=\"toc-item-num\">4.9&nbsp;&nbsp;</span>9</a></span></li></ul></li><li><span><a href=\"#Итоговая-работа-на-ввод-вывод-данных\" data-toc-modified-id=\"Итоговая-работа-на-ввод-вывод-данных-5\"><span class=\"toc-item-num\">5&nbsp;&nbsp;</span>Итоговая работа на ввод-вывод данных</a></span><ul class=\"toc-item\"><li><span><a href=\"#1\" data-toc-modified-id=\"1-5.1\"><span class=\"toc-item-num\">5.1&nbsp;&nbsp;</span>1</a></span></li><li><span><a href=\"#2\" data-toc-modified-id=\"2-5.2\"><span class=\"toc-item-num\">5.2&nbsp;&nbsp;</span>2</a></span></li><li><span><a href=\"#3\" data-toc-modified-id=\"3-5.3\"><span class=\"toc-item-num\">5.3&nbsp;&nbsp;</span>3</a></span></li><li><span><a href=\"#4\" data-toc-modified-id=\"4-5.4\"><span class=\"toc-item-num\">5.4&nbsp;&nbsp;</span>4</a></span></li></ul></li></ul></div>"
   ]
  },
  {
   "cell_type": "markdown",
   "id": "7bb0cab3",
   "metadata": {},
   "source": [
    "# Ввод-вывод данных"
   ]
  },
  {
   "cell_type": "markdown",
   "id": "2e171168",
   "metadata": {},
   "source": [
    "## Команды print и input"
   ]
  },
  {
   "cell_type": "markdown",
   "id": "7eb1b894",
   "metadata": {},
   "source": [
    "### 1"
   ]
  },
  {
   "cell_type": "markdown",
   "id": "6f6f1726",
   "metadata": {},
   "source": [
    "Напишите программу, которая выводит на экран текст «Здравствуй, мир!» (без кавычек)."
   ]
  },
  {
   "cell_type": "code",
   "execution_count": 14,
   "id": "20636b51",
   "metadata": {},
   "outputs": [
    {
     "name": "stdout",
     "output_type": "stream",
     "text": [
      "Здравствуй, мир!\n"
     ]
    }
   ],
   "source": [
    "print(\"Здравствуй, мир!\")"
   ]
  },
  {
   "cell_type": "markdown",
   "id": "da674986",
   "metadata": {},
   "source": [
    "### 2"
   ]
  },
  {
   "cell_type": "markdown",
   "id": "aea1f35b",
   "metadata": {},
   "source": [
    "В популярном сериале «Остаться в живых» использовалась последовательность чисел **4 8 15 16 23 42**, которая принесла героям удачу и помогла сорвать джекпот в лотерее. Напишите программу, которая выводит данную последовательность чисел с одним пробелом между ними."
   ]
  },
  {
   "cell_type": "code",
   "execution_count": 15,
   "id": "1f663f2f",
   "metadata": {},
   "outputs": [
    {
     "name": "stdout",
     "output_type": "stream",
     "text": [
      "4 8 15 16 23 42\n"
     ]
    }
   ],
   "source": [
    "print(4, 8, 15, 16, 23, 42)"
   ]
  },
  {
   "cell_type": "markdown",
   "id": "e4f40395",
   "metadata": {},
   "source": [
    "### 3"
   ]
  },
  {
   "cell_type": "markdown",
   "id": "97f07f94",
   "metadata": {},
   "source": [
    "Измените предыдущую программу так, чтобы каждое число последовательности **4 8 15 16 23 42** печаталось на отдельной строке.\n",
    "\n",
    "Примечание. Каждая последующая команда print() выводит указанный текст, начиная с новой строки."
   ]
  },
  {
   "cell_type": "code",
   "execution_count": 1,
   "id": "dbc176c2",
   "metadata": {},
   "outputs": [
    {
     "name": "stdout",
     "output_type": "stream",
     "text": [
      "4\n",
      "8\n",
      "15\n",
      "16\n",
      "23\n",
      "42\n"
     ]
    }
   ],
   "source": [
    "print(4, 8, 15, 16, 23, 42, sep='\\n')"
   ]
  },
  {
   "cell_type": "markdown",
   "id": "a6697bc7",
   "metadata": {},
   "source": [
    "### 4"
   ]
  },
  {
   "cell_type": "markdown",
   "id": "7c5476d1",
   "metadata": {},
   "source": [
    "Напишите программу, которая выводит указанный треугольник, состоящий из звездочек (*)."
   ]
  },
  {
   "cell_type": "code",
   "execution_count": 3,
   "id": "b15cfd3f",
   "metadata": {},
   "outputs": [
    {
     "name": "stdout",
     "output_type": "stream",
     "text": [
      "*\n",
      "**\n",
      "***\n",
      "****\n",
      "*****\n",
      "******\n",
      "*******\n"
     ]
    }
   ],
   "source": [
    "for i in range(1, 8):\n",
    "    print(i * '*')"
   ]
  },
  {
   "cell_type": "markdown",
   "id": "24d71b13",
   "metadata": {},
   "source": [
    "### 5"
   ]
  },
  {
   "cell_type": "markdown",
   "id": "c8156914",
   "metadata": {},
   "source": [
    "На вход программе подается строка текста – имя человека. Напишите программу, которая выводит на экран приветствие в виде слова «Привет» (без кавычек), после которого должна стоять запятая и пробел, а затем введенное имя."
   ]
  },
  {
   "cell_type": "code",
   "execution_count": 16,
   "id": "83bd72cf",
   "metadata": {},
   "outputs": [
    {
     "name": "stdout",
     "output_type": "stream",
     "text": [
      "Lina\n",
      "Привет, Lina\n"
     ]
    }
   ],
   "source": [
    "name=input()\n",
    "print(\"Привет,\", name)"
   ]
  },
  {
   "cell_type": "markdown",
   "id": "4c01ede6",
   "metadata": {},
   "source": [
    "### 6"
   ]
  },
  {
   "cell_type": "markdown",
   "id": "1fd0666d",
   "metadata": {},
   "source": [
    "На вход программе подается строка текста – название футбольной команды. Напишите программу, которая повторяет ее на экране со словами « - чемпион!» (без кавычек)."
   ]
  },
  {
   "cell_type": "code",
   "execution_count": 17,
   "id": "8626fbbe",
   "metadata": {},
   "outputs": [
    {
     "name": "stdout",
     "output_type": "stream",
     "text": [
      "Zenit\n",
      "Zenit - чемпион!\n"
     ]
    }
   ],
   "source": [
    "name = input()\n",
    "print(name, \"- чемпион!\")"
   ]
  },
  {
   "cell_type": "markdown",
   "id": "482d7287",
   "metadata": {},
   "source": [
    "### 7"
   ]
  },
  {
   "cell_type": "markdown",
   "id": "71a7f37b",
   "metadata": {},
   "source": [
    "Напишите программу, которая считывает три строки по очереди, а затем выводит их в той же последовательности, каждую на отдельной строчке."
   ]
  },
  {
   "cell_type": "code",
   "execution_count": 19,
   "id": "5da5199f",
   "metadata": {},
   "outputs": [
    {
     "name": "stdout",
     "output_type": "stream",
     "text": [
      "Hey\n",
      "how\n",
      "are you\n",
      "Hey\n",
      "how\n",
      "are you\n"
     ]
    }
   ],
   "source": [
    "a = input()\n",
    "b = input()\n",
    "c = input()\n",
    "\n",
    "print(a, b, c, sep='\\n')"
   ]
  },
  {
   "cell_type": "markdown",
   "id": "60d9221c",
   "metadata": {},
   "source": [
    "### 8"
   ]
  },
  {
   "cell_type": "markdown",
   "id": "f89bbac7",
   "metadata": {},
   "source": [
    "Напишите программу, которая считывает три строки по очереди, а затем выводит их в обратной последовательности, каждую на отдельной строчке."
   ]
  },
  {
   "cell_type": "code",
   "execution_count": 4,
   "id": "ad63c985",
   "metadata": {},
   "outputs": [
    {
     "name": "stdout",
     "output_type": "stream",
     "text": [
      "I love\n",
      "Python\n",
      "so much\n",
      "so much\n",
      "Python\n",
      "I love\n"
     ]
    }
   ],
   "source": [
    "a, b, c = input(), input(), input()\n",
    "print(c, b, a, sep='\\n')"
   ]
  },
  {
   "cell_type": "markdown",
   "id": "78e7ebaf",
   "metadata": {},
   "source": [
    "## Параметры sep и end"
   ]
  },
  {
   "cell_type": "markdown",
   "id": "74e6eb96",
   "metadata": {},
   "source": [
    "**Примеры**"
   ]
  },
  {
   "cell_type": "code",
   "execution_count": 6,
   "id": "b884dec9",
   "metadata": {},
   "outputs": [
    {
     "name": "stdout",
     "output_type": "stream",
     "text": [
      "d**e**f\n"
     ]
    }
   ],
   "source": [
    "print('d', 'e', 'f', sep='**')"
   ]
  },
  {
   "cell_type": "code",
   "execution_count": 7,
   "id": "685fc5d3",
   "metadata": {},
   "outputs": [
    {
     "name": "stdout",
     "output_type": "stream",
     "text": [
      "a b c@"
     ]
    }
   ],
   "source": [
    "print('a', 'b', 'c', end='@')"
   ]
  },
  {
   "cell_type": "code",
   "execution_count": 8,
   "id": "b694d705",
   "metadata": {},
   "outputs": [
    {
     "name": "stdout",
     "output_type": "stream",
     "text": [
      "abc"
     ]
    }
   ],
   "source": [
    "print('a', 'b', 'c', sep='', end='') # убрать все дополнительные выводимые символы"
   ]
  },
  {
   "cell_type": "markdown",
   "id": "0bbaf07c",
   "metadata": {},
   "source": [
    "### 1"
   ]
  },
  {
   "cell_type": "markdown",
   "id": "cccf7e5d",
   "metadata": {},
   "source": [
    "Напишите программу, которая выводит на экран текст «I * * * like * * * Python» (без кавычек)."
   ]
  },
  {
   "cell_type": "code",
   "execution_count": 21,
   "id": "215cb4d9",
   "metadata": {},
   "outputs": [
    {
     "name": "stdout",
     "output_type": "stream",
     "text": [
      "I***like***Python\n"
     ]
    }
   ],
   "source": [
    "print(\"I\", \"like\", \"Python\", sep='***')"
   ]
  },
  {
   "cell_type": "markdown",
   "id": "f735ae67",
   "metadata": {},
   "source": [
    "### 2"
   ]
  },
  {
   "cell_type": "markdown",
   "id": "7514a056",
   "metadata": {},
   "source": [
    "Напишите программу, которая считывает строку-разделитель и три строки, а затем выводит указанные строки через разделитель."
   ]
  },
  {
   "cell_type": "code",
   "execution_count": 23,
   "id": "075a6cc9",
   "metadata": {},
   "outputs": [
    {
     "name": "stdout",
     "output_type": "stream",
     "text": [
      "-\n",
      "one\n",
      "two\n",
      "three\n",
      "one-two-three\n"
     ]
    }
   ],
   "source": [
    "separator, a, b, c = input(), input(), input(), input()\n",
    "print(a, b, c, sep=separator)"
   ]
  },
  {
   "cell_type": "markdown",
   "id": "9decf18e",
   "metadata": {},
   "source": [
    "### 3"
   ]
  },
  {
   "cell_type": "markdown",
   "id": "5277e00f",
   "metadata": {},
   "source": [
    "Напишите программу, которая приветствует пользователя, выводя слово «Привет» (без кавычек), после которого должна стоять запятая и пробел, а затем введенное имя и восклицательный знак."
   ]
  },
  {
   "cell_type": "code",
   "execution_count": 24,
   "id": "603d672d",
   "metadata": {},
   "outputs": [
    {
     "name": "stdout",
     "output_type": "stream",
     "text": [
      "Lina\n",
      "Привет, Lina!"
     ]
    }
   ],
   "source": [
    "name = input()\n",
    "print(\"Привет,\", name, end='!')"
   ]
  },
  {
   "cell_type": "markdown",
   "id": "ce9ccf92",
   "metadata": {},
   "source": [
    "**Некоторые рекомендации PEP 8**"
   ]
  },
  {
   "cell_type": "code",
   "execution_count": null,
   "id": "abb83470",
   "metadata": {},
   "outputs": [],
   "source": [
    "print('Follow PEP8!') # нет пробелов перед открывающей скобкой, после которой начинается список аргументов функции"
   ]
  },
  {
   "cell_type": "code",
   "execution_count": null,
   "id": "e0660e16",
   "metadata": {},
   "outputs": [],
   "source": [
    "print('PEP8', 'Rocks!') # после запятой нужен пробел"
   ]
  },
  {
   "cell_type": "code",
   "execution_count": null,
   "id": "51be2366",
   "metadata": {},
   "outputs": [],
   "source": [
    "print('My name', 'is', sep='**', end='+') # не отделять пробелами знак «=», когда он обозначает значение параметра по умолчанию"
   ]
  },
  {
   "cell_type": "markdown",
   "id": "f96d6c2a",
   "metadata": {},
   "source": [
    "## Целочисленная арифметика. Часть 1"
   ]
  },
  {
   "cell_type": "markdown",
   "id": "ed107b87",
   "metadata": {},
   "source": [
    "### 1"
   ]
  },
  {
   "cell_type": "markdown",
   "id": "98b441e0",
   "metadata": {},
   "source": [
    "Напишите программу вывода на экран трех последовательно идущих чисел, каждое на отдельной строке. Первое число вводит пользователь, остальные числа вычисляются в программе."
   ]
  },
  {
   "cell_type": "code",
   "execution_count": 16,
   "id": "530cb8e7",
   "metadata": {},
   "outputs": [
    {
     "name": "stdout",
     "output_type": "stream",
     "text": [
      "8\n",
      "8\n",
      "9\n",
      "10\n"
     ]
    }
   ],
   "source": [
    "num = int(input())\n",
    "print(num, num + 1, num + 2, sep='\\n')"
   ]
  },
  {
   "cell_type": "markdown",
   "id": "a510a474",
   "metadata": {},
   "source": [
    "### 2"
   ]
  },
  {
   "cell_type": "markdown",
   "id": "7e02bc60",
   "metadata": {},
   "source": [
    "Напишите программу, которая считывает три целых числа и выводит на экран их сумму. Каждое число записано в отдельной строке."
   ]
  },
  {
   "cell_type": "code",
   "execution_count": 25,
   "id": "2e076f78",
   "metadata": {},
   "outputs": [
    {
     "name": "stdout",
     "output_type": "stream",
     "text": [
      "1\n",
      "4\n",
      "6\n",
      "11\n"
     ]
    }
   ],
   "source": [
    "a, b, c = int(input()), int(input()), int(input())\n",
    "print(a+b+c)"
   ]
  },
  {
   "cell_type": "markdown",
   "id": "8888b569",
   "metadata": {},
   "source": [
    "### 3"
   ]
  },
  {
   "cell_type": "markdown",
   "id": "35be0bae",
   "metadata": {},
   "source": [
    "Напишите программу, вычисляющую объём куба и площадь его полной поверхности, по введённому значению длины ребра."
   ]
  },
  {
   "cell_type": "code",
   "execution_count": 26,
   "id": "63fd7629",
   "metadata": {},
   "outputs": [
    {
     "name": "stdout",
     "output_type": "stream",
     "text": [
      "56\n",
      "Объем = 175616\n",
      "Площадь полной поверхности = 18816\n"
     ]
    }
   ],
   "source": [
    "a = int(input())\n",
    "v = a**3\n",
    "s = 6*a**2\n",
    "print('Объем =', v)\n",
    "print('Площадь полной поверхности =', s)"
   ]
  },
  {
   "cell_type": "markdown",
   "id": "b7fe8d6b",
   "metadata": {},
   "source": [
    "### 4"
   ]
  },
  {
   "cell_type": "markdown",
   "id": "2cbc85fb",
   "metadata": {},
   "source": [
    "Напишите программу вычисления значения функции $f(a, \\, b) = 3(a + b)^3 + 275b^2 - 127a - 41$ по введеным целым значениям $a$ и $b$."
   ]
  },
  {
   "cell_type": "code",
   "execution_count": 27,
   "id": "da9ad6e5",
   "metadata": {},
   "outputs": [
    {
     "name": "stdout",
     "output_type": "stream",
     "text": [
      "0\n",
      "1\n",
      "237\n"
     ]
    }
   ],
   "source": [
    "a, b = int(input()), int(input())\n",
    "f = 3 * (a + b) ** 3 + 275 * b ** 2 - 127 * a - 41\n",
    "print(f)"
   ]
  },
  {
   "cell_type": "markdown",
   "id": "55b39ac9",
   "metadata": {},
   "source": [
    "### 5"
   ]
  },
  {
   "cell_type": "markdown",
   "id": "960c0064",
   "metadata": {},
   "source": [
    "Напишите программу, которая считывает целое число, после чего на экран выводится следующее и предыдущее целое число с пояснительным текстом."
   ]
  },
  {
   "cell_type": "code",
   "execution_count": 28,
   "id": "987a8e8a",
   "metadata": {},
   "outputs": [
    {
     "name": "stdout",
     "output_type": "stream",
     "text": [
      "20\n",
      "Следующее за числом 20 число: 21\n",
      "Для числа 20 предыдущее число: 19\n"
     ]
    }
   ],
   "source": [
    "num = int(input())\n",
    "print(F\"Следующее за числом {num} число: {num+1}\")\n",
    "print(F\"Для числа {num} предыдущее число: {num-1}\")"
   ]
  },
  {
   "cell_type": "markdown",
   "id": "9bd8f600",
   "metadata": {},
   "source": [
    "### 6"
   ]
  },
  {
   "cell_type": "markdown",
   "id": "c86cc281",
   "metadata": {},
   "source": [
    "Напишите программу, которая считает стоимость трех компьютеров, состоящих из монитора, системного блока, клавиатуры и мыши."
   ]
  },
  {
   "cell_type": "code",
   "execution_count": 29,
   "id": "ea7b9f13",
   "metadata": {},
   "outputs": [
    {
     "name": "stdout",
     "output_type": "stream",
     "text": [
      "9900\n",
      "55600\n",
      "3999\n",
      "2990\n",
      "217467\n"
     ]
    }
   ],
   "source": [
    "a, b, c, d = int(input()), int(input()), int(input()), int(input())\n",
    "print((a + b + c + d) * 3)"
   ]
  },
  {
   "cell_type": "markdown",
   "id": "befe2ac6",
   "metadata": {},
   "source": [
    "### 7"
   ]
  },
  {
   "cell_type": "markdown",
   "id": "4514c7d2",
   "metadata": {},
   "source": [
    "Напишите программу, в которой вычисляется сумма, разность и произведение двух целых чисел, введенных с клавиатуры."
   ]
  },
  {
   "cell_type": "code",
   "execution_count": 30,
   "id": "5c224190",
   "metadata": {},
   "outputs": [
    {
     "name": "stdout",
     "output_type": "stream",
     "text": [
      "5\n",
      "8\n",
      "5 + 8 = 13\n",
      "5 - 8 = -3\n",
      "5 * 8 = 40\n"
     ]
    }
   ],
   "source": [
    "a, b = int(input()), int(input())\n",
    "print(f\"{a} + {b} = {a + b}\")\n",
    "print(f\"{a} - {b} = {a - b}\")\n",
    "print(f\"{a} * {b} = {a * b}\")"
   ]
  },
  {
   "cell_type": "markdown",
   "id": "0b5c2052",
   "metadata": {},
   "source": [
    "### 8"
   ]
  },
  {
   "cell_type": "markdown",
   "id": "5043f3c4",
   "metadata": {},
   "source": [
    "Арифметической прогрессией называется последовательность чисел $a_1$, $a_2$, $...$, $a_n$, каждое из которых, начиная с $a_2$, получается из предыдущего прибавлением к нему одного и того же постоянного числа $d$ (разность прогрессии), то есть:\n",
    "\n",
    "$a_n=a_{n−1}+d$\n",
    "\n",
    "\n",
    "Если известен первый член прогрессии и её разность, то $n$-ый член арифметической прогрессии находится по формуле:\n",
    "\n",
    "$a_n=a_1+d(n-1)$\n",
    "\n",
    "На вход программе подаётся три целых числа: $a_1$, $d$ и $n$, каждое на отдельной строке. Программа должна вывести $n$-ый член арифметической прогрессии."
   ]
  },
  {
   "cell_type": "code",
   "execution_count": 31,
   "id": "1a189634",
   "metadata": {},
   "outputs": [
    {
     "name": "stdout",
     "output_type": "stream",
     "text": [
      "100\n",
      "50\n",
      "1\n",
      "100\n"
     ]
    }
   ],
   "source": [
    "a1, d, n = int(input()), int(input()), int(input())\n",
    "print(a1 + d * (n - 1))"
   ]
  },
  {
   "cell_type": "markdown",
   "id": "e6b14c15",
   "metadata": {},
   "source": [
    "### 9"
   ]
  },
  {
   "cell_type": "markdown",
   "id": "7e55088c",
   "metadata": {},
   "source": [
    "Напишите программу, которая считывает целое положительное число $x$ и выводит на экран последовательность чисел $x$, $2x$, $3x$,$4x$ и $5x$, разделённых тремя черточками."
   ]
  },
  {
   "cell_type": "code",
   "execution_count": 32,
   "id": "6aa75ee1",
   "metadata": {},
   "outputs": [
    {
     "name": "stdout",
     "output_type": "stream",
     "text": [
      "5\n",
      "5---10---15---20---25\n"
     ]
    }
   ],
   "source": [
    "n = int(input())\n",
    "print(n, 2*n, 3*n, 4*n, 5*n, sep='---')"
   ]
  },
  {
   "cell_type": "markdown",
   "id": "0d4fb094",
   "metadata": {},
   "source": [
    "## Целочисленная арифметика. Часть 2"
   ]
  },
  {
   "cell_type": "markdown",
   "id": "b43a6a04",
   "metadata": {},
   "source": [
    "### 1"
   ]
  },
  {
   "cell_type": "markdown",
   "id": "92f97356",
   "metadata": {},
   "source": [
    "Геометрической прогрессией называется последовательность чисел $b_1$, $b_2$, $...$, $b_n$, каждое из которых, начиная с $b_2$, получается из предыдущего умножением на одно и то же постоянное число $q$ (знаменатель прогрессии), то есть\n",
    "\n",
    "$b_n=b_{n−1}\\cdot q$\n",
    "\n",
    "Если известен первый член прогрессии и её знаменатель, то $n$-ый член геометрической прогрессии находится по формуле\n",
    "\n",
    "$b_n=b_1\\cdot q^{n-1}$\n",
    " \n",
    "На вход программе подаётся три целых числа: $b_1$, $q$ и $n$, каждое на отдельной строке. Программа должна вывести $n$-ый член геометрической прогрессии."
   ]
  },
  {
   "cell_type": "code",
   "execution_count": 33,
   "id": "5483780e",
   "metadata": {},
   "outputs": [
    {
     "name": "stdout",
     "output_type": "stream",
     "text": [
      "-2\n",
      "10\n",
      "3\n",
      "-200\n"
     ]
    }
   ],
   "source": [
    "b1, q, n = int(input()), int(input()), int(input())\n",
    "print(b1 * q**(n-1))"
   ]
  },
  {
   "cell_type": "markdown",
   "id": "c4ca9ea3",
   "metadata": {},
   "source": [
    "### 2"
   ]
  },
  {
   "cell_type": "markdown",
   "id": "be99efd0",
   "metadata": {},
   "source": [
    "Напишите программу, которая находит полное число метров по заданному числу сантиметров."
   ]
  },
  {
   "cell_type": "code",
   "execution_count": 34,
   "id": "754566ea",
   "metadata": {},
   "outputs": [
    {
     "name": "stdout",
     "output_type": "stream",
     "text": [
      "345\n",
      "3\n"
     ]
    }
   ],
   "source": [
    "n = int(input())\n",
    "print(n // 100)"
   ]
  },
  {
   "cell_type": "markdown",
   "id": "4dc3973a",
   "metadata": {},
   "source": [
    "### 3"
   ]
  },
  {
   "cell_type": "markdown",
   "id": "e6b5a642",
   "metadata": {},
   "source": [
    "$n$ школьников делят $k$ мандаринов поровну, неделящийся остаток остается в корзине. Сколько целых мандаринов достанется каждому школьнику? Сколько целых мандаринов останется в корзине?"
   ]
  },
  {
   "cell_type": "code",
   "execution_count": 35,
   "id": "aae28034",
   "metadata": {},
   "outputs": [
    {
     "name": "stdout",
     "output_type": "stream",
     "text": [
      "7\n",
      "4\n",
      "0\n",
      "4\n"
     ]
    }
   ],
   "source": [
    "n, k = int(input()), int(input())\n",
    "print(k//n, k%n, sep='\\n')"
   ]
  },
  {
   "cell_type": "markdown",
   "id": "acd09c69",
   "metadata": {},
   "source": [
    "### 4"
   ]
  },
  {
   "cell_type": "markdown",
   "id": "d82ecdc4",
   "metadata": {},
   "source": [
    "Безумный титан Танос собрал все 6 камней бесконечности и намеревается уничтожить половину населения Вселенной по щелчку пальцев. При этом если население Вселенной является нечетным числом, то титан проявит милосердие и округлит количество выживших в большую сторону. Помогите Мстителям подсчитать количество выживших."
   ]
  },
  {
   "cell_type": "code",
   "execution_count": 31,
   "id": "ddf0ae0b",
   "metadata": {},
   "outputs": [
    {
     "name": "stdout",
     "output_type": "stream",
     "text": [
      "99\n",
      "50\n"
     ]
    }
   ],
   "source": [
    "n = int(input())\n",
    "print(n // 2 + n % 2)"
   ]
  },
  {
   "cell_type": "markdown",
   "id": "1574f4a2",
   "metadata": {},
   "source": [
    "### 5"
   ]
  },
  {
   "cell_type": "markdown",
   "id": "c79e863f",
   "metadata": {},
   "source": [
    "В купейном вагоне имеется 99 купе с четырьмя местами для пассажиров в каждом. Напишите программу, которая определяет номер купе, в котором находится место с заданным номером (нумерация мест сквозная, начинается с $1$)."
   ]
  },
  {
   "cell_type": "markdown",
   "id": "0339d376",
   "metadata": {},
   "source": [
    "![Picture](https://ucarecdn.com/759a79a5-79d0-489a-8d2c-cc337483d2af/)"
   ]
  },
  {
   "cell_type": "code",
   "execution_count": 35,
   "id": "6f416d95",
   "metadata": {},
   "outputs": [
    {
     "name": "stdout",
     "output_type": "stream",
     "text": [
      "5\n",
      "2\n"
     ]
    }
   ],
   "source": [
    "# 1 // 4 = 0\n",
    "# 2 // 4 = 0\n",
    "# 3 // 4 = 0\n",
    "# 4 // 4 = 1\n",
    "# 5 // 4 = 1\n",
    "# 6 // 4 = 1\n",
    "# 7 // 4 = 1\n",
    "# 8 // 4 = 2\n",
    "# 9 // 4 = 2\n",
    "# ...\n",
    "\n",
    "seat = int(input())\n",
    "print((seat + 3) // 4)"
   ]
  },
  {
   "cell_type": "markdown",
   "id": "6d095e7b",
   "metadata": {},
   "source": [
    "### 6"
   ]
  },
  {
   "cell_type": "markdown",
   "id": "c2f07078",
   "metadata": {},
   "source": [
    "Напишите программу для пересчёта величины временного интервала, заданного в минутах, в величину, выраженную в часах и минутах."
   ]
  },
  {
   "cell_type": "code",
   "execution_count": 36,
   "id": "09015838",
   "metadata": {},
   "outputs": [
    {
     "name": "stdout",
     "output_type": "stream",
     "text": [
      "245\n",
      "245 мин - это 4 час 5 минут.\n"
     ]
    }
   ],
   "source": [
    "min = int(input())\n",
    "print(f\"{min} мин - это {min // 60} час {min % 60} минут.\")"
   ]
  },
  {
   "cell_type": "markdown",
   "id": "df6b017c",
   "metadata": {},
   "source": [
    "**Алгоритм получения цифр $n$-значного числа**"
   ]
  },
  {
   "cell_type": "code",
   "execution_count": 38,
   "id": "dc41397a",
   "metadata": {},
   "outputs": [
    {
     "name": "stdout",
     "output_type": "stream",
     "text": [
      "4\n",
      "5\n",
      "7\n"
     ]
    }
   ],
   "source": [
    "num = 754\n",
    "a = num % 10\n",
    "b = (num % 100) // 10\n",
    "c = num // 100\n",
    "print(a)\n",
    "print(b)\n",
    "print(c)"
   ]
  },
  {
   "cell_type": "markdown",
   "id": "751ef783",
   "metadata": {},
   "source": [
    "Последняя цифра числа определяется всегда как **остаток от деления** числа на 10 (% 10). Чтобы отщепить последнюю цифру от числа, необходимо разделить его **нацело** на 10 (// 10)."
   ]
  },
  {
   "cell_type": "markdown",
   "id": "be5daeb2",
   "metadata": {},
   "source": [
    "Последняя цифра: ```(num % 10**1) // 10**0```\n",
    "\n",
    "Предпоследняя цифра: ```(num % 10**2) // 10**1```\n",
    "\n",
    "Предпредпоследняя цифра: ```(num % 10**3) // 10**2```\n",
    "\n",
    ".....\n",
    "\n",
    "Вторая цифра: ```(num % 10**(n-1)) // 10**(n-2)```\n",
    "\n",
    "Первая цифра: ```(num % 10**n) // 10**(n-1)```"
   ]
  },
  {
   "cell_type": "markdown",
   "id": "d351c432",
   "metadata": {},
   "source": [
    "### 7"
   ]
  },
  {
   "cell_type": "markdown",
   "id": "d5c24594",
   "metadata": {},
   "source": [
    "Напишите программу, в которой рассчитывается сумма и произведение цифр положительного трёхзначного числа."
   ]
  },
  {
   "cell_type": "code",
   "execution_count": 40,
   "id": "cbcbd3b3",
   "metadata": {},
   "outputs": [
    {
     "name": "stdout",
     "output_type": "stream",
     "text": [
      "124\n",
      "Сумма цифр = 7\n",
      "Произведение цифр = 8\n"
     ]
    }
   ],
   "source": [
    "num = int(input())\n",
    "digit1 = num // 100\n",
    "digit2 = (num % 100) // 10\n",
    "digit3 = num % 10\n",
    "print(\"Сумма цифр =\", digit1 + digit2 + digit3)\n",
    "print(\"Произведение цифр =\", digit1 * digit2 * digit3)"
   ]
  },
  {
   "cell_type": "markdown",
   "id": "70ebe87d",
   "metadata": {},
   "source": [
    "### 8"
   ]
  },
  {
   "cell_type": "markdown",
   "id": "12b9b0e0",
   "metadata": {},
   "source": [
    "Дано трехзначное число $\\overline{abc}$, в котором все цифры различны. Напишите программу, которая выводит шесть чисел, образованных при перестановке цифр заданного числа."
   ]
  },
  {
   "cell_type": "code",
   "execution_count": 36,
   "id": "04a07e1f",
   "metadata": {},
   "outputs": [
    {
     "name": "stdout",
     "output_type": "stream",
     "text": [
      "987\n",
      "987\n",
      "978\n",
      "897\n",
      "879\n",
      "798\n",
      "789\n"
     ]
    }
   ],
   "source": [
    "num = int(input())\n",
    "d1 = num // 100\n",
    "d2 = (num % 100) // 10\n",
    "d3 = num % 10\n",
    "# abc,acb,bac,bca,cab,cba.\n",
    "print(d1,d2,d3,sep='')\n",
    "print(d1,d3,d2,sep='')\n",
    "print(d2,d1,d3,sep='')\n",
    "print(d2,d3,d1,sep='')\n",
    "print(d3,d1,d2,sep='')\n",
    "print(d3,d2,d1,sep='')"
   ]
  },
  {
   "cell_type": "markdown",
   "id": "4806e059",
   "metadata": {},
   "source": [
    "### 9"
   ]
  },
  {
   "cell_type": "markdown",
   "id": "a5688352",
   "metadata": {},
   "source": [
    "Напишите программу для нахождения цифр четырёхзначного числа."
   ]
  },
  {
   "cell_type": "code",
   "execution_count": 41,
   "id": "e3503a54",
   "metadata": {},
   "outputs": [
    {
     "name": "stdout",
     "output_type": "stream",
     "text": [
      "3281\n",
      "Цифра в позиции тысяч равна 3\n",
      "Цифра в позиции сотен равна 2\n",
      "Цифра в позиции десятков равна 8\n",
      "Цифра в позиции единиц равна 1\n"
     ]
    }
   ],
   "source": [
    "num = int(input())\n",
    "digit1 = (num % 10000) // 1000\n",
    "digit2 = (num % 1000) // 100\n",
    "digit3 = (num % 100) // 10\n",
    "digit4 = (num % 10)\n",
    "print(f\"Цифра в позиции тысяч равна {digit1}\")\n",
    "print(f\"Цифра в позиции сотен равна {digit2}\")\n",
    "print(f\"Цифра в позиции десятков равна {digit3}\")\n",
    "print(f\"Цифра в позиции единиц равна {digit4}\")"
   ]
  },
  {
   "cell_type": "markdown",
   "id": "46a8f93e",
   "metadata": {},
   "source": [
    "## Итоговая работа на ввод-вывод данных"
   ]
  },
  {
   "cell_type": "markdown",
   "id": "50d59ca1",
   "metadata": {},
   "source": [
    "### 1"
   ]
  },
  {
   "cell_type": "markdown",
   "id": "6897e1c3",
   "metadata": {},
   "source": [
    "Напишите программу, которая выводит прямоугольник, по периметру состоящий из звездочек (*)."
   ]
  },
  {
   "cell_type": "code",
   "execution_count": 37,
   "id": "f99fb47f",
   "metadata": {},
   "outputs": [
    {
     "name": "stdout",
     "output_type": "stream",
     "text": [
      "*****************\n",
      "*               *\n",
      "*               *\n",
      "*****************\n"
     ]
    }
   ],
   "source": [
    "print('*'*17)\n",
    "print('*','*',sep=(' '*15))\n",
    "print('*','*',sep=(' '*15))\n",
    "print('*'*17)"
   ]
  },
  {
   "cell_type": "markdown",
   "id": "fbda1833",
   "metadata": {},
   "source": [
    "### 2"
   ]
  },
  {
   "cell_type": "markdown",
   "id": "d6f032fe",
   "metadata": {},
   "source": [
    "Напишите программу, которая считывает два целых числа $a$ и $b$ и выводит на экран квадрат суммы $(a+b)^2$ и сумму квадратов $a^2+b^2$ этих чисел."
   ]
  },
  {
   "cell_type": "code",
   "execution_count": 38,
   "id": "841f2d5f",
   "metadata": {},
   "outputs": [
    {
     "name": "stdout",
     "output_type": "stream",
     "text": [
      "-5\n",
      "1\n",
      "Квадрат суммы -5 и 1 равен 16\n",
      "Сумма квадратов -5 и 1 равна 26\n"
     ]
    }
   ],
   "source": [
    "a, b = int(input()), int(input())\n",
    "print(f'Квадрат суммы {a} и {b} равен {(a + b)**2}')\n",
    "print(f'Сумма квадратов {a} и {b} равна {a**2 + b**2}')"
   ]
  },
  {
   "cell_type": "markdown",
   "id": "386113a2",
   "metadata": {},
   "source": [
    "### 3"
   ]
  },
  {
   "cell_type": "markdown",
   "id": "713fd9b1",
   "metadata": {},
   "source": [
    "Как известно, целые числа в языке Python не имеют ограничений, которые встречаются в других языках программирования. Напишите программу, которая считывает четыре целых положительных числа $a$, $b$, $c$ и $d$ и выводит на экран значение выражения $a^b + c^d$."
   ]
  },
  {
   "cell_type": "code",
   "execution_count": 39,
   "id": "ca034e79",
   "metadata": {},
   "outputs": [
    {
     "name": "stdout",
     "output_type": "stream",
     "text": [
      "9\n",
      "29\n",
      "7\n",
      "27\n",
      "4710194409608608369201743232\n"
     ]
    }
   ],
   "source": [
    "a, b, c, d = int(input()), int(input()), int(input()), int(input())\n",
    "print(a**b + c**d)"
   ]
  },
  {
   "cell_type": "markdown",
   "id": "30a9e79a",
   "metadata": {},
   "source": [
    "### 4"
   ]
  },
  {
   "cell_type": "markdown",
   "id": "05101376",
   "metadata": {},
   "source": [
    "Напишите программу, которая считывает целое положительное число $n$, $n∈[1;9]$ и выводит значение числа $n+\\overline{nn}+\\overline{nnn}$."
   ]
  },
  {
   "cell_type": "code",
   "execution_count": 40,
   "id": "c14e5954",
   "metadata": {},
   "outputs": [
    {
     "name": "stdout",
     "output_type": "stream",
     "text": [
      "3\n",
      "369\n"
     ]
    }
   ],
   "source": [
    "n = str(input())\n",
    "s1 = n\n",
    "s2 = n*2\n",
    "s3 = n*3\n",
    "print(int(s1) + int(s2) + int(s3))"
   ]
  }
 ],
 "metadata": {
  "kernelspec": {
   "display_name": "Python 3 (ipykernel)",
   "language": "python",
   "name": "python3"
  },
  "language_info": {
   "codemirror_mode": {
    "name": "ipython",
    "version": 3
   },
   "file_extension": ".py",
   "mimetype": "text/x-python",
   "name": "python",
   "nbconvert_exporter": "python",
   "pygments_lexer": "ipython3",
   "version": "3.9.13"
  },
  "toc": {
   "base_numbering": 1,
   "nav_menu": {},
   "number_sections": true,
   "sideBar": true,
   "skip_h1_title": true,
   "title_cell": "Table of Contents",
   "title_sidebar": "Contents",
   "toc_cell": true,
   "toc_position": {},
   "toc_section_display": true,
   "toc_window_display": false
  }
 },
 "nbformat": 4,
 "nbformat_minor": 5
}
