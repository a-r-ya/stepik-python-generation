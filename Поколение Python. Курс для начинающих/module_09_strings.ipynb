{
 "cells": [
  {
   "cell_type": "markdown",
   "id": "afdbc2f0",
   "metadata": {
    "toc": true
   },
   "source": [
    "<h1>Table of Contents<span class=\"tocSkip\"></span></h1>\n",
    "<div class=\"toc\"><ul class=\"toc-item\"><li><span><a href=\"#Индексация\" data-toc-modified-id=\"Индексация-1\"><span class=\"toc-item-num\">1&nbsp;&nbsp;</span>Индексация</a></span><ul class=\"toc-item\"><li><span><a href=\"#1\" data-toc-modified-id=\"1-1.1\"><span class=\"toc-item-num\">1.1&nbsp;&nbsp;</span>1</a></span></li><li><span><a href=\"#2\" data-toc-modified-id=\"2-1.2\"><span class=\"toc-item-num\">1.2&nbsp;&nbsp;</span>2</a></span></li><li><span><a href=\"#3\" data-toc-modified-id=\"3-1.3\"><span class=\"toc-item-num\">1.3&nbsp;&nbsp;</span>3</a></span></li><li><span><a href=\"#4\" data-toc-modified-id=\"4-1.4\"><span class=\"toc-item-num\">1.4&nbsp;&nbsp;</span>4</a></span></li><li><span><a href=\"#5\" data-toc-modified-id=\"5-1.5\"><span class=\"toc-item-num\">1.5&nbsp;&nbsp;</span>5</a></span></li><li><span><a href=\"#6\" data-toc-modified-id=\"6-1.6\"><span class=\"toc-item-num\">1.6&nbsp;&nbsp;</span>6</a></span></li><li><span><a href=\"#7\" data-toc-modified-id=\"7-1.7\"><span class=\"toc-item-num\">1.7&nbsp;&nbsp;</span>7</a></span></li><li><span><a href=\"#8\" data-toc-modified-id=\"8-1.8\"><span class=\"toc-item-num\">1.8&nbsp;&nbsp;</span>8</a></span></li><li><span><a href=\"#9\" data-toc-modified-id=\"9-1.9\"><span class=\"toc-item-num\">1.9&nbsp;&nbsp;</span>9</a></span></li><li><span><a href=\"#10\" data-toc-modified-id=\"10-1.10\"><span class=\"toc-item-num\">1.10&nbsp;&nbsp;</span>10</a></span></li><li><span><a href=\"#11\" data-toc-modified-id=\"11-1.11\"><span class=\"toc-item-num\">1.11&nbsp;&nbsp;</span>11</a></span></li></ul></li><li><span><a href=\"#Срезы\" data-toc-modified-id=\"Срезы-2\"><span class=\"toc-item-num\">2&nbsp;&nbsp;</span>Срезы</a></span><ul class=\"toc-item\"><li><span><a href=\"#1\" data-toc-modified-id=\"1-2.1\"><span class=\"toc-item-num\">2.1&nbsp;&nbsp;</span>1</a></span></li><li><span><a href=\"#2\" data-toc-modified-id=\"2-2.2\"><span class=\"toc-item-num\">2.2&nbsp;&nbsp;</span>2</a></span></li><li><span><a href=\"#3\" data-toc-modified-id=\"3-2.3\"><span class=\"toc-item-num\">2.3&nbsp;&nbsp;</span>3</a></span></li><li><span><a href=\"#4\" data-toc-modified-id=\"4-2.4\"><span class=\"toc-item-num\">2.4&nbsp;&nbsp;</span>4</a></span></li><li><span><a href=\"#5\" data-toc-modified-id=\"5-2.5\"><span class=\"toc-item-num\">2.5&nbsp;&nbsp;</span>5</a></span></li><li><span><a href=\"#6\" data-toc-modified-id=\"6-2.6\"><span class=\"toc-item-num\">2.6&nbsp;&nbsp;</span>6</a></span></li><li><span><a href=\"#7\" data-toc-modified-id=\"7-2.7\"><span class=\"toc-item-num\">2.7&nbsp;&nbsp;</span>7</a></span></li><li><span><a href=\"#8\" data-toc-modified-id=\"8-2.8\"><span class=\"toc-item-num\">2.8&nbsp;&nbsp;</span>8</a></span></li></ul></li><li><span><a href=\"#Методы-строк.-Часть-1\" data-toc-modified-id=\"Методы-строк.-Часть-1-3\"><span class=\"toc-item-num\">3&nbsp;&nbsp;</span>Методы строк. Часть 1</a></span><ul class=\"toc-item\"><li><span><a href=\"#1\" data-toc-modified-id=\"1-3.1\"><span class=\"toc-item-num\">3.1&nbsp;&nbsp;</span>1</a></span></li><li><span><a href=\"#2\" data-toc-modified-id=\"2-3.2\"><span class=\"toc-item-num\">3.2&nbsp;&nbsp;</span>2</a></span></li><li><span><a href=\"#3\" data-toc-modified-id=\"3-3.3\"><span class=\"toc-item-num\">3.3&nbsp;&nbsp;</span>3</a></span></li><li><span><a href=\"#4\" data-toc-modified-id=\"4-3.4\"><span class=\"toc-item-num\">3.4&nbsp;&nbsp;</span>4</a></span></li></ul></li><li><span><a href=\"#Методы-строк.-Часть-2\" data-toc-modified-id=\"Методы-строк.-Часть-2-4\"><span class=\"toc-item-num\">4&nbsp;&nbsp;</span>Методы строк. Часть 2</a></span><ul class=\"toc-item\"><li><span><a href=\"#1\" data-toc-modified-id=\"1-4.1\"><span class=\"toc-item-num\">4.1&nbsp;&nbsp;</span>1</a></span></li><li><span><a href=\"#2\" data-toc-modified-id=\"2-4.2\"><span class=\"toc-item-num\">4.2&nbsp;&nbsp;</span>2</a></span></li><li><span><a href=\"#3\" data-toc-modified-id=\"3-4.3\"><span class=\"toc-item-num\">4.3&nbsp;&nbsp;</span>3</a></span></li><li><span><a href=\"#4\" data-toc-modified-id=\"4-4.4\"><span class=\"toc-item-num\">4.4&nbsp;&nbsp;</span>4</a></span></li><li><span><a href=\"#5\" data-toc-modified-id=\"5-4.5\"><span class=\"toc-item-num\">4.5&nbsp;&nbsp;</span>5</a></span></li><li><span><a href=\"#6\" data-toc-modified-id=\"6-4.6\"><span class=\"toc-item-num\">4.6&nbsp;&nbsp;</span>6</a></span></li><li><span><a href=\"#7\" data-toc-modified-id=\"7-4.7\"><span class=\"toc-item-num\">4.7&nbsp;&nbsp;</span>7</a></span></li><li><span><a href=\"#8\" data-toc-modified-id=\"8-4.8\"><span class=\"toc-item-num\">4.8&nbsp;&nbsp;</span>8</a></span></li></ul></li><li><span><a href=\"#Методы-строк.-Часть-3\" data-toc-modified-id=\"Методы-строк.-Часть-3-5\"><span class=\"toc-item-num\">5&nbsp;&nbsp;</span>Методы строк. Часть 3</a></span><ul class=\"toc-item\"><li><span><a href=\"#1\" data-toc-modified-id=\"1-5.1\"><span class=\"toc-item-num\">5.1&nbsp;&nbsp;</span>1</a></span></li><li><span><a href=\"#2\" data-toc-modified-id=\"2-5.2\"><span class=\"toc-item-num\">5.2&nbsp;&nbsp;</span>2</a></span></li></ul></li><li><span><a href=\"#Строки-в-памяти-компьютера,-таблица-символов-Unicode\" data-toc-modified-id=\"Строки-в-памяти-компьютера,-таблица-символов-Unicode-6\"><span class=\"toc-item-num\">6&nbsp;&nbsp;</span>Строки в памяти компьютера, таблица символов Unicode</a></span><ul class=\"toc-item\"><li><span><a href=\"#1\" data-toc-modified-id=\"1-6.1\"><span class=\"toc-item-num\">6.1&nbsp;&nbsp;</span>1</a></span></li><li><span><a href=\"#2\" data-toc-modified-id=\"2-6.2\"><span class=\"toc-item-num\">6.2&nbsp;&nbsp;</span>2</a></span></li><li><span><a href=\"#3\" data-toc-modified-id=\"3-6.3\"><span class=\"toc-item-num\">6.3&nbsp;&nbsp;</span>3</a></span></li></ul></li><li><span><a href=\"#Итоговая-работа-на-строки\" data-toc-modified-id=\"Итоговая-работа-на-строки-7\"><span class=\"toc-item-num\">7&nbsp;&nbsp;</span>Итоговая работа на строки</a></span><ul class=\"toc-item\"><li><span><a href=\"#1\" data-toc-modified-id=\"1-7.1\"><span class=\"toc-item-num\">7.1&nbsp;&nbsp;</span>1</a></span></li><li><span><a href=\"#2\" data-toc-modified-id=\"2-7.2\"><span class=\"toc-item-num\">7.2&nbsp;&nbsp;</span>2</a></span></li><li><span><a href=\"#3\" data-toc-modified-id=\"3-7.3\"><span class=\"toc-item-num\">7.3&nbsp;&nbsp;</span>3</a></span></li><li><span><a href=\"#4\" data-toc-modified-id=\"4-7.4\"><span class=\"toc-item-num\">7.4&nbsp;&nbsp;</span>4</a></span></li><li><span><a href=\"#5\" data-toc-modified-id=\"5-7.5\"><span class=\"toc-item-num\">7.5&nbsp;&nbsp;</span>5</a></span></li><li><span><a href=\"#6\" data-toc-modified-id=\"6-7.6\"><span class=\"toc-item-num\">7.6&nbsp;&nbsp;</span>6</a></span></li><li><span><a href=\"#7\" data-toc-modified-id=\"7-7.7\"><span class=\"toc-item-num\">7.7&nbsp;&nbsp;</span>7</a></span></li><li><span><a href=\"#8\" data-toc-modified-id=\"8-7.8\"><span class=\"toc-item-num\">7.8&nbsp;&nbsp;</span>8</a></span></li><li><span><a href=\"#9\" data-toc-modified-id=\"9-7.9\"><span class=\"toc-item-num\">7.9&nbsp;&nbsp;</span>9</a></span></li><li><span><a href=\"#10\" data-toc-modified-id=\"10-7.10\"><span class=\"toc-item-num\">7.10&nbsp;&nbsp;</span>10</a></span></li><li><span><a href=\"#11\" data-toc-modified-id=\"11-7.11\"><span class=\"toc-item-num\">7.11&nbsp;&nbsp;</span>11</a></span></li></ul></li></ul></div>"
   ]
  },
  {
   "cell_type": "markdown",
   "id": "ac508c14",
   "metadata": {},
   "source": [
    "# Строковый тип данных"
   ]
  },
  {
   "cell_type": "markdown",
   "id": "a367f8a1",
   "metadata": {},
   "source": [
    "## Индексация"
   ]
  },
  {
   "cell_type": "markdown",
   "id": "29dba2ee",
   "metadata": {},
   "source": [
    "**Примеры**"
   ]
  },
  {
   "cell_type": "code",
   "execution_count": 40,
   "id": "c859f948",
   "metadata": {},
   "outputs": [
    {
     "name": "stdout",
     "output_type": "stream",
     "text": [
      "❤️\n"
     ]
    }
   ],
   "source": [
    "s = 'All you need is love'\n",
    "if 'love' in s:\n",
    "    print('❤️')\n",
    "else:\n",
    "    print('💔')"
   ]
  },
  {
   "cell_type": "code",
   "execution_count": 41,
   "id": "39eb64f3",
   "metadata": {},
   "outputs": [
    {
     "data": {
      "text/plain": [
       "'A7B'"
      ]
     },
     "execution_count": 41,
     "metadata": {},
     "output_type": "execute_result"
    }
   ],
   "source": [
    "'A' + '7' + 'B'"
   ]
  },
  {
   "cell_type": "code",
   "execution_count": 42,
   "id": "e713e851",
   "metadata": {},
   "outputs": [
    {
     "data": {
      "text/plain": [
       "'HiHiHiHi'"
      ]
     },
     "execution_count": 42,
     "metadata": {},
     "output_type": "execute_result"
    }
   ],
   "source": [
    "'Hi'* 4"
   ]
  },
  {
   "cell_type": "markdown",
   "id": "07a51a6c",
   "metadata": {},
   "source": [
    "<img src=\"https://ucarecdn.com/5c246d29-0ccb-4045-94dd-775f4483edd3/\" width=\"300\" height=\"300\">"
   ]
  },
  {
   "cell_type": "code",
   "execution_count": 44,
   "id": "7e0ff4ca",
   "metadata": {},
   "outputs": [
    {
     "name": "stdout",
     "output_type": "stream",
     "text": [
      "a\n",
      "b\n",
      "c\n",
      "d\n",
      "e\n",
      "f\n"
     ]
    }
   ],
   "source": [
    "s = 'abcdef'\n",
    "for i in range(len(s)):\n",
    "    print(s[i])"
   ]
  },
  {
   "cell_type": "code",
   "execution_count": 46,
   "id": "a19fc3ca",
   "metadata": {},
   "outputs": [
    {
     "name": "stdout",
     "output_type": "stream",
     "text": [
      "aaagggdddd\n"
     ]
    }
   ],
   "source": [
    "s = 'abcdefg'\n",
    "print(s[0]*3 + s[-1]*3 + s[3]*2 + s[3]*2)"
   ]
  },
  {
   "cell_type": "code",
   "execution_count": 47,
   "id": "1c95a8da",
   "metadata": {},
   "outputs": [
    {
     "name": "stdout",
     "output_type": "stream",
     "text": [
      "051217"
     ]
    }
   ],
   "source": [
    "s = '01234567891011121314151617'\n",
    "for i in range(0, len(s), 5):\n",
    "    print(s[i], end='')"
   ]
  },
  {
   "cell_type": "markdown",
   "id": "4d2a74e3",
   "metadata": {},
   "source": [
    "### 1"
   ]
  },
  {
   "cell_type": "markdown",
   "id": "5b42e9cc",
   "metadata": {},
   "source": [
    "Дополните приведенный код, используя индексатор, так чтобы он вывел символ запятой."
   ]
  },
  {
   "cell_type": "code",
   "execution_count": 48,
   "id": "544c3dcd",
   "metadata": {},
   "outputs": [
    {
     "name": "stdout",
     "output_type": "stream",
     "text": [
      ",\n"
     ]
    }
   ],
   "source": [
    "s = \"In 2010, someone paid 10k Bitcoin for two pizzas.\"\n",
    "\n",
    "print(s[7])"
   ]
  },
  {
   "cell_type": "markdown",
   "id": "0e7c6249",
   "metadata": {},
   "source": [
    "### 2"
   ]
  },
  {
   "cell_type": "markdown",
   "id": "c746064c",
   "metadata": {},
   "source": [
    "Дополните приведенный код, используя индексатор, так чтобы он вывел символ `w`."
   ]
  },
  {
   "cell_type": "code",
   "execution_count": 49,
   "id": "86e42ddc",
   "metadata": {},
   "outputs": [
    {
     "name": "stdout",
     "output_type": "stream",
     "text": [
      "w\n"
     ]
    }
   ],
   "source": [
    "s = \"In 2010, someone paid 10k Bitcoin for two pizzas.\"\n",
    "\n",
    "print(s[-10])"
   ]
  },
  {
   "cell_type": "markdown",
   "id": "ef63de24",
   "metadata": {},
   "source": [
    "### 3"
   ]
  },
  {
   "cell_type": "markdown",
   "id": "b0dfc5e1",
   "metadata": {},
   "source": [
    "На вход программе подается одна строка. Напишите программу, которая выводит элементы строки с индексами `0, 2, 4, ...` в столбик."
   ]
  },
  {
   "cell_type": "code",
   "execution_count": 51,
   "id": "695b30b1",
   "metadata": {},
   "outputs": [
    {
     "name": "stdout",
     "output_type": "stream",
     "text": [
      "abcdefghijklmnop\n",
      "a\n",
      "c\n",
      "e\n",
      "g\n",
      "i\n",
      "k\n",
      "m\n",
      "o\n"
     ]
    }
   ],
   "source": [
    "s = input()\n",
    "for i in range(0, len(s), 2):\n",
    "    print(s[i])"
   ]
  },
  {
   "cell_type": "markdown",
   "id": "db2ea52d",
   "metadata": {},
   "source": [
    "### 4"
   ]
  },
  {
   "cell_type": "markdown",
   "id": "95b8a085",
   "metadata": {},
   "source": [
    "На вход программе подается одна строка. Напишите программу, которая выводит в столбик элементы строки в обратном порядке."
   ]
  },
  {
   "cell_type": "code",
   "execution_count": 56,
   "id": "4bc4c3dd",
   "metadata": {},
   "outputs": [
    {
     "name": "stdout",
     "output_type": "stream",
     "text": [
      "abc\n",
      "c\n",
      "b\n",
      "a\n"
     ]
    }
   ],
   "source": [
    "s = input()\n",
    "for i in range(-1, -len(s) - 1, -1):\n",
    "    print(s[i])"
   ]
  },
  {
   "cell_type": "markdown",
   "id": "6877b6a6",
   "metadata": {},
   "source": [
    "### 5"
   ]
  },
  {
   "cell_type": "markdown",
   "id": "82bd62d9",
   "metadata": {},
   "source": [
    "На вход программе подаются три строки: имя, фамилия и отчество. Напишите программу, которая выводит инициалы человека."
   ]
  },
  {
   "cell_type": "code",
   "execution_count": 58,
   "id": "8f85fad6",
   "metadata": {},
   "outputs": [
    {
     "name": "stdout",
     "output_type": "stream",
     "text": [
      "Алина\n",
      "Ялышева\n",
      "Рашитовна\n",
      "ЯАР\n"
     ]
    }
   ],
   "source": [
    "first_name, last_name, patronymic = input(), input(), input()\n",
    "print(last_name[0] + first_name[0] + patronymic[0])"
   ]
  },
  {
   "cell_type": "markdown",
   "id": "72576490",
   "metadata": {},
   "source": [
    "### 6"
   ]
  },
  {
   "cell_type": "markdown",
   "id": "e1647e1f",
   "metadata": {},
   "source": [
    "На вход программе подается одна строка состоящая из цифр. Напишите программу, которая считает сумму цифр данной строки."
   ]
  },
  {
   "cell_type": "code",
   "execution_count": 64,
   "id": "361e6b4a",
   "metadata": {},
   "outputs": [
    {
     "name": "stdout",
     "output_type": "stream",
     "text": [
      "456\n",
      "15\n"
     ]
    }
   ],
   "source": [
    "digits = input()\n",
    "sum = 0\n",
    "for i in range(0, len(digits)):\n",
    "    sum += int(digits[i])\n",
    "print(sum)"
   ]
  },
  {
   "cell_type": "markdown",
   "id": "32ebc0e8",
   "metadata": {},
   "source": [
    "### 7"
   ]
  },
  {
   "cell_type": "markdown",
   "id": "bdfbbb16",
   "metadata": {},
   "source": [
    "На вход программе подается одна строка. Напишите программу, которая выводит сообщение «Цифра» (без кавычек), если строка содержит цифру. В противном случае вывести сообщение «Цифр нет» (без кавычек)."
   ]
  },
  {
   "cell_type": "code",
   "execution_count": 68,
   "id": "5a8543ea",
   "metadata": {},
   "outputs": [
    {
     "name": "stdout",
     "output_type": "stream",
     "text": [
      "7jdis9\n",
      "Цифра\n"
     ]
    }
   ],
   "source": [
    "mystring = input()\n",
    "flag = 'Цифр нет'\n",
    "for i in range(0, len(mystring)):\n",
    "    if mystring[i] in '0123456789':\n",
    "        flag = 'Цифра'\n",
    "        break\n",
    "print(flag)"
   ]
  },
  {
   "cell_type": "markdown",
   "id": "7169e9bc",
   "metadata": {},
   "source": [
    "### 8"
   ]
  },
  {
   "cell_type": "markdown",
   "id": "448edaca",
   "metadata": {},
   "source": [
    "На вход программе подается одна строка. Напишите программу, которая определяет сколько раз в строке встречаются символы `+` и `*`."
   ]
  },
  {
   "cell_type": "code",
   "execution_count": 70,
   "id": "60afc24e",
   "metadata": {},
   "outputs": [
    {
     "name": "stdout",
     "output_type": "stream",
     "text": [
      "djsadf+fgf+***\n",
      "Символ + встречается 2 раз\n",
      "Символ * встречается 3 раз\n"
     ]
    }
   ],
   "source": [
    "mystr = input()\n",
    "count_plus, count_star = 0, 0\n",
    "for i in range(0, len(mystr)):\n",
    "    if mystr[i] in '+':\n",
    "        count_plus += 1\n",
    "    if mystr[i] in '*':\n",
    "        count_star += 1\n",
    "print(f\"Символ + встречается {count_plus} раз\")\n",
    "print(f\"Символ * встречается {count_star} раз\")"
   ]
  },
  {
   "cell_type": "markdown",
   "id": "dcc6a670",
   "metadata": {},
   "source": [
    "### 9"
   ]
  },
  {
   "cell_type": "markdown",
   "id": "8e04b1f5",
   "metadata": {},
   "source": [
    "На вход программе подается одна строка. Напишите программу, которая определяет сколько в ней одинаковых соседних символов."
   ]
  },
  {
   "cell_type": "code",
   "execution_count": 72,
   "id": "c6a2b2f9",
   "metadata": {},
   "outputs": [
    {
     "name": "stdout",
     "output_type": "stream",
     "text": [
      "aabbcc\n",
      "3\n"
     ]
    }
   ],
   "source": [
    "mystr = input()\n",
    "counter = 0\n",
    "for i in range(0, len(mystr) - 1):\n",
    "    if mystr[i] == mystr[i+1]:\n",
    "        counter += 1\n",
    "print(counter)"
   ]
  },
  {
   "cell_type": "markdown",
   "id": "ed47eb1a",
   "metadata": {},
   "source": [
    "### 10"
   ]
  },
  {
   "cell_type": "markdown",
   "id": "ae57b5aa",
   "metadata": {},
   "source": [
    "На вход программе подается одна строка с буквами русского языка. Напишите программу, которая определяет количество гласных и согласных букв.\n",
    "\n",
    "**Примечание.** В русском языке 10 гласных букв (а, у, о, ы, и, э, я, ю, ё, е) и 21 согласная буква (б, в, г, д, ж, з, й, к, л, м, н, п, р, с, т, ф, х, ц, ч, ш, щ)."
   ]
  },
  {
   "cell_type": "code",
   "execution_count": 74,
   "id": "0fe02f02",
   "metadata": {},
   "outputs": [
    {
     "name": "stdout",
     "output_type": "stream",
     "text": [
      "Вдохновение – это умение приводить себя в рабочее состояние!\n",
      "Количество гласных букв равно 25\n",
      "Количество согласных букв равно 24\n"
     ]
    }
   ],
   "source": [
    "mystr = input()\n",
    "vowels, consonants = 0, 0\n",
    "for i in range(0, len(mystr)):\n",
    "    if mystr[i] in 'ауоыиэяюёеАУОЫИЭЯЮЁЕ':\n",
    "        vowels += 1\n",
    "    elif mystr[i] in 'бвгджзйклмнпрстфхцчшщБВГДЖЗЙКЛМНПРСТФХЦЧШЩ':\n",
    "        consonants += 1\n",
    "print(f\"Количество гласных букв равно {vowels}\")\n",
    "print(f\"Количество согласных букв равно {consonants}\")"
   ]
  },
  {
   "cell_type": "markdown",
   "id": "ca5e4f64",
   "metadata": {},
   "source": [
    "### 11"
   ]
  },
  {
   "cell_type": "markdown",
   "id": "8d21d12c",
   "metadata": {},
   "source": [
    "На вход программе подается натуральное число, записанное в десятичной системе счисления. Напишите программу, которая переводит данное число в двоичную систему счисления."
   ]
  },
  {
   "cell_type": "code",
   "execution_count": 80,
   "id": "5b6f9d4f",
   "metadata": {},
   "outputs": [
    {
     "name": "stdout",
     "output_type": "stream",
     "text": [
      "19\n",
      "10011\n"
     ]
    }
   ],
   "source": [
    "number_10 = int(input())\n",
    "number_2 = ''\n",
    "result = number_10\n",
    "while result > 0:\n",
    "    number_2 = number_2 + str(result % 2)\n",
    "    result = result // 2\n",
    "print(number_2[::-1])"
   ]
  },
  {
   "cell_type": "markdown",
   "id": "3cff247e",
   "metadata": {},
   "source": [
    "## Срезы"
   ]
  },
  {
   "cell_type": "markdown",
   "id": "f047a60b",
   "metadata": {},
   "source": [
    "**Примеры**"
   ]
  },
  {
   "cell_type": "code",
   "execution_count": 81,
   "id": "d148803d",
   "metadata": {},
   "outputs": [],
   "source": [
    "s = 'abcdefghij'"
   ]
  },
  {
   "cell_type": "markdown",
   "id": "6e24f812",
   "metadata": {},
   "source": [
    "<img src=\"https://ucarecdn.com/2d3260a0-7b6f-4caa-a787-a984642d958c/\" width=\"400\" height=\"400\">"
   ]
  },
  {
   "cell_type": "code",
   "execution_count": 82,
   "id": "8b296b3e",
   "metadata": {},
   "outputs": [
    {
     "name": "stdout",
     "output_type": "stream",
     "text": [
      "cde\n",
      "abcdef\n",
      "cdefg\n"
     ]
    }
   ],
   "source": [
    "print(s[2:5])\n",
    "print(s[0:6])\n",
    "print(s[2:7])"
   ]
  },
  {
   "cell_type": "code",
   "execution_count": 83,
   "id": "c1b36393",
   "metadata": {},
   "outputs": [
    {
     "name": "stdout",
     "output_type": "stream",
     "text": [
      "cdefghij\n",
      "abcdefg\n"
     ]
    }
   ],
   "source": [
    "print(s[2:])\n",
    "print(s[:7])"
   ]
  },
  {
   "cell_type": "code",
   "execution_count": 84,
   "id": "e4072354",
   "metadata": {},
   "outputs": [
    {
     "name": "stdout",
     "output_type": "stream",
     "text": [
      "bcdef\n",
      "hij\n",
      "abcdefg\n"
     ]
    }
   ],
   "source": [
    "print(s[-9:-4])\n",
    "print(s[-3:])\n",
    "print(s[:-3])"
   ]
  },
  {
   "cell_type": "code",
   "execution_count": 85,
   "id": "0e3970a5",
   "metadata": {},
   "outputs": [
    {
     "name": "stdout",
     "output_type": "stream",
     "text": [
      "jihgfedcba\n"
     ]
    }
   ],
   "source": [
    "print(s[::-1])"
   ]
  },
  {
   "cell_type": "code",
   "execution_count": 86,
   "id": "7abfbcdf",
   "metadata": {},
   "outputs": [
    {
     "name": "stdout",
     "output_type": "stream",
     "text": [
      "bdf\n",
      "dfhj\n",
      "adg\n",
      "acegi\n",
      "jihgfedcba\n",
      "jhfdb\n"
     ]
    }
   ],
   "source": [
    "print(s[1:7:2])\n",
    "print(s[3::2])\n",
    "print(s[:7:3])\n",
    "print(s[::2])\n",
    "print(s[::-1])\n",
    "print(s[::-2])"
   ]
  },
  {
   "cell_type": "markdown",
   "id": "18718288",
   "metadata": {},
   "source": [
    "Если мы хотим поменять какой-либо символ строки `s`, мы должны создать новую строку. Следующий код использует срезы и решает поставленную задачу:"
   ]
  },
  {
   "cell_type": "code",
   "execution_count": null,
   "id": "0f2060b5",
   "metadata": {},
   "outputs": [],
   "source": [
    "s = s[:4] + 'X' + s[5:]"
   ]
  },
  {
   "cell_type": "markdown",
   "id": "13a3d440",
   "metadata": {},
   "source": [
    "### 1"
   ]
  },
  {
   "cell_type": "markdown",
   "id": "1d9281e7",
   "metadata": {},
   "source": [
    "Дополните приведенный код, используя срезы, так чтобы он вывел первые 12 символов строки `s`."
   ]
  },
  {
   "cell_type": "code",
   "execution_count": 90,
   "id": "45181bff",
   "metadata": {},
   "outputs": [
    {
     "name": "stdout",
     "output_type": "stream",
     "text": [
      "In 2010, som\n"
     ]
    }
   ],
   "source": [
    "s = \"In 2010, someone paid 10k Bitcoin for two pizzas.\"\n",
    "print(s[:12])"
   ]
  },
  {
   "cell_type": "markdown",
   "id": "8d06e7b3",
   "metadata": {},
   "source": [
    "### 2"
   ]
  },
  {
   "cell_type": "markdown",
   "id": "99886ded",
   "metadata": {},
   "source": [
    "Дополните приведенный код, используя срезы, так чтобы он вывел последние 9 символов строки `s`."
   ]
  },
  {
   "cell_type": "code",
   "execution_count": 96,
   "id": "4a1cfde9",
   "metadata": {},
   "outputs": [
    {
     "name": "stdout",
     "output_type": "stream",
     "text": [
      "o pizzas.\n"
     ]
    }
   ],
   "source": [
    "s = \"In 2010, someone paid 10k Bitcoin for two pizzas.\"\n",
    "print(s[-9:])"
   ]
  },
  {
   "cell_type": "markdown",
   "id": "62b5d5d7",
   "metadata": {},
   "source": [
    "### 3"
   ]
  },
  {
   "cell_type": "markdown",
   "id": "41154c56",
   "metadata": {},
   "source": [
    "Дополните приведенный код, используя срезы, так чтобы он вывел каждый 7 символ строки `s` начиная от начала строки."
   ]
  },
  {
   "cell_type": "code",
   "execution_count": 97,
   "id": "43b9daee",
   "metadata": {},
   "outputs": [
    {
     "name": "stdout",
     "output_type": "stream",
     "text": [
      "I,n top\n"
     ]
    }
   ],
   "source": [
    "s = \"In 2010, someone paid 10k Bitcoin for two pizzas.\"\n",
    "print(s[::7])"
   ]
  },
  {
   "cell_type": "markdown",
   "id": "286727f8",
   "metadata": {},
   "source": [
    "### 4"
   ]
  },
  {
   "cell_type": "markdown",
   "id": "403a5c63",
   "metadata": {},
   "source": [
    "Дополните приведенный код, используя срезы, так чтобы он вывел строку `s` в обратном порядке."
   ]
  },
  {
   "cell_type": "code",
   "execution_count": 98,
   "id": "c935121c",
   "metadata": {},
   "outputs": [
    {
     "name": "stdout",
     "output_type": "stream",
     "text": [
      ".sazzip owt rof nioctiB k01 diap enoemos ,0102 nI\n"
     ]
    }
   ],
   "source": [
    "s = \"In 2010, someone paid 10k Bitcoin for two pizzas.\"\n",
    "print(s[::-1])"
   ]
  },
  {
   "cell_type": "markdown",
   "id": "6e89f0ab",
   "metadata": {},
   "source": [
    "### 5"
   ]
  },
  {
   "cell_type": "markdown",
   "id": "1e438646",
   "metadata": {},
   "source": [
    "На вход программе подается одно слово, записанное в нижнем регистре. Напишите программу, которая определяет является ли оно палиндромом."
   ]
  },
  {
   "cell_type": "code",
   "execution_count": 99,
   "id": "7898d44c",
   "metadata": {},
   "outputs": [
    {
     "name": "stdout",
     "output_type": "stream",
     "text": [
      "потоп\n",
      "YES\n"
     ]
    }
   ],
   "source": [
    "word = input()\n",
    "if word == word[::-1]:\n",
    "    print('YES')\n",
    "else:\n",
    "    print('NO')"
   ]
  },
  {
   "cell_type": "markdown",
   "id": "e3cfd548",
   "metadata": {},
   "source": [
    "### 6"
   ]
  },
  {
   "cell_type": "markdown",
   "id": "059f21e0",
   "metadata": {},
   "source": [
    "На вход программе подается одна строка. Напишите программу, которая выводит:\n",
    "\n",
    "1. общее количество символов в строке;\n",
    "2. исходную строку повторенную 3 раза;\n",
    "3. первый символ строки;\n",
    "4. первые три символа строки;\n",
    "5. последние три символа строки;\n",
    "6. строку в обратном порядке;\n",
    "7. строку с удаленным первым и последним символом."
   ]
  },
  {
   "cell_type": "code",
   "execution_count": 104,
   "id": "db062426",
   "metadata": {},
   "outputs": [
    {
     "name": "stdout",
     "output_type": "stream",
     "text": [
      "abcdefghijklmnopqrstuvwxyz\n",
      "26\n",
      "abcdefghijklmnopqrstuvwxyzabcdefghijklmnopqrstuvwxyzabcdefghijklmnopqrstuvwxyz\n",
      "a\n",
      "abc\n",
      "xyz\n",
      "zyxwvutsrqponmlkjihgfedcba\n",
      "bcdefghijklmnopqrstuvwxy\n"
     ]
    }
   ],
   "source": [
    "mystr = input()\n",
    "print(len(mystr),\n",
    "      mystr * 3,\n",
    "      mystr[0],\n",
    "      mystr[:3],\n",
    "      mystr[-3:],\n",
    "      mystr[::-1],\n",
    "      mystr[1:-1],\n",
    "      sep='\\n')"
   ]
  },
  {
   "cell_type": "markdown",
   "id": "8a96764b",
   "metadata": {},
   "source": [
    "### 7"
   ]
  },
  {
   "cell_type": "markdown",
   "id": "75810c73",
   "metadata": {},
   "source": [
    "На вход программе подается одна строка. Напишите программу, которая выводит:\n",
    "\n",
    "1. третий символ этой строки;\n",
    "2. предпоследний символ этой строки;\n",
    "3. первые пять символов этой строки;\n",
    "4. всю строку, кроме последних двух символов;\n",
    "5. все символы с четными индексами;\n",
    "6. все символы с нечетными индексами;\n",
    "7. все символы в обратном порядке;\n",
    "8. все символы строки через один в обратном порядке, начиная с последнего."
   ]
  },
  {
   "cell_type": "code",
   "execution_count": 110,
   "id": "2b089741",
   "metadata": {},
   "outputs": [
    {
     "name": "stdout",
     "output_type": "stream",
     "text": [
      "abcdefghijklmnopqrstuvwxyz\n",
      "c\n",
      "y\n",
      "abcde\n",
      "abcdefghijklmnopqrstuvwx\n",
      "acegikmoqsuwy\n",
      "bdfhjlnprtvxz\n",
      "zyxwvutsrqponmlkjihgfedcba\n",
      "zxvtrpnljhfdb\n"
     ]
    }
   ],
   "source": [
    "mystr = input()\n",
    "print(mystr[2],\n",
    "      mystr[-2],\n",
    "      mystr[:5],\n",
    "      mystr[:-2],\n",
    "      mystr[::2],\n",
    "      mystr[1::2],\n",
    "      mystr[::-1],\n",
    "      mystr[::-2],\n",
    "      sep='\\n')"
   ]
  },
  {
   "cell_type": "markdown",
   "id": "888d5d1d",
   "metadata": {},
   "source": [
    "### 8"
   ]
  },
  {
   "cell_type": "markdown",
   "id": "0f524210",
   "metadata": {},
   "source": [
    "На вход программе подается строка текста. Напишите программу, которая разрежет ее на две равные части, переставит их местами и выведет на экран.\n",
    "\n",
    "**Примечание.** Если длина строки нечетная, то длина первой части должна быть на один символ больше."
   ]
  },
  {
   "cell_type": "code",
   "execution_count": 125,
   "id": "37e9849b",
   "metadata": {},
   "outputs": [
    {
     "name": "stdout",
     "output_type": "stream",
     "text": [
      "abcdef\n",
      "defabc\n"
     ]
    }
   ],
   "source": [
    "mystr = input()\n",
    "middle = int(len(mystr)) // 2\n",
    "if int(len(mystr)) % 2 == 0:\n",
    "    print(mystr[middle:] + mystr[:middle])\n",
    "else:\n",
    "    print(mystr[middle+1:] + mystr[:middle+1])"
   ]
  },
  {
   "cell_type": "markdown",
   "id": "be8ec806",
   "metadata": {},
   "source": [
    "## Методы строк. Часть 1"
   ]
  },
  {
   "cell_type": "markdown",
   "id": "e8808ebd",
   "metadata": {},
   "source": [
    "**Примеры**"
   ]
  },
  {
   "cell_type": "code",
   "execution_count": 126,
   "id": "f558f6c7",
   "metadata": {},
   "outputs": [
    {
     "name": "stdout",
     "output_type": "stream",
     "text": [
      "Foo bar baz qux\n"
     ]
    }
   ],
   "source": [
    "s = 'foO BaR BAZ quX'\n",
    "print(s.capitalize())"
   ]
  },
  {
   "cell_type": "code",
   "execution_count": 128,
   "id": "70356185",
   "metadata": {},
   "outputs": [
    {
     "data": {
      "text/plain": [
       "1"
      ]
     },
     "execution_count": 128,
     "metadata": {},
     "output_type": "execute_result"
    }
   ],
   "source": [
    "s = 'yes'\n",
    "s.find('e')"
   ]
  },
  {
   "cell_type": "code",
   "execution_count": 129,
   "id": "e002f368",
   "metadata": {},
   "outputs": [
    {
     "name": "stdout",
     "output_type": "stream",
     "text": [
      "foo bAR 123 BAZ Qux\n"
     ]
    }
   ],
   "source": [
    "s = 'FOO Bar 123 baz qUX'\n",
    "print(s.swapcase())"
   ]
  },
  {
   "cell_type": "code",
   "execution_count": 130,
   "id": "1662ee9f",
   "metadata": {},
   "outputs": [
    {
     "name": "stdout",
     "output_type": "stream",
     "text": [
      "The Sun Also Rises\n"
     ]
    }
   ],
   "source": [
    "s = 'the sun also rises'\n",
    "print(s.title())"
   ]
  },
  {
   "cell_type": "code",
   "execution_count": 131,
   "id": "bd370b0c",
   "metadata": {},
   "outputs": [
    {
     "name": "stdout",
     "output_type": "stream",
     "text": [
      "foo bar 123 baz qux\n"
     ]
    }
   ],
   "source": [
    "s = 'FOO Bar 123 baz qUX'\n",
    "print(s.lower())"
   ]
  },
  {
   "cell_type": "code",
   "execution_count": 132,
   "id": "f9d5052a",
   "metadata": {},
   "outputs": [
    {
     "name": "stdout",
     "output_type": "stream",
     "text": [
      "FOO BAR 123 BAZ QUX\n"
     ]
    }
   ],
   "source": [
    "s = 'FOO Bar 123 baz qUX'\n",
    "print(s.upper())"
   ]
  },
  {
   "cell_type": "markdown",
   "id": "e347d7c1",
   "metadata": {},
   "source": [
    "### 1"
   ]
  },
  {
   "cell_type": "markdown",
   "id": "6372d9c4",
   "metadata": {},
   "source": [
    "На вход программе подается строка состоящая из имени и фамилии человека, разделенных одним пробелом. Напишите программу, которая проверяет, что имя и фамилия начинаются с заглавной буквы."
   ]
  },
  {
   "cell_type": "code",
   "execution_count": 142,
   "id": "7f42f9be",
   "metadata": {},
   "outputs": [
    {
     "name": "stdout",
     "output_type": "stream",
     "text": [
      "Grace Kelly\n",
      "YES\n"
     ]
    }
   ],
   "source": [
    "s = input()\n",
    "space = s.find(' ')\n",
    "if s[0:space].capitalize() == s[0:space] and s[space+1:].capitalize() == s[space+1:]:\n",
    "    print('YES')\n",
    "else:\n",
    "    print('NO')"
   ]
  },
  {
   "cell_type": "code",
   "execution_count": 143,
   "id": "1375afcf",
   "metadata": {},
   "outputs": [
    {
     "name": "stdout",
     "output_type": "stream",
     "text": [
      "Grace Kelly\n",
      "YES\n"
     ]
    }
   ],
   "source": [
    "a = input()\n",
    "print('YES' if (a==a.title()) else 'NO')"
   ]
  },
  {
   "cell_type": "markdown",
   "id": "15b2134f",
   "metadata": {},
   "source": [
    "### 2"
   ]
  },
  {
   "cell_type": "markdown",
   "id": "3597442e",
   "metadata": {},
   "source": [
    "На вход программе подается строка. Напишите программу, которая меняет регистр символов, другими словами замените все строчные символы заглавными и наоборот."
   ]
  },
  {
   "cell_type": "code",
   "execution_count": 144,
   "id": "7c799fc1",
   "metadata": {},
   "outputs": [
    {
     "name": "stdout",
     "output_type": "stream",
     "text": [
      "JkkkkdDII\n",
      "jKKKKDdii\n"
     ]
    }
   ],
   "source": [
    "s = input()\n",
    "print(s.swapcase())"
   ]
  },
  {
   "cell_type": "markdown",
   "id": "0f29bcb6",
   "metadata": {},
   "source": [
    "### 3"
   ]
  },
  {
   "cell_type": "markdown",
   "id": "d1fff301",
   "metadata": {},
   "source": [
    "На вход программе подается строка текста. Напишите программу, которая определяет является ли оттенок текста хорошим или нет. Текст имеет хороший оттенок, если содержит подстроку «хорош» во всевозможных регистрах."
   ]
  },
  {
   "cell_type": "code",
   "execution_count": 148,
   "id": "8a3b8719",
   "metadata": {},
   "outputs": [
    {
     "name": "stdout",
     "output_type": "stream",
     "text": [
      "я очень хороший текст\n",
      "YES\n"
     ]
    }
   ],
   "source": [
    "s = input()\n",
    "print('YES' if 'хорош' in s.lower() else 'NO')"
   ]
  },
  {
   "cell_type": "markdown",
   "id": "da3b77d3",
   "metadata": {},
   "source": [
    "### 4"
   ]
  },
  {
   "cell_type": "markdown",
   "id": "35d7efa1",
   "metadata": {},
   "source": [
    "На вход программе подается строка. Напишите программу, которая подсчитывает количество буквенных символов в нижнем регистре."
   ]
  },
  {
   "cell_type": "code",
   "execution_count": 149,
   "id": "86b1d4dc",
   "metadata": {},
   "outputs": [
    {
     "name": "stdout",
     "output_type": "stream",
     "text": [
      "2376423745dhdhdPPPP\n",
      "5\n"
     ]
    }
   ],
   "source": [
    "s = input()\n",
    "counter = 0\n",
    "for i in range(0, len(s)):\n",
    "    if s[i] in 'abcdefghijklmnopqrstuvwxyz':\n",
    "        counter += 1\n",
    "print(counter)"
   ]
  },
  {
   "cell_type": "code",
   "execution_count": 150,
   "id": "5da88a27",
   "metadata": {},
   "outputs": [
    {
     "name": "stdout",
     "output_type": "stream",
     "text": [
      "dfdfdfKKISDJ\n",
      "6\n"
     ]
    }
   ],
   "source": [
    "s, counter = input(), 0\n",
    "for i in s:\n",
    "    if i != i.upper():  # условие выполняется только для букв в нижнем регистре\n",
    "        counter += 1\n",
    "print(counter)"
   ]
  },
  {
   "cell_type": "markdown",
   "id": "c75a6e73",
   "metadata": {},
   "source": [
    "## Методы строк. Часть 2"
   ]
  },
  {
   "cell_type": "markdown",
   "id": "7c4b92d0",
   "metadata": {},
   "source": [
    "**Примеры**"
   ]
  },
  {
   "cell_type": "code",
   "execution_count": 151,
   "id": "41a5833e",
   "metadata": {},
   "outputs": [
    {
     "name": "stdout",
     "output_type": "stream",
     "text": [
      "3\n",
      "2\n"
     ]
    }
   ],
   "source": [
    "s = 'foo goo moo'\n",
    "print(s.count('oo'))\n",
    "print(s.count('oo', 0, 8))  # подсчет с 0 по 7 символ"
   ]
  },
  {
   "cell_type": "code",
   "execution_count": 152,
   "id": "4638624f",
   "metadata": {},
   "outputs": [
    {
     "name": "stdout",
     "output_type": "stream",
     "text": [
      "True\n",
      "False\n"
     ]
    }
   ],
   "source": [
    "s = 'foobar'\n",
    "print(s.startswith('foo'))\n",
    "print(s.startswith('baz'))"
   ]
  },
  {
   "cell_type": "code",
   "execution_count": 153,
   "id": "09ab8e18",
   "metadata": {},
   "outputs": [
    {
     "name": "stdout",
     "output_type": "stream",
     "text": [
      "True\n",
      "False\n"
     ]
    }
   ],
   "source": [
    "s = 'foobar'\n",
    "print(s.endswith('bar'))\n",
    "print(s.endswith('baz'))"
   ]
  },
  {
   "cell_type": "code",
   "execution_count": 154,
   "id": "d880a5e3",
   "metadata": {},
   "outputs": [
    {
     "name": "stdout",
     "output_type": "stream",
     "text": [
      "0\n",
      "4\n",
      "20\n",
      "-1\n"
     ]
    }
   ],
   "source": [
    "s = 'foo bar foo baz foo qux'\n",
    "print(s.find('foo'))\n",
    "print(s.find('bar'))\n",
    "print(s.find('qu'))\n",
    "print(s.find('python'))"
   ]
  },
  {
   "cell_type": "code",
   "execution_count": 155,
   "id": "b9e4aef8",
   "metadata": {},
   "outputs": [
    {
     "name": "stdout",
     "output_type": "stream",
     "text": [
      "foo bar foo baz foo qux\n"
     ]
    }
   ],
   "source": [
    "s = '     foo bar foo baz foo qux      '\n",
    "print(s.strip())"
   ]
  },
  {
   "cell_type": "code",
   "execution_count": 156,
   "id": "f7931351",
   "metadata": {},
   "outputs": [
    {
     "name": "stdout",
     "output_type": "stream",
     "text": [
      "foo bar foo baz foo qux      \n"
     ]
    }
   ],
   "source": [
    "s = '     foo bar foo baz foo qux      '\n",
    "print(s.lstrip())"
   ]
  },
  {
   "cell_type": "code",
   "execution_count": 157,
   "id": "f9133cec",
   "metadata": {},
   "outputs": [
    {
     "name": "stdout",
     "output_type": "stream",
     "text": [
      "      foo bar foo baz foo qux\n"
     ]
    }
   ],
   "source": [
    "s = '      foo bar foo baz foo qux      '\n",
    "print(s.rstrip())"
   ]
  },
  {
   "cell_type": "code",
   "execution_count": 158,
   "id": "df923f98",
   "metadata": {},
   "outputs": [
    {
     "name": "stdout",
     "output_type": "stream",
     "text": [
      "grault bar grault baz grault qux\n"
     ]
    }
   ],
   "source": [
    "s = 'foo bar foo baz foo qux'\n",
    "print(s.replace('foo', 'grault'))"
   ]
  },
  {
   "cell_type": "code",
   "execution_count": 159,
   "id": "5ca828ca",
   "metadata": {},
   "outputs": [
    {
     "name": "stdout",
     "output_type": "stream",
     "text": [
      "grault bar grault baz foo qux\n"
     ]
    }
   ],
   "source": [
    "s = 'foo bar foo baz foo qux'\n",
    "print(s.replace('foo', 'grault', 2)) # количество замен"
   ]
  },
  {
   "cell_type": "markdown",
   "id": "8f6526b0",
   "metadata": {},
   "source": [
    "### 1"
   ]
  },
  {
   "cell_type": "markdown",
   "id": "04ac5a75",
   "metadata": {},
   "source": [
    "На вход программе подается строка текста, состоящая из слов, разделенных ровно одним пробелом. Напишите программу, которая подсчитывает количество слов в ней."
   ]
  },
  {
   "cell_type": "code",
   "execution_count": 165,
   "id": "38d705bf",
   "metadata": {},
   "outputs": [
    {
     "name": "stdout",
     "output_type": "stream",
     "text": [
      "In 2010, someone paid 10k Bitcoin for two pizzas.\n",
      "9\n"
     ]
    }
   ],
   "source": [
    "s = input()\n",
    "print(s.count(' ') + 1)"
   ]
  },
  {
   "cell_type": "markdown",
   "id": "c3432ac2",
   "metadata": {},
   "source": [
    "### 2"
   ]
  },
  {
   "cell_type": "markdown",
   "id": "f8f911d2",
   "metadata": {},
   "source": [
    "На вход программе подается строка генетического кода, состоящая из букв А (аденин), Г (гуанин), Ц (цитозин), Т (тимин). Напишите программу, которая подсчитывает сколько аденина, гуанина, цитозина и тимина входит в данную строку генетического кода."
   ]
  },
  {
   "cell_type": "code",
   "execution_count": 172,
   "id": "245bf489",
   "metadata": {},
   "outputs": [
    {
     "name": "stdout",
     "output_type": "stream",
     "text": [
      "АааГГЦЦцТТттт\n",
      "Аденин: 3\n",
      "Гуанин: 2\n",
      "Цитозин: 3\n",
      "Тимин: 5\n"
     ]
    }
   ],
   "source": [
    "gene = input()\n",
    "print(f\"Аденин: {gene.lower().count('а')}\",\n",
    "      f\"Гуанин: {gene.lower().count('г')}\",\n",
    "      f\"Цитозин: {gene.lower().count('ц')}\",\n",
    "      f\"Тимин: {gene.lower().count('т')}\",\n",
    "      sep='\\n')"
   ]
  },
  {
   "cell_type": "code",
   "execution_count": 173,
   "id": "1be54fc5",
   "metadata": {},
   "outputs": [
    {
     "name": "stdout",
     "output_type": "stream",
     "text": [
      "АааГГЦЦцТТттт\n",
      "Аденин: 3\n",
      "Гуанин: 2\n",
      "Цитозин: 3\n",
      "Тимин: 5\n"
     ]
    }
   ],
   "source": [
    "s = input().lower()\n",
    "print('Аденин:', s.count('а'))\n",
    "print('Гуанин:', s.count('г'))\n",
    "print('Цитозин:', s.count('ц'))\n",
    "print('Тимин:', s.count('т'))"
   ]
  },
  {
   "cell_type": "markdown",
   "id": "a96a8d00",
   "metadata": {},
   "source": [
    "### 3"
   ]
  },
  {
   "cell_type": "markdown",
   "id": "e7e0058d",
   "metadata": {},
   "source": [
    "Джим Хоппер с помощью радиоприемника пытается получить сообщение Оди. На приемник ему поступает $n$ различных последовательностей кода Морзе. Декодировав их, он получает последовательности из цифр и строчного латинского алфавита, при этом во всех сообщениях Оди содержится число 11, причем минимум 3 раза. Помогите определить Джиму количество сообщений от Оди.\n",
    "\n",
    "**Примечание:** Числа 11 необязательно должны быть разделены другими символами, нужно подсчитать вхождение последовательности символов \"11\", т.е. например в строке \"111\" содержится одна такая последовательность, в то время как в \"1111\" их уже две."
   ]
  },
  {
   "cell_type": "code",
   "execution_count": 174,
   "id": "7b0728c5",
   "metadata": {},
   "outputs": [
    {
     "name": "stdout",
     "output_type": "stream",
     "text": [
      "3\n",
      "11helpme11jim11\n",
      "avengers141414atta11ck\n",
      "k1lg0re11111l\n",
      "1\n"
     ]
    }
   ],
   "source": [
    "n, counter = int(input()), 0\n",
    "for message in range(n):\n",
    "    x = input()\n",
    "    if x.count('11') >= 3:\n",
    "        counter += 1\n",
    "print(counter)"
   ]
  },
  {
   "cell_type": "markdown",
   "id": "7b7124f6",
   "metadata": {},
   "source": [
    "### 4"
   ]
  },
  {
   "cell_type": "markdown",
   "id": "53f7590c",
   "metadata": {},
   "source": [
    "На вход программе подается строка текста. Напишите программу, которая подсчитывает количество цифр в данной строке."
   ]
  },
  {
   "cell_type": "code",
   "execution_count": 175,
   "id": "4e824d0a",
   "metadata": {},
   "outputs": [
    {
     "name": "stdout",
     "output_type": "stream",
     "text": [
      "l33t 3301\n",
      "6\n"
     ]
    }
   ],
   "source": [
    "s = input()\n",
    "counter = 0\n",
    "for i in range(0, len(s)):\n",
    "    if s[i].isdigit() == True:\n",
    "        counter += 1\n",
    "print(counter)"
   ]
  },
  {
   "cell_type": "markdown",
   "id": "a9ef3b86",
   "metadata": {},
   "source": [
    "### 5"
   ]
  },
  {
   "cell_type": "markdown",
   "id": "98f2c08e",
   "metadata": {},
   "source": [
    "На вход программе подается строка текста. Напишите программу, которая проверяет, что строка заканчивается подстрокой `.com` или `.ru`."
   ]
  },
  {
   "cell_type": "code",
   "execution_count": 177,
   "id": "9e13879b",
   "metadata": {},
   "outputs": [
    {
     "name": "stdout",
     "output_type": "stream",
     "text": [
      "www.google.com\n",
      "YES\n"
     ]
    }
   ],
   "source": [
    "s = input()\n",
    "print('YES' if s.endswith('.com') or s.endswith('.ru') else 'NO')"
   ]
  },
  {
   "cell_type": "markdown",
   "id": "057c07e6",
   "metadata": {},
   "source": [
    "### 6"
   ]
  },
  {
   "cell_type": "markdown",
   "id": "9cc52094",
   "metadata": {},
   "source": [
    "На вход программе подается строка текста. Напишите программу, которая выводит на экран символ, который появляется наиболее часто.\n",
    "\n",
    "**Примечание 1.** Если таких символов несколько, следует вывести последний по порядку символ.\n",
    "\n",
    "**Примечание 2.** Следует различать заглавные и строчные буквы, а также буквы русского и английского алфавита."
   ]
  },
  {
   "cell_type": "code",
   "execution_count": 187,
   "id": "c1741d82",
   "metadata": {},
   "outputs": [
    {
     "name": "stdout",
     "output_type": "stream",
     "text": [
      "abaabbcccc\n",
      "c\n"
     ]
    }
   ],
   "source": [
    "s = input()\n",
    "max, ch = 0, '?'\n",
    "for i in range(0, len(s)):\n",
    "    if s.count(s[i]) >= max:\n",
    "        max = s.count(s[i])\n",
    "        ch = s[i]\n",
    "print(ch)"
   ]
  },
  {
   "cell_type": "markdown",
   "id": "c2f8797a",
   "metadata": {},
   "source": [
    "### 7"
   ]
  },
  {
   "cell_type": "markdown",
   "id": "f55cb662",
   "metadata": {},
   "source": [
    "На вход программе подается строка текста. Если в этой строке буква «f» встречается только один раз, выведите её индекс. Если она встречается два и более раз, выведите индекс её первого и последнего вхождения на одной строке, разделенных символом пробела. Если буква «f» в данной строке не встречается, следует вывести «NO»."
   ]
  },
  {
   "cell_type": "code",
   "execution_count": 189,
   "id": "dd779620",
   "metadata": {},
   "outputs": [
    {
     "name": "stdout",
     "output_type": "stream",
     "text": [
      "abcdefgfhfabc\n",
      "5 9\n"
     ]
    }
   ],
   "source": [
    "s = input()\n",
    "if s.count('f') == 1:\n",
    "    print(s.find('f'))\n",
    "elif s.count('f') > 1:\n",
    "    print(s.find('f'), s.rfind('f'))\n",
    "else:\n",
    "    print('NO')"
   ]
  },
  {
   "cell_type": "markdown",
   "id": "32bfe732",
   "metadata": {},
   "source": [
    "### 8"
   ]
  },
  {
   "cell_type": "markdown",
   "id": "90b2ebfa",
   "metadata": {},
   "source": [
    "На вход программе подается строка текста, в которой буква «h» встречается минимум два раза. Напишите программу, которая удаляет из этой строки первое и последнее вхождение буквы «h», а также все символы, находящиеся между ними."
   ]
  },
  {
   "cell_type": "code",
   "execution_count": 190,
   "id": "cf606a89",
   "metadata": {},
   "outputs": [
    {
     "name": "stdout",
     "output_type": "stream",
     "text": [
      "ahahahahaha\n",
      "aa\n"
     ]
    }
   ],
   "source": [
    "s = input()\n",
    "lfind, rfind = s.find('h'), s.rfind('h')\n",
    "print(s[:lfind] + s[rfind + 1:])"
   ]
  },
  {
   "cell_type": "markdown",
   "id": "a73baa45",
   "metadata": {},
   "source": [
    "## Методы строк. Часть 3"
   ]
  },
  {
   "cell_type": "markdown",
   "id": "fe2e0425",
   "metadata": {},
   "source": [
    "**Примеры**"
   ]
  },
  {
   "cell_type": "code",
   "execution_count": 191,
   "id": "a3ad375c",
   "metadata": {},
   "outputs": [
    {
     "name": "stdout",
     "output_type": "stream",
     "text": [
      "True\n",
      "False\n",
      "False\n"
     ]
    }
   ],
   "source": [
    "s1 = 'abc123'\n",
    "s2 = 'abc$*123'\n",
    "s3 = ''\n",
    "\n",
    "print(s1.isalnum())\n",
    "print(s2.isalnum())\n",
    "print(s3.isalnum())"
   ]
  },
  {
   "cell_type": "code",
   "execution_count": 192,
   "id": "b35be5b2",
   "metadata": {},
   "outputs": [
    {
     "name": "stdout",
     "output_type": "stream",
     "text": [
      "True\n",
      "False\n",
      "False\n"
     ]
    }
   ],
   "source": [
    "s1 = 'ABCabc'\n",
    "s2 = 'abc123'\n",
    "s3 = ''\n",
    "\n",
    "print(s1.isalpha())\n",
    "print(s2.isalpha())\n",
    "print(s3.isalpha())"
   ]
  },
  {
   "cell_type": "code",
   "execution_count": 193,
   "id": "451cf9a8",
   "metadata": {},
   "outputs": [
    {
     "name": "stdout",
     "output_type": "stream",
     "text": [
      "True\n",
      "False\n",
      "False\n"
     ]
    }
   ],
   "source": [
    "s1 = '1234567'\n",
    "s2 = 'abc123'\n",
    "s3 = ''\n",
    "\n",
    "print(s1.isdigit())\n",
    "print(s2.isdigit())\n",
    "print(s3.isdigit())"
   ]
  },
  {
   "cell_type": "code",
   "execution_count": 194,
   "id": "b37db409",
   "metadata": {},
   "outputs": [
    {
     "name": "stdout",
     "output_type": "stream",
     "text": [
      "True\n",
      "True\n",
      "False\n"
     ]
    }
   ],
   "source": [
    "s1 = 'abc'\n",
    "s2 = 'abc1$d'\n",
    "s3 = 'Abc1$D'\n",
    "\n",
    "print(s1.islower())\n",
    "print(s2.islower())\n",
    "print(s3.islower())"
   ]
  },
  {
   "cell_type": "code",
   "execution_count": 195,
   "id": "0ba2610a",
   "metadata": {},
   "outputs": [
    {
     "name": "stdout",
     "output_type": "stream",
     "text": [
      "True\n",
      "True\n",
      "False\n"
     ]
    }
   ],
   "source": [
    "s1 = 'ABC'\n",
    "s2 = 'ABC1$D'\n",
    "s3 = 'Abc1$D'\n",
    "\n",
    "print(s1.isupper())\n",
    "print(s2.isupper())\n",
    "print(s3.isupper())"
   ]
  },
  {
   "cell_type": "code",
   "execution_count": 196,
   "id": "6248619c",
   "metadata": {},
   "outputs": [
    {
     "name": "stdout",
     "output_type": "stream",
     "text": [
      "True\n",
      "False\n"
     ]
    }
   ],
   "source": [
    "s1 = '       '\n",
    "s2 = 'abc1$d'\n",
    "\n",
    "print(s1.isspace())\n",
    "print(s2.isspace())"
   ]
  },
  {
   "cell_type": "markdown",
   "id": "5d402acd",
   "metadata": {},
   "source": [
    "**Форматирование строк**"
   ]
  },
  {
   "cell_type": "code",
   "execution_count": 197,
   "id": "bceaf232",
   "metadata": {},
   "outputs": [
    {
     "name": "stdout",
     "output_type": "stream",
     "text": [
      "My name is Timur, I am 27\n"
     ]
    }
   ],
   "source": [
    "age = 27\n",
    "txt = 'My name is Timur, I am {}'.format(age)\n",
    "print(txt)"
   ]
  },
  {
   "cell_type": "code",
   "execution_count": 198,
   "id": "321f9564",
   "metadata": {},
   "outputs": [
    {
     "name": "stdout",
     "output_type": "stream",
     "text": [
      "My name is Timur, I am 27, I work as a math teacher\n"
     ]
    }
   ],
   "source": [
    "age = 27\n",
    "name = 'Timur'\n",
    "profession = 'math teacher'\n",
    "txt = 'My name is {}, I am {}, I work as a {}'.format(name, age, profession)\n",
    "print(txt)"
   ]
  },
  {
   "cell_type": "code",
   "execution_count": 199,
   "id": "e7114790",
   "metadata": {},
   "outputs": [
    {
     "name": "stdout",
     "output_type": "stream",
     "text": [
      "My name is Timur, I am 27, I work as a math teacher\n"
     ]
    }
   ],
   "source": [
    "age = 27\n",
    "name = 'Timur'\n",
    "profession = 'math teacher'\n",
    "txt = 'My name is {0}, I am {1}, I work as a {2}'.format(name, age, profession)\n",
    "print(txt)"
   ]
  },
  {
   "cell_type": "code",
   "execution_count": 200,
   "id": "ab7624f4",
   "metadata": {},
   "outputs": [
    {
     "name": "stdout",
     "output_type": "stream",
     "text": [
      "Hello, Timur Guev. You are 27. You are a math teacher. You were a member of BeeGeek\n"
     ]
    }
   ],
   "source": [
    "first_name = 'Timur'\n",
    "last_name = 'Guev'\n",
    "age = 27\n",
    "profession = 'math teacher'\n",
    "affiliation = 'BeeGeek'\n",
    "print(f'Hello, {first_name} {last_name}. You are {age}. You are a {profession}. You were a member of {affiliation}')"
   ]
  },
  {
   "cell_type": "markdown",
   "id": "3ef8b1ec",
   "metadata": {},
   "source": [
    "### 1"
   ]
  },
  {
   "cell_type": "markdown",
   "id": "9a682a95",
   "metadata": {},
   "source": [
    "Дополните приведенный код, используя форматирование строк с помощью метода `format`, так чтобы он вывел текст: \n",
    "\n",
    "«In 2010, someone paid 10k Bitcoin for two pizzas.» (без кавычек)."
   ]
  },
  {
   "cell_type": "code",
   "execution_count": 201,
   "id": "a65c34ce",
   "metadata": {},
   "outputs": [
    {
     "name": "stdout",
     "output_type": "stream",
     "text": [
      "In 2010, someone paid 10k Bitcoin for two pizzas.\n"
     ]
    }
   ],
   "source": [
    "year, k, currency = 2010, '10k', 'Bitcoin'\n",
    "s = 'In {0}, someone paid {1} {2} for two pizzas.'.format(year, k, currency)\n",
    "print(s)"
   ]
  },
  {
   "cell_type": "markdown",
   "id": "f60ca645",
   "metadata": {},
   "source": [
    "### 2"
   ]
  },
  {
   "cell_type": "markdown",
   "id": "d29c2220",
   "metadata": {},
   "source": [
    "Дополните приведенный код, используя форматирование строк с помощью f-строк, так чтобы он вывел текст: \n",
    "\n",
    "«In 2010, someone paid 10K Bitcoin for two pizzas.» (без кавычек)."
   ]
  },
  {
   "cell_type": "code",
   "execution_count": 202,
   "id": "6db7ac46",
   "metadata": {},
   "outputs": [
    {
     "name": "stdout",
     "output_type": "stream",
     "text": [
      "In 2010, someone paid 10K Bitcoin for two pizzas.\n"
     ]
    }
   ],
   "source": [
    "year = 2010\n",
    "amount = '10K'\n",
    "currency = 'Bitcoin'\n",
    "print(f'In {year}, someone paid {amount} {currency} for two pizzas.')"
   ]
  },
  {
   "cell_type": "markdown",
   "id": "4673a45e",
   "metadata": {},
   "source": [
    "## Строки в памяти компьютера, таблица символов Unicode"
   ]
  },
  {
   "cell_type": "markdown",
   "id": "dd412b42",
   "metadata": {},
   "source": [
    "**Функции ord, chr**"
   ]
  },
  {
   "cell_type": "code",
   "execution_count": 203,
   "id": "d915ba90",
   "metadata": {},
   "outputs": [
    {
     "name": "stdout",
     "output_type": "stream",
     "text": [
      "65 66 97\n"
     ]
    }
   ],
   "source": [
    "num1 = ord('A') # определить код некоторого символа в таблице символов Unicode\n",
    "num2 = ord('B')\n",
    "num3 = ord('a') \n",
    "print(num1, num2, num3)"
   ]
  },
  {
   "cell_type": "code",
   "execution_count": 205,
   "id": "6b1d5db0",
   "metadata": {},
   "outputs": [
    {
     "name": "stdout",
     "output_type": "stream",
     "text": [
      "A K n\n"
     ]
    }
   ],
   "source": [
    "chr1 = chr(65) # определить по коду символа сам символ\n",
    "chr2 = chr(75)\n",
    "chr3 = chr(110) \n",
    "print(chr1, chr2, chr3)"
   ]
  },
  {
   "cell_type": "markdown",
   "id": "c1ebbe07",
   "metadata": {},
   "source": [
    "### 1"
   ]
  },
  {
   "cell_type": "markdown",
   "id": "95516a7b",
   "metadata": {},
   "source": [
    "На вход программе подаются два числа $a$ и $b$. Напишите программу, которая для каждого кодового значения в диапазоне от $a$ до $b$ (включительно), выводит соответствующий ему символ из таблицы символов Unicode."
   ]
  },
  {
   "cell_type": "code",
   "execution_count": 208,
   "id": "ac32a335",
   "metadata": {},
   "outputs": [
    {
     "name": "stdout",
     "output_type": "stream",
     "text": [
      "65\n",
      "70\n",
      "A B C D E F "
     ]
    }
   ],
   "source": [
    "a, b = int(input()), int(input())\n",
    "for i in range(a, b + 1):\n",
    "    print(chr(i), end=' ')"
   ]
  },
  {
   "cell_type": "markdown",
   "id": "b31d3ddd",
   "metadata": {},
   "source": [
    "### 2"
   ]
  },
  {
   "cell_type": "markdown",
   "id": "ac3cd9ce",
   "metadata": {},
   "source": [
    "На вход программе подается строка текста. Напишите программу, которая переводит каждый ее символ в соответствующий ему код из таблицы символов Unicode."
   ]
  },
  {
   "cell_type": "code",
   "execution_count": 209,
   "id": "a01120ac",
   "metadata": {},
   "outputs": [
    {
     "name": "stdout",
     "output_type": "stream",
     "text": [
      "Hello world!\n",
      "72 101 108 108 111 32 119 111 114 108 100 33 "
     ]
    }
   ],
   "source": [
    "s = input()\n",
    "for i in range(0, len(s)):\n",
    "    print(ord(s[i]), end=' ')"
   ]
  },
  {
   "cell_type": "markdown",
   "id": "54886397",
   "metadata": {},
   "source": [
    "### 3"
   ]
  },
  {
   "cell_type": "markdown",
   "id": "671a6c99",
   "metadata": {},
   "source": [
    "Легион Цезаря, созданный в 23 веке на основе Римской Империи не изменяет древним традициям и использует шифр Цезаря. Это их и подвело, ведь данный шифр очень простой. Однако в постапокалипсисе люди плохо знают все тонкости довоенного мира, поэтому ученые из НКР не могут понять как именно нужно декодировать данные сообщения. Напишите программу для декодирования этого шифра.\n",
    "\n",
    "В первой строке дается число $n$ $(1≤ n≤ 25)$ – сдвиг, во второй строке даётся закодированное сообщение в виде строки со строчными латинскими буквами."
   ]
  },
  {
   "cell_type": "code",
   "execution_count": 214,
   "id": "245a480b",
   "metadata": {},
   "outputs": [
    {
     "name": "stdout",
     "output_type": "stream",
     "text": [
      "1\n",
      "bwfusvfupdbftbs\n",
      "avetruetocaesar"
     ]
    }
   ],
   "source": [
    "n, text = int(input()), input()\n",
    "for letter in range(0, len(text)):\n",
    "    decrypt = ord(text[letter]) - n\n",
    "    if decrypt < 97:\n",
    "        decrypt += 26\n",
    "    print(chr(decrypt), end='')"
   ]
  },
  {
   "cell_type": "markdown",
   "id": "06a2f646",
   "metadata": {},
   "source": [
    "## Итоговая работа на строки"
   ]
  },
  {
   "cell_type": "markdown",
   "id": "af8cafba",
   "metadata": {},
   "source": [
    "### 1"
   ]
  },
  {
   "cell_type": "markdown",
   "id": "87139dbd",
   "metadata": {},
   "source": [
    "Вставьте пропущенный фрагмент кода, так чтобы в результате выполнения программы была выведена длина строки `s`."
   ]
  },
  {
   "cell_type": "code",
   "execution_count": 215,
   "id": "a7bf09ab",
   "metadata": {},
   "outputs": [
    {
     "name": "stdout",
     "output_type": "stream",
     "text": [
      "13\n"
     ]
    }
   ],
   "source": [
    "s = 'Python rocks!'\n",
    "print(len(s))"
   ]
  },
  {
   "cell_type": "markdown",
   "id": "56f10c90",
   "metadata": {},
   "source": [
    "### 2"
   ]
  },
  {
   "cell_type": "markdown",
   "id": "06897ddf",
   "metadata": {},
   "source": [
    "Вставьте пропущенный фрагмент кода, так чтобы в результате выполнения программы был выведен четвертый символ строки `s`."
   ]
  },
  {
   "cell_type": "code",
   "execution_count": 217,
   "id": "29264190",
   "metadata": {},
   "outputs": [
    {
     "name": "stdout",
     "output_type": "stream",
     "text": [
      "h\n"
     ]
    }
   ],
   "source": [
    "s = 'Python rocks!'\n",
    "print(s[3])"
   ]
  },
  {
   "cell_type": "markdown",
   "id": "b69da1a2",
   "metadata": {},
   "source": [
    "### 3"
   ]
  },
  {
   "cell_type": "markdown",
   "id": "f01837b2",
   "metadata": {},
   "source": [
    "Вставьте пропущенный фрагмент кода, так чтобы в результате выполнения программы были выведены символы строки `s` со 2 по 5 включительно."
   ]
  },
  {
   "cell_type": "code",
   "execution_count": 218,
   "id": "e3842d87",
   "metadata": {},
   "outputs": [
    {
     "name": "stdout",
     "output_type": "stream",
     "text": [
      "ytho\n"
     ]
    }
   ],
   "source": [
    "s = 'Python rocks!'\n",
    "print(s[1:5])"
   ]
  },
  {
   "cell_type": "markdown",
   "id": "f1c9de4d",
   "metadata": {},
   "source": [
    "### 4"
   ]
  },
  {
   "cell_type": "markdown",
   "id": "bb33e66d",
   "metadata": {},
   "source": [
    "Вставьте пропущенный фрагмент кода, так чтобы в результате выполнения программы была выведена строка `s` без ведущих и замыкающих пробельных символов."
   ]
  },
  {
   "cell_type": "code",
   "execution_count": 220,
   "id": "65cfe8e3",
   "metadata": {},
   "outputs": [
    {
     "name": "stdout",
     "output_type": "stream",
     "text": [
      "Python rocks!\n"
     ]
    }
   ],
   "source": [
    "s = '    Python rocks!     '\n",
    "print(s.strip())"
   ]
  },
  {
   "cell_type": "markdown",
   "id": "9f5bc004",
   "metadata": {},
   "source": [
    "### 5"
   ]
  },
  {
   "cell_type": "markdown",
   "id": "cc9ff411",
   "metadata": {},
   "source": [
    "Вставьте пропущенный фрагмент кода, так чтобы в результате выполнения программы была выведена строка `s` заглавными буквами (в верхнем регистре)."
   ]
  },
  {
   "cell_type": "code",
   "execution_count": 221,
   "id": "071d99a9",
   "metadata": {},
   "outputs": [
    {
     "name": "stdout",
     "output_type": "stream",
     "text": [
      "PYTHON ROCKS!\n"
     ]
    }
   ],
   "source": [
    "s = 'Python rocks!'\n",
    "print(s.upper())"
   ]
  },
  {
   "cell_type": "markdown",
   "id": "0f6de590",
   "metadata": {},
   "source": [
    "### 6"
   ]
  },
  {
   "cell_type": "markdown",
   "id": "fe437cd5",
   "metadata": {},
   "source": [
    "Вставьте пропущенный фрагмент кода, так чтобы в результате выполнения программы была выведена строка `s`, в которой символ «o» заменен на символ «@»."
   ]
  },
  {
   "cell_type": "code",
   "execution_count": 223,
   "id": "705da892",
   "metadata": {},
   "outputs": [
    {
     "name": "stdout",
     "output_type": "stream",
     "text": [
      "Pyth@n r@cks!\n"
     ]
    }
   ],
   "source": [
    "s = 'Python rocks!'\n",
    "print(s.replace(\"o\", \"@\"))"
   ]
  },
  {
   "cell_type": "markdown",
   "id": "cfa89163",
   "metadata": {},
   "source": [
    "### 7"
   ]
  },
  {
   "cell_type": "markdown",
   "id": "ccf616d7",
   "metadata": {},
   "source": [
    "На вход программе подается строка текста. Напишите программу, которая удаляет из нее все символы с индексами кратными 3, то есть символы с индексами `0, 3, 6, ...`."
   ]
  },
  {
   "cell_type": "code",
   "execution_count": 225,
   "id": "6469ba89",
   "metadata": {},
   "outputs": [
    {
     "name": "stdout",
     "output_type": "stream",
     "text": [
      "Python\n",
      "yton"
     ]
    }
   ],
   "source": [
    "s = input()\n",
    "for i in range(0, len(s)):\n",
    "    if i % 3 != 0:\n",
    "        print(s[i], end='')"
   ]
  },
  {
   "cell_type": "markdown",
   "id": "b3ecfdb6",
   "metadata": {},
   "source": [
    "### 8"
   ]
  },
  {
   "cell_type": "markdown",
   "id": "3261af34",
   "metadata": {},
   "source": [
    "На вход программе подается строка текста. Напишите программу, которая заменяет все вхождения цифры 1 на слово «one»."
   ]
  },
  {
   "cell_type": "code",
   "execution_count": 226,
   "id": "50e147c4",
   "metadata": {},
   "outputs": [
    {
     "name": "stdout",
     "output_type": "stream",
     "text": [
      "1231\n",
      "one23one"
     ]
    }
   ],
   "source": [
    "s = input()\n",
    "for i in range(0, len(s)):\n",
    "    if s[i] == '1':\n",
    "        print('one', end='')\n",
    "    else:\n",
    "        print(s[i], end='')"
   ]
  },
  {
   "cell_type": "markdown",
   "id": "275917df",
   "metadata": {},
   "source": [
    "### 9"
   ]
  },
  {
   "cell_type": "markdown",
   "id": "60118a25",
   "metadata": {},
   "source": [
    "На вход программе подается строка текста. Напишите программу, которая удаляет все вхождения символа «@»."
   ]
  },
  {
   "cell_type": "code",
   "execution_count": 228,
   "id": "abaca19f",
   "metadata": {},
   "outputs": [
    {
     "name": "stdout",
     "output_type": "stream",
     "text": [
      "123@1@@34\n",
      "123134"
     ]
    }
   ],
   "source": [
    "s = input()\n",
    "for i in range(0, len(s)):\n",
    "    if s[i] != '@':\n",
    "        print(s[i], end='')"
   ]
  },
  {
   "cell_type": "markdown",
   "id": "1efd69d0",
   "metadata": {},
   "source": [
    "### 10"
   ]
  },
  {
   "cell_type": "markdown",
   "id": "055e2dfc",
   "metadata": {},
   "source": [
    "На вход программе подается строка текста. Напишите программу, которая выводит индекс второго вхождения буквы «f». Если буква «f» встречается только один раз, выведите число -1, а если не встречается ни разу, выведите число -2."
   ]
  },
  {
   "cell_type": "code",
   "execution_count": 241,
   "id": "f60aa6b4",
   "metadata": {},
   "outputs": [
    {
     "name": "stdout",
     "output_type": "stream",
     "text": [
      "sgsgfsf\n",
      "6\n"
     ]
    }
   ],
   "source": [
    "s = input()\n",
    "if s.count('f') == 0:\n",
    "    print(-2)\n",
    "elif s.count('f') == 1:\n",
    "    print(-1)\n",
    "else:\n",
    "    f = s.find('f')\n",
    "    print(s.find('f', f + 1)) # необязательный параметр старта"
   ]
  },
  {
   "cell_type": "markdown",
   "id": "ade187b9",
   "metadata": {},
   "source": [
    "### 11"
   ]
  },
  {
   "cell_type": "markdown",
   "id": "6d38a6c2",
   "metadata": {},
   "source": [
    "На вход программе подается строка текста в которой буква «h» встречается как минимум два раза. Напишите программу, которая возвращает исходную строку и переворачивает последовательность символов, заключенную между первым и последним вхождением буквы «h»."
   ]
  },
  {
   "cell_type": "code",
   "execution_count": 259,
   "id": "4a96a7db",
   "metadata": {},
   "outputs": [
    {
     "name": "stdout",
     "output_type": "stream",
     "text": [
      "abch12345h\n",
      "abch54321h\n"
     ]
    }
   ],
   "source": [
    "s = input()\n",
    "one, fragment, three = '', '', ''\n",
    "for i in range(0, len(s)):\n",
    "    if i <= s.find('h'):\n",
    "        one += s[i]\n",
    "    elif s.rfind('h') > i > s.find('h'):\n",
    "        fragment += s[i]\n",
    "    elif i >= s.rfind('h'):\n",
    "        three += s[i]\n",
    "print(one + fragment[::-1] + three)"
   ]
  },
  {
   "cell_type": "code",
   "execution_count": 260,
   "id": "fe3d7079",
   "metadata": {},
   "outputs": [
    {
     "name": "stdout",
     "output_type": "stream",
     "text": [
      "abch12345h\n",
      "abch54321h\n"
     ]
    }
   ],
   "source": [
    "s = input()\n",
    "a = int(s.find('h'))\n",
    "b = int(s.rfind('h'))\n",
    "print(s[:a] + s[b:a:-1] + s[b:])"
   ]
  }
 ],
 "metadata": {
  "kernelspec": {
   "display_name": "Python 3 (ipykernel)",
   "language": "python",
   "name": "python3"
  },
  "language_info": {
   "codemirror_mode": {
    "name": "ipython",
    "version": 3
   },
   "file_extension": ".py",
   "mimetype": "text/x-python",
   "name": "python",
   "nbconvert_exporter": "python",
   "pygments_lexer": "ipython3",
   "version": "3.9.13"
  },
  "toc": {
   "base_numbering": 1,
   "nav_menu": {},
   "number_sections": true,
   "sideBar": true,
   "skip_h1_title": true,
   "title_cell": "Table of Contents",
   "title_sidebar": "Contents",
   "toc_cell": true,
   "toc_position": {},
   "toc_section_display": true,
   "toc_window_display": false
  }
 },
 "nbformat": 4,
 "nbformat_minor": 5
}
