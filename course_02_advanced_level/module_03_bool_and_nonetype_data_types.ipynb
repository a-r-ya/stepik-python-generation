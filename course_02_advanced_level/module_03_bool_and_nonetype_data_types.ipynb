{
 "cells": [
  {
   "cell_type": "markdown",
   "id": "fecdc495",
   "metadata": {
    "toc": true
   },
   "source": [
    "<h1>Table of Contents<span class=\"tocSkip\"></span></h1>\n",
    "<div class=\"toc\"><ul class=\"toc-item\"><li><span><a href=\"#Тип-данных-bool\" data-toc-modified-id=\"Тип-данных-bool-1\"><span class=\"toc-item-num\">1&nbsp;&nbsp;</span>Тип данных bool</a></span><ul class=\"toc-item\"><li><span><a href=\"#1\" data-toc-modified-id=\"1-1.1\"><span class=\"toc-item-num\">1.1&nbsp;&nbsp;</span>1</a></span></li></ul></li><li><span><a href=\"#Тип-данных-NoneType\" data-toc-modified-id=\"Тип-данных-NoneType-2\"><span class=\"toc-item-num\">2&nbsp;&nbsp;</span>Тип данных NoneType</a></span></li></ul></div>"
   ]
  },
  {
   "cell_type": "markdown",
   "id": "3ee85b11",
   "metadata": {},
   "source": [
    "# Тип данных bool и NoneType"
   ]
  },
  {
   "cell_type": "markdown",
   "id": "6d8c8915",
   "metadata": {},
   "source": [
    "## Тип данных bool"
   ]
  },
  {
   "cell_type": "markdown",
   "id": "663972e5",
   "metadata": {},
   "source": [
    "<img src=\"https://ucarecdn.com/fb2d5e48-e351-4da9-9a05-3c71bf319b42/\" width=\"700\" height=\"700\">"
   ]
  },
  {
   "cell_type": "markdown",
   "id": "0669c98f",
   "metadata": {},
   "source": [
    "**Примеры**"
   ]
  },
  {
   "cell_type": "code",
   "execution_count": 25,
   "id": "cbc94577",
   "metadata": {},
   "outputs": [
    {
     "name": "stdout",
     "output_type": "stream",
     "text": [
      "3\n",
      "1.0\n"
     ]
    }
   ],
   "source": [
    "print(True + True + True - False)\n",
    "print(True + (False / True))"
   ]
  },
  {
   "cell_type": "markdown",
   "id": "c9c6884a",
   "metadata": {},
   "source": [
    "Вместо избыточного кода:\n",
    "\n",
    "`if flag == True:`\n",
    "\n",
    "программисты обычно пишут код:\n",
    "\n",
    "`if flag:`\n",
    "\n",
    "Аналогично, вместо кода\n",
    "\n",
    "`if flag == False:`\n",
    "\n",
    "программисты обычно пишут код:\n",
    "\n",
    "`if not flag:`"
   ]
  },
  {
   "cell_type": "markdown",
   "id": "3afe7aec",
   "metadata": {},
   "source": [
    "<img src=\"https://ucarecdn.com/697e146d-048f-4042-975e-c37cf1390ade/\" width=\"700\" height=\"700\">"
   ]
  },
  {
   "cell_type": "markdown",
   "id": "93898599",
   "metadata": {},
   "source": [
    "<img src=\"https://ucarecdn.com/2076892b-3a08-4572-bcc2-8772c439cf30/\" width=\"700\" height=\"700\">"
   ]
  },
  {
   "cell_type": "code",
   "execution_count": 27,
   "id": "697fa3e3",
   "metadata": {},
   "outputs": [
    {
     "name": "stdout",
     "output_type": "stream",
     "text": [
      "True\n",
      "True\n",
      "True\n",
      "False\n",
      "False\n",
      "False\n",
      "False\n"
     ]
    }
   ],
   "source": [
    "print(bool('Beegeek'))\n",
    "print(bool(17))\n",
    "print(bool(['apple', 'cherry']))\n",
    "print(bool())\n",
    "print(bool(''))\n",
    "print(bool(0))\n",
    "print(bool([]))"
   ]
  },
  {
   "cell_type": "code",
   "execution_count": 28,
   "id": "b84273f0",
   "metadata": {},
   "outputs": [
    {
     "name": "stdout",
     "output_type": "stream",
     "text": [
      "True\n",
      "True\n",
      "True\n",
      "True\n",
      "True\n"
     ]
    }
   ],
   "source": [
    "print(isinstance(3, int))\n",
    "print(isinstance(3.5, float))\n",
    "print(isinstance('Beegeek', str))\n",
    "print(isinstance([1, 2, 3], list))\n",
    "print(isinstance(True, bool))"
   ]
  },
  {
   "cell_type": "code",
   "execution_count": 29,
   "id": "89e0230d",
   "metadata": {},
   "outputs": [
    {
     "name": "stdout",
     "output_type": "stream",
     "text": [
      "<class 'int'>\n",
      "<class 'float'>\n",
      "<class 'str'>\n",
      "<class 'list'>\n",
      "<class 'bool'>\n"
     ]
    }
   ],
   "source": [
    "print(type(3))\n",
    "print(type(3.5))\n",
    "print(type('Beegeek'))\n",
    "print(type([1, 2, 3]))\n",
    "print(type(True))"
   ]
  },
  {
   "cell_type": "markdown",
   "id": "57cc69ed",
   "metadata": {},
   "source": [
    "### 1"
   ]
  },
  {
   "cell_type": "markdown",
   "id": "14be9da2",
   "metadata": {},
   "source": [
    "Напишите функцию `func(num1, num2)`, принимающую в качестве аргументов два натуральных числа `num1` и `num2` и возвращающую значение `True` если число `num1` делится без остатка на число `num2` и `False` в противном случае.\n",
    "\n",
    "Результатом вывода программы должно быть \"делится\" (если функция `func()` вернула `True`) и \"не делится\" (если функция `func()` вернула `False`)."
   ]
  },
  {
   "cell_type": "code",
   "execution_count": 30,
   "id": "a02d8bf5",
   "metadata": {},
   "outputs": [
    {
     "name": "stdout",
     "output_type": "stream",
     "text": [
      "5\n",
      "7\n",
      "не делится\n"
     ]
    }
   ],
   "source": [
    "def func(num1, num2):\n",
    "    if num1 % num2 == 0:\n",
    "        return True\n",
    "    else:\n",
    "        return False\n",
    "\n",
    "num1, num2 = int(input()), int(input())\n",
    "print('делится' if func(num1, num2) else 'не делится')"
   ]
  },
  {
   "cell_type": "markdown",
   "id": "eba683e6",
   "metadata": {},
   "source": [
    "## Тип данных NoneType"
   ]
  },
  {
   "cell_type": "markdown",
   "id": "f5e1e996",
   "metadata": {},
   "source": [
    "<img src=\"https://ucarecdn.com/fdbb05f1-3eb6-4d92-acbf-07c6f8acc8f1/\" width=\"400\" height=\"400\">"
   ]
  }
 ],
 "metadata": {
  "kernelspec": {
   "display_name": "Python 3 (ipykernel)",
   "language": "python",
   "name": "python3"
  },
  "language_info": {
   "codemirror_mode": {
    "name": "ipython",
    "version": 3
   },
   "file_extension": ".py",
   "mimetype": "text/x-python",
   "name": "python",
   "nbconvert_exporter": "python",
   "pygments_lexer": "ipython3",
   "version": "3.9.13"
  },
  "toc": {
   "base_numbering": 1,
   "nav_menu": {},
   "number_sections": true,
   "sideBar": true,
   "skip_h1_title": true,
   "title_cell": "Table of Contents",
   "title_sidebar": "Contents",
   "toc_cell": true,
   "toc_position": {},
   "toc_section_display": true,
   "toc_window_display": false
  }
 },
 "nbformat": 4,
 "nbformat_minor": 5
}
